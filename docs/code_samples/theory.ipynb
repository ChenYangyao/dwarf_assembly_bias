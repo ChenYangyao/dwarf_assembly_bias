{
 "cells": [
  {
   "cell_type": "code",
   "execution_count": null,
   "metadata": {},
   "outputs": [],
   "source": [
    "%load_ext autoreload\n",
    "%aimport pyhipp\n",
    "%aimport elucid\n",
    "%aimport mahgic\n",
    "%aimport pyhipp_sims\n",
    "%aimport dynamic_hotness\n",
    "\n",
    "import os\n",
    "print(os.environ.get('MAHGIC_WORK_DIR'))"
   ]
  },
  {
   "cell_type": "code",
   "execution_count": null,
   "metadata": {},
   "outputs": [],
   "source": [
    "from __future__ import annotations\n",
    "import typing, gc, os, sys, json\n",
    "from pprint import pprint, pformat\n",
    "from typing import Self, Callable\n",
    "from pyhipp.core import DataDict, abc, DataTable\n",
    "from pyhipp.core.dataproc import Num, Mask, GridMd\n",
    "from pyhipp.io import h5\n",
    "from pyhipp.io.excel import Excel\n",
    "from pyhipp import stats\n",
    "from pyhipp.stats.random import Rng\n",
    "from pyhipp import astro\n",
    "from pyhipp.astro import stats as a_stats\n",
    "from pyhipp.astro import plot as a_plot\n",
    "from pyhipp import plot\n",
    "import numpy as np, pandas as pd\n",
    "from pyhipp_sims import sims\n",
    "import Corrfunc\n",
    "from smbh_model.utils.io import Json\n",
    "\n",
    "plot.abc.mpl.rc('mathtext', fontset='dejavusans') # to be compatible with Ziwen\n",
    "\n",
    "from obs import assembly_bias\n",
    "from obs.assembly_bias import clustering, utils\n",
    "from obs.assembly_bias.clustering import SubSample, SubSampleManager\n",
    "from obs.assembly_bias.config import ProjPaths, ColorSets\n",
    "from obs.assembly_bias import sample, clustering, obs_catalogs, sample_cosmic_web\n",
    "from scipy.spatial import KDTree\n",
    "from functools import cached_property\n",
    "from pathlib import Path\n",
    "from dataclasses import dataclass, asdict\n",
    "\n",
    "cs_dark2 = plot.ColorSeq.predefined('dark2').get_rgba()\n",
    "cs_set1 = plot.ColorSeq.predefined('set1').get_rgba()\n",
    "cs_set2 = plot.ColorSeq.predefined('set2').get_rgba()\n",
    "cs_tab10 = plot.ColorSeq.predefined('tab10').get_rgba()\n",
    "\n",
    "def binned_proj_cross(\n",
    "    subs_ref: SubSample, \n",
    "    s_parent: sample.SubhaloSet,\n",
    "    key = 'r1_DMO',\n",
    "    ps = [0.00, 0.02, 0.33, 0.67, 0.98, 1.00],\n",
    "    cls_kw = {'pimax': 40., 'n_repeat': 5}\n",
    "):\n",
    "    '''Binned by a quantity'''\n",
    "    subs_list = SubSample.list_from_percents(\n",
    "        s_parent, key=key, ps=ps, add_rsd=True)\n",
    "    out = {str(i): subs_ref.proj_cross_with(subs, **cls_kw)  \n",
    "         for i, subs in enumerate(subs_list) }\n",
    "    return out\n",
    "\n",
    "def wp_with_ratio1(out: DataDict, out_ref: DataDict, use_median=False):\n",
    "    lx, y_mean, y_sd = out['lg_rs_c', 'wp', 'wp_sd']\n",
    "    lx_ref, y_mean_ref, y_sd_ref = out_ref['lg_rs_c', 'wp', 'wp_sd']\n",
    "    x, x_ref = 10.**lx, 10.**lx_ref\n",
    "    assert (np.abs(lx-lx_ref) < 1.0e-5).all()\n",
    "    yr_mean = y_mean / y_mean_ref\n",
    "    yr_sd = Num.safe_div(y_sd, y_mean_ref)\n",
    "    \n",
    "    return x, y_mean, y_sd, yr_mean, yr_sd\n",
    "\n",
    "def fill_by_hids(n_dst, hids, vals, fill = 0):\n",
    "    val_dsts = np.full(n_dst, fill_value=fill, \n",
    "                       dtype=vals.dtype)    \n",
    "    val_dsts[hids] = vals\n",
    "    return val_dsts"
   ]
  },
  {
   "cell_type": "code",
   "execution_count": null,
   "metadata": {},
   "outputs": [],
   "source": [
    "%autoreload"
   ]
  },
  {
   "cell_type": "code",
   "execution_count": null,
   "metadata": {},
   "outputs": [],
   "source": [
    "gc.collect()"
   ]
  },
  {
   "cell_type": "markdown",
   "metadata": {},
   "source": [
    "# Samples"
   ]
  },
  {
   "cell_type": "markdown",
   "metadata": {},
   "source": [
    "## HMF and expected number of Coma"
   ]
  },
  {
   "cell_type": "code",
   "execution_count": null,
   "metadata": {},
   "outputs": [],
   "source": [
    "info = sims.predefined['elucid']\n",
    "cosm = info.cosmology"
   ]
  },
  {
   "cell_type": "code",
   "execution_count": null,
   "metadata": {},
   "outputs": [],
   "source": [
    "mf = cosm.halo_theory.mass_function(np.log10(6.2e4), 7., dlgM=0.05, z=0.)"
   ]
  },
  {
   "cell_type": "code",
   "execution_count": null,
   "metadata": {},
   "outputs": [],
   "source": [
    "dlgM = mf.lgM[1] - mf.lgM[0]\n",
    "dn = (mf.dn_dlgM * dlgM).sum()"
   ]
  },
  {
   "cell_type": "code",
   "execution_count": null,
   "metadata": {},
   "outputs": [],
   "source": [
    "A_sky = 7047.0 * (np.pi / 180.0)**2\n",
    "d1, d2 = cosm.distances.comoving_at([0.01, 0.04])\n",
    "vol = (A_sky / 3.0)*(d2**3 - d1**3)"
   ]
  },
  {
   "cell_type": "code",
   "execution_count": null,
   "metadata": {},
   "outputs": [],
   "source": [
    "vol, dn"
   ]
  },
  {
   "cell_type": "code",
   "execution_count": null,
   "metadata": {},
   "outputs": [],
   "source": [
    "vol * dn"
   ]
  },
  {
   "cell_type": "markdown",
   "metadata": {},
   "source": [
    "## Group catalogs"
   ]
  },
  {
   "cell_type": "code",
   "execution_count": null,
   "metadata": {},
   "outputs": [],
   "source": [
    "from elucid.geometry.frame import SimFrameSdssL500\n",
    "\n",
    "info = sims.predefined['elucid']\n",
    "frame = SimFrameSdssL500()"
   ]
  },
  {
   "cell_type": "code",
   "execution_count": null,
   "metadata": {},
   "outputs": [],
   "source": [
    "def parse_sample(d_grpcat: DataDict):\n",
    "    lg_m_group = d_grpcat['lg_m_group']\n",
    "    m_group = 10.0**lg_m_group\n",
    "    \n",
    "    x_j2k_cor = d_grpcat['x']\n",
    "    x_sim_cor = frame.pos_j2k_to_sim(x_j2k_cor)\n",
    "    ra, dec, z_cor = frame.pos_j2k_to_ra_dec_z(x_j2k_cor)\n",
    "    \n",
    "    d_out = DataDict({\n",
    "        'm_group': m_group,\n",
    "        'x_j2k_cor': x_j2k_cor,\n",
    "        'x_sim_cor': x_sim_cor,\n",
    "        'ra': ra,\n",
    "        'dec': dec,\n",
    "        'z_cor': z_cor,\n",
    "    })\n",
    "    \n",
    "    return d_out"
   ]
  },
  {
   "cell_type": "code",
   "execution_count": null,
   "metadata": {},
   "outputs": [],
   "source": [
    "f_in = info.root_dir / 'supplementary/reconstruction_pipeline/raw_files/wang_huiyuan_2016/GroupW5Zc.hdf5'\n",
    "d_grpcat = h5.File.load_from(f_in, key='SDSS_group_z12Cor_XYZ') \n",
    "d_out = parse_sample(d_grpcat)"
   ]
  },
  {
   "cell_type": "code",
   "execution_count": null,
   "metadata": {},
   "outputs": [],
   "source": [
    "f_out = ProjPaths.obs_dir / 'recon_samples' / 'groups.hdf5'\n",
    "h5.File.dump_to(f_out, d_out, f_flag='w')"
   ]
  },
  {
   "cell_type": "code",
   "execution_count": null,
   "metadata": {},
   "outputs": [],
   "source": [
    "h5.File.ls_from(f_out)"
   ]
  },
  {
   "cell_type": "markdown",
   "metadata": {},
   "source": [
    "## Observational Dwarfs"
   ]
  },
  {
   "cell_type": "markdown",
   "metadata": {},
   "source": [
    "### Todal"
   ]
  },
  {
   "cell_type": "code",
   "execution_count": null,
   "metadata": {},
   "outputs": [],
   "source": [
    "s_g = obs_catalogs.tot_dwarfs\n",
    "\n",
    "z, lm, color, n = s_g.data['z', 'lm_s', 'color_gr', 'n_sersic']\n",
    "sel = (z < 0.04) & (lm >= 8.5) & (color <= 0.6) & (n <= 1.6)\n",
    "s_g = s_g.data.subset(sel)\n",
    "len(s_g['z'])"
   ]
  },
  {
   "cell_type": "markdown",
   "metadata": {},
   "source": [
    "Found the fraction of dwarfs in Sigma_* bins:\n",
    "\n",
    "- z004: [0.02467638, 0.23220065, 0.25970874, 0.48341424]\n",
    "- z003: [0.02324263, 0.22193878, 0.25226757, 0.50255102]\n",
    "\n",
    "Sigma* medians:\n",
    "- z003:  [6.212119069661753, 11.406763865855208, 19.36879881129817, 43.12292141750194]"
   ]
  },
  {
   "cell_type": "code",
   "execution_count": null,
   "metadata": {},
   "outputs": [],
   "source": [
    "#s_g = obs_catalogs.tot_dwarfs.s_massive\n",
    "s_g = obs_catalogs.tot_dwarfs.s_massive_z003\n",
    "\n",
    "bins = [-1., 7.], [7., 15.], [15., 25.], [25., 1.0e6]\n",
    "ps, Sigmas = [], []\n",
    "for l, h in bins:\n",
    "    S = s_g['Sigma_star']\n",
    "    sel = (S >= l) & (S < h)\n",
    "    print(sel.sum())\n",
    "    p = np.sum(sel)/len(S)\n",
    "    ps.append(p)\n",
    "    Sigmas.append(np.median(S[sel]))\n",
    "ps = np.array(ps)\n",
    "ps, Sigmas"
   ]
  },
  {
   "cell_type": "code",
   "execution_count": null,
   "metadata": {},
   "outputs": [],
   "source": [
    "s = s_g['Sigma_star']\n",
    "\n",
    "fig, ax = plot.subplots(1, figsize=4.5, margin=[0.1, 0.1, 0.1, 0.1], layout='none')\n",
    "\n",
    "ax.hist(np.log10(s), range=[0.5, 2.35], bins=30)\n",
    "\n",
    "ax.lim([0.5, 2.5]).label(r'\\log(\\Sigma_{\\rm *})', r'\\rm Hist')"
   ]
  },
  {
   "cell_type": "code",
   "execution_count": null,
   "metadata": {},
   "outputs": [],
   "source": [
    "%autoreload\n",
    "gc.collect()\n",
    "from elucid.geometry.frame import SimFrameSdssL500\n",
    "from elucid.geometry.mask import ReconstAreaMaskSdssL500\n",
    "from scipy.spatial import KDTree"
   ]
  },
  {
   "cell_type": "code",
   "execution_count": null,
   "metadata": {},
   "outputs": [],
   "source": [
    "info = sims.predefined['elucid']\n",
    "frame = SimFrameSdssL500()\n",
    "rc_mask = ReconstAreaMaskSdssL500(mask_name='SDSS_reconstruction_area_large')\n",
    "# rc_mask = ReconstAreaMaskSdssL500()"
   ]
  },
  {
   "cell_type": "code",
   "execution_count": null,
   "metadata": {},
   "outputs": [],
   "source": [
    "def parse_sample(samp: obs_catalogs.Dwarfs):\n",
    "    ra, dec, z, d_c = samp.data['ra', 'dec', 'z', 'd_c']\n",
    "    x_j2k = frame.pos_ra_dec_d_to_j2k(ra, dec, d_c)\n",
    "    x_sim = frame.pos_j2k_to_sim(x_j2k)\n",
    "    \n",
    "    l_box = rc_mask.box_size\n",
    "    in_recon = rc_mask.is_in_reconst_area(x_sim) \\\n",
    "        & (x_sim >= 0.).all(1) \\\n",
    "        & (x_sim < l_box).all(1)\n",
    "    print(f'{in_recon.sum()}/{len(in_recon)} in reconstruction area')\n",
    "    \n",
    "    sel = in_recon\n",
    "    x_j2k, x_sim = x_j2k[sel], x_sim[sel]\n",
    "    d_out = DataDict({\n",
    "        k: v[sel] for k, v in samp.data.items()\n",
    "    }) | {\n",
    "        'x_j2k': x_j2k,\n",
    "        'x_sim': x_sim,\n",
    "    }\n",
    "\n",
    "    print('x_range=', x_sim.min(), x_sim.max())\n",
    "    \n",
    "    return d_out\n",
    "\n",
    "def match_RSD_cor_sample(d_out: DataDict):\n",
    "    \n",
    "    f_in = info.root_dir / 'supplementary/raw_files/wang_huiyuan_2016/GroupW5Zc.hdf5'\n",
    "    d_raw = h5.File.load_from(f_in)\n",
    "    z_obs = d_raw['galaxy_ori_z/z']\n",
    "    ra, dec = d_raw['SDSS7_z12Cor_pro']['ra', 'dec']\n",
    "    pos_obs = np.column_stack([ra, dec, z_obs])\n",
    "    \n",
    "    pos_out = np.column_stack(d_out['ra', 'dec', 'z']) \n",
    "    ds, ids = KDTree(pos_obs).query(pos_out)\n",
    "    print('Matched. Maximal \"distance\" =', ds.max())\n",
    "    \n",
    "    Mr_n5lgh, x_j2k_cor = d_raw['SDSS7_z12Cor_xyz2']['Mr_n5lgh', 'x']\n",
    "    Mr_n5lgh, x_j2k_cor = Mr_n5lgh[ids], x_j2k_cor[ids]\n",
    "    x_sim_cor = frame.pos_j2k_to_sim(x_j2k_cor)\n",
    "    d_c_cor = np.linalg.norm(x_j2k_cor, axis=1)\n",
    "    z_cor = info.cosmology.redshifts.at_comoving(d_c_cor)\n",
    "    d_out |= {\n",
    "        'Mr_n5lgh': Mr_n5lgh,\n",
    "        'x_j2k_cor': x_j2k_cor,\n",
    "        'x_sim_cor': x_sim_cor,\n",
    "        'd_c_cor': d_c_cor,\n",
    "        'z_cor': z_cor,\n",
    "    }"
   ]
  },
  {
   "cell_type": "code",
   "execution_count": null,
   "metadata": {},
   "outputs": [],
   "source": [
    "samp = obs_catalogs.diffuse_dwarfs\n",
    "d_out = parse_sample(samp)\n",
    "match_RSD_cor_sample(d_out)\n",
    "f_out = ProjPaths.obs_dir / 'recon_samples' / 'diffuse_dwarfs.hdf5'\n",
    "# f_out = ProjPaths.obs_dir / 'recon_samples' / 'diffuse_dwarfs.2.hdf5'\n",
    "h5.File.dump_to(f_out, d_out, f_flag='w')"
   ]
  },
  {
   "cell_type": "code",
   "execution_count": null,
   "metadata": {},
   "outputs": [],
   "source": [
    "samp = obs_catalogs.compact_dwarfs\n",
    "d_out = parse_sample(samp)\n",
    "match_RSD_cor_sample(d_out)\n",
    "f_out = ProjPaths.obs_dir / 'recon_samples' / 'compact_dwarfs.hdf5'\n",
    "#f_out = ProjPaths.obs_dir / 'recon_samples' / 'compact_dwarfs.2.hdf5'\n",
    "h5.File.dump_to(f_out, d_out, f_flag='w')"
   ]
  },
  {
   "cell_type": "code",
   "execution_count": null,
   "metadata": {},
   "outputs": [],
   "source": [
    "h5.File.ls_from(f_out)"
   ]
  },
  {
   "cell_type": "code",
   "execution_count": null,
   "metadata": {},
   "outputs": [],
   "source": [
    "z1, z2, d1, d2 = d_out['z', 'z_cor', 'd_c', 'd_c_cor']\n",
    "\n",
    "fig, axs = plot.subplots((1,2), share=False, \n",
    "                         space=0.25, subsize=(4.5, 4.5), \n",
    "                         margin=[0.1, 0.1, 0.1, 0.1], layout='none')\n",
    "axs_f = axs.flat\n",
    "ax = axs_f[0]\n",
    "ax.c('r').hist(z1, bins=12, range=[0., 0.08])\n",
    "ax.c('k').hist(z2, bins=12, range=[0., 0.08])\n",
    "\n",
    "ax = axs_f[1]\n",
    "del_d = d2 - d1\n",
    "ax.c('r').hist(del_d, bins=12, range=[-5., 5.])"
   ]
  },
  {
   "cell_type": "code",
   "execution_count": null,
   "metadata": {},
   "outputs": [],
   "source": [
    "samp_dif = obs_catalogs.recons_samples.diffuse_dwarfs"
   ]
  },
  {
   "cell_type": "code",
   "execution_count": null,
   "metadata": {},
   "outputs": [],
   "source": [
    "samp_dif"
   ]
  },
  {
   "cell_type": "markdown",
   "metadata": {},
   "source": [
    "## LGalaxiesELUCID"
   ]
  },
  {
   "cell_type": "code",
   "execution_count": null,
   "metadata": {},
   "outputs": [],
   "source": [
    "%autoreload\n",
    "gc.collect()\n",
    "from elucid.geometry.frame import SimFrameSdssL500\n",
    "from elucid.geometry.mask import ReconstAreaMaskSdssL500"
   ]
  },
  {
   "cell_type": "code",
   "execution_count": null,
   "metadata": {},
   "outputs": [],
   "source": [
    "info = sims.predefined['elucid']\n",
    "data_dir = ProjPaths.sim_dir_of(info) / 'LGalaxiesGuo13' "
   ]
  },
  {
   "cell_type": "code",
   "execution_count": null,
   "metadata": {},
   "outputs": [],
   "source": [
    "# Cut mass\n",
    "f_in = data_dir / 'z0_m1e7p5.hdf5'\n",
    "d_in = h5.File.load_from(f_in)\n",
    "\n",
    "u_m = info.cosmology.unit_system.u_m_to_sol\n",
    "m_s_lb = 1.0e8 / u_m\n",
    "\n",
    "sel = d_in['objs/m_s'] > m_s_lb\n",
    "objs = {k : v[sel] for k, v in d_in['objs'].items()} \n",
    "d_out = {\n",
    "    'ctx': d_in['ctx'],\n",
    "    'header': d_in['header'] | {'m_s_lb': m_s_lb},\n",
    "    'objs': objs\n",
    "}\n",
    "h5.File.dump_to(data_dir / 'z0_m1e8.hdf5', d_out, f_flag='w')"
   ]
  },
  {
   "cell_type": "code",
   "execution_count": null,
   "metadata": {},
   "outputs": [],
   "source": [
    "# Cut reconstruct region\n",
    "rc_mask = ReconstAreaMaskSdssL500(mask_name='SDSS_reconstruction_area_large'\n",
    "                                  )"
   ]
  },
  {
   "cell_type": "code",
   "execution_count": null,
   "metadata": {},
   "outputs": [],
   "source": [
    "f_in = data_dir / 'z0_m1e8.hdf5'\n",
    "d_in = h5.File.load_from(f_in)\n",
    "\n",
    "sel = rc_mask.is_in_reconst_area(d_in['objs/x'])\n",
    "n_sel = sel.sum()\n",
    "frac_sel = n_sel / len(sel)\n",
    "print(f'Fraction of selected objects: {frac_sel:.2f}')\n",
    "\n",
    "objs = {k : v[sel] for k, v in d_in['objs'].items()} \n",
    "d_out = {\n",
    "    'ctx': d_in['ctx'],\n",
    "    'header': d_in['header'],\n",
    "    'objs': objs\n",
    "}\n",
    "h5.File.dump_to(data_dir / 'z0_m1e8_recon.hdf5', d_out, f_flag='w')"
   ]
  },
  {
   "cell_type": "markdown",
   "metadata": {},
   "source": [
    "## LGalaxies"
   ]
  },
  {
   "cell_type": "code",
   "execution_count": null,
   "metadata": {},
   "outputs": [],
   "source": [
    "sim_info = sims.predefined['millennium_2_scaled_wmap7']\n",
    "p_dir = ProjPaths.models_dir / 'lgalaxies_guo13' / sim_info.name"
   ]
  },
  {
   "cell_type": "code",
   "execution_count": null,
   "metadata": {},
   "outputs": [],
   "source": [
    "'''\n",
    "p_in = p_dir / 'MS2_z0.txt'\n",
    "p_out = p_dir / 'MS2_z0.hdf5'\n",
    "keys = ['galID', 'mainLeafID', 'fofCentralId', 'redshift', 'bulgeMass', 'stellarMass',\n",
    "        'bulgeSize', 'stellarDiskRadius', 'gbulge', 'gdust', 'type', 'centralMvir', 'rrvir',\n",
    "        'x', 'y', 'z', 'len', 'mvir', 'stellarSpinX', 'stellarSpinY', 'stellarSpinZ', 'sfr',\n",
    "        'massweightedAge', 'infallSnap', 'gnodust', 'rnodust', 'inodust',]\n",
    "'''\n",
    "'''\n",
    "p_in = p_dir / 'MS2_z0_all.txt'\n",
    "p_out = p_dir / 'MS2_z0_all.hdf5'\n",
    "keys = ['galaxyID', 'bulgeMass', 'stellarMass', 'bulgeSize', 'stellarDiskRadius',\n",
    " 'type', 'centralMvir', 'x', 'y', 'z', 'mvir', 'stellarSpinX', 'stellarSpinY',\n",
    " 'stellarSpinZ', 'sfr', 'massweightedAge', 'infallSnap',]\n",
    "'''\n",
    "\n",
    "p_in = p_dir / 'z0_all_withvmax.txt'\n",
    "p_out = p_dir / 'z0_all_withvmax.hdf5'\n",
    "dtype = [\n",
    "    ('galaxyID', 'i8'),\n",
    "    ('bulgeMass', 'f8'),\n",
    "    ('stellarMass', 'f8'),\n",
    "    ('bulgeSize', 'f8'),\n",
    "\n",
    "    ('stellarDiskRadius', 'f8'),\n",
    "    ('type', 'i4'),\n",
    "    ('centralMvir', 'f8'),\n",
    "    ('x', ('f8', 3)),\n",
    "    ('mvir', 'f8'),\n",
    "\n",
    "    ('rvir', 'f8'),\n",
    "    ('vvir', 'f8'),\n",
    "    ('vmax', 'f8'),\n",
    "    ('stellarSpin', ('f8', 3)),\n",
    "\n",
    "    ('sfr', 'f8'),\n",
    "    ('massweightedAge', 'f8'),\n",
    "    ('infallSnap', 'i4'),\n",
    "]\n",
    "\n",
    "d_in = np.loadtxt(p_in, comments='#', delimiter=',', dtype=dtype)\n",
    "dsets = {\n",
    "    k: d_in[k] for k in d_in.dtype.names\n",
    "}\n",
    "#dsets['x'] = np.array([dsets.pop(k) for k in ['x', 'y', 'z'] ]).T\n",
    "#dsets['stellarSpin'] = np.array([dsets.pop('stellarSpin'+k) for k in ['X', 'Y', 'Z'] ]).T\n",
    "#dsets['type'] = dsets['type'].astype(int)\n",
    "dsets['is_c'] = dsets['type'] == 0"
   ]
  },
  {
   "cell_type": "code",
   "execution_count": null,
   "metadata": {},
   "outputs": [],
   "source": [
    "cosm = sim_info.cosmology\n",
    "ht = cosm.halo_theory\n",
    "us = cosm.unit_system\n",
    "\n",
    "vir = ht.vir_props_crit(dsets['centralMvir'], z=0.)\n",
    "v_h = vir.v * us.u_v_to_kmps"
   ]
  },
  {
   "cell_type": "code",
   "execution_count": null,
   "metadata": {},
   "outputs": [],
   "source": [
    "f_v = dsets['vmax'] / v_h"
   ]
  },
  {
   "cell_type": "code",
   "execution_count": null,
   "metadata": {},
   "outputs": [],
   "source": [
    "f_v.max()"
   ]
  },
  {
   "cell_type": "code",
   "execution_count": null,
   "metadata": {},
   "outputs": [],
   "source": [
    "out = {\n",
    "    'objs': dsets,\n",
    "    'header': {\n",
    "        'n_subhs': len(dsets['x']),\n",
    "    },\n",
    "    'ctx': {\n",
    "        'sim_name': sim_info.name\n",
    "    }\n",
    "}"
   ]
  },
  {
   "cell_type": "code",
   "execution_count": null,
   "metadata": {},
   "outputs": [],
   "source": [
    "h5.File.dump_to(p_out, out, f_flag='w')"
   ]
  },
  {
   "cell_type": "code",
   "execution_count": null,
   "metadata": {},
   "outputs": [],
   "source": [
    "h5.File.ls_from(p_out)"
   ]
  },
  {
   "cell_type": "code",
   "execution_count": null,
   "metadata": {},
   "outputs": [],
   "source": [
    "sim_info = sims.predefined['millennium_2_scaled_wmap7']\n",
    "samp = sample.LGalaxiesGuo13SampleRaw.load(sim_info)"
   ]
  },
  {
   "cell_type": "code",
   "execution_count": null,
   "metadata": {},
   "outputs": [],
   "source": [
    "samp.subset_by({\n",
    "    'm_s': [1., None]\n",
    "})"
   ]
  },
  {
   "cell_type": "code",
   "execution_count": null,
   "metadata": {},
   "outputs": [],
   "source": [
    "#p_in = p_dir / 'z0_dwarf_sample.txt'\n",
    "#p_out = p_dir / 'z0_dwarf_sample.hdf5'\n",
    "\n",
    "p_in = p_dir / 'z0_UDG_sample.txt'\n",
    "p_out = p_dir / 'z0_UDG_sample.hdf5'\n",
    "\n",
    "d_in = np.loadtxt(p_in)\n",
    "keys = ['x', 'y','z','sfr','logRe','halomass','stellarmass',\n",
    "        'stellarage','infallage','g_magnitude_with_dust',\n",
    "        'central_surface_brightness','g_magnitude_no_dust',]"
   ]
  },
  {
   "cell_type": "code",
   "execution_count": null,
   "metadata": {},
   "outputs": [],
   "source": [
    "dsets = {\n",
    "    k: v for k, v in zip(keys, d_in.T)\n",
    "}\n",
    "dsets['x'] = np.array([dsets.pop(k) for k in ['x', 'y', 'z'] ]).T\n",
    "out = {\n",
    "    'objs': dsets,\n",
    "    'header': {\n",
    "        'n_subhs': len(dsets['x']),\n",
    "    },\n",
    "    'ctx': {\n",
    "        'sim_name': sim_info.name\n",
    "    }\n",
    "}"
   ]
  },
  {
   "cell_type": "code",
   "execution_count": null,
   "metadata": {},
   "outputs": [],
   "source": [
    "h5.File.dump_to(p_out, out, f_flag='w')"
   ]
  },
  {
   "cell_type": "code",
   "execution_count": null,
   "metadata": {},
   "outputs": [],
   "source": [
    "h5.File.ls_from(p_out)"
   ]
  },
  {
   "cell_type": "code",
   "execution_count": null,
   "metadata": {},
   "outputs": [],
   "source": [
    "s_udg = sample.LGalaxiesGuo13SampleUdg.load()"
   ]
  },
  {
   "cell_type": "code",
   "execution_count": null,
   "metadata": {},
   "outputs": [],
   "source": [
    "s_udg.subset_by_value('m_s', 0.001)"
   ]
  },
  {
   "cell_type": "code",
   "execution_count": null,
   "metadata": {},
   "outputs": [],
   "source": [
    "cosm = astro.cosmology.model.predefined['millennium_wmap7']\n",
    "n_ps = 2160\n",
    "l_box = 100.0\n",
    "m_p = cosm.rho_matter(0) * l_box**3 / n_ps**3\n",
    "m_p, m_p * 1.0e4"
   ]
  },
  {
   "cell_type": "code",
   "execution_count": null,
   "metadata": {},
   "outputs": [],
   "source": [
    "cosm.times.lookback_at([2.0, 1.0, 0.0])"
   ]
  },
  {
   "cell_type": "markdown",
   "metadata": {},
   "source": [
    "# Results"
   ]
  },
  {
   "cell_type": "code",
   "execution_count": null,
   "metadata": {},
   "outputs": [],
   "source": [
    "from obs.assembly_bias.clustering import SubSampleManager"
   ]
  },
  {
   "cell_type": "code",
   "execution_count": null,
   "metadata": {},
   "outputs": [],
   "source": [
    "d_plts = {\n",
    "    'panel_a': {}, 'panel_b': {}, 'panel_c': {},\n",
    "    'panel_d': {}, 'panel_e': {}, 'panel_f': {},\n",
    "}"
   ]
  },
  {
   "cell_type": "code",
   "execution_count": null,
   "metadata": {},
   "outputs": [],
   "source": [
    "sim_info = sims.predefined['tng_dark_300_1']\n",
    "pdata = ProjPaths.sim_dir_of(sim_info) / 'z0_all_postprocessed.hdf5'\n",
    "man_kw = {\n",
    "    'add_rsd': True, \n",
    "    'dmo': True,\n",
    "    'm_h_range_in_sol': [10**10.5, 10**11.],\n",
    "}\n",
    "sman = SubSampleManager(sim_info, pdata, **man_kw)\n",
    "s_dwarf = sman.s_dwarf"
   ]
  },
  {
   "cell_type": "code",
   "execution_count": null,
   "metadata": {},
   "outputs": [],
   "source": [
    "def get_hist(x: np.ndarray, range, bins=17):\n",
    "    median = np.median(x)\n",
    "    h, e = np.histogram(x, density=True, bins=bins, range=range)\n",
    "    c = 0.5*(e[:-1] + e[1:])\n",
    "    return {\n",
    "        'median': pd.DataFrame({'median': np.array([median])}),\n",
    "        'pdf': pd.DataFrame({'bin_center': c, 'pdf': h})\n",
    "    }"
   ]
  },
  {
   "cell_type": "code",
   "execution_count": null,
   "metadata": {},
   "outputs": [],
   "source": [
    "ps = np.cumsum([0.02467638, 0.23220065, 0.25970874, 0.48341424][::-1])\n",
    "ps[-1] = 1.\n",
    "ps = np.concatenate([[0.], ps])\n",
    "ps_obs = ps\n",
    "d_plts['percentiles'] = pd.DataFrame({'percentiles': ps_obs}) \n",
    "\n",
    "c = s_dwarf['c_h']\n",
    "d_plts['panel_c']['sample_total'] = get_hist(c, [2.5, 25.])\n",
    "\n",
    "subs_list = SubSample.list_from_percents(s_dwarf, \n",
    "    'z_half', ps_obs,\n",
    "    #[0.00, 0.02, 0.33, 0.67, 0.98, 1.00\n",
    ")\n",
    "for i, subs in enumerate(subs_list):\n",
    "    c = subs.samp['c_h']\n",
    "    d_plts['panel_c'][f'sample_{i}'] = get_hist(c, [2.5+.2*i, 25.])\n",
    "    \n",
    "x_med = 10.67\n",
    "x_sd = 3.05\n",
    "x_rg = [5.89, 18.85]\n",
    "d_plts['panel_c']['NIHAO'] = pd.DataFrame({\n",
    "    'median': np.array([x_med]),\n",
    "    'stddev': np.array([x_sd]),\n",
    "    'min': np.array([x_rg[0]]),\n",
    "    'max': np.array([x_rg[1]]),\n",
    "})"
   ]
  },
  {
   "cell_type": "code",
   "execution_count": null,
   "metadata": {},
   "outputs": [],
   "source": [
    "fig, axs = plot.subplots((1,2), share=(False, False), space=0.15, subsize=(4.5, 4.5), margin=[0.1, 0.1, 0.1, 0.1], layout='none')\n",
    "axs_f = axs.flat\n",
    "\n",
    "ax = axs_f[0]\n",
    "for i, subs in enumerate(subs_list):\n",
    "    c = subs.samp['c']\n",
    "    c_m = np.median(c)\n",
    "    \n",
    "    ax.c(cs_g[i])\n",
    "    ax.hist(c, density=True, bins=15, lw=3, range=[2.5, 25])\n",
    "    \n",
    "    ax.plot([c_m, c_m], [.3, .32])\n",
    "    \n",
    "ax.text(r'\\rm Median', (.96, .78), ha='right')\n",
    "ax.lim([2.5, 25], [0., .4]).label(r'c', r'\\rm PDF')\n",
    "\n",
    "ax = axs_f[1]\n",
    "for i, subs in enumerate(subs_list):\n",
    "    c = np.log10(subs.samp['spin']) \n",
    "    c_m = np.median(c)\n",
    "    \n",
    "    ax.c(cs_g[i])\n",
    "    ax.hist(c, density=True, bins=20, lw=3, range=[-2.5, -.5], label=g_labs[i])\n",
    "    \n",
    "    ax.plot([c_m, c_m], [3., 3.2])\n",
    "    \n",
    "ax.lim([-2.5,-.5], [0., 4.]).label(r'\\log\\,\\lambda').leg(loc='ul', fontsize=12, \n",
    "    title=r'$z_{\\rm f}\\ {\\rm percentiles}$', title_fontsize=13)"
   ]
  },
  {
   "cell_type": "code",
   "execution_count": null,
   "metadata": {},
   "outputs": [],
   "source": [
    "def load_data(sim_name: str, gal_name='dwarfs_lm8.5-9_by-S.json', \n",
    "              halo_name='halos_by-M.json'):\n",
    "    info = sims.predefined[sim_name]\n",
    "    sim_dir = ProjPaths.man_sim_dir(info)\n",
    "    \n",
    "    out = DataDict()\n",
    "    p = sim_dir.base_dir / 'wp' / gal_name\n",
    "    wps = Json.load_file(p)\n",
    "    wp_ref = wps.pop('total')\n",
    "    out['gal'] = [clustering.wp_with_ratio(wps[str(i)], wp_ref) \n",
    "           for i in range(len(wps)) ]\n",
    "    out['gal_tot'] = clustering.wp_with_ratio(wp_ref, wp_ref)\n",
    "    \n",
    "    wps = Json.load_file(sim_dir.base_dir / 'wp' / halo_name)\n",
    "    out['halo'] = [clustering.wp_with_ratio(wps[str(i)], wp_ref) \n",
    "            for i in range(len(wps)) ]\n",
    "    return out\n",
    "\n",
    "def cvt_wp_data(wp: DataDict):\n",
    "    x, (y, (el, eh)), (yr, (elr, ehr)) = wp['x', 'y/ebar', 'y_ratio/ebar']\n",
    "    return pd.DataFrame({\n",
    "        'r': x, \n",
    "        'wp': y, 'wp_err_lo': el, 'wp_err_hi': eh,\n",
    "        'ratio': yr, 'ratio_err_lo': elr, 'ratio_err_hi': ehr,\n",
    "    })"
   ]
  },
  {
   "cell_type": "markdown",
   "metadata": {},
   "source": [
    "## Hydro and SAM"
   ]
  },
  {
   "cell_type": "code",
   "execution_count": null,
   "metadata": {},
   "outputs": [],
   "source": [
    "wps_all = DataDict({\n",
    "    'tng': load_data('tng'),\n",
    "    #'lgal': load_data('millennium_2_scaled_wmap7'),\n",
    "    'lgal': load_data('tng_dark', 'dwarfs_H15_lm8.5-9_by-S.json'),\n",
    "    'tng50': load_data('tng_50_1', 'dwarfs_lm8-9_by-S.json'),\n",
    "})"
   ]
  },
  {
   "cell_type": "code",
   "execution_count": null,
   "metadata": {},
   "outputs": [],
   "source": [
    "for ki, ko in [['lgal', 'panel_d'], ['tng', 'panel_e'], ['tng50', 'panel_f']]:\n",
    "    wps = wps_all[ki]\n",
    "    out = d_plts[ko]\n",
    "    for i_sub, wp in enumerate(wps['gal']):\n",
    "        out[f'galaxy_sample_{i_sub}'] = cvt_wp_data(wp)\n",
    "    out['galaxy_all'] = cvt_wp_data(wps['gal_tot'])\n",
    "    for i_sub, wp in enumerate(wps['halo']):\n",
    "        out[f'halo_sample_{i_sub}'] = cvt_wp_data(wp)"
   ]
  },
  {
   "cell_type": "markdown",
   "metadata": {},
   "source": [
    "## DMO"
   ]
  },
  {
   "cell_type": "code",
   "execution_count": null,
   "metadata": {},
   "outputs": [],
   "source": [
    "wps_all = DataDict({\n",
    "    'z_half': load_data('tng_dark_300_1', 'dwarf_halos_lm10p5-11_by-z_half.json'),\n",
    "    'spin_h': load_data('tng_dark_300_1', 'dwarf_halos_lm10p5-11_by-spin_h.json'),\n",
    "})"
   ]
  },
  {
   "cell_type": "code",
   "execution_count": null,
   "metadata": {},
   "outputs": [],
   "source": [
    "for ki, ko in [['z_half', 'panel_a'], ['spin_h', 'panel_b']]:\n",
    "    wps = wps_all[ki]\n",
    "    out = d_plts[ko]\n",
    "    for i_sub, wp in enumerate(wps['gal']):\n",
    "        out[f'galaxy_sample_{i_sub}'] = cvt_wp_data(wp)\n",
    "    out['galaxy_all'] = cvt_wp_data(wps['gal_tot'])\n",
    "    for i_sub, wp in enumerate(wps['halo']):\n",
    "        out[f'halo_sample_{i_sub}'] = cvt_wp_data(wp)"
   ]
  },
  {
   "cell_type": "code",
   "execution_count": null,
   "metadata": {},
   "outputs": [],
   "source": [
    "Excel.dump_file(ProjPaths.proj_dir/'data_for_publication/Wang_EDfig8.xlsx', d_plts)"
   ]
  },
  {
   "cell_type": "code",
   "execution_count": null,
   "metadata": {},
   "outputs": [],
   "source": []
  },
  {
   "cell_type": "code",
   "execution_count": null,
   "metadata": {},
   "outputs": [],
   "source": [
    "sim_info = sims.predefined['tng_dark_300_1']\n",
    "s_dir = ProjPaths.sim_dir_of(sim_info) / 'wp'\n",
    "f_pref = 'wp-result-pi40-resamp50'\n",
    "\n",
    "path = s_dir / f'{f_pref}.hdf5'\n",
    "# path = ProjPaths.sim_dir_of(sim_info) / 'wp-result-pi40-resamp50-addej.hdf5'\n",
    "res_wp = h5.File.load_from(path)\n",
    "\n",
    "path = s_dir / f'{f_pref}-r1-bins.hdf5'\n",
    "res_wp['dwarfs'] |= h5.File.load_from(path)['dwarfs']\n",
    "\n",
    "path = s_dir / f'{f_pref}-r1-list.hdf5'\n",
    "res_wp['dwarfs'] |= h5.File.load_from(path)['dwarfs']\n",
    "\n",
    "for path in [\n",
    "    f'r1_binned_1.hdf5', f'r1_binned_2.hdf5', f'rho_0_binned.hdf5',\n",
    "    f'rho_0_binned_1.hdf5', f'rho_0_binned_2.hdf5', \n",
    "]:\n",
    "    res_wp['dwarfs'] |= h5.File.load_from(s_dir/path)['dwarfs']\n",
    "\n",
    "res_wp['meta'] = {\n",
    "    'source': 'TNG300-1-Dark',\n",
    "    'selection': 'central & m_mean200 in 10**{10.5-11.0} & last_sat_z >= 15',\n",
    "    'subsample selection': 'non-overlapping breaking by percentiles 0.02, 0.33, 0.67, 0.98',\n",
    "    'author': 'Yangyao Chen, yangyaochen.astro@foxmail.com',\n",
    "    'usage': 'see load-example.py',\n",
    "}"
   ]
  },
  {
   "cell_type": "code",
   "execution_count": null,
   "metadata": {},
   "outputs": [],
   "source": [
    "out = {\n",
    "    k: res_wp[k] for k in ['meta', 'dwarfs', 'halos']\n",
    "}\n",
    "path = s_dir / 'wp-tng300-1-dmo.json'\n",
    "with open(path, 'w') as f:\n",
    "    json.dump(out, f, default=json_default, indent=2)"
   ]
  },
  {
   "cell_type": "code",
   "execution_count": null,
   "metadata": {},
   "outputs": [],
   "source": [
    "res_wp.keys()"
   ]
  },
  {
   "cell_type": "code",
   "execution_count": null,
   "metadata": {},
   "outputs": [],
   "source": [
    "res_wp['halos/0'].keys()"
   ]
  },
  {
   "cell_type": "code",
   "execution_count": null,
   "metadata": {},
   "outputs": [],
   "source": [
    "res_wp['dwarfs'].keys()"
   ]
  },
  {
   "cell_type": "code",
   "execution_count": null,
   "metadata": {},
   "outputs": [],
   "source": [
    "res_wp['dwarfs']['r1'].keys()"
   ]
  },
  {
   "cell_type": "code",
   "execution_count": null,
   "metadata": {},
   "outputs": [],
   "source": [
    "sim_info = sims.predefined['tng_dark_300_1']\n",
    "path = ProjPaths.sim_dir_of(sim_info) / 'wp/wp-tng300-1-dmo.json'\n",
    "with open(path) as f:\n",
    "    wp_out = parse_json_input(json.load(f))"
   ]
  },
  {
   "cell_type": "code",
   "execution_count": null,
   "metadata": {},
   "outputs": [],
   "source": [
    "sim_info = sims.predefined['tng_dark_300_1']\n",
    "path = ProjPaths.sim_dir_of(sim_info) / 'wp-tng300-1-dark.json'\n",
    "with open(path) as f:\n",
    "    wp_out = parse_json_input(json.load(f))"
   ]
  },
  {
   "cell_type": "code",
   "execution_count": null,
   "metadata": {},
   "outputs": [],
   "source": [
    "cs_g = ['b', 'g', cs_set1[4], 'r', 'purple'][::-1]\n",
    "g_labs = [\n",
    "    r'$0^{\\rm th}\\,$-$\\,2^{\\rm nd}$',\n",
    "    r'$2^{\\rm nd}\\,$-$\\,33^{\\rm rd}$',\n",
    "    r'$33^{\\rm rd}\\,$-$\\,67^{\\rm th}$',\n",
    "    r'$67^{\\rm th}\\,$-$\\,98^{\\rm th}$',\n",
    "    r'$98^{\\rm th}\\,$-$\\,100^{\\rm th}$',\n",
    "]\n",
    "h_labs = [\n",
    "    '?', ####\n",
    "    r'$11.0 \\leqslant M_{\\rm h} < 12.0$',\n",
    "    r'$12.0 \\leqslant M_{\\rm h} < 13.0$',\n",
    "    r'$13.0 \\leqslant M_{\\rm h}$',\n",
    "]\n",
    "lws_h = np.linspace(1., 3.5, 4)\n",
    "key_labs = r'z_{\\rm f}', r'\\lambda'"
   ]
  },
  {
   "cell_type": "code",
   "execution_count": null,
   "metadata": {},
   "outputs": [],
   "source": [
    "wp_out['dwarfs'].keys()"
   ]
  },
  {
   "cell_type": "code",
   "execution_count": null,
   "metadata": {},
   "outputs": [],
   "source": [
    "fig, axs = plot.subplots((2,2), share=(True, 'row'),\n",
    "    space=0.055, subsize=(5., 3.75), \n",
    "    margin=[0.02, 0.02, 0.08, 0.08], layout='none',\n",
    "    ratios=(None, [2, 1.]))\n",
    "axs_f = axs.flat\n",
    "\n",
    "leg_kw = dict(title_fontsize=13., labelspacing=.2, numpoints=1, \n",
    "              fontsize=13, labelcolor='linecolor')\n",
    "fn = wp_with_ratio1 # wp_with_ratio\n",
    "\n",
    "# for i_res, key_prop in enumerate(['z_f', 'spin']):\n",
    "for i_res, key_prop in enumerate(['r1', 'rho_0_0.1']):\n",
    "\n",
    "    axs_c = axs[:,i_res]\n",
    "    ax, ax_r = axs_c\n",
    "\n",
    "    wp_ref = wp_out['dwarfs/tot']\n",
    "    wps_g = wp_out[f'dwarfs/{key_prop}']\n",
    "    wps_h = wp_out['halos']\n",
    "\n",
    "    x, y, y_e, yr, yr_e = fn(wp_ref, wp_ref)\n",
    "    axs_c.c('k')\n",
    "    ax.errorbar(x, y, yerr=y_e, zorder=20, lw=2, label=r'$\\rm Total$')\n",
    "    ax_r.errorbar([1.0e-10, 1.0e10], [1., 1.], yerr=[0., 0.],\n",
    "                    zorder=20, lw=2.)\n",
    "\n",
    "    for i, i_sub in enumerate(range(len(wps_g))):\n",
    "        axs_c.c(cs_g[i])\n",
    "        x, y, y_e, yr, yr_e = fn(wps_g[str(i_sub)], wp_ref)\n",
    "        \n",
    "        ax.errorbar(x, y, yerr=y_e, zorder=10-i_sub, lw=4, label=g_labs[i_sub])\n",
    "        ax_r.errorbar(x, yr, yerr=yr_e, zorder=10-i_sub)\n",
    "        \n",
    "    for i, i_sub in enumerate(range(len(wps_h))):\n",
    "        axs_c.c('grey')\n",
    "        \n",
    "        x, y, y_e, yr, yr_e = fn(wps_h[str(i_sub)], wp_ref)\n",
    "        \n",
    "        ax.errorbar(x, y, yerr=y_e, lw=lws_h[i])\n",
    "        ax_r.errorbar(x, yr, yerr=yr_e, label=h_labs[i], lw=lws_h[i])\n",
    "\n",
    "    ax.leg(loc='ll', \n",
    "             title=r'${\\rm Dwarfs},\\,%s\\ {\\rm percentiles}$'%(key_labs[i_res]), \n",
    "             **leg_kw, ncol=2)    \n",
    "\n",
    "axs[0].scale('log', 'log').lim([1.00e-2, 12], [0.5, 5.0e3])\n",
    "axs[1].lim(y=[0.2, 2.75])\n",
    "\n",
    "\n",
    "axs[0,0].label(y=r'w_{\\rm p}(r_{\\rm p})\\,[h^{-1}{\\rm Mpc}]')\n",
    "axs[1,0].label(y=r'\\rm Ratio')\\\n",
    "    .leg(loc=(.5, 2.6), title=r'${\\rm Halos},\\,M_{\\rm h} / {\\rm M}_\\odot$', **leg_kw)\n",
    "axs[1].label(r'r_{\\rm p}\\,[h^{-1}{\\rm Mpc}]')\n",
    "axs.label_outer()\n",
    "\n",
    "#ProjPaths.save_fig('fig_2pccf_dmo.pdf')\n",
    "# ProjPaths.save_fig('fig_2pccf_dmo_with_ej.pdf')\n",
    "#ProjPaths.save_fig('fig_2pccf_dmo_rho_0.pdf')"
   ]
  },
  {
   "cell_type": "markdown",
   "metadata": {},
   "source": [
    "## Test for quenching "
   ]
  },
  {
   "cell_type": "code",
   "execution_count": null,
   "metadata": {},
   "outputs": [],
   "source": [
    "# load wp_vs_props2.py\n",
    "\n",
    "key_sels = 'by_ssfr', 'by_noej', 'all'\n",
    "S_ranges = [-1., 7.], [7., 15.], [15., 100000.]\n",
    "\n",
    "# sim_name = 'tng'\n",
    "# model_suf = ''\n",
    "\n",
    "# sim_name = 'tng_dark'\n",
    "# model_suf = '.LGalaxies-H15'\n",
    "\n",
    "sim_name = 'tng_dark_300_1'\n",
    "model_suf = '.LGalaxies-H15'\n",
    "\n",
    "sim_info = sims.predefined[sim_name]\n",
    "sim_dir = ProjPaths.man_sim_dir(sim_info)\n",
    "\n",
    "pdata = ProjPaths.sim_dir_of(sim_info) / f'z0_all_postprocessed.hdf5{model_suf}'\n",
    "m_s_range = [10**8.5, 10**9.]\n",
    "kw = {'sim_info': sim_info, 'data_file': pdata,\n",
    "      'm_s_range_in_sol': m_s_range, 'add_rsd': False, 'dmo': False}\n",
    "smans = {\n",
    "    'by_ssfr': SubSampleManager(**kw),\n",
    "    'by_noej': SubSampleManager(**kw, ssfr_lb_in_sol=-1.0, baryon_excl_ej=True),\n",
    "    'all': SubSampleManager(**kw, ssfr_lb_in_sol=-1.0),\n",
    "}\n",
    "\n",
    "p = sim_dir.base_dir / 'wp_vs_prop' / f'z_half.json{model_suf}'\n",
    "d_in = Json.load_file(p)\n",
    "d_plt = DataDict()\n",
    "for i, k in enumerate(key_sels):\n",
    "    for i_s, (S_lo, S_hi) in enumerate(S_ranges):\n",
    "        wps = d_in[f'{k}.S{i_s}']\n",
    "        wp_ref = d_in[f'{k}.S{2}.ref']\n",
    "        rel_bias = utils.stats.RelativeBias(wps, wp_ref).data\n",
    "\n",
    "        s = smans[k].s_dwarf.subset_by_value('Sigma_star', S_lo, S_hi)\n",
    "        z_f = s.objs['z_half']\n",
    "        h, e = np.histogram(z_f, range=[0., 5.], bins=32, density=True)\n",
    "        c = 0.5 * (e[:-1] + e[1:])\n",
    "        z_half_pdf = DataDict({'h': h, 'e': e, 'c': c})\n",
    "        d_plt[f'{k}.S{i_s}'] = {'rel_bias': rel_bias,\n",
    "                                'z_half_pdf': z_half_pdf}\n",
    "\n",
    "Json.dump_file(d_plt, str(p)+'.plt', indent=2)"
   ]
  },
  {
   "cell_type": "code",
   "execution_count": null,
   "metadata": {},
   "outputs": [],
   "source": [
    "d_plts = [\n",
    "    Json.load_file(ProjPaths.sim_dir_of(sims.predefined['tng']) / 'wp_vs_prop' / 'z_half.json.plt'),\n",
    "    Json.load_file(ProjPaths.sim_dir_of(sims.predefined['tng_dark']) / 'wp_vs_prop' / 'z_half.json.LGalaxies-H15.plt'),\n",
    "    Json.load_file(ProjPaths.sim_dir_of(sims.predefined['tng_dark_300_1']) / 'wp_vs_prop' / 'z_half.json.LGalaxies-H15.plt'),\n",
    "]"
   ]
  },
  {
   "cell_type": "code",
   "execution_count": null,
   "metadata": {},
   "outputs": [],
   "source": [
    "fig, axs_all = plot.subplots((6,3), share=(True, 'row'),\n",
    "    space=0.03, subsize=(5., 2.55), \n",
    "    margin=[0.02, 0.01, 0.05, 0.065], layout='none',\n",
    "    ratios=(None, [2, 1.,2,1,2,1]))\n",
    "\n",
    "sim_names = r'\\rm TNG', r'\\rm L$-$\\rm Galaxies\\,(100)', r'\\rm L$-$\\rm Galaxies\\,(300)'\n",
    "\n",
    "labs_samp = r'\\rm Star$-$\\rm forming\\,(main\\ texts)', r'\\rm Backsplash$-$\\rm excluded', r'\\rm All'\n",
    "\n",
    "cs = 'b', 'g', 'r'\n",
    "labels = r'$\\Sigma_* < 7\\,{\\rm M}_\\odot\\,{\\rm pc}^{-2}$', \\\n",
    "    r'$\\Sigma_* = 7$-$15\\,{\\rm M}_\\odot\\,{\\rm pc}^{-2}$',\\\n",
    "    r'$\\Sigma_*\\geqslant 15\\,{\\rm M}_\\odot\\,{\\rm pc}^{-2}$'\n",
    "\n",
    "labs_samp = r'\\rm Star$-$\\rm forming\\,(main\\ texts)', r'\\rm Backsplash$-$\\rm excluded', r'\\rm All'\n",
    "axs_all.fmt_errorbar(capsize=0)\n",
    "for i_mod, d_plt in enumerate(d_plts):\n",
    "    axs = axs_all[[2*i_mod, 2*i_mod+1]]\n",
    "    for i_k, k in enumerate(key_sels):\n",
    "        axs_c = axs[:, i_k]\n",
    "        for i_s in range(3):\n",
    "            d = d_plt[f'{k}.S{i_s}']\n",
    "            \n",
    "            ax = axs_c[0]\n",
    "            x, y, ye = d['rel_bias']['x', 'y', 'ye']\n",
    "            ax.c(cs[i_s]).errorbar(x, y, yerr=ye, label=labels[i_s], \n",
    "                                lw=1, marker='s', ms=5.5, mew=2.)\n",
    "\n",
    "            ax = axs_c[1]\n",
    "            c, h = d['z_half_pdf']['c', 'h']\n",
    "            ax.c(cs[i_s]).plot(c, h, lw=1.5)\n",
    "        \n",
    "    axs[0].scale().lim([0.,5.5], [.1, 3.75])\\\n",
    "        .label(y=r'{\\rm Relative\\ bias}')\n",
    "    axs[1].scale(y='log').lim(y=[0.005, 3.])\\\n",
    "        .label(r'z_{\\rm f}', r'\\rm PDF')\n",
    "    axs[0,0].text(sim_names[i_mod], (.075, .9))\n",
    "    if i_mod == 0:\n",
    "        axs[0,2].leg(loc='lr', numpoints=1, fontsize=13, labelspacing=0)\n",
    "        for i_k in range(3):\n",
    "            axs[0,i_k].text(labs_samp[i_k], (.92, .9), ha='right')\n",
    "    \n",
    "axs_all.label_outer();\n",
    "\n",
    "ProjPaths.save_fig('fig_rel_bias_vs_zf_sub_binned.pdf')"
   ]
  },
  {
   "cell_type": "markdown",
   "metadata": {},
   "source": [
    "# ELUCID-LGalaxiesGuo13"
   ]
  },
  {
   "cell_type": "code",
   "execution_count": null,
   "metadata": {},
   "outputs": [],
   "source": [
    "%autoreload\n",
    "gc.collect()"
   ]
  },
  {
   "cell_type": "code",
   "execution_count": null,
   "metadata": {},
   "outputs": [],
   "source": [
    "sim_info = sims.predefined['elucid']\n",
    "s_all = sample.ElucidLGalaxiesGuo13Sample.load(sim_info)"
   ]
  },
  {
   "cell_type": "code",
   "execution_count": null,
   "metadata": {},
   "outputs": [],
   "source": [
    "s_all"
   ]
  },
  {
   "cell_type": "code",
   "execution_count": null,
   "metadata": {},
   "outputs": [],
   "source": [
    "x = s_all['x']\n",
    "print(x.min(), x.max())"
   ]
  },
  {
   "cell_type": "code",
   "execution_count": null,
   "metadata": {},
   "outputs": [],
   "source": [
    "x, y, z = s_all['x'].T\n",
    "sel = (z >= 250.) & (z <= 251.)\n",
    "x, y = x[sel], y[sel]\n"
   ]
  },
  {
   "cell_type": "code",
   "execution_count": null,
   "metadata": {},
   "outputs": [],
   "source": [
    "fig, ax = plot.subplots(1, figsize=4.5, margin=[0.1, 0.1, 0.1, 0.1], layout='none')\n",
    "\n",
    "ax.scatter(x, y)"
   ]
  },
  {
   "cell_type": "markdown",
   "metadata": {},
   "source": [
    "# ELUCID"
   ]
  },
  {
   "cell_type": "code",
   "execution_count": null,
   "metadata": {},
   "outputs": [],
   "source": [
    "%autoreload"
   ]
  },
  {
   "cell_type": "code",
   "execution_count": null,
   "metadata": {},
   "outputs": [],
   "source": [
    "from pyhipp.field import cubic_box\n",
    "from elucid.geometry.frame import SimFrameSdssL500\n",
    "from elucid.geometry.mask import ReconstAreaMaskSdssL500, reconst_area_masks\n",
    "from obs.assembly_bias import elucid_cv, utils, obs_catalogs\n",
    "from obs.assembly_bias.utils.gal_web_cor import GalEnv, GalEnvSimed\n",
    "from obs.assembly_bias.utils import stats as u_stats\n",
    "from obs.assembly_bias.elucid_cv import ReconSample, ObsProjCross\n",
    "from obs.assembly_bias.clustering import SubSampleManager, SimCross\n",
    "from sklearn.neighbors import KDTree as SkKDTree\n",
    "from scipy.interpolate import interp1d\n",
    "from obs.assembly_bias.sidm.drivers import SIDMDriver\n",
    "from obs.assembly_bias import sidm\n",
    "\n",
    "# sim_info = sims.predefined['elucid']\n",
    "sim_info = sims.predefined['elucid_ext_v2']\n",
    "sim_dir = ProjPaths.man_sim_dir(sim_info)\n",
    "\n",
    "def take_wps_rel(d_in: DataDict, d_rel: DataDict):\n",
    "    wp_rel = d_in['wp_samples'] / d_rel['wp_samples']\n",
    "    assert wp_rel.shape[1] == 1\n",
    "    wp_rel = wp_rel[:, 0]\n",
    "    y, yl, yh = np.median(wp_rel), np.quantile(wp_rel, 0.16), np.quantile(wp_rel, 0.84)\n",
    "    yel, yeh = y - yl, yh - y\n",
    "    x, (xl, xh) = d_in['sub_sample']['median', '1sigma']\n",
    "    xel, xeh = x - xl, xh - x\n",
    "    return x, y, yel, yeh\n",
    "\n",
    "def take_wps_rels(d_ins: DataDict, d_rel: DataDict = None):\n",
    "    n_ds = len(d_ins)\n",
    "    if d_rel is None:\n",
    "        d_rel = d_ins[str(n_ds-1)]\n",
    "    wp_rel = []\n",
    "    for i in range(n_ds):\n",
    "        wp_rel.append(take_wps_rel(d_ins[str(i)], d_rel))\n",
    "    wp_rel = np.array(wp_rel)\n",
    "    return wp_rel\n",
    "\n",
    "dps = [0.02467638, 0.23220065, 0.25970874, 0.48341424]\n",
    "ps = np.cumsum(dps)\n",
    "ps[-1] = 1.\n",
    "ps = np.concatenate([[0.], ps])\n",
    "ps_obs = ps\n",
    "\n",
    "dps = [0.02324263, 0.22193878, 0.25226757, 0.50255102]\n",
    "ps = np.cumsum(dps)\n",
    "ps[-1] = 1.\n",
    "ps = np.concatenate([[0.], ps])\n",
    "ps_obs_z003 = ps\n",
    "\n",
    "ps = np.cumsum(dps[::-1])\n",
    "ps[-1] = 1. \n",
    "ps = np.concatenate([[0.], ps])\n",
    "ps_obs_inv = ps\n",
    "\n",
    "ps_fine = np.array([0.0, 0.02, 0.04, 0.06, 0.08, 0.14, 0.2, 0.3, 0.4, 0.6, 0.7, 0.8, 0.9, 1.0])\n",
    "\n",
    "ps_list = {\n",
    "    'obs_bin': ps_obs,\n",
    "    'fine_bin': ps_fine,\n",
    "}"
   ]
  },
  {
   "cell_type": "markdown",
   "metadata": {},
   "source": [
    "## Datasets"
   ]
  },
  {
   "cell_type": "code",
   "execution_count": null,
   "metadata": {},
   "outputs": [],
   "source": [
    "# extract sub sample\n",
    "\n",
    "sim_info = sims.predefined['elucid_ext_v2']\n",
    "sim_dir = ProjPaths.man_sim_dir(sim_info)\n",
    "p_data = ProjPaths.sim_dir_of(sim_info) / 'z0_all.hdf5'\n",
    "\n",
    "u_m = u_m = sim_info.cosmology.unit_system.u_m_to_sol\n",
    "m_lb, m_ub = 10**10.5 / u_m, 10**11. / u_m\n",
    "with h5.File(p_data) as f:\n",
    "    pprint(tuple(f['objs'].keys()), compact=True)\n",
    "    d_in = f['objs'].datasets.load(keys=[\n",
    "        'c_mean200_AM_lm10p5_to_11', 'd_c',\n",
    "        'dec', 'is_c', 'is_recon', 'is_recon_large', 'last_sat_z', 'm_mean200',\n",
    "        'm_peak', 'ra', 'spin', 'v_max', 'x', 'z', 'z_half',\n",
    "        'Sigma_star_AM_lm10p5_to_11_rho0.85'\n",
    "    ])\n",
    "    sel = d_in['is_c'] & (d_in['m_mean200'] >= m_lb) & (d_in['m_mean200'] < m_ub) \\\n",
    "        & (d_in['last_sat_z'] >= 15.) & d_in['is_recon_large'] \\\n",
    "        & (d_in['z'] >= 0.01) & (d_in['z'] < 0.04)    \n",
    "    d_in = {k: v[sel] for k, v in d_in.items()}\n",
    "    ctx = f['ctx'].load()\n",
    "    header = f['header'].load()"
   ]
  },
  {
   "cell_type": "code",
   "execution_count": null,
   "metadata": {},
   "outputs": [],
   "source": [
    "d_in |= {\n",
    "    'r_mean200': sim_info.cosmology.halo_theory.vir_props_mean(d_in['m_mean200']).r,\n",
    "    'c_mean200': d_in['c_mean200_AM_lm10p5_to_11'].copy(),\n",
    "}"
   ]
  },
  {
   "cell_type": "code",
   "execution_count": null,
   "metadata": {},
   "outputs": [],
   "source": [
    "d_out = {\n",
    "    'objs': d_in,\n",
    "    'ctx': ctx, \n",
    "    'header': header,\n",
    "}\n",
    "h5.File.dump_to(\n",
    "    str(p_data) + '.c.dwarf.noBS.recon.z0p01-0p04',\n",
    "    d_out, f_flag='w')"
   ]
  },
  {
   "cell_type": "code",
   "execution_count": null,
   "metadata": {},
   "outputs": [],
   "source": []
  },
  {
   "cell_type": "markdown",
   "metadata": {},
   "source": [
    "## 2PCF with abundance matching"
   ]
  },
  {
   "cell_type": "markdown",
   "metadata": {},
   "source": [
    "### 2PCCF results"
   ]
  },
  {
   "cell_type": "markdown",
   "metadata": {},
   "source": [
    "#### Meausing 2PCCF"
   ]
  },
  {
   "cell_type": "code",
   "execution_count": null,
   "metadata": {},
   "outputs": [],
   "source": [
    "p_data = ProjPaths.sim_dir_of(sim_info) / 'z0_all.hdf5'\n",
    "man_kw = {'add_rsd': False, 'dmo': True, \n",
    "          'm_h_range_in_sol': (10**10.5, 10**11.0),\n",
    "          'm_h_ref_lb': 10**10.5,\n",
    "          'extra_mask_dwarfs': {\n",
    "              'is_recon_large': {'eq': True},\n",
    "              'z': {'lo': 0.01, 'hi': 0.04},\n",
    "              #'z': {'lo': 0.01, 'hi': 0.03}\n",
    "              #'z': {'lo': 0.01, 'hi': 0.06},\n",
    "              #'z': {'lo': 0.04, 'hi': 0.06},\n",
    "              #'z': {'lo': 0.06, 'hi': 0.07},\n",
    "          }\n",
    "}\n",
    "sman = SubSampleManager(sim_info, p_data, **man_kw)\n",
    "sman.s_dwarf"
   ]
  },
  {
   "cell_type": "code",
   "execution_count": null,
   "metadata": {},
   "outputs": [],
   "source": [
    "wp_kw = {'pimax': 40., 'n_repeat': 4, 'rs': np.array([2., 10.]),\n",
    "         'bootstrap_kw': {'keep_samples': True}}\n",
    "sim_cross = SimCross(sman)"
   ]
  },
  {
   "cell_type": "code",
   "execution_count": null,
   "metadata": {},
   "outputs": [],
   "source": [
    "prop_pref = 'Sigma_star_AM_lm10p5_to_11_SIDM_r1'\n",
    "keys = 'sigma0.25', 'sigma0.30', 'sigma0.40' #'sigma0.10', 'sigma0.50', 'sigma1.00'\n",
    "for k in keys:\n",
    "    prop_key = f'{prop_pref}_{k}'\n",
    "    vals = sman.s_dwarf.objs[prop_key]\n",
    "    print(prop_key, vals.min(), vals.max())\n",
    "    \n",
    "    o_data = {\n",
    "        k: sim_cross.wps_of('s_dwarf', prop_key, ps = ps, **wp_kw) \n",
    "        for k, ps in [('obs_bin', ps_obs),]\n",
    "    }\n",
    "    o_path = ProjPaths.sim_dir_of(sim_info) / f'wp/am/{prop_key}.hdf5'\n",
    "    Json.dump_file(o_data, o_path, indent=2)"
   ]
  },
  {
   "cell_type": "code",
   "execution_count": null,
   "metadata": {},
   "outputs": [],
   "source": [
    "prop_key = 'Sigma_star_SIDM_lm10p5_to_11_sigma0.40'\n",
    "\n",
    "vals = sman.s_dwarf.objs[prop_key]\n",
    "print(prop_key, vals.min(), vals.max())\n",
    "\n",
    "o_data = {\n",
    "    k: sim_cross.wps_of('s_dwarf', prop_key, ps = ps_list[k], **wp_kw) \n",
    "    for k in ['obs_bin']\n",
    "}\n",
    "o_path = ProjPaths.sim_dir_of(sim_info) / f'wp/am/{prop_key}.hdf5'\n",
    "Json.dump_file(o_data, o_path, indent=2)"
   ]
  },
  {
   "cell_type": "code",
   "execution_count": null,
   "metadata": {},
   "outputs": [],
   "source": [
    "# prop_key = 'Sigma_star_AM_lm10p5_to_11_z004_to_006'\n",
    "# prop_key = 'Sigma_star_AM_lm10p5_to_11_z006_to_007'\n",
    "\n",
    "# prop_pref = 'Sigma_star_AM_lm10p5_to_11_z001_to_006'\n",
    "prop_pref = 'Sigma_star_AM_lm10p5_to_11_z001_to_003'\n",
    "\n",
    "#[1., .8, .6]:  #1., 0.99, 0.95, 0.9, 0.8, 0.7, 0.6, 0.5:      # \n",
    "for rho in [1., 0.9, 0.85, 0.8, 0.6, 0.5]: \n",
    "    prop_key = f'{prop_pref}_rho{rho:.2f}'\n",
    "\n",
    "    vals = sman.s_dwarf.objs[prop_key]\n",
    "    print(prop_key, vals.min(), vals.max())\n",
    "\n",
    "    o_data = {\n",
    "        k: sim_cross.wps_of('s_dwarf', prop_key, ps = ps, **wp_kw) \n",
    "        for k, ps in ps_list.items()\n",
    "    }\n",
    "    o_path = ProjPaths.sim_dir_of(sim_info) / f'wp/am/{prop_key}.hdf5'\n",
    "    Json.dump_file(o_data, o_path, indent=2)"
   ]
  },
  {
   "cell_type": "code",
   "execution_count": null,
   "metadata": {},
   "outputs": [],
   "source": [
    "prop_pref = 'SIDM_r1_iterFixAr'\n",
    "#prop_pref = 'SIDM_rh4'\n",
    "#keys = 'sigma0.25', 'sigma0.30', 'sigma0.40' # 'sigma0.10', 'sigma0.50', 'sigma1.00'\n",
    "#keys = 'sigma3.00',\n",
    "keys = 'sigma0.10', 'sigma0.30', 'sigma1.00'\n",
    "ps_list = {\n",
    "    'obs_inv_bin': ps_obs_inv,\n",
    "}\n",
    "for k in keys:\n",
    "    prop_key = f'{prop_pref}_{k}'\n",
    "    vals = sman.s_dwarf.objs[prop_key]\n",
    "    print(prop_key, vals.min(), vals.max())\n",
    "    \n",
    "    o_data = {\n",
    "        k: sim_cross.wps_of('s_dwarf', prop_key, ps = ps, **wp_kw) \n",
    "        for k, ps in ps_list.items()\n",
    "    }\n",
    "    o_path = ProjPaths.sim_dir_of(sim_info) / f'wp/am/{prop_key}.hdf5'\n",
    "    Json.dump_file(o_data, o_path, indent=2)"
   ]
  },
  {
   "cell_type": "markdown",
   "metadata": {},
   "source": [
    "#### Show 2PCCF"
   ]
  },
  {
   "cell_type": "code",
   "execution_count": null,
   "metadata": {},
   "outputs": [],
   "source": [
    "wps = DataDict()\n",
    "\n",
    "#for i_k, prop_key in enumerate(('Sigma_star_AM_lm10p5_to_11', \n",
    "#                                'Sigma_star_AM_lm10p5_to_11_z004_to_006', \n",
    "#                                'Sigma_star_AM_lm10p5_to_11_z006_to_007')):\n",
    "#    d_in = Json.load_file(ProjPaths.sim_dir_of(sim_info) / f'wp/am/{prop_key}.hdf5')\n",
    "#    wps[f'z_f{i_k}'] = {\n",
    "#        'fine_bin': take_wps_rels(d_in['fine_bin'], d_in['obs_bin/3']),\n",
    "#        'obs_bin': take_wps_rels(d_in['obs_bin'])\n",
    "#    }\n",
    "\n",
    "prop_pref = 'Sigma_star_AM_lm10p5_to_11'\n",
    "# prop_pref = 'Sigma_star_AM_lm10p5_to_11_z001_to_003'\n",
    "# for rho in [1., 0.99, 0.95, 0.9, 0.85, 0.8, 0.7, 0.6, 0.5]:\n",
    "for rho in [1., 0.9, 0.85, 0.8, 0.5]:\n",
    "    prop_key = f'{prop_pref}_rho{rho:.2f}'\n",
    "    out_key = f'z_f_rho{rho:.2f}'\n",
    "    d_in = Json.load_file(ProjPaths.sim_dir_of(sim_info) / f'wp/am/{prop_key}.hdf5')\n",
    "    wps[out_key] = {\n",
    "        'fine_bin': take_wps_rels(d_in['fine_bin'], d_in['obs_bin/3']),\n",
    "        'obs_bin': take_wps_rels(d_in['obs_bin']),\n",
    "        'data': DataDict({\n",
    "            'z_half': sman.s_dwarf.objs['z_half'],\n",
    "            'S': sman.s_dwarf.objs[prop_key],\n",
    "        })\n",
    "    }\n",
    "    \n",
    "#prop_pref = 'Sigma_star_AM_lm10p5_to_11_z001_to_006'\n",
    "#for rho in [1., 0.8, 0.6]:\n",
    "#    prop_key = f'{prop_pref}_rho{rho:.2f}'\n",
    "#    out_key = f'z_f_z001_to_006_rho{rho:.2f}'\n",
    "#    d_in = Json.load_file(ProjPaths.sim_dir_of(sim_info) / f'wp/am/{prop_key}.hdf5')\n",
    "#    wps[out_key] = {\n",
    "#        'fine_bin': take_wps_rels(d_in['fine_bin'], d_in['obs_bin/3']),\n",
    "#        'obs_bin': take_wps_rels(d_in['obs_bin']),\n",
    "#        'data': DataDict({\n",
    "#            'z_half': sman.s_dwarf.objs['z_half'],\n",
    "#            'S': sman.s_dwarf.objs[prop_key],\n",
    "#        })\n",
    "#    }\n",
    "\n",
    "wps['tng'] = take_wps_rels(Json.load_file(ProjPaths.sim_dir_of(sims.predefined['tng']) / 'wp/ms8.5-9_r2-10.json')['dwarfs/S'])\n",
    "#wps['lgal'] = take_wps_rels(Json.load_file(ProjPaths.sim_dir_of(sims.predefined['millennium_2_scaled_wmap7']) / 'wp/ms8.5-9_r2-10.json')['dwarfs/S'])\n",
    "wps['lgal'] = take_wps_rels(\n",
    "    Json.load_file(ProjPaths.sim_dir_of(sims.predefined['tng_dark']) / 'wp/dwarfs_H15_lm8.5-9_r2-10_by-S.json')\n",
    ")\n",
    "\n",
    "# z004, massive sample, z-weighted\n",
    "wps['obs'] = np.array([\n",
    "    [6.2,    2.4, 0.28, 0.28,],\n",
    "    [11.37,  1.44, 0.1, 0.1,],\n",
    "    [19.33,  1.29, 0.09, 0.09,],\n",
    "    [42.37, 1.0, 0.0, 0.0,],\n",
    "])\n",
    "# z003, ...\n",
    "#wps['obs'] = np.array([\n",
    "#    [6.212119069661753, 11.406763865855208, 19.36879881129817, 43.12292141750194],\n",
    "#    [2.96, 1.74, 1.46, 1.00],\n",
    "#    [0.37, 0.15, 0.13, 0.0],\n",
    "#    [0.37, 0.15, 0.13, 0.0],\n",
    "#]).T"
   ]
  },
  {
   "cell_type": "code",
   "execution_count": null,
   "metadata": {},
   "outputs": [],
   "source": [
    "def load_prop_rel(sim_name, file_name):\n",
    "    info = sims.predefined[sim_name]\n",
    "    file_path = ProjPaths.man_sim_dir(info).base_dir / 'stats' / file_name\n",
    "    return Json.load_file(file_path)\n",
    "prop_rels = {\n",
    "    'lgal': load_prop_rel('tng_dark', 'z_half-Sigma_star.json'),\n",
    "    'tng': load_prop_rel('tng', 'z_half-Sigma_star.json')\n",
    "}"
   ]
  },
  {
   "cell_type": "code",
   "execution_count": null,
   "metadata": {},
   "outputs": [],
   "source": [
    "def cvt_bias_curve(bias_curve: np.ndarray):\n",
    "    x, y, el, eh = bias_curve.T\n",
    "    return pd.DataFrame({\n",
    "        'Sigma': x, \n",
    "        'bias': y,\n",
    "        'err_lo': el, 'err_up': eh\n",
    "    })\n",
    "    \n",
    "d_plts = {\n",
    "    'panel_a': {\n",
    "        'rho1p00_fine_bin': cvt_bias_curve(wps['z_f_rho1.00/fine_bin']),\n",
    "    } | {\n",
    "        k.replace('.', 'p'): cvt_bias_curve(wps[f'z_f_{k}/obs_bin']) for k in [\n",
    "            'rho1.00', 'rho0.90', 'rho0.85', 'rho0.80', 'rho0.50']\n",
    "    } | {\n",
    "        k: cvt_bias_curve(wps[k]) for k in ['obs', 'tng', 'lgal']\n",
    "    },\n",
    "    'panel_b': {}\n",
    "}\n",
    "y, x = wps[f'z_f_rho0.85/data']['z_half', 'S']\n",
    "yp = np.linspace(0., 4.5, 128)\n",
    "xp, el, eh = stats.KernelRegression1D.by_local_kernel(y, x, yp, reduce='errorbar', max_dx=.25)['y'][0].T\n",
    "d_plts['panel_b']['rho0p85'] = pd.DataFrame({\n",
    "    'Sigma': xp, 'z_f': yp, 'xerr_lo': el, 'xerr_up': eh})\n",
    "\n",
    "y, x = wps[f'z_f_rho1.00/data']['z_half', 'S']\n",
    "xp = interp1d(y, x, kind='linear')(yp)   \n",
    "d_plts['panel_b']['rho1p00'] = pd.DataFrame({\n",
    "    'Sigma': xp, 'z_f': yp\n",
    "})\n",
    "d_plts['panel_b']['rho1p00_sample'] = pd.DataFrame({\n",
    "    'Sigma': x, 'z_f': y\n",
    "})\n",
    "\n",
    "for i_k, key in enumerate(['tng', 'lgal']):\n",
    "    y, x, (el, eh) = prop_rels[key]['z_half', 'Sigma_star', 'Sigma_star_err']\n",
    "    x, y, el, eh = x[::4], y[::4], el[::4], eh[::4]\n",
    "    d_plts['panel_b'][key] = pd.DataFrame({\n",
    "        'Sigma': x, 'z_f': y, 'xerr_lo': el, 'xerr_up': eh\n",
    "    })"
   ]
  },
  {
   "cell_type": "code",
   "execution_count": null,
   "metadata": {},
   "outputs": [],
   "source": [
    "#Excel.load_file(ProjPaths.proj_dir/'data_for_publication/Fig3.xlsx')\n",
    "#\n",
    "#for sig in 0.3, 0.4, 0.5:\n",
    "#    prop_key = f'Sigma_star_SIDM_lm10p5_to_11_sigma{sig:.2f}'\n",
    "#    d_in = Json.load_file(ProjPaths.sim_dir_of(sim_info) / f'wp/am/{prop_key}.hdf5')\n",
    "#    wp = take_wps_rels(d_in['obs_bin'])\n",
    "#    d_plts[f'test_sigma{sig:.2f}'] = cvt_bias_curve(wp)"
   ]
  },
  {
   "cell_type": "code",
   "execution_count": null,
   "metadata": {},
   "outputs": [],
   "source": [
    "#Excel.load_file(ProjPaths.proj_dir/'data_for_publication/Fig3.xlsx')\n",
    "\n",
    "def get_r1_pred(sigma = 0.30, M_s_in_sol = 10**8.8, \n",
    "                A_r_scale = 1., A_r_fixed = None, suf=''):\n",
    "    \n",
    "    u_l = sman.sim_info.cosmology.unit_system.u_l_to_pc * 1.0e-3\n",
    "    r_key = f'SIDM_r1{suf}_sigma{sigma:.2f}'\n",
    "    r1 = sman.s_dwarf[r_key] * u_l                                # kpc\n",
    "    z_f = sman.s_dwarf['z_half']\n",
    "    \n",
    "    if A_r_fixed is None:\n",
    "        r50_ref = obs_catalogs.tot_dwarfs.s_massive['r_50']           # kpc\n",
    "        A_r = np.median(r50_ref) / np.median(r1) * A_r_scale\n",
    "        print(f'A_r scaled as {A_r}')\n",
    "    else:\n",
    "        A_r = A_r_fixed\n",
    "        print(f'A_r fixed as {A_r}')\n",
    "    r50 = r1 * A_r\n",
    "    Sigma = M_s_in_sol / (2. * np.pi * (r50*1.0e3) **2)\n",
    "    S_outs = []\n",
    "    for i, p in enumerate(zip(ps_obs[:-1], ps_obs[1:])):\n",
    "        ql, qh = np.quantile(Sigma, p)\n",
    "        sel = (Sigma >= ql) & (Sigma < qh)\n",
    "        S_out = np.median(Sigma[sel])\n",
    "        S_outs.append(S_out)\n",
    "    S_outs = np.array(S_outs)\n",
    "        \n",
    "    d_in = Json.load_file(ProjPaths.sim_dir_of(sim_info) / f'wp/am/{r_key}.hdf5')['obs_inv_bin']\n",
    "    _, y, el, eh = take_wps_rels(d_in, d_in['0'])[::-1].T\n",
    "    \n",
    "    bias_curve = pd.DataFrame({\n",
    "        'Sigma': S_outs, 'bias': y, 'err_lo': el, 'err_up': eh\n",
    "    })\n",
    "    \n",
    "    y, x = z_f, Sigma\n",
    "    yp = np.linspace(0., 4.5, 128)\n",
    "    xp, el, eh = stats.KernelRegression1D.by_local_kernel(y, x, yp, reduce='errorbar', max_dx=.25)['y'][0].T\n",
    "    zfsig_rel = pd.DataFrame({\n",
    "        'Sigma': xp, 'z_f': yp, 'xerr_lo': el, 'xerr_up': eh})\n",
    "    \n",
    "    return bias_curve, zfsig_rel, A_r\n",
    "\n",
    "d_plts |= {'panel_c': {}, 'panel_d': {}}\n",
    "A_rs, sigmas = [], []\n",
    "for sig_val, sig_key, A_r_scale, A_r_fixed in [\n",
    "    (0.10, '0p1', 1.05, 2.2595430708452,), \n",
    "    (0.30, '0p3', 1.1,  1.1550470595722,), \n",
    "    (1.00, '1p0', 1.05, 0.5739794429262,)\n",
    "]:\n",
    "    c, d, A_r = get_r1_pred(sig_val, A_r_scale=A_r_scale, \n",
    "                            A_r_fixed=A_r_fixed, suf='_iterFixAr')\n",
    "    d_plts['panel_c'][f'sigma_m_{sig_key}'] = c\n",
    "    d_plts['panel_d'][f'sigma_m_{sig_key}'] = d\n",
    "    A_rs.append(A_r)\n",
    "    sigmas.append(sig_val)\n",
    "    \n",
    "d_plts['panel_c_inset'] = pd.DataFrame({\n",
    "    'sigma': sigmas, 'A_r': A_rs\n",
    "})"
   ]
  },
  {
   "cell_type": "code",
   "execution_count": null,
   "metadata": {},
   "outputs": [],
   "source": [
    "Excel.dump_file(ProjPaths.proj_dir/'data_for_publication/Fig3.xlsx', d_plts)"
   ]
  },
  {
   "cell_type": "markdown",
   "metadata": {},
   "source": [
    "### Abundance modeling \n",
    "\n",
    "For Sigma_* and c, and SIDM. \n",
    "\n",
    "In z = 0.01 - 0.03 (0.04), no of dwarfs is about 27000 (68000)"
   ]
  },
  {
   "cell_type": "code",
   "execution_count": null,
   "metadata": {},
   "outputs": [],
   "source": [
    "sim_info = sims.predefined['elucid_ext_v2']\n",
    "p_data = ProjPaths.sim_dir_of(sim_info) / 'z0_all.hdf5'\n",
    "samp = sample.SimSample.load(sim_info, p_data)\n",
    "samp.objs['hid'] = np.arange(samp.n_objs, dtype=np.int64)"
   ]
  },
  {
   "cell_type": "code",
   "execution_count": null,
   "metadata": {},
   "outputs": [],
   "source": [
    "u_m = sim_info.cosmology.unit_system.u_m_to_sol\n",
    "# m_lb, m_ub = 10**10.7 / u_m, 10**10.9 / u_m\n",
    "m_lb, m_ub = 10**10.5 / u_m, 10**11.0 / u_m\n",
    "\n",
    "z_lb, z_ub = 0.01, 0.04\n",
    "# z_lb, z_ub = 0.01, 0.03\n",
    "#z_lb, z_ub = 0.04, 0.06\n",
    "#z_lb, z_ub = 0.06, 0.07\n",
    "#z_lb, z_ub = 0.01, 0.06\n",
    "\n",
    "s_h = samp.subset_by_value('is_c', eq=True)\\\n",
    "    .subset_by_value('m_mean200', lo=m_lb, hi=m_ub)\\\n",
    "    .subset_by_value('last_sat_z', lo=15.)\\\n",
    "    .subset_by_value('is_recon_large', eq=True)\\\n",
    "    .subset_by_value('z', lo=z_lb, hi=z_ub)\n",
    "s_h.objs['r_mean200'] = sim_info.cosmology.halo_theory.vir_props_mean(s_h['m_mean200']).r\n",
    "s_h.objs['c_mean200'] = s_h['c_mean200_AM_lm10p5_to_11'].copy()\n",
    "s_h"
   ]
  },
  {
   "cell_type": "markdown",
   "metadata": {},
   "source": [
    "#### Effects of baryon on SIDM"
   ]
  },
  {
   "cell_type": "code",
   "execution_count": null,
   "metadata": {},
   "outputs": [],
   "source": [
    "# n_objs = s_h.n_objs\n",
    "# ids = Rng(0).choice(n_objs, 4096)\n",
    "# s_h_sel = s_h.subset(ids)\n",
    "\n",
    "s_h_sel = s_h"
   ]
  },
  {
   "cell_type": "code",
   "execution_count": null,
   "metadata": {},
   "outputs": [],
   "source": [
    "sigma = .3\n",
    "S_key = 'Sigma_star_AM_lm10p5_to_11_rho0.85'\n",
    "kw = dict(samp=s_h_sel, S_key=S_key, sigma_in_cm2perg=sigma)\n",
    "sidm_drs = {\n",
    "    'default': SIDMDriver(**kw),\n",
    "    'no_b': SIDMDriver(**kw, ada_model=None, sidm_with_b=False),\n",
    "    'ada': SIDMDriver(**kw, sidm_with_b=False),\n",
    "    'sidm_b': SIDMDriver(**kw, ada_model=None),\n",
    "}"
   ]
  },
  {
   "cell_type": "code",
   "execution_count": null,
   "metadata": {},
   "outputs": [],
   "source": [
    "for v in sidm_drs.values():\n",
    "    v.require_r1()"
   ]
  },
  {
   "cell_type": "code",
   "execution_count": null,
   "metadata": {},
   "outputs": [],
   "source": [
    "def stats_zf_rc(sidm_dr: SIDMDriver):\n",
    "    zf = s_h_sel.objs['z_half']\n",
    "    r1 = sidm_dr.data['r1'] * sidm_dr.u_l * 1.0e-3  # in [pc]\n",
    "    lr1 = Num.safe_lg(r1)\n",
    "    rg = np.quantile(lr1, [0.005, 0.995])\n",
    "    lr1_p = np.linspace(*rg, 64)\n",
    "    dx = (rg[1] - rg[0]) / 24\n",
    "    zf_p, el, eh = stats.KernelRegression1D.by_local_kernel(lr1, zf, lr1_p, \n",
    "                              reduce='errorbar', max_dx=dx)['y'][0].T\n",
    "    h, e = np.histogram(lr1, range= (-1., 1.5), bins=32, density=True)\n",
    "    c = .5 * (e[:-1] + e[1:])\n",
    "    return DataDict({\n",
    "        'lr1': lr1_p, 'zf': zf_p, 'zf_err': (el, eh),\n",
    "        'hist': DataDict({'h': h, 'e': e, 'c': c}),\n",
    "    })"
   ]
  },
  {
   "cell_type": "code",
   "execution_count": null,
   "metadata": {},
   "outputs": [],
   "source": [
    "d_plt = {\n",
    "    k: stats_zf_rc(v) for k, v in sidm_drs.items()\n",
    "}"
   ]
  },
  {
   "cell_type": "code",
   "execution_count": null,
   "metadata": {},
   "outputs": [],
   "source": [
    "fig, axs = plot.subplots((2,1), share=(True, False), \n",
    "                         space=0.02, subsize=(5.75, 3.75), \n",
    "                         margin=[0.02, 0.02, 0.075, 0.12], layout='none')\n",
    "axs_f = axs.flat\n",
    "cs = cs_dark2[0], cs_dark2[4], cs_dark2[2], 'k'\n",
    "labs = r'$\\rm Baryon\\ effects\\ disabled$', r'$\\rm +Adiabatic\\ contraction$', \\\n",
    "    r'$\\rm +Poisson$-$\\rm Jeans$', r'$\\rm +Both\\ (main\\ texts)$'\n",
    "for i_k, k in enumerate(['no_b', 'ada', 'sidm_b', 'default']):\n",
    "    d = d_plt[k]\n",
    "    axs.c(cs[i_k])\n",
    "    \n",
    "    ax = axs_f[0]\n",
    "    h, e, c = d['hist']['h', 'e', 'c']\n",
    "    ax.plot(c, h, lw=2.5, label=labs[i_k])\n",
    "    \n",
    "    ax = axs_f[1]\n",
    "    x, y, ye = d['lr1', 'zf', 'zf_err']\n",
    "    ax.errorfill(x, y, yerr=ye, lw=2.5, label=k, \n",
    "                 fill_between_kw={'lw': .5})\n",
    "\n",
    "ax = axs_f[0]    \n",
    "r_e = obs_catalogs.tot_dwarfs.s_massive['r_50']\n",
    "lr_e = Num.safe_lg(r_e)\n",
    "h, e = np.histogram(lr_e, range=(-0.75, 1.), bins=32, density=True)\n",
    "c = .5 * (e[:-1] + e[1:])\n",
    "ax.plot(c, h, lw=3, c=cs_dark2[1], label=r'$\\rm Dwarfs\\,(R_{50})$')\n",
    "\n",
    "axs_f[0].lim([-0.99, 0.75], [0., 3.5]).label(y=r'{\\rm PDF}')\\\n",
    "    .leg(loc='ul', fontsize=13, labelspacing=0)\n",
    "axs_f[1].lim(y=[-0.1, 3.25]).label(r'\\log\\,r_{\\rm c}\\,[{\\rm kpc}]', r'z_{\\rm f}')\n",
    "axs.label_outer()\n",
    "\n",
    "ProjPaths.save_fig('fig_sidm_baryon_effects.pdf')"
   ]
  },
  {
   "cell_type": "markdown",
   "metadata": {},
   "source": [
    "#### r1 x rho0 in the c-zf plane\n",
    "\n",
    "Asked by Yu Rong 2025-03. \n",
    "\n",
    "$r_{\\rm core} \\times \\rho_0$ seems to be an invariant in MOND."
   ]
  },
  {
   "cell_type": "code",
   "execution_count": null,
   "metadata": {},
   "outputs": [],
   "source": [
    "class SIDMMap:\n",
    "    def __init__(self, s_h_ref: sample.SimSample, n_grid=32, sidm_sigma=0.3):\n",
    "        info = s_h_ref.sim_info\n",
    "        us = info.cosmology.unit_system\n",
    "        u_l = us.u_l_to_pc\n",
    "        u_m = us.u_m_to_sol\n",
    "\n",
    "        z_fs = np.linspace(0., 4., n_grid)\n",
    "        cs = np.linspace(2.5, 40., n_grid-2)\n",
    "\n",
    "        z_fs_m, cs_m = np.meshgrid(z_fs, cs, indexing='ij')\n",
    "        z_fs_f, cs_f = z_fs_m.ravel(), cs_m.ravel()\n",
    "\n",
    "        m_mean200 = 10**10.77 / u_m\n",
    "        M_s_in_sol = 10**8.8\n",
    "        r_mean200 = info.cosmology.halo_theory.vir_props_mean(m_mean200).r\n",
    "        m_mean200 = np.full_like(z_fs_f, m_mean200)\n",
    "        r_mean200 = np.full_like(z_fs_f, r_mean200)\n",
    "\n",
    "        z_f0, Sigma0 = s_h_ref.objs['z_half',\n",
    "                                    'Sigma_star_AM_lm10p5_to_11_rho0.85']\n",
    "        Sigmas_f = stats.KernelRegression1D.by_knn(\n",
    "            z_f0, Sigma0, z_fs_f, k=64)['y'][0]\n",
    "        # Sigmas_f[...] = 1.0e-8\n",
    "        s_h = sample.SimSample.from_data(DataTable({\n",
    "            'm_mean200': m_mean200, 'r_mean200': r_mean200,\n",
    "            'c_mean200': cs_f, 'z_half': z_fs_f,\n",
    "            'S': Sigmas_f,\n",
    "        }), sim_info=info, header=DataDict())\n",
    "        driver = SIDMDriver(s_h, M_s_in_sol, S_key='S', sigma_in_cm2perg=sidm_sigma)\n",
    "        driver.require_rho0()\n",
    "\n",
    "        r1s, rho0s = driver.data['r1', 'rho0']\n",
    "        r1s: np.ndarray = r1s * u_l * 1.0e-3\n",
    "        rho0s = rho0s * (u_m / u_l**3) * 1.0e9\n",
    "        r1s = r1s.reshape(z_fs_m.shape)\n",
    "        rho0s = rho0s.reshape(z_fs_m.shape)\n",
    "\n",
    "        self.driver = driver\n",
    "        self.s_h = s_h\n",
    "        self.z_fs = z_fs\n",
    "        self.cs = cs\n",
    "        self.r1s = r1s\n",
    "        self.rho0s = rho0s"
   ]
  },
  {
   "cell_type": "code",
   "execution_count": null,
   "metadata": {},
   "outputs": [],
   "source": [
    "s_h_sel = s_h\n",
    "sidm_map = SIDMMap(s_h_sel, sidm_sigma=1.)"
   ]
  },
  {
   "cell_type": "code",
   "execution_count": null,
   "metadata": {},
   "outputs": [],
   "source": [
    "rg = [0., 4.], [2.5, 39.]\n",
    "\n",
    "ps = np.linspace(0.2, 1., 5)\n",
    "ps[-1] = 0.99\n",
    "ps = ps[::-1]\n",
    "\n",
    "fig, axs = plot.subplots((2,2), \n",
    "    share=False, space=0.25, subsize=(5.5, 4.5), margin=[0.1, 0.1, 0.1, 0.1], layout='none')\n",
    "axs_f = axs.flat\n",
    "\n",
    "sig = 1.\n",
    "cmap = 'gnuplot2'\n",
    "cb_labs = r'$r_{\\rm c}\\,[{\\rm kpc}]$'\n",
    "\n",
    "m = sidm_map\n",
    "z_fs, cs, r1s, rho0s = m.z_fs, m.cs, m.r1s, m.rho0s\n",
    "lrho0s = Num.safe_lg(rho0s)\n",
    "inds = .5, .75, 1., 1.5\n",
    "for i_y, ind in enumerate(inds):\n",
    "    ax = axs_f[i_y]\n",
    "    y = Num.safe_lg(r1s * rho0s**ind) \n",
    "    #for i_y, y in enumerate([r1s, lrho0s]):\n",
    "    cb = ax._raw.contourf(z_fs, cs, y.T, levels=32,\n",
    "                            cmap=cmap, zorder=1)\n",
    "    fig.colorbar(cb, ax=ax, location='right', aspect=30,\n",
    "                fraction=0.1, pad=0.02, label=r'$\\log\\,r_{\\rm c}\\times \\rho_0^{%.2f}$'%ind)\n",
    "\n",
    "z_f, c = s_h_sel.objs['z_half', 'c_mean200']\n",
    "for i_ax, ax in enumerate(axs_f):\n",
    "    s2d = ax.scatter_2d(z_f, c, range=rg, n_bins=32)\n",
    "    s2d.contour(ps, zorder=4, colors='k', ls='-', lw=1.5)\n",
    "    ax.label(r'z_{\\rm f}', r'c')\n",
    "\n",
    "lab = r'\\sigma_{\\rm m} = %.1f\\,{\\rm cm^2/g}'%(sig)\n",
    "ax.text(lab, (.92, .08), ha='right', color='w')\n",
    "\n",
    "# ProjPaths.save_fig('???.pdf')"
   ]
  },
  {
   "cell_type": "markdown",
   "metadata": {},
   "source": [
    "#### r1 and rho0 in the c-zf plane"
   ]
  },
  {
   "cell_type": "code",
   "execution_count": null,
   "metadata": {},
   "outputs": [],
   "source": [
    "class SIDMMap:\n",
    "    def __init__(self, s_h_ref: sample.SimSample, n_grid=32, sidm_sigma=0.3):\n",
    "        info = s_h_ref.sim_info\n",
    "        us = info.cosmology.unit_system\n",
    "        u_l = us.u_l_to_pc\n",
    "        u_m = us.u_m_to_sol\n",
    "\n",
    "        z_fs = np.linspace(0., 4., n_grid)\n",
    "        cs = np.linspace(2.5, 40., n_grid-2)\n",
    "\n",
    "        z_fs_m, cs_m = np.meshgrid(z_fs, cs, indexing='ij')\n",
    "        z_fs_f, cs_f = z_fs_m.ravel(), cs_m.ravel()\n",
    "\n",
    "        m_mean200 = 10**10.77 / u_m\n",
    "        M_s_in_sol = 10**8.8\n",
    "        r_mean200 = info.cosmology.halo_theory.vir_props_mean(m_mean200).r\n",
    "        m_mean200 = np.full_like(z_fs_f, m_mean200)\n",
    "        r_mean200 = np.full_like(z_fs_f, r_mean200)\n",
    "\n",
    "        z_f0, Sigma0 = s_h_ref.objs['z_half',\n",
    "                                    'Sigma_star_AM_lm10p5_to_11_rho0.85']\n",
    "        Sigmas_f = stats.KernelRegression1D.by_knn(\n",
    "            z_f0, Sigma0, z_fs_f, k=64)['y'][0]\n",
    "        # Sigmas_f[...] = 1.0e-8\n",
    "        s_h = sample.SimSample.from_data(DataTable({\n",
    "            'm_mean200': m_mean200, 'r_mean200': r_mean200,\n",
    "            'c_mean200': cs_f, 'z_half': z_fs_f,\n",
    "            'S': Sigmas_f,\n",
    "        }), sim_info=info, header=DataDict())\n",
    "        driver = SIDMDriver(s_h, M_s_in_sol, S_key='S', sigma_in_cm2perg=sidm_sigma)\n",
    "        driver.require_rho0()\n",
    "\n",
    "        r1s, rho0s = driver.data['r1', 'rho0']\n",
    "        r1s: np.ndarray = r1s * u_l * 1.0e-3\n",
    "        rho0s = rho0s * (u_m / u_l**3) * 1.0e9\n",
    "        r1s = r1s.reshape(z_fs_m.shape)\n",
    "        rho0s = rho0s.reshape(z_fs_m.shape)\n",
    "\n",
    "        self.driver = driver\n",
    "        self.s_h = s_h\n",
    "        self.z_fs = z_fs\n",
    "        self.cs = cs\n",
    "        self.r1s = r1s\n",
    "        self.rho0s = rho0s"
   ]
  },
  {
   "cell_type": "code",
   "execution_count": null,
   "metadata": {},
   "outputs": [],
   "source": [
    "sidm_maps = [SIDMMap(s_h_sel, sidm_sigma=s) for s in [0.1, 0.3, 1.]] "
   ]
  },
  {
   "cell_type": "code",
   "execution_count": null,
   "metadata": {},
   "outputs": [],
   "source": [
    "rg = [0., 4.], [2.5, 39.]\n",
    "\n",
    "ps = np.linspace(0.2, 1., 5)\n",
    "ps[-1] = 0.99\n",
    "ps = ps[::-1]"
   ]
  },
  {
   "cell_type": "code",
   "execution_count": null,
   "metadata": {},
   "outputs": [],
   "source": [
    "fig, axs = plot.subplots((2, 3), share=False, space=(0.15, .02), subsize=(5.25, 3.8),\n",
    "                         margin=[0.02, 0.02, 0.075, 0.035], layout='none')\n",
    "axs_f = axs.flat\n",
    "sigs = 0.1, 0.3, 1.0\n",
    "cmaps = ['gnuplot2', 'gnuplot2_r']\n",
    "cb_labs = r'$r_{\\rm c}\\,[{\\rm kpc}]$', r'$\\log\\,\\rho_0\\,[{\\rm M}_\\odot\\,{\\rm kpc}^{-3}]$'\n",
    "\n",
    "for i_map, m in enumerate(sidm_maps):\n",
    "    z_fs, cs, r1s, rho0s = m.z_fs, m.cs, m.r1s, m.rho0s\n",
    "    lrho0s = Num.safe_lg(rho0s)\n",
    "    for i_y, y in enumerate([r1s, lrho0s]):\n",
    "        ax = axs[i_y, i_map]\n",
    "        cb = ax._raw.contourf(z_fs, cs, y.T, levels=24,\n",
    "                              cmap=cmaps[i_y],\n",
    "                              zorder=1)\n",
    "        lab = cb_labs[i_y] if i_map == 2 else None\n",
    "        fig.colorbar(cb, ax=ax, location='right', \n",
    "                     fraction=0.2, pad=0.02, label=lab)\n",
    "    \n",
    "    lab = r'\\sigma_{\\rm m} = %.1f\\,{\\rm cm^2/g}'%(sigs[i_map])\n",
    "    axs[0, i_map].text(lab, (.92, .08), ha='right', color='w')\n",
    "\n",
    "z_f, c = s_h_sel.objs['z_half', 'c_mean200']\n",
    "cs = ('k',)*3 + ('k',)*3\n",
    "for i_ax, ax in enumerate(axs_f):\n",
    "    s2d = ax.scatter_2d(z_f, c, range=rg, n_bins=32)\n",
    "    s2d.contour(ps, zorder=4, colors=cs[i_ax], ls='-', lw=1.5)\n",
    "\n",
    "axs.label(r'z_{\\rm f}', r'c').label_outer()\n",
    "for ax in axs[0]:\n",
    "    ax._raw.set_xticklabels([])\n",
    "\n",
    "ProjPaths.save_fig('fig_sidm_on_c_zf_plane.pdf')"
   ]
  },
  {
   "cell_type": "code",
   "execution_count": null,
   "metadata": {},
   "outputs": [],
   "source": []
  },
  {
   "cell_type": "markdown",
   "metadata": {},
   "source": [
    "#### Find r1, rho0"
   ]
  },
  {
   "cell_type": "code",
   "execution_count": null,
   "metadata": {},
   "outputs": [],
   "source": [
    "%autoreload"
   ]
  },
  {
   "cell_type": "markdown",
   "metadata": {},
   "source": [
    "Run "
   ]
  },
  {
   "cell_type": "code",
   "execution_count": null,
   "metadata": {},
   "outputs": [],
   "source": [
    "for i, sig in enumerate((0.1, 0.25, 0.3, 0.4, 0.5, 1.)):\n",
    "    sidm = SIDMDriver(\n",
    "        s_h, S_key='Sigma_star_AM_lm10p5_to_11_rho0.85', sigma_in_cm2perg=sig)\n",
    "    sidm.require_rho0()\n",
    "    r1_all = fill_by_hids(samp.n_objs, s_h['hid'], sidm.data['r1'])\n",
    "    rho0_all = fill_by_hids(samp.n_objs, s_h['hid'], sidm.data['rho0'])\n",
    "\n",
    "    h5.File.dump_to(p_data, {\n",
    "        f'SIDM_r1_sigma{sig:.2f}': r1_all,\n",
    "        f'SIDM_rho0_sigma{sig:.2f}': rho0_all,\n",
    "    }, f'objs', dump_flag='ac', g_flag='ac')"
   ]
  },
  {
   "cell_type": "code",
   "execution_count": null,
   "metadata": {},
   "outputs": [],
   "source": [
    "for i, sig in enumerate((3.,4.,5.,10.)):\n",
    "    sidm = SIDMDriver(\n",
    "        s_h, S_key='Sigma_star_AM_lm10p5_to_11_rho0.85', sigma_in_cm2perg=sig)\n",
    "    sidm.require_rho0()\n",
    "    rh4 = fill_by_hids(samp.n_objs, s_h['hid'], sidm.data['rh4'])\n",
    "    rhalf = fill_by_hids(samp.n_objs, s_h['hid'], sidm.data['rhalf'])\n",
    "\n",
    "    h5.File.dump_to(p_data, {\n",
    "        f'SIDM_rh4_sigma{sig:.2f}': rh4,\n",
    "        f'SIDM_rhalf_sigma{sig:.2f}': rhalf,\n",
    "    }, f'objs', dump_flag='ac', g_flag='ac')"
   ]
  },
  {
   "cell_type": "markdown",
   "metadata": {},
   "source": [
    "Iterative run"
   ]
  },
  {
   "cell_type": "code",
   "execution_count": null,
   "metadata": {},
   "outputs": [],
   "source": [
    "def itered_r1(sig: float, A_r: float, rho = 1., max_n_iters=5, suf='iter'):\n",
    "    # take AM R_eff as initial guess\n",
    "    dr = SIDMDriver(s_h, S_key=f'Sigma_star_AM_lm10p5_to_11_rho{rho:.2f}', \n",
    "                    sigma_in_cm2perg=sig)\n",
    "    s_h.objs['R_eff_iter_0'] = dr.data['R_eff']\n",
    "    \n",
    "    for i in range(max_n_iters):\n",
    "        dr = SIDMDriver(s_h, S_key=None, R_eff_key=f'R_eff_iter_{i}',\n",
    "                        sigma_in_cm2perg=sig)\n",
    "        dr.require_r1()\n",
    "        s_h.objs[f'R_eff_iter_{i+1}'] = dr.data['r1'] * A_r\n",
    "        \n",
    "    r1 = dr.data['r1']\n",
    "    r1_all = fill_by_hids(samp.n_objs, s_h['hid'], r1)\n",
    "    h5.File.dump_to(p_data, {\n",
    "        f'SIDM_r1{suf}_sigma{sig:.2f}': r1_all,\n",
    "    }, f'objs', dump_flag='ac', g_flag='ac')\n",
    "    \n",
    "itered_r1(sig=.1, A_r = 2.2595430708452, suf='_iterFixAr')\n",
    "itered_r1(sig=.3, A_r = 1.15504705957222, suf='_iterFixAr')\n",
    "itered_r1(sig=1., A_r = 0.573979442926262, suf='_iterFixAr')"
   ]
  },
  {
   "cell_type": "code",
   "execution_count": null,
   "metadata": {},
   "outputs": [],
   "source": [
    "u_l = sim_info.cosmology.unit_system.u_l_to_pc * 1.0e-3"
   ]
  },
  {
   "cell_type": "code",
   "execution_count": null,
   "metadata": {},
   "outputs": [],
   "source": [
    "sig = .1 #.4 #.5  #.3\n",
    "rho = 1.\n",
    "dr = SIDMDriver(s_h, S_key=f'Sigma_star_AM_lm10p5_to_11_rho{rho:.2f}', \n",
    "                sigma_in_cm2perg=sig)\n",
    "s_h.objs['R_eff_iter_0'] = dr.data['R_eff']"
   ]
  },
  {
   "cell_type": "code",
   "execution_count": null,
   "metadata": {},
   "outputs": [],
   "source": [
    "dr = SIDMDriver(s_h, S_key=f'Sigma_star_AM_lm10p5_to_11_rho0.85', \n",
    "                sigma_in_cm2perg=sig)\n",
    "s_h.objs['R_eff_rho0.85'] = dr.data['R_eff']"
   ]
  },
  {
   "cell_type": "code",
   "execution_count": null,
   "metadata": {},
   "outputs": [],
   "source": [
    "for i in range(5):\n",
    "    dr = SIDMDriver(s_h, S_key=None, R_eff_key=f'R_eff_iter_{i}',\n",
    "                    sigma_in_cm2perg=sig)\n",
    "    dr.require_r1()\n",
    "    s_h.objs[f'R_eff_iter_{i+1}'] = dr.data['r1']"
   ]
  },
  {
   "cell_type": "code",
   "execution_count": null,
   "metadata": {},
   "outputs": [],
   "source": [
    "dr = SIDMDriver(s_h, S_key=None, R_eff_key=f'R_eff_iter_4',\n",
    "                sigma_in_cm2perg=sig)\n",
    "\n",
    "S_all = fill_by_hids(samp.n_objs, s_h['hid'], dr.data['S'])\n",
    "h5.File.dump_to(p_data, {\n",
    "    f'Sigma_star_SIDM_lm10p5_to_11_sigma{sig:.2f}': S_all,\n",
    "}, f'objs', dump_flag='ac', g_flag='ac')"
   ]
  },
  {
   "cell_type": "code",
   "execution_count": null,
   "metadata": {},
   "outputs": [],
   "source": [
    "fig, axs = plot.subplots((1,2), share=False, space=0.1, subsize=(4.5, 4.5), \n",
    "                         margin=[0.1, 0.1, 0.1, 0.1], layout='none')\n",
    "axs_f = axs.flat\n",
    "\n",
    "AM_keys = 'iter_0', 'rho0.85'\n",
    "SIDM_key = 'iter_4'\n",
    "for i, AM_key in enumerate(AM_keys):\n",
    "    ax = axs_f[i]\n",
    "    r_AM, r_SIDM = s_h[f'R_eff_{AM_key}']*u_l, s_h[f'R_eff_{SIDM_key}']*u_l\n",
    "    ax.fmt_marker(elw=0, s=3).scatter(r_AM, r_SIDM, rasterized=True)\n",
    "    ax.scale('log', 'log').lim([.1, 10.], [.1, 9.])\n",
    "    ax.plot([1.0e-2, 1.0e2], [1.0e-2, 1.0e2], c='grey', lw=1.5, ls='--')\n",
    "    ax.label(y=r'R_{50}^{({\\rm SIDM})}')\n",
    "\n",
    "axs_f[0].label(r'R_{50}^{({\\rm AM},\\rho=1)}\\,[{\\rm kpc}]')\n",
    "axs_f[1].label(r'R_{50}^{({\\rm AM},\\rho=0.85)}\\,[{\\rm kpc}]')\n",
    "axs.label_outer()"
   ]
  },
  {
   "cell_type": "code",
   "execution_count": null,
   "metadata": {},
   "outputs": [],
   "source": [
    "fig, axs = plot.subplots((2,2), share=False, space=0.3, subsize=(4.5, 4.5), \n",
    "                         margin=[0.1, 0.1, 0.1, 0.1], layout='none')\n",
    "axs_f = axs.flat\n",
    "\n",
    "for i in range(4):\n",
    "    ax = axs_f[i]\n",
    "    r0, r1 = s_h[f'R_eff_iter_{i}']*u_l, s_h[f'R_eff_iter_{i+1}']*u_l\n",
    "    ax.fmt_marker(elw=0, s=3).scatter(r0, r1, rasterized=True)\n",
    "    ax.label(r'R_{50}^{(%s)}\\,[{\\rm kpc}]'%(i), \n",
    "             r'R_{50}^{(%s)}\\,[{\\rm kpc}]'%(i+1))\n",
    "    ax.scale('log', 'log').lim([.1, 10.], [.1, 9.])\n",
    "    ax.plot([1.0e-2, 1.0e2], [1.0e-2, 1.0e2], c='grey', lw=1.5, ls='--')"
   ]
  },
  {
   "cell_type": "markdown",
   "metadata": {},
   "source": [
    "Check impl"
   ]
  },
  {
   "cell_type": "code",
   "execution_count": null,
   "metadata": {},
   "outputs": [],
   "source": [
    "args = np.arange(0, s_h['hid'].size, s_h.n_objs // 10) \n",
    "s_h_test = s_h.subset(args)"
   ]
  },
  {
   "cell_type": "code",
   "execution_count": null,
   "metadata": {},
   "outputs": [],
   "source": [
    "driver = SIDMDriver(s_h_test, S_key='Sigma_star_AM_lm10p5_to_11_rho0.85',\n",
    "                  sigma_in_cm2perg=3., keep_halo=True)\n",
    "driver.require_rho0()"
   ]
  },
  {
   "cell_type": "code",
   "execution_count": null,
   "metadata": {},
   "outputs": [],
   "source": [
    "driver.data.keys()"
   ]
  },
  {
   "cell_type": "code",
   "execution_count": null,
   "metadata": {},
   "outputs": [],
   "source": [
    "fig, ax = plot.subplots(1, figsize=4.5, margin=[0.1, 0.1, 0.1, 0.1], layout='none')\n",
    "\n",
    "hid = 9\n",
    "for k, v in driver.data.items():\n",
    "    if isinstance(v, np.ndarray):\n",
    "        print(k, v[hid])\n",
    "h = driver.data['sidm_halos'][hid]\n",
    "rh4, rc, rh = driver.data['rh4'][hid], driver.data['r1'][hid], driver.data['rhalf'][hid]\n",
    "\n",
    "h: sidm.models.StitchedHalo\n",
    "pf = h.profile._impl\n",
    "x, y = pf._lr_cents, pf._rho_cents\n",
    "ax.plot(x, y, label=r'$\\rm SIDM$', c='grey')\n",
    "y0 = y[0]\n",
    "\n",
    "pf = h.halo.profile._impl\n",
    "x, y = pf._lr_cents, pf._rho_cents\n",
    "ax.plot(x, y, label=r'$\\rm CDM$')\n",
    "\n",
    "cs = cs_dark2\n",
    "labs = r'$r_{\\rho_0/2}$', r'$r_{\\rho_0/4}$', r'$r_1$'\n",
    "for i, r in enumerate([rh, rh4, rc]):\n",
    "    lr = np.log10(r)\n",
    "    ax.plot([lr,]*2, [1., 1.0e10], c=cs[i], label=labs[i])\n",
    "    \n",
    "ax.scale(y='log').lim([-5., -1.],[1.0e4, y0*100.]).leg()\\\n",
    "    .label(r'\\log\\,r\\,[h^{-1}{\\rm Mpc}]', \n",
    "           r'\\rho\\,[{\\rm intern.\\ U.}]')"
   ]
  },
  {
   "cell_type": "code",
   "execution_count": null,
   "metadata": {},
   "outputs": [],
   "source": [
    "args = np.arange(0, s_h['hid'].size, 30) \n",
    "s_h_test = s_h.subset(args)"
   ]
  },
  {
   "cell_type": "code",
   "execution_count": null,
   "metadata": {},
   "outputs": [],
   "source": [
    "sigmas = 1.,3.,5.,7.,9.,10.,20.\n",
    "rh4s = []\n",
    "for sigma in sigmas:\n",
    "    sidm = SIDMDriver(\n",
    "    s_h_test, S_key='Sigma_star_AM_lm10p5_to_11_rho0.85', sigma_in_cm2perg=sigma)\n",
    "    sidm.require_rho0()\n",
    "    rh4 = sidm.data['rh4']\n",
    "    rh4s.append(rh4)"
   ]
  },
  {
   "cell_type": "code",
   "execution_count": null,
   "metadata": {},
   "outputs": [],
   "source": [
    "d_obs = DataDict()\n",
    "\n",
    "x_lim = [-.425, 0.875]\n",
    "\n",
    "lr_e = np.log10(obs_catalogs.tot_dwarfs.s_massive['r_50'])\n",
    "lS = Num.safe_lg(obs_catalogs.tot_dwarfs.s_massive['Sigma_star']) \n",
    "\n",
    "h, e = np.histogram(lr_e, range=x_lim, bins=32, density=True)\n",
    "c = .5 * (e[:-1] + e[1:])\n",
    "d_obs['hist'] = DataDict({\n",
    "    'h': h, 'e': e, 'c': c\n",
    "})\n",
    "\n",
    "x_p = np.linspace(*np.quantile(lr_e, [0.001, 0.999]), 16)\n",
    "y_p, el, eh = stats.KernelRegression1D.by_local_kernel(lr_e, lS, x_p, reduce='errorbar', max_dx=.15)['y'][0].T\n",
    "d_obs['lr2lS'] = DataDict({\n",
    "    'x': x_p, 'y': y_p, 'err_lo': el, 'err_up': eh\n",
    "})"
   ]
  },
  {
   "cell_type": "code",
   "execution_count": null,
   "metadata": {},
   "outputs": [],
   "source": [
    "us = sim_info.cosmology.unit_system\n",
    "u_l = us.u_l_to_pc * 1.0e-3\n",
    "u_m = us.u_m_to_sol\n",
    "\n",
    "S, z_f = s_h_test['Sigma_star_AM_lm10p5_to_11_rho0.85', 'z_half']\n",
    "lS = Num.safe_lg(S)\n",
    "\n",
    "d_sidm = DataDict()\n",
    "for i, rh4 in enumerate(rh4s):\n",
    "    lr = Num.safe_lg(rh4 * u_l)\n",
    "    h, e = np.histogram(lr, bins=32, range=x_lim, density=True)\n",
    "    c = 0.5 * (e[:-1] + e[1:])\n",
    "    d_sidm[str(i)] = DataDict({\n",
    "      'hist': DataDict({'h': h, 'e': e, 'c': c})\n",
    "    })\n",
    "    \n",
    "    x_p = np.linspace(*np.quantile(lr, [0.001, 0.999]), 128)\n",
    "    dx = (x_p[-1] - x_p[0])/24\n",
    "    y_p, el, eh = stats.KernelRegression1D.by_local_kernel(\n",
    "        lr, lS, x_p, reduce='errorbar', max_dx=dx)['y'][0].T\n",
    "    d_sidm[str(i)]['lr2lS'] = DataDict({\n",
    "        'x': x_p, 'y': y_p, 'e': (el, eh),\n",
    "    }) "
   ]
  },
  {
   "cell_type": "code",
   "execution_count": null,
   "metadata": {},
   "outputs": [],
   "source": [
    "fig, axs = plot.subplots((1,2), share=False, space=0.3, \n",
    "                         subsize=(5.5, 4.5), margin=[0.1, 0.1, 0.1, 0.1], layout='none')\n",
    "axs_f = axs.flat\n",
    "\n",
    "ax = axs_f[0]\n",
    "x, y = d_obs['hist']['c', 'h']\n",
    "ax.plot(x, y, lw=2, c='k', zorder=21,\n",
    "        label=r'${\\rm Dwarfs},\\,R_{\\rm 50}$')\n",
    "\n",
    "for i, sigma in enumerate(sigmas):\n",
    "    d = d_sidm[str(i)]\n",
    "    x, y = d['hist']['c', 'h']\n",
    "    ax.plot(x, y, lw=2, c=cs_set1[i], label=r'$\\sigma_{\\rm m}=%.1f\\,{\\rm cm^2/g}$'%(sigma))\n",
    "\n",
    "ax = axs_f[1]\n",
    "x, y, el, eh = d_obs['lr2lS']['x', 'y', 'err_lo', 'err_up']\n",
    "ax.c('k').fmt_marker(fa=.3, elw=1)\\\n",
    "    .errorbar(x, y, yerr=(el, eh), marker='s', mew=1.5, ms=5.5, capsize=0, lw=1,\n",
    "              label=r'${\\rm Dwarfs}\\,(\\Sigma_*)$', zorder=21)\n",
    "    \n",
    "for i, sigma in enumerate(sigmas):\n",
    "    d = d_sidm[str(i)]\n",
    "    x, y, e = d['lr2lS']['x', 'y', 'e']\n",
    "    ax.plot(x, y, lw=2.5, c=cs_set1[i])\n",
    "    \n",
    "axs[0].lim(x_lim, [0., 5.85]).label(r'\\log\\,r_{\\rho_0/4}\\,({\\rm kpc})', r'\\rm PDF')\\\n",
    "    .leg(loc='ul', \n",
    "         #labelcolor='linecolor', \n",
    "         fontsize=13.5,\n",
    "         handlelength=1.75, labelspacing=0., ncol=1, columnspacing=0.5)\n",
    "axs[1].lim(\n",
    "    x_lim, [.415, 2.76]).label(\n",
    "    r'\\log\\,r_{\\rho_0/4}\\,({\\rm kpc})', r'\\log\\,\\Sigma_*\\,({\\rm M_\\odot pc^{-2}})')"
   ]
  },
  {
   "cell_type": "code",
   "execution_count": null,
   "metadata": {},
   "outputs": [],
   "source": [
    "sidm = SIDMDriver(\n",
    "    s_h_test, S_key='Sigma_star_AM_lm10p5_to_11_rho0.85', sigma_in_cm2perg=3.)\n",
    "sidm.require_rho0()"
   ]
  },
  {
   "cell_type": "code",
   "execution_count": null,
   "metadata": {},
   "outputs": [],
   "source": [
    "sidm2 = SIDMDriver(\n",
    "    s_h_test, S_key='Sigma_star_AM_lm10p5_to_11_rho0.85', sigma_in_cm2perg=.3)\n",
    "sidm2.require_rho0()"
   ]
  },
  {
   "cell_type": "code",
   "execution_count": null,
   "metadata": {},
   "outputs": [],
   "source": [
    "sidm3 = SIDMDriver(\n",
    "    s_h_test, S_key='Sigma_star_AM_lm10p5_to_11_rho0.85', sigma_in_cm2perg=30.)\n",
    "sidm3.require_rho0()"
   ]
  },
  {
   "cell_type": "code",
   "execution_count": null,
   "metadata": {},
   "outputs": [],
   "source": [
    "r1, rhalf, rh4, rho0, rho1 = sidm.data['r1', 'rhalf', 'rh4', 'rho0', 'rho1']\n",
    "r1_2 = sidm2.data['r1']\n",
    "r1_3 = sidm3.data['rhalf']"
   ]
  },
  {
   "cell_type": "code",
   "execution_count": null,
   "metadata": {},
   "outputs": [],
   "source": [
    "fig, axs = plot.subplots((1,2), share=False)\n",
    "axs_f = axs.flat\n",
    "\n",
    "ax = axs_f[0]\n",
    "x1, x2, x3 = Num.safe_lg(r1), Num.safe_lg(rhalf), Num.safe_lg(rh4)\n",
    "x4 = Num.safe_lg(r1_2)\n",
    "x5 = Num.safe_lg(r1_3)\n",
    "ax.hist(x1, bins=32, density=True)\n",
    "ax.hist(x2, bins=32, density=True)\n",
    "ax.c('b').hist(x3, bins=32, density=True)\n",
    "ax.c('r').hist(x4, bins=32, density=True)\n",
    "ax.c('g').hist(x5, bins=32, density=True)\n",
    "ax.lim([-4., -2.])\n",
    "\n",
    "x1, x2 = Num.safe_lg(rho0), Num.safe_lg(rho1)\n",
    "ax = axs_f[1]\n",
    "ax.c('k').hist(x1)\n",
    "ax.c('r').hist(x2)"
   ]
  },
  {
   "cell_type": "code",
   "execution_count": null,
   "metadata": {},
   "outputs": [],
   "source": [
    "fig, ax = plot.subplots(1, figsize=4.5, margin=[0.1, 0.1, 0.1, 0.1], layout='none')\n",
    "\n",
    "ax.plot(lrs, rhos, lw=2.5)\n",
    "\n",
    "ax.scale(y='log')"
   ]
  },
  {
   "cell_type": "code",
   "execution_count": null,
   "metadata": {},
   "outputs": [],
   "source": [
    "sidm.data"
   ]
  },
  {
   "cell_type": "markdown",
   "metadata": {},
   "source": [
    "#### Randomly draw c"
   ]
  },
  {
   "cell_type": "code",
   "execution_count": null,
   "metadata": {},
   "outputs": [],
   "source": [
    "info_ref = sims.predefined['tng_dark_300_1']\n",
    "sman_ref = SubSampleManager(\n",
    "    info_ref, \n",
    "    ProjPaths.sim_dir_of(info_ref) / 'z0_all_postprocessed.hdf5', \n",
    "    add_rsd= False, \n",
    "    dmo= True,\n",
    "    m_h_range_in_sol= (10**10.5, 10**11.),\n",
    ")\n",
    "s_ref_all = sman_ref.s_all\n",
    "s_ref_all.objs['hid'] = np.arange(s_ref_all.n_objs, dtype=np.int64)\n",
    "\n",
    "s_ref = sman_ref.s_dwarf"
   ]
  },
  {
   "cell_type": "code",
   "execution_count": null,
   "metadata": {},
   "outputs": [],
   "source": [
    "def find_b(s: sample.SimSample, sman: SubSampleManager, r_range=(2., 10)):\n",
    "    x = s['x']\n",
    "    print(x.shape[0], 'objs, range=', x.min(), x.max()) \n",
    "    \n",
    "    s_clsref = sman.s_ref\n",
    "    x_clsref = s_clsref['x']\n",
    "    print(x_clsref.shape[0], 'clsref objs, range=', x_clsref.min(), x_clsref.max())\n",
    "    print()\n",
    "    \n",
    "    l_box = sman.sim_info.full_box_size\n",
    "    kdt_clsref = KDTree(x_clsref, boxsize=l_box)\n",
    "    \n",
    "    r1, r2 = r_range\n",
    "    n1 = kdt_clsref.query_ball_point(x, r1, return_length=True)\n",
    "    n2 = kdt_clsref.query_ball_point(x, r2, return_length=True)\n",
    "    dn = n2 - n2\n",
    "    print('dn found, size=', dn.size)\n",
    "    \n",
    "    dV = 4.0/3.0 * np.pi * (r2**3 - r1**3)\n",
    "    rho_n = len(x_clsref) / l_box**3\n",
    "    dn_exp = dV * rho_n\n",
    "    xi = dn / dn_exp - 1.0\n",
    "    \n",
    "    return xi\n",
    "\n",
    "xi = find_b(s_ref, sman_ref)\n",
    "xi_all = fill_by_hids(s_ref_all.n_objs, s_ref['hid'], xi)"
   ]
  },
  {
   "cell_type": "code",
   "execution_count": null,
   "metadata": {},
   "outputs": [],
   "source": [
    "h5.File.dump_to(p_data, c_all,\n",
    "                f'objs/c_mean200_AM_lm10p5_to_11',\n",
    "                dump_flag='ac')"
   ]
  },
  {
   "cell_type": "markdown",
   "metadata": {},
   "source": [
    "Use $p(c | z_{\\rm f})$"
   ]
  },
  {
   "cell_type": "code",
   "execution_count": null,
   "metadata": {},
   "outputs": [],
   "source": [
    "def cond_match(z_fs, cs, z_f_dsts, rng = 2):\n",
    "    assert len(z_fs) == len(cs)\n",
    "    kdt = KDTree(z_fs[:, None])\n",
    "    inds = kdt.query(z_f_dsts[:, None], k=128)[1]\n",
    "    \n",
    "    rng = Rng(rng)\n",
    "    c_dsts = np.zeros_like(z_f_dsts)\n",
    "    for i, ind in enumerate(inds):\n",
    "        ind_sel = rng.choice(ind)\n",
    "        c_dsts[i] = cs[ind_sel]\n",
    "    return c_dsts"
   ]
  },
  {
   "cell_type": "code",
   "execution_count": null,
   "metadata": {},
   "outputs": [],
   "source": [
    "z_fs, cs = s_ref.objs['z_half', 'c_mean200']\n",
    "z_f_dsts = s_h.objs['z_half']\n",
    "c_dsts = cond_match(z_fs, cs, z_f_dsts)"
   ]
  },
  {
   "cell_type": "code",
   "execution_count": null,
   "metadata": {},
   "outputs": [],
   "source": [
    "c_all = np.zeros(len(samp['hid']), dtype=c_dsts.dtype)\n",
    "c_all[ s_h['hid'] ] = c_dsts\n",
    "h5.File.dump_to(p_data, c_all,\n",
    "                f'objs/c_mean200_AM_lm10p5_to_11',\n",
    "                dump_flag='ac')"
   ]
  },
  {
   "cell_type": "code",
   "execution_count": null,
   "metadata": {},
   "outputs": [],
   "source": [
    "fig, ax = plot.subplots(1, figsize=4.5, margin=[0.1, 0.1, 0.1, 0.1], layout='none')\n",
    "\n",
    "ax.scatter_2d(z_f_dsts, c_dsts, range=[[0,4.], [2., 45.]], n_bins=32).contour()\n",
    "ax.scatter_2d(z_fs, cs, range=[[0,4.], [2., 45.]], n_bins=32).contour()"
   ]
  },
  {
   "cell_type": "markdown",
   "metadata": {},
   "source": [
    "#### Match $z_{\\rm f}$ or $r_1$ to $\\Sigma_*$"
   ]
  },
  {
   "cell_type": "code",
   "execution_count": null,
   "metadata": {},
   "outputs": [],
   "source": [
    "# s_g = obs_catalogs.tot_dwarfs.s_massive\n",
    "s_g = obs_catalogs.tot_dwarfs.s_massive_z003\n",
    "s_g, len(s_g['z'])"
   ]
  },
  {
   "cell_type": "code",
   "execution_count": null,
   "metadata": {},
   "outputs": [],
   "source": [
    "# match z_f and r_1\n",
    "rng = Rng(3)\n",
    "rn = stats.RandomNoise(.001, rng=rng)\n",
    "lS =  rn.add_to(np.log10(s_g['Sigma_star'])) \n",
    "rho = 1.\n",
    "for sig in [.1, .5, 1.]: \n",
    "    key = f'SIDM_r1_sigma{sig:.2f}'\n",
    "    lr1 = rn.add_to(np.log10(s_h[key]))\n",
    "    \n",
    "    lS_pred = u_stats.abudance_match_with_corr_coef(lr1, lS, rho=-rho, rng=rng)\n",
    "    S_all = fill_by_hids(samp.n_objs, s_h['hid'], 10**lS_pred)\n",
    "    h5.File.dump_to(p_data, S_all, \n",
    "                    f'objs/Sigma_star_AM_lm10p5_to_11_{key}', dump_flag='ac')"
   ]
  },
  {
   "cell_type": "code",
   "execution_count": null,
   "metadata": {},
   "outputs": [],
   "source": [
    "# match z_f and Sigma_star\n",
    "\n",
    "rng = Rng(10086)\n",
    "rn = stats.RandomNoise(.001, rng=rng)\n",
    "lS =  rn.add_to(np.log10(s_g['Sigma_star'])) \n",
    "lz_f = rn.add_to(np.log10(s_h['z_half'] + 1.))\n",
    "\n",
    "# old impl\n",
    "# lS_pred = -u_stats.abundance_match(lz_f, -lS)\n",
    "# S_pred = 10**lS_pred\n",
    "\n",
    "# 0.99, 0.95, 0.7\n",
    "for rho in [1., 0.9, 0.85, 0.8, 0.6, 0.5]:  \n",
    "    lS_pred = u_stats.abudance_match_with_corr_coef(lz_f, lS, rho=-rho, rng=rng)\n",
    "    S_pred = 10**lS_pred\n",
    "    \n",
    "    S_all = np.zeros(len(samp['hid']), dtype=S_pred.dtype)\n",
    "    S_all[ s_h['hid'] ] = S_pred\n",
    "    h5.File.dump_to(p_data, S_all, \n",
    "                    #'objs/Sigma_star_AM_lm10p8', \n",
    "                    #f'objs/Sigma_star_AM_lm10p5_to_11_rho{rho:.2f}',\n",
    "                    f'objs/Sigma_star_AM_lm10p5_to_11_z001_to_003_rho{rho:.2f}',\n",
    "                    #'objs/Sigma_star_AM_lm10p5_to_11_z004_to_006' ,\n",
    "                    #'objs/Sigma_star_AM_lm10p5_to_11_z006_to_007' ,\n",
    "                    #f'objs/Sigma_star_AM_lm10p5_to_11_z001_to_006_rho{rho:.2f}',\n",
    "                    dump_flag='ac')"
   ]
  },
  {
   "cell_type": "code",
   "execution_count": null,
   "metadata": {},
   "outputs": [],
   "source": [
    "h5.File.ls_from(p_data)"
   ]
  },
  {
   "cell_type": "markdown",
   "metadata": {},
   "source": [
    "### SIDM results"
   ]
  },
  {
   "cell_type": "code",
   "execution_count": null,
   "metadata": {},
   "outputs": [],
   "source": [
    "sim_info = sims.predefined['elucid_ext_v2']\n",
    "p_data = ProjPaths.sim_dir_of(sim_info) / 'z0_all.hdf5'\n",
    "samp = sample.SimSample.load(sim_info, p_data)\n",
    "samp.objs['hid'] = np.arange(samp.n_objs, dtype=np.int64)"
   ]
  },
  {
   "cell_type": "code",
   "execution_count": null,
   "metadata": {},
   "outputs": [],
   "source": [
    "u_m = sim_info.cosmology.unit_system.u_m_to_sol\n",
    "m_lb, m_ub = 10**10.5 / u_m, 10**11.0 / u_m\n",
    "z_lb, z_ub = 0.01, 0.04\n",
    "\n",
    "s_h = samp.subset_by_value('is_c', eq=True)\\\n",
    "    .subset_by_value('m_mean200', lo=m_lb, hi=m_ub)\\\n",
    "    .subset_by_value('last_sat_z', lo=15.)\\\n",
    "    .subset_by_value('is_recon_large', eq=True)\\\n",
    "    .subset_by_value('z', lo=z_lb, hi=z_ub)\n",
    "s_h"
   ]
  },
  {
   "cell_type": "code",
   "execution_count": null,
   "metadata": {},
   "outputs": [],
   "source": [
    "s_h = sman.s_dwarf"
   ]
  },
  {
   "cell_type": "code",
   "execution_count": null,
   "metadata": {},
   "outputs": [],
   "source": [
    "with h5.File(sim_dir.base_dir / 'samples/lm10p5-11.hdf5', 'w') as f:\n",
    "    s_h.to_h5_group(f)"
   ]
  },
  {
   "cell_type": "code",
   "execution_count": null,
   "metadata": {},
   "outputs": [],
   "source": [
    "def f_line(P, x):\n",
    "    return P[0] * x + P[1]\n",
    "\n",
    "def odr_fit(x, y):\n",
    "    X = np.column_stack([x, y])\n",
    "    X_mean, X_sd = X.mean(), X.std()\n",
    "    X_scl = (X - X_mean) / X_sd\n",
    "    \n",
    "    x, y = X_scl.T\n",
    "    #from sklearn.linear_model import LinearRegression\n",
    "    from scipy.odr import ODR, Model, Data\n",
    "    model = Model(f_line)\n",
    "    data = Data(x, y)\n",
    "    odr = ODR(data, model, beta0=[1, 0])\n",
    "    out = odr.run()\n",
    "    k, b = out.beta\n",
    "    #lr = LinearRegression().fit(x[:, None], y)\n",
    "    #k, b = lr.coef_, lr.intercept_\n",
    "    \n",
    "    x_lo, x_hi = np.quantile(x, [0.01, 0.99])\n",
    "    x_p = np.linspace(x_lo, x_hi, 16)\n",
    "    y_p = k * x_p + b\n",
    "    X_p = np.column_stack([x_p, y_p])\n",
    "    X_p = X_p * X_sd + X_mean\n",
    "    x_p, y_p = X_p.T\n",
    "    \n",
    "    return DataDict({\n",
    "        'x_p': x_p, 'y_p': y_p, 'k': k, 'b': b,\n",
    "    })"
   ]
  },
  {
   "cell_type": "markdown",
   "metadata": {},
   "source": [
    "#### Sigma_* predicted analytically"
   ]
  },
  {
   "cell_type": "code",
   "execution_count": null,
   "metadata": {},
   "outputs": [],
   "source": [
    "us = sim_info.cosmology.unit_system\n",
    "u_l = us.u_l_to_pc * 1.0e-3\n",
    "u_m = us.u_m_to_sol\n",
    "\n",
    "keys = 'sigma0.10', 'sigma0.30', 'sigma1.00'\n",
    "outs = []\n",
    "for i_k, k in enumerate(keys):\n",
    "    r1, rho0 = s_h[f'SIDM_r1_{k}'] * u_l, s_h[f'SIDM_rho0_{k}'] * u_m / u_l**3\n",
    "    S_true = s_h['Sigma_star_AM_lm10p5_to_11_rho0.85'] \n",
    "    S_mean = S_true.mean()\n",
    "    z_f = s_h['z_half']\n",
    "    S_1 = (r1 / r1.mean()) **(-2 ) * S_mean\n",
    "    S_2 = (rho0 / rho0.mean()) **(2./3.) * S_mean\n",
    "    out = DataDict({\n",
    "        'z_f': z_f, 'S_1': S_1, 'S_2': S_2,\n",
    "    })\n",
    "    outs.append(out)"
   ]
  },
  {
   "cell_type": "code",
   "execution_count": null,
   "metadata": {},
   "outputs": [],
   "source": [
    "fig, axs = plot.subplots((1,2), share=True, \n",
    "                         space=(0.03, 0), \n",
    "                         subsize=(5.5, 4.5), margin=[0.1, 0.1, 0.1, 0.1], layout='none')\n",
    "axs_f = axs.flat\n",
    "\n",
    "ax = axs_f[0]\n",
    "lws = 2, 2, 2\n",
    "lss = (0, (3,1.5)), '-', (0,(1,1))\n",
    "_as = .075, .2, .075\n",
    "sigs = 0.1, 0.3, 1.0\n",
    "for i_k, out in enumerate(outs):\n",
    "    z_f, S_1, S_2 = out['z_f', 'S_1', 'S_2']\n",
    "    for i_S, S in enumerate((S_1, S_2)):\n",
    "        ax = axs_f[i_S]\n",
    "        x, y = S, z_f  \n",
    "        y_p = np.linspace(0., 4.5, 128)\n",
    "        x_p, el, eh = stats.KernelRegression1D.by_local_kernel(\n",
    "            y, x, y_p, reduce='errorbar', max_dx=.125)['y'][0].T\n",
    "        #ax.scatter(S, z_f, label=f'S_{i_S+1}', alpha=.5)\n",
    "        lab = r'$\\sigma_{\\rm m} = %.1f\\,{\\rm cm^2/g}$'%(sigs[i_k])\n",
    "        ax.plot(x_p, y_p, lw=lws[i_k], ls=lss[i_k], label=lab)\n",
    "        ax._raw.fill_betweenx(y_p, x_p-el, x_p+eh, color='k', \n",
    "                              alpha=_as[i_k], lw=0)\n",
    "   \n",
    "axs.scale('log').lim([2., 10**2.55], [0., 3.99])\n",
    "axs[0].label(r'\\Sigma_* \\propto r_{\\rm c}^{-2}', r'z_{\\rm f}')\n",
    "axs[1].label(r'\\Sigma_*\\propto \\rho_{\\rm 0}^{2/3}')\n",
    "axs.label_outer()\n",
    "axs[0].leg(loc='ll')"
   ]
  },
  {
   "cell_type": "markdown",
   "metadata": {},
   "source": [
    "#### r_c matched Sigma*"
   ]
  },
  {
   "cell_type": "code",
   "execution_count": null,
   "metadata": {},
   "outputs": [],
   "source": [
    "us = sim_info.cosmology.unit_system\n",
    "u_l = us.u_l_to_pc * 1.0e-3\n",
    "u_m = us.u_m_to_sol\n",
    "\n",
    "d_plts = DataDict({\n",
    "    'bias': [],\n",
    "    'scat': []\n",
    "})\n",
    "prop_pref = 'Sigma_star_AM_lm10p5_to_11'\n",
    "keys = 'sigma0.10', 'sigma0.50', 'sigma1.00'\n",
    "for i_k, k in enumerate(keys):\n",
    "    x_key = f'SIDM_r1_{k}'\n",
    "    prop_key = f'{prop_pref}_{x_key}'\n",
    "    \n",
    "    d_in = Json.load_file(ProjPaths.sim_dir_of(sim_info) / f'wp/am/{prop_key}.hdf5')\n",
    "    wps = take_wps_rels(d_in['obs_bin'])\n",
    "    d_plts['bias'].append(wps)\n",
    "    \n",
    "    r1 = s_h[x_key] * u_l\n",
    "    lr1 = Num.safe_lg(r1)\n",
    "    S = s_h[prop_key]\n",
    "    lS = Num.safe_lg(S)\n",
    "    x, y = S, r1\n",
    "    y_p = np.linspace(0., 7., 128)\n",
    "    x_p, el, eh = stats.KernelRegression1D.by_knn(\n",
    "        y, x, y_p, reduce='errorbar', k=4)['y'][0].T\n",
    "    \n",
    "    d_plts['scat'].append(DataDict({\n",
    "        'r1': r1, 'lr1': lr1, 'S': S, 'lS': lS,\n",
    "        'x_p': x_p, 'y_p': y_p, 'el': el, 'eh': eh,\n",
    "    }))\n",
    "    \n",
    "d_plts['bias_obs'] = np.array([\n",
    "    [6.2,    2.4, 0.28, 0.28,],\n",
    "    [11.37,  1.44, 0.1, 0.1,],\n",
    "    [19.33,  1.29, 0.09, 0.09,],\n",
    "    [42.37, 1.0, 0.0, 0.0,],\n",
    "])"
   ]
  },
  {
   "cell_type": "code",
   "execution_count": null,
   "metadata": {},
   "outputs": [],
   "source": [
    "fig, axs = plot.subplots((2, 1), share=(True, False),\n",
    "                         space=0.03, subsize=(6.5, 3.5),\n",
    "                         margin=[0.02, 0.125, 0.1, 0.135], layout='none',\n",
    "                         ratios=(None, [2, 1.2]))\n",
    "axs_f = axs.flat\n",
    "\n",
    "ax = axs_f[0]\n",
    "sigs = 0.1, 0.5, 1.0\n",
    "lws = 2, 2, 2\n",
    "lss = '-', (0, (3, 1.5)), (0, (1, 1))\n",
    "for i in range(3):\n",
    "    ax = axs_f[0]\n",
    "    ax.c('k')\n",
    "    x, y, el, eh = d_plts['bias'][i].T\n",
    "    lab = r'$\\sigma_{\\rm m} = %.1f\\,{\\rm cm^2/g}$' % (sigs[i])\n",
    "    ax.errorbar(x, y, yerr=(el, eh), lw=lws[i], ls=lss[i],\n",
    "                marker='s',\n",
    "                mew=2, ms=5.5, capsize=0, elinewidth=1.5,\n",
    "                label=lab, zorder=10)\n",
    "    \n",
    "    ax = axs_f[1]\n",
    "    ax.c('k')\n",
    "    x_p, y_p, el, eh = d_plts['scat'][i]['x_p', 'y_p', 'el', 'eh']\n",
    "    ax.plot(x_p, y_p, lw=lws[i], ls=lss[i], zorder=3)\n",
    "    #ax.errorfill(x_p, y_p, yerr=(el, eh), lw=1., ls='-',\n",
    "    #             fill_between_kw={'lw': 0., 'alpha': .2}, zorder=9)\n",
    "    \n",
    "    y, x = d_plts['scat'][i]['lr1', 'S']\n",
    "    #ax.plot(x, y)\n",
    "\n",
    "ax = axs_f[0]\n",
    "x, y, el, eh = d_plts['bias_obs'].T\n",
    "ax.c(cs[i]).errorbar(x, y, yerr=(el, eh), lw=.75, marker='o',\n",
    "                     mew=2, ms=8, capsize=0, elinewidth=1.5,\n",
    "                     label=r'$\\rm Observation$', zorder=10)\n",
    "\n",
    "ax.scale(x='log').lim([10**0.45, 1.0e2], [0.85,  2.75])\n",
    "ax.label(y=r'{\\rm Relative\\ bias}')\n",
    "ax.leg(loc='ur', labelcolor='linecolor',\n",
    "       handlelength=1.75, numpoints=1, fontsize=14.5)\n",
    "\n",
    "ax = axs_f[1]\n",
    "ax.label(r'\\Sigma_*\\,[{\\rm M}_\\odot\\,{\\rm pc}^{-2}]', r'r_{\\rm c}\\,[{\\rm kpc}]')\\\n",
    "    .lim(y=[0., 6.5])"
   ]
  },
  {
   "cell_type": "markdown",
   "metadata": {},
   "source": [
    "#### r_c predicted"
   ]
  },
  {
   "cell_type": "code",
   "execution_count": null,
   "metadata": {},
   "outputs": [],
   "source": [
    "x_lim = [-.425, 0.875]\n",
    "us = sim_info.cosmology.unit_system\n",
    "u_l = us.u_l_to_pc * 1.0e-3\n",
    "u_m = us.u_m_to_sol\n",
    "dn_pts = 10\n",
    "\n",
    "d_plts = {\n",
    "    'panel_a': {},\n",
    "    'panel_b': {},\n",
    "    'panel_c': {'curve': {}, 'scatter': {}},\n",
    "    'panel_d': {'curve': {}, 'scatter': {}},\n",
    "}\n",
    "keys = 'sigma0.10', 'sigma0.30', 'sigma1.00', 'sigma3.00'\n",
    "key_rs = 'SIDM_r1', 'SIDM_r1', 'SIDM_r1', 'SIDM_rh4'\n",
    "key_outs = 'sigma_m_0p1', 'sigma_m_0p3', 'sigma_m_1p0', 'sigma_m_3p0'\n",
    "for i_k, (k, key_r, key_out) in enumerate(zip(keys, key_rs, key_outs)):    \n",
    "    r1 = s_h[f'{key_r}_{k}'] * u_l\n",
    "    lr1 = Num.safe_lg(r1)\n",
    "    S, z_f = s_h['Sigma_star_AM_lm10p5_to_11_rho0.85', 'z_half']\n",
    "    lS = Num.safe_lg(S)\n",
    "    if i_k == 1:\n",
    "        lrho0 = Num.safe_lg(s_h[f'SIDM_rho0_{k}'] * u_m / u_l**3)\n",
    "    \n",
    "    h, e = np.histogram(lr1, bins=32, range=x_lim, density=True)\n",
    "    c = 0.5 * (e[:-1] + e[1:])\n",
    "    d_plts['panel_a'][key_out] = pd.DataFrame({\n",
    "        'log_r': c, 'pdf': h,\n",
    "    })\n",
    "    \n",
    "    d_in = Json.load_file(ProjPaths.sim_dir_of(sim_info) / f'wp/am/{key_r}_{k}.hdf5')['obs_inv_bin']\n",
    "    x, y, el, eh = take_wps_rels(d_in, d_in['0']).T\n",
    "    x = np.log10(x * u_l)\n",
    "    d_plts['panel_b'][key_out] = pd.DataFrame({\n",
    "        'log_r': x, 'bias': y, 'err_lo': el, 'err_up': eh,\n",
    "    })\n",
    "    \n",
    "    \n",
    "    x, ys, y_keys, o_pans = lr1, [z_f, lS], ['z_f', 'log_Sigma'], ['panel_c', 'panel_d']\n",
    "    x_p = np.linspace(*np.quantile(x, [0.001, 0.999]), 128)\n",
    "    dx = (x_p[-1] - x_p[0])/24\n",
    "    for y, y_key, o_pan in zip(ys, y_keys, o_pans):\n",
    "        y_p, el, eh = stats.KernelRegression1D.by_local_kernel(\n",
    "            x, y, x_p, reduce='errorbar', max_dx=dx)['y'][0].T\n",
    "        d_plts[o_pan]['curve'][key_out] = pd.DataFrame({\n",
    "            'log_r': x_p, y_key: y_p, 'err_lo': el, 'err_up': eh,  \n",
    "        })\n",
    "        \n",
    "        if i_k != 1:\n",
    "            continue\n",
    "        \n",
    "        z = lrho0\n",
    "        X = np.column_stack([x, y])\n",
    "        X_mean, X_sd = X.mean(0), np.std(X, axis=0)\n",
    "        X_sc = (X - X_mean) / X_sd\n",
    "        z_p = stats.KernelRegressionND.by_knn(X_sc, z, X_sc, k=128)['y'][0]\n",
    "        d_plts[o_pan]['scatter'][key_out] = pd.DataFrame({\n",
    "            'log_r': x[::dn_pts], y_key: y[::dn_pts], 'log_rho_0': z_p[::dn_pts],\n",
    "        })\n",
    "        \n",
    "    '''\n",
    "    d_plt |= {\n",
    "        'r1': r1, 'lr1': lr1,\n",
    "        'S': S, 'lS': lS,\n",
    "        'z_f': z_f,\n",
    "    }\n",
    "    d_plt |= {'rho0': rho0, 'lrho0': lrho0,}\n",
    "    '''\n",
    "\n",
    "lr_e = np.log10(obs_catalogs.tot_dwarfs.s_massive['r_50'])\n",
    "lS = Num.safe_lg(obs_catalogs.tot_dwarfs.s_massive['Sigma_star']) \n",
    "\n",
    "h, e = np.histogram(lr_e, range=x_lim, bins=32, density=True)\n",
    "c = .5 * (e[:-1] + e[1:])\n",
    "d_plts['panel_a']['obs'] = pd.DataFrame({'log_r': c, 'pdf': h})\n",
    "\n",
    "x_p = np.linspace(*np.quantile(lr_e, [0.001, 0.999]), 16)\n",
    "y_p, el, eh = stats.KernelRegression1D.by_local_kernel(lr_e, lS, x_p, reduce='errorbar', max_dx=.15)['y'][0].T\n",
    "d_plts['panel_d']['obs'] = pd.DataFrame({'log_r': x_p, 'log_Sigma': y_p,  'err_lo': el, 'err_up': eh})"
   ]
  },
  {
   "cell_type": "code",
   "execution_count": null,
   "metadata": {},
   "outputs": [],
   "source": [
    "# Excel.dump_file(ProjPaths.proj_dir/'data_for_publication/Fig4.xlsx', d_plts)"
   ]
  },
  {
   "cell_type": "code",
   "execution_count": null,
   "metadata": {},
   "outputs": [],
   "source": [
    "keys = 'sigma0.10', 'sigma0.30', 'sigma1.00'\n",
    "key_rs = ('SIDM_r1_iterFixAr', )*3\n",
    "key_outs = 'iter_sigma_m_0p1', 'iter_sigma_m_0p3', 'iter_sigma_m_1p0'\n",
    "for i_k, (k, key_r, key_out) in enumerate(zip(keys, key_rs, key_outs)):    \n",
    "    r1 = s_h[f'{key_r}_{k}'] * u_l\n",
    "    lr1 = Num.safe_lg(r1)\n",
    "    S, z_f = s_h[f'Sigma_star_AM_lm10p5_to_11_rho0.85', 'z_half']\n",
    "    lS = Num.safe_lg(S)\n",
    "    \n",
    "    h, e = np.histogram(lr1, bins=32, range=x_lim, density=True)\n",
    "    c = 0.5 * (e[:-1] + e[1:])\n",
    "    d_plts['panel_a'][key_out] = pd.DataFrame({\n",
    "        'log_r': c, 'pdf': h,\n",
    "    })\n",
    "    \n",
    "    d_in = Json.load_file(ProjPaths.sim_dir_of(sim_info) / f'wp/am/{key_r}_{k}.hdf5')['obs_inv_bin']\n",
    "    x, y, el, eh = take_wps_rels(d_in, d_in['0']).T\n",
    "    x = np.log10(x * u_l)\n",
    "    d_plts['panel_b'][key_out] = pd.DataFrame({\n",
    "        'log_r': x, 'bias': y, 'err_lo': el, 'err_up': eh,\n",
    "    })\n",
    "    \n",
    "    \n",
    "    x, ys, y_keys, o_pans = lr1, [z_f, lS], ['z_f', 'log_Sigma'], ['panel_c', 'panel_d']\n",
    "    x_p = np.linspace(*np.quantile(x, [0.001, 0.999]), 128)\n",
    "    dx = (x_p[-1] - x_p[0])/24\n",
    "    for y, y_key, o_pan in zip(ys, y_keys, o_pans):\n",
    "        y_p, el, eh = stats.KernelRegression1D.by_local_kernel(\n",
    "            x, y, x_p, reduce='errorbar', max_dx=dx)['y'][0].T\n",
    "        d_plts[o_pan]['curve'][key_out] = pd.DataFrame({\n",
    "            'log_r': x_p, y_key: y_p, 'err_lo': el, 'err_up': eh,  \n",
    "        })"
   ]
  },
  {
   "cell_type": "code",
   "execution_count": null,
   "metadata": {},
   "outputs": [],
   "source": [
    "fig, axs = plot.subplots(\n",
    "    (2, 2),\n",
    "    share=(False, False),\n",
    "    space=(0.2, .02),\n",
    "    figsize=(11., 6.5),\n",
    "    margin=[0.01, 0.01, 0.08, 0.065],\n",
    "    layout='none')\n",
    "axs = axs.flat[[0, 2, 1, 3]]\n",
    "\n",
    "x_lim = [-.425, 0.875]\n",
    "\n",
    "lws = 2.5, 2.5, 2.5, 2.5\n",
    "lss = (0, (3, 1.5)), '-', (0, (1, 1)), '-'\n",
    "sigs = 0.1, 0.3, 1.0, 3.0\n",
    "c_outs = 'k', 'k', 'k', 'grey'\n",
    "mss = 6., 6., 6., 5.\n",
    "_as = .1, .2, .1, 0.\n",
    "key_outs = 'sigma_m_0p1', 'sigma_m_0p3', 'sigma_m_1p0', 'sigma_m_3p0'\n",
    "zorders = 20, 22, 18, 17\n",
    "\n",
    "for i_k, key_out in enumerate(key_outs):\n",
    "    c_out = c_outs[i_k]\n",
    "\n",
    "    ax = axs[0]\n",
    "    if i_k < 3:\n",
    "        lab = r'$\\sigma_{\\rm m} = %.1f\\,{\\rm cm^2/g}$' % (sigs[i_k])\n",
    "    else:\n",
    "        lab = r'$\\sigma_{\\rm m} = %.1f\\,{\\rm cm^2/g},\\,r_{\\rho_{\\rm 0}/4}$' % (\n",
    "            sigs[i_k])\n",
    "    x, y = d_plts['panel_a'][key_out][['log_r', 'pdf']].to_numpy().T\n",
    "    ax.plot(\n",
    "        x, y, lw=lws[i_k],\n",
    "        ls=lss[i_k],\n",
    "        c=c_out, label=lab, zorder=zorders[i_k])\n",
    "    if i_k < 3:\n",
    "        x, y = d_plts['panel_a']['iter_'+key_out][['log_r', 'pdf']].to_numpy().T\n",
    "        ax.plot(\n",
    "            x, y, lw=lws[i_k],\n",
    "            ls=lss[i_k],\n",
    "            c='b', zorder=zorders[i_k]+1)\n",
    "    \n",
    "\n",
    "    ax = axs[1]\n",
    "    x, y, el, eh = d_plts['panel_b'][key_out][\n",
    "        ['log_r', 'bias', 'err_lo', 'err_up']].to_numpy().T\n",
    "    ax.c(c_out).errorbar(\n",
    "        x, y, yerr=(el, eh),\n",
    "        lw=lws[i_k],\n",
    "        marker='s', ms=mss[i_k],\n",
    "        mew=1., ls=lss[i_k],\n",
    "        capsize=2.5, elinewidth=1.5, zorder=zorders[i_k])\n",
    "    if i_k < 3:\n",
    "        x, y, el, eh = d_plts['panel_b']['iter_'+ key_out][\n",
    "            ['log_r', 'bias', 'err_lo', 'err_up']].to_numpy().T\n",
    "        ax.c('b').errorbar(\n",
    "            x, y, yerr=(el, eh),\n",
    "            lw=lws[i_k],\n",
    "            marker='s', ms=mss[i_k],\n",
    "            mew=1., ls=lss[i_k],\n",
    "            capsize=2.5, elinewidth=1.5, zorder=zorders[i_k]+1)\n",
    "\n",
    "    for i_y, (y_k, pan) in enumerate([\n",
    "        ('z_f', 'panel_c'), ('log_Sigma', 'panel_d')]):\n",
    "        ax = axs[i_y+2]\n",
    "        ax.c(c_out)\n",
    "        x, y, el, eh = d_plts[pan]['curve'][key_out][\n",
    "            ['log_r', y_k, 'err_lo', 'err_up']].to_numpy().T\n",
    "        kw = {'zorder': zorders[i_k]}\n",
    "        ax.errorfill(x, y, yerr=(el, eh), lw=lws[i_k], ls=lss[i_k],\n",
    "                     fill_between_kw={'lw': 0., 'fc': (0, 0, 0, _as[i_k]),\n",
    "                                      'ec': 'gray',\n",
    "                                      'zorder': 8}, **kw)\n",
    "        if i_k == 3:\n",
    "            ax.plot(x, y, lw=3., c='w', zorder=zorders[i_k]-1)\n",
    "            \n",
    "        if i_k < 3:\n",
    "            ax.c('b')\n",
    "            x, y, el, eh = d_plts[pan]['curve']['iter_'+key_out][\n",
    "                ['log_r', y_k, 'err_lo', 'err_up']].to_numpy().T\n",
    "            kw = {'zorder': zorders[i_k]+1}\n",
    "            ax.plot(x, y, lw=lws[i_k], ls=lss[i_k],**kw)\n",
    "            \n",
    "        if i_k != 1:\n",
    "            continue\n",
    "\n",
    "        norm = plot.abc.mpl.colors.Normalize(7.8, 8.95)\n",
    "        x, y, z = d_plts[pan]['scatter'][key_out][\n",
    "            ['log_r', y_k, 'log_rho_0']].to_numpy().T\n",
    "        ax.fmt_marker(elw=0, fa=1)\n",
    "        ax.scatter(x, y, rasterized=True, zorder=1, c='grey', s=40)\n",
    "        cb = ax.scatter(x, y, rasterized=True, zorder=2, c=z,\n",
    "                        s=25, norm=norm, cmap='Greens').last_draw\n",
    "\n",
    "fig.colorbar(cb, ax=axs, location='right', pad=0.01, aspect=40.,\n",
    "             label=r'$\\log\\, \\rho_0\\,({\\rm M_\\odot kpc^{-3}})$')\n",
    "\n",
    "ax = axs[0]\n",
    "x, y = d_plts['panel_a']['obs'][['log_r', 'pdf']].to_numpy().T\n",
    "ax.plot(x, y, lw=2, c=cs_dark2[1], zorder=21,\n",
    "        label=r'${\\rm Dwarfs},\\,R_{\\rm 50}$')\n",
    "\n",
    "ax = axs[3]\n",
    "x, y, el, eh = d_plts['panel_d']['obs'][\n",
    "    ['log_r', 'log_Sigma', 'err_lo', 'err_up']].to_numpy().T\n",
    "ax.c(cs_dark2[1]).fmt_marker(fa=.3, elw=1)\\\n",
    "    .errorbar(x, y, yerr=(el, eh), marker='s', mew=1.5, ms=5.5, capsize=0, lw=1,\n",
    "              label=r'${\\rm Dwarfs}\\,(\\Sigma_*)$', zorder=21)\n",
    "\n",
    "axs[0].lim(x_lim, [0., 5.85]).label(y=r'\\rm PDF')\\\n",
    "    .leg(loc='ul', \n",
    "         #labelcolor='linecolor', \n",
    "         fontsize=13.5,\n",
    "         handlelength=1.75, labelspacing=0., ncol=1, columnspacing=0.5)\n",
    "axs[1].scale().lim(x_lim, [0.7, 2.8])\\\n",
    "    .label(r'\\log\\,r_{\\rm c}\\,({\\rm kpc})', r'{\\rm Relative\\ bias}')\\\n",
    "    .plot([-10., 10.], [1., 1.], c='grey', lw=1, ls=(0,(1,2)))\n",
    "axs[2].lim(x_lim, [-.2, 3.99]).label(y=r'z_{\\rm f}')\n",
    "axs[3].lim(\n",
    "    x_lim, [.415, 2.76]).label(\n",
    "    r'\\log\\,r_{\\rm c}\\,({\\rm kpc})', r'\\log\\,\\Sigma_*\\,({\\rm M_\\odot pc^{-2}})')\n",
    "axs[0]._raw.set_xticklabels([])\n",
    "axs[2]._raw.set_xticklabels([])\n",
    "\n",
    "ProjPaths.save_fig('sidm_results_with_iter.pdf')"
   ]
  },
  {
   "cell_type": "markdown",
   "metadata": {},
   "source": [
    "### Halo domain fields"
   ]
  },
  {
   "cell_type": "code",
   "execution_count": null,
   "metadata": {},
   "outputs": [],
   "source": [
    "info = sims.predefined['elucid']"
   ]
  },
  {
   "cell_type": "code",
   "execution_count": null,
   "metadata": {},
   "outputs": [],
   "source": [
    "f_in = info.root_dir / 'supplementary' / 'reconstruction_pipeline' / 'fields.hdf5'\n",
    "field_raw = h5.File.load_from(f_in)['HaloDomain/RSDCorrected/CICCorrected/smoothed_r0']\n",
    "rc_mask = ReconstAreaMaskSdssL500(mask_name='SDSS_reconstruction_area_large')\n",
    "field_raw[~rc_mask.mask_reconst_area] = 1.\n",
    "field_raw = np.array(field_raw, dtype=np.float64)"
   ]
  },
  {
   "cell_type": "code",
   "execution_count": null,
   "metadata": {},
   "outputs": [],
   "source": [
    "l_box = info.full_box_size\n",
    "n_grids = field_raw.shape[0]\n",
    "mesh = cubic_box.Mesh.new(n_grids, l_box)\n",
    "df = cubic_box.Field.new_by_data(field_raw, mesh=mesh)"
   ]
  },
  {
   "cell_type": "code",
   "execution_count": null,
   "metadata": {},
   "outputs": [],
   "source": [
    "for r_sm in 1,2,4:\n",
    "    suf = f'sm{r_sm}'\n",
    "    tf = cubic_box.TidalField(n_workers=8, r_sm=float(r_sm), correct_shape=False)\n",
    "    res = tf.run(df)\n",
    "    f_out = ProjPaths.sim_dir_of(info) / 'fields' / f'domain.tidal.s99.{suf}.hdf5'\n",
    "    with h5.File(f_out, 'w') as f:\n",
    "        res.dump(f)"
   ]
  },
  {
   "cell_type": "code",
   "execution_count": null,
   "metadata": {},
   "outputs": [],
   "source": [
    "fig, ax = plot.subplots(1, figsize=4.5, margin=[0.1, 0.1, 0.1, 0.1], layout='none')\n",
    "\n",
    "im = rc_mask.mask_reconst_area[:, :, 250:251].max(axis=-1)\n",
    "ax._raw.imshow(im)"
   ]
  },
  {
   "cell_type": "code",
   "execution_count": null,
   "metadata": {},
   "outputs": [],
   "source": [
    "fig, ax = plot.subplots(1, figsize=10, margin=[0.1, 0.1, 0.1, 0.1], layout='none')\n",
    "\n",
    "im = f[:, :, 250:251].mean(axis=-1)\n",
    "ax._raw.imshow(im, norm='log', vmin=1.0e-2, vmax=1.0e3)"
   ]
  },
  {
   "cell_type": "markdown",
   "metadata": {},
   "source": [
    "### Add_masks"
   ]
  },
  {
   "cell_type": "code",
   "execution_count": null,
   "metadata": {},
   "outputs": [],
   "source": [
    "sim_info = sims.predefined['elucid_ext_v2']\n",
    "p_data = ProjPaths.sim_dir_of(sim_info) / 'z0_all.hdf5'"
   ]
  },
  {
   "cell_type": "code",
   "execution_count": null,
   "metadata": {},
   "outputs": [],
   "source": [
    "rc_mask = ReconstAreaMaskSdssL500(mask_name='SDSS_reconstruction_area_large')"
   ]
  },
  {
   "cell_type": "code",
   "execution_count": null,
   "metadata": {},
   "outputs": [],
   "source": [
    "with h5.File(p_data, 'ac') as f:\n",
    "    dsets = f['objs'].datasets\n",
    "    is_recon = rc_mask.is_in_reconst_area(dsets['x'])\n",
    "    dsets.dump({\n",
    "        'is_recon_large': is_recon    \n",
    "    }, flag='ac')"
   ]
  },
  {
   "cell_type": "code",
   "execution_count": null,
   "metadata": {},
   "outputs": [],
   "source": [
    "h5.File.ls_from(p_data)"
   ]
  },
  {
   "cell_type": "markdown",
   "metadata": {},
   "source": [
    "### Cosmic Variance"
   ]
  },
  {
   "cell_type": "code",
   "execution_count": null,
   "metadata": {},
   "outputs": [],
   "source": [
    "lm_h_edges = np.array([\n",
    "    [11.1, 11.11],\n",
    "    [12.1, 12.2], \n",
    "    [13.0, 16.0]\n",
    "])\n",
    "\n",
    "pdata = ProjPaths.sim_dir_of(sim_info) / 'z0_all.hdf5'\n",
    "man_kw = {'add_rsd': False, 'dmo': True}\n",
    "wp_kw = {'pimax': 10., 'n_repeat': 10, \n",
    "         'bootstrap_kw': {'keep_samples': True}\n",
    "         }\n",
    "\n",
    "sman = SubSampleManager(sim_info, pdata, **man_kw)\n",
    "sim_cross = SimCross(sman)\n",
    "\n",
    "u_m = 1.0e10 / sman.sim_info.cosmology.hubble\n",
    "m_h_edges = 10.0**np.array(lm_h_edges) / u_m\n",
    "\n",
    "wp_h = {\n",
    "    str(i): sim_cross.wp_of('s_halo', sub_key='m_mean200', \n",
    "        qs=m_h_edge, **wp_kw)\n",
    "    for i, m_h_edge in enumerate(m_h_edges)\n",
    "}\n",
    "data_allvol = DataDict({\n",
    "    #'dwarfs': {\n",
    "    #    'z_f': wp_z_f, 'spin': wp_spin, 'tot': wp_tot,    \n",
    "    #},\n",
    "    'halos': wp_h,\n",
    "})"
   ]
  },
  {
   "cell_type": "code",
   "execution_count": null,
   "metadata": {},
   "outputs": [],
   "source": []
  },
  {
   "cell_type": "code",
   "execution_count": null,
   "metadata": {},
   "outputs": [],
   "source": [
    "wp_h"
   ]
  },
  {
   "cell_type": "code",
   "execution_count": null,
   "metadata": {},
   "outputs": [],
   "source": [
    "#Projected, in redshift space\n",
    "\n",
    "p_data = ProjPaths.sim_dir_of(sim_info) / 'z0_all.hdf5'\n",
    "p_wc = ProjPaths.obs_dir / 'weight_curve/diffuse_dwarf_z_dis'\n",
    "rc_samp = ReconSample(sim_info, p_data, p_wc, \n",
    "    m_h_range_in_sol=(10**10.5, 10**11.),\n",
    "    rc_mask='is_recon_large')"
   ]
  },
  {
   "cell_type": "code",
   "execution_count": null,
   "metadata": {},
   "outputs": [],
   "source": [
    "obspc = ObsProjCross(rc_samp)"
   ]
  },
  {
   "cell_type": "code",
   "execution_count": null,
   "metadata": {},
   "outputs": [],
   "source": [
    "u_m = 1.0e10 / sim_info.cosmology.hubble\n",
    "s_h = obspc.sub_sample_of('s_halo', 'm_mean200', qs=[1.0e13/u_m, 1.0e16/u_m])"
   ]
  },
  {
   "cell_type": "code",
   "execution_count": null,
   "metadata": {},
   "outputs": [],
   "source": [
    "fig, axs = plot.subplots((2,2), share=False, space=0.25, subsize=(5.0, 5.0), margin=[0.1, 0.1, 0.1, 0.1], layout='none')\n",
    "axs_f = axs.flat\n",
    "\n",
    "ax = axs_f[0]\n",
    "for i in range(10):\n",
    "    re_s_h = obspc.resample_match_z(s_h)\n",
    "    z = re_s_h['z']\n",
    "\n",
    "    ax.hist(z, range=(0.0, 0.12), bins=32, fc='none')\n",
    "    \n",
    "re_s_h = obspc.resample_match_z(s_h)\n",
    "ra, dec, z = re_s_h['ra', 'dec', 'z']\n",
    "ax = axs_f[1]\n",
    "ax.scatter(ra, dec, c=z, s=1.0, cmap='viridis')\n",
    "\n",
    "ax = axs_f[2]\n",
    "ax.scatter(ra, z, c=z, s=1.0, cmap='viridis')\n",
    "\n",
    "ax = axs_f[3]\n",
    "ax.scatter(dec, z, c=z, s=1.0, cmap='viridis')"
   ]
  },
  {
   "cell_type": "code",
   "execution_count": null,
   "metadata": {},
   "outputs": [],
   "source": []
  },
  {
   "cell_type": "code",
   "execution_count": null,
   "metadata": {},
   "outputs": [],
   "source": [
    "u_m = 1.0e10 / sim_info.cosmology.hubble\n",
    "s_h = rc_samp.s_halo.subset_by_value('m_mean200', lo=10**12.0/u_m)\\\n",
    "    .subset_by_value('z', lo=0.02, hi=0.03)"
   ]
  },
  {
   "cell_type": "code",
   "execution_count": null,
   "metadata": {},
   "outputs": [],
   "source": [
    "rc_samp"
   ]
  },
  {
   "cell_type": "code",
   "execution_count": null,
   "metadata": {},
   "outputs": [],
   "source": [
    "ps_list = [0.98, 1.00], [0.49, 0.51], [0.00, 0.02]\n",
    "s_zs = [\n",
    "    obspc.sub_sample_of('s_dwarf', sub_key='z_half', ps=ps).subset_by_value('z', 0.02, 0.03)\n",
    "    for ps in ps_list\n",
    "]"
   ]
  },
  {
   "cell_type": "code",
   "execution_count": null,
   "metadata": {},
   "outputs": [],
   "source": [
    "fig, axs = plot.subplots((1,3), share=True, space=0, subsize=(4.5, 4.5), margin=[0.1, 0.1, 0.1, 0.1], layout='none')\n",
    "axs_f = axs.flat\n",
    "\n",
    "deg2rad = np.pi / 180.\n",
    "cs = 'b', 'purple', 'r'\n",
    "g_labs = [\n",
    "    r'$98^{\\rm th}\\,$-$\\,100^{\\rm th}$',\n",
    "    r'$49^{\\rm th}\\,$-$\\,51^{\\rm st}$',\n",
    "    r'$0^{\\rm th}\\,$-$\\,2^{\\rm nd}$',\n",
    "]\n",
    "\n",
    "for i_ax, i_z in enumerate([0,1,2]):\n",
    "    ax = axs_f[i_ax]\n",
    "    \n",
    "    ra, dec = s_zs[i_z]['ra', 'dec']\n",
    "    x, y = ra, np.sin(dec * deg2rad)\n",
    "    \n",
    "    lab = g_labs[i_ax]\n",
    "    if i_ax == 0:\n",
    "        lab = r'$z_{\\rm f}\\,{\\rm percentiles}=$' + lab\n",
    "    ax.scatter(x, y, s=30, c=cs[i_ax], edgecolors='none', marker='*', alpha=1, \n",
    "               label=lab)\n",
    "    \n",
    "    ra, dec, m = s_h['ra', 'dec', 'm_mean200']\n",
    "    x, y = ra, np.sin(dec * deg2rad)\n",
    "    s = (m)**(1./3.) * 1.5\n",
    "    ax.scatter(x, y, s=s, c='grey', edgecolors='none', zorder=-10, alpha=.8)\n",
    "    \n",
    "axs.label(r'\\rm RA', r'\\sin({\\rm Dec})').label_outer()\\\n",
    "    .lim([101., 269], [-0.15, 1.1]).leg(numpoints=1, markerscale=0, labelcolor='linecolor')"
   ]
  },
  {
   "cell_type": "code",
   "execution_count": null,
   "metadata": {},
   "outputs": [],
   "source": [
    "wp_kw = {'n_z_match': 5000, 'n_repeat': 5, 'pimax': 10.}"
   ]
  },
  {
   "cell_type": "code",
   "execution_count": null,
   "metadata": {},
   "outputs": [],
   "source": [
    "u_m = 1.0e10 / rc_samp.sim_info.cosmology.hubble\n",
    "m_h_edges = 10.0**np.array([11.0, 12.0, 13.0, 16.0]) / u_m\n",
    "wp_h2 = obspc.wps_of('s_halo', 'm_mean200', ps=None, qs=m_h_edges, in_simframe=True,\n",
    "    **wp_kw)"
   ]
  },
  {
   "cell_type": "code",
   "execution_count": null,
   "metadata": {},
   "outputs": [],
   "source": []
  },
  {
   "cell_type": "code",
   "execution_count": null,
   "metadata": {},
   "outputs": [],
   "source": [
    "wp_kw = {'n_z_match': 5000, 'n_repeat': 3, 'pimax': 40.}"
   ]
  },
  {
   "cell_type": "code",
   "execution_count": null,
   "metadata": {},
   "outputs": [],
   "source": [
    "wp_tot = obspc.wp_of('s_dwarf', **wp_kw)"
   ]
  },
  {
   "cell_type": "code",
   "execution_count": null,
   "metadata": {},
   "outputs": [],
   "source": [
    "wp_z = obspc.wps_of('s_dwarf', 'z_half', **wp_kw)"
   ]
  },
  {
   "cell_type": "code",
   "execution_count": null,
   "metadata": {},
   "outputs": [],
   "source": [
    "wp_spin = obspc.wps_of('s_dwarf', 'spin', **wp_kw)"
   ]
  },
  {
   "cell_type": "code",
   "execution_count": null,
   "metadata": {},
   "outputs": [],
   "source": [
    "u_m = 1.0e10 / rc_samp.sim_info.cosmology.hubble\n",
    "m_h_edges = 10.0**np.array([11.0, 12.0, 13.0, 16.0]) / u_m\n",
    "wp_h = obspc.wps_of('s_halo', 'm_mean200', ps=None, qs=m_h_edges,\n",
    "    **wp_kw)"
   ]
  },
  {
   "cell_type": "code",
   "execution_count": null,
   "metadata": {},
   "outputs": [],
   "source": [
    "data = DataDict({\n",
    "    'dwarfs': {\n",
    "        'z_f': wp_z, \n",
    "        'spin': wp_spin, \n",
    "        'tot': wp_tot,\n",
    "    },\n",
    "    'halos': wp_h,\n",
    "})"
   ]
  },
  {
   "cell_type": "code",
   "execution_count": null,
   "metadata": {},
   "outputs": [],
   "source": []
  },
  {
   "cell_type": "code",
   "execution_count": null,
   "metadata": {},
   "outputs": [],
   "source": [
    "'''\n",
    "with open(p_out, 'w') as f:\n",
    "    json.dump(data, f, default=json_default, indent=2)\n",
    "'''"
   ]
  },
  {
   "cell_type": "code",
   "execution_count": null,
   "metadata": {},
   "outputs": [],
   "source": [
    "p_out = ProjPaths.sim_dir_of(sim_info) / 'wp-elucid-large-simframe.json'\n",
    "with open(p_out) as f:\n",
    "    data = json.load(f)\n",
    "    data = parse_json_input(data)"
   ]
  },
  {
   "cell_type": "code",
   "execution_count": null,
   "metadata": {},
   "outputs": [],
   "source": [
    "wp_out = data\n",
    "\n",
    "cs_g = ['b', 'g', cs_set1[4], 'r', 'purple'][::-1]\n",
    "g_labs = [\n",
    "    r'$0^{\\rm th}\\,$-$\\,2^{\\rm nd}$',\n",
    "    r'$2^{\\rm nd}\\,$-$\\,33^{\\rm rd}$',\n",
    "    r'$33^{\\rm rd}\\,$-$\\,67^{\\rm th}$',\n",
    "    r'$67^{\\rm th}\\,$-$\\,98^{\\rm th}$',\n",
    "    r'$98^{\\rm th}\\,$-$\\,100^{\\rm th}$',\n",
    "]\n",
    "h_labs = [\n",
    "    r'$11.0 \\leqslant M_{\\rm h} < 12.0$',\n",
    "    r'$12.0 \\leqslant M_{\\rm h} < 13.0$',\n",
    "    r'$13.0 \\leqslant M_{\\rm h}$',\n",
    "]\n",
    "lws_h = np.linspace(1., 3.5, 4)\n",
    "key_labs = r'z_{\\rm f}', r'\\lambda'\n",
    "\n",
    "fig, axs = plot.subplots((2,2), share=(True, 'row'),\n",
    "    space=0.055, subsize=(5., 3.75), \n",
    "    margin=[0.02, 0.02, 0.08, 0.08], layout='none',\n",
    "    ratios=(None, [2, 1.]))\n",
    "axs_f = axs.flat\n",
    "\n",
    "leg_kw = dict(title_fontsize=13., labelspacing=.2, numpoints=1, \n",
    "              fontsize=13, labelcolor='linecolor')\n",
    "for i_res, key_prop in enumerate(['z_f', 'spin']):\n",
    "\n",
    "    axs_c = axs[:,i_res]\n",
    "    ax, ax_r = axs_c\n",
    "\n",
    "    wp_ref = wp_out['dwarfs/tot']\n",
    "    wps_g = wp_out[f'dwarfs/{key_prop}']\n",
    "    wps_h = wp_out['halos']\n",
    "    #wps_h = wp_h2\n",
    "    #wps_h = data_allvol['halos']\n",
    "\n",
    "    x, y, y_e, yr, yr_e = wp_with_ratio(wp_ref, wp_ref,)\n",
    "    axs_c.c('k')\n",
    "    ax.errorbar(x, y, yerr=y_e, zorder=20, lw=2, label=r'$\\rm Total$')\n",
    "    ax_r.errorbar([1.0e-10, 1.0e10], [1., 1.], yerr=[0., 0.],\n",
    "                    zorder=20, lw=2.)\n",
    "\n",
    "    for i, i_sub in enumerate(range(len(wps_g))):\n",
    "        axs_c.c(cs_g[i])\n",
    "        x, y, y_e, yr, yr_e = wp_with_ratio(wps_g[str(i_sub)], wp_ref,)\n",
    "        \n",
    "        ax.errorbar(x, y, yerr=y_e, zorder=10-i_sub, lw=4, label=g_labs[i_sub])\n",
    "        ax_r.errorbar(x, yr, yerr=yr_e, zorder=10-i_sub)\n",
    "        \n",
    "    for i, i_sub in enumerate(range(len(wps_h))):\n",
    "        axs_c.c('grey')\n",
    "        \n",
    "        x, y, y_e, yr, yr_e = wp_with_ratio(wps_h[str(i_sub)], wp_ref,)\n",
    "        \n",
    "        ax.errorbar(x, y, yerr=y_e, lw=lws_h[i])\n",
    "        ax_r.errorbar(x, yr, yerr=yr_e, label=h_labs[i], lw=lws_h[i])\n",
    "\n",
    "    ax.leg(loc='ll', \n",
    "             title=r'${\\rm Dwarfs},\\,%s\\ {\\rm percentiles}$'%(key_labs[i_res]), \n",
    "             **leg_kw, ncol=2)    \n",
    "\n",
    "axs[0].scale('log', 'log').lim([2.00e-2, 15], [0.1, 2.0e3])\n",
    "axs[1].lim(y=[-0.15, 4.75])\n",
    "\n",
    "axs[0,0].label(y=r'w_{\\rm p}(r_{\\rm p})\\,[h^{-1}{\\rm Mpc}]')\n",
    "axs[1,0].label(y=r'\\rm Ratio')\\\n",
    "    .leg(loc=(.5, 2.6), title=r'${\\rm Halos},\\,M_{\\rm h} / {\\rm M}_\\odot$', **leg_kw)\n",
    "axs[1].label(r'r_{\\rm p}\\,[h^{-1}{\\rm Mpc}]')\n",
    "axs.label_outer()\n",
    "\n",
    "# ProjPaths.save_fig('fig_2pccf_dmo.pdf')"
   ]
  },
  {
   "cell_type": "code",
   "execution_count": null,
   "metadata": {},
   "outputs": [],
   "source": []
  },
  {
   "cell_type": "code",
   "execution_count": null,
   "metadata": {},
   "outputs": [],
   "source": [
    "p_wc = ProjPaths.obs_dir / 'weight_curve/z004-005'\n",
    "rc_samp04 = ReconSample(sim_info, p_data, p_wc, \n",
    "    m_h_range_in_sol=(10**10.5, 10**11.))"
   ]
  },
  {
   "cell_type": "code",
   "execution_count": null,
   "metadata": {},
   "outputs": [],
   "source": [
    "p_wc = ProjPaths.obs_dir / 'weight_curve/z005-006'\n",
    "rc_samp05 = ReconSample(sim_info, p_data, p_wc, \n",
    "    m_h_range_in_sol=(10**10.5, 10**11.))"
   ]
  },
  {
   "cell_type": "code",
   "execution_count": null,
   "metadata": {},
   "outputs": [],
   "source": []
  },
  {
   "cell_type": "code",
   "execution_count": null,
   "metadata": {},
   "outputs": [],
   "source": [
    "obspc04 = ObsProjCross(rc_samp04)"
   ]
  },
  {
   "cell_type": "code",
   "execution_count": null,
   "metadata": {},
   "outputs": [],
   "source": [
    "obspc05 = ObsProjCross(rc_samp05)"
   ]
  },
  {
   "cell_type": "code",
   "execution_count": null,
   "metadata": {},
   "outputs": [],
   "source": []
  },
  {
   "cell_type": "code",
   "execution_count": null,
   "metadata": {},
   "outputs": [],
   "source": [
    "wp_tot05 = obspc05.wp_of('s_dwarf', **wp_kw)"
   ]
  },
  {
   "cell_type": "code",
   "execution_count": null,
   "metadata": {},
   "outputs": [],
   "source": [
    "wp_tot04 = obspc04.wp_of('s_dwarf', **wp_kw)"
   ]
  },
  {
   "cell_type": "code",
   "execution_count": null,
   "metadata": {},
   "outputs": [],
   "source": [
    "data = DataDict({\n",
    "    'dwarfs': {\n",
    "        'z': wp_z, 'spin': wp_spin, 'tot': wp_tot,\n",
    "    },\n",
    "    'halos': wp_h,\n",
    "})"
   ]
  },
  {
   "cell_type": "code",
   "execution_count": null,
   "metadata": {},
   "outputs": [],
   "source": [
    "path = ProjPaths.sim_dir_of(sim_info) / 'wp-elucid.json'\n",
    "with open(path, 'w') as f:\n",
    "    json.dump(data, f, default=json_default, indent=2)"
   ]
  },
  {
   "cell_type": "code",
   "execution_count": null,
   "metadata": {},
   "outputs": [],
   "source": [
    "path = ProjPaths.sim_dir_of(sim_info) / 'wp-elucid.json'\n",
    "with open(path) as f:\n",
    "    data = json.load(f)\n",
    "    data = parse_json_input(data)"
   ]
  },
  {
   "cell_type": "code",
   "execution_count": null,
   "metadata": {},
   "outputs": [],
   "source": [
    "cs_g = ['b', 'g', 'orange', 'r', 'purple'][::-1]\n",
    "g_labs = [\n",
    "    r'$0^{\\rm th}\\,$-$\\,2^{\\rm nd}$',\n",
    "    r'$2^{\\rm nd}\\,$-$\\,33^{\\rm rd}$',\n",
    "    r'$33^{\\rm rd}\\,$-$\\,67^{\\rm th}$',\n",
    "    r'$67^{\\rm th}\\,$-$\\,98^{\\rm th}$',\n",
    "    r'$98^{\\rm th}\\,$-$\\,100^{\\rm th}$',\n",
    "]\n",
    "h_labs = [\n",
    "    r'$11.5 \\leqslant M_{\\rm h} < 12.0$',\n",
    "    r'$12.0 \\leqslant M_{\\rm h} < 12.5$',\n",
    "    r'$12.5 \\leqslant M_{\\rm h} < 13.0$',\n",
    "    r'$13.0 \\leqslant M_{\\rm h}$',\n",
    "]\n",
    "lws_h = np.linspace(1., 3.5, 4)"
   ]
  },
  {
   "cell_type": "code",
   "execution_count": null,
   "metadata": {},
   "outputs": [],
   "source": [
    "fig, axs = plot.subplots((2,2), share=(True, 'row'),\n",
    "    space=0.03, subsize=(5., 3.75), \n",
    "    margin=[0.02, 0.02, 0.08, 0.08], layout='none',\n",
    "    ratios=(None, [2, 1.]))\n",
    "axs_f = axs.flat\n",
    "\n",
    "ax = axs_f[0]\n",
    "x1, y1, y1_e = wp_tot04['lg_rs_c', 'wp', 'wp_sd']\n",
    "ax.errorbar(x, y1, yerr=y1_e, zorder=10-i_sub, lw=10, c='k')\n",
    "\n",
    "ax = axs_f[0]\n",
    "x1, y1, y1_e = wp_tot05['lg_rs_c', 'wp', 'wp_sd']\n",
    "ax.errorbar(x, y1, yerr=y1_e, zorder=10-i_sub, lw=10, c='r')\n",
    "\n",
    "for i_res, key_prop in enumerate(['z', 'spin']):\n",
    "\n",
    "    axs_c = axs[:,i_res]\n",
    "    ax, ax_r = axs_c\n",
    "\n",
    "    xis_g = data['dwarfs'][key_prop]\n",
    "    xi_ref = data['dwarfs/tot']\n",
    "\n",
    "    x0, y0, y0_e = xi_ref['lg_rs_c', 'wp', 'wp_sd']\n",
    "    x = 10.0**x0\n",
    "    axs_c.c('k')\n",
    "    ax.errorbar(x, y0, yerr=y0_e, zorder=20, lw=2)\n",
    "    ax_r.errorbar(x, np.ones_like(x), yerr=np.zeros_like(x), \n",
    "                    zorder=20, lw=2., label=r'$\\rm Total$')\n",
    "\n",
    "    for i, i_sub in enumerate(range(len(xis_g))):\n",
    "        axs_c.c(cs_g[i])\n",
    "        x1, y1, y1_e = xis_g[str(i_sub)]['lg_rs_c', 'wp', 'wp_sd']\n",
    "        \n",
    "        y_r = Num.safe_div(y1, y0)\n",
    "        y_r_e = Num.safe_div(y1_e, y0)\n",
    "        \n",
    "        ax.errorbar(x, y1, yerr=y1_e, zorder=10-i_sub, lw=4)\n",
    "        ax_r.errorbar(x, y_r, yerr=y_r_e, zorder=10-i_sub, label=g_labs[i_sub])\n",
    "        \n",
    "    xis_h = data['halos']\n",
    "    for i, i_sub in enumerate([0,1,2,3]):\n",
    "        axs_c.c('grey')\n",
    "        \n",
    "        x1, y1, y1_e = xis_h[str(i_sub)]['lg_rs_c', 'wp', 'wp_sd']\n",
    "        \n",
    "        y_r = Num.safe_div(y1, y0)\n",
    "        y_r_e = Num.safe_div(y1_e, y0)\n",
    "        \n",
    "        ax.errorbar(x, y1, yerr=y1_e, lw=lws_h[i], label=h_labs[i])\n",
    "        ax_r.errorbar(x, y_r, yerr=y_r_e, lw=lws_h[i])\n",
    "\n",
    "\n",
    "axs[0].scale('log', 'log').lim([1.00e-2, 18], [0.2, 2.0e3])\n",
    "axs[1].lim(y=[0.2, 4.75])\n",
    "\n",
    "leg_kw = dict(title_fontsize=13., labelspacing=.2, numpoints=1, fontsize=13)\n",
    "axs[0,0].label(y=r'w_{\\rm p}(r_{\\rm p})\\,[h^{-1}{\\rm Mpc}]')\\\n",
    "    .leg(loc='ur', title=r'${\\rm Halos},\\,M_{\\rm h} / {\\rm M}_\\odot$', **leg_kw)\n",
    "axs[1,0].leg(loc=(0.03, 1.1), title=r'${\\rm Dwarfs},\\,z_{\\rm f}\\ {\\rm percentiles}$',**leg_kw, ncol=2)\\\n",
    "    .label(y=r'\\rm Ratio')\n",
    "axs[1,1].leg(loc=(0.03, 1.1), title=r'${\\rm Dwarfs},\\ \\lambda\\ {\\rm percentiles}$',**leg_kw, ncol=2)\n",
    "axs[1].label(r'r_{\\rm p}\\,[h^{-1}{\\rm Mpc}]')\n",
    "axs.label_outer()\n",
    "\n",
    "ax = axs_f[1]\n",
    "ax.text(r'\\rm ELUCID', (.94, .94), ha='right')\n",
    "\n",
    "# ProjPaths.save_fig('fig_2pccf_dmo.pdf')\n",
    "# ProjPaths.save_fig('fig_2pccf_dmo_with_ej.pdf')\n",
    "#ProjPaths.save_fig('fig_2pccf_dmo_rho_0.pdf')"
   ]
  },
  {
   "cell_type": "code",
   "execution_count": null,
   "metadata": {},
   "outputs": [],
   "source": [
    "fig, axs = plot.subplots((2,2), share=(True, 'row'),\n",
    "    space=0.03, subsize=(5., 3.75), \n",
    "    margin=[0.02, 0.02, 0.08, 0.08], layout='none',\n",
    "    ratios=(None, [2, 1.]))\n",
    "axs_f = axs.flat\n",
    "\n",
    "ax = axs_f[0]\n",
    "x1, y1, y1_e = wp_tot04['lg_rs_c', 'wp', 'wp_sd']\n",
    "ax.errorbar(x, y1, yerr=y1_e, zorder=10-i_sub, lw=10, c='k')\n",
    "\n",
    "ax = axs_f[0]\n",
    "x1, y1, y1_e = wp_tot05['lg_rs_c', 'wp', 'wp_sd']\n",
    "ax.errorbar(x, y1, yerr=y1_e, zorder=10-i_sub, lw=10, c='r')\n",
    "\n",
    "for i_res, key_prop in enumerate(['z', 'spin']):\n",
    "\n",
    "    axs_c = axs[:,i_res]\n",
    "    ax, ax_r = axs_c\n",
    "\n",
    "    xis_g = data['dwarfs'][key_prop]\n",
    "    xi_ref = data['dwarfs/tot']\n",
    "\n",
    "    x0, y0, y0_e = xi_ref['lg_rs_c', 'wp', 'wp_sd']\n",
    "    x = 10.0**x0\n",
    "    axs_c.c('k')\n",
    "    ax.errorbar(x, y0, yerr=y0_e, zorder=20, lw=2)\n",
    "    ax_r.errorbar(x, np.ones_like(x), yerr=np.zeros_like(x), \n",
    "                    zorder=20, lw=2., label=r'$\\rm Total$')\n",
    "\n",
    "    for i, i_sub in enumerate(range(len(xis_g))):\n",
    "        axs_c.c(cs_g[i])\n",
    "        x1, y1, y1_e = xis_g[str(i_sub)]['lg_rs_c', 'wp', 'wp_sd']\n",
    "        \n",
    "        y_r = Num.safe_div(y1, y0)\n",
    "        y_r_e = Num.safe_div(y1_e, y0)\n",
    "        \n",
    "        ax.errorbar(x, y1, yerr=y1_e, zorder=10-i_sub, lw=4)\n",
    "        ax_r.errorbar(x, y_r, yerr=y_r_e, zorder=10-i_sub, label=g_labs[i_sub])\n",
    "        \n",
    "    xis_h = data['halos']\n",
    "    for i, i_sub in enumerate([0,1,2,3]):\n",
    "        axs_c.c('grey')\n",
    "        \n",
    "        x1, y1, y1_e = xis_h[str(i_sub)]['lg_rs_c', 'wp', 'wp_sd']\n",
    "        \n",
    "        y_r = Num.safe_div(y1, y0)\n",
    "        y_r_e = Num.safe_div(y1_e, y0)\n",
    "        \n",
    "        ax.errorbar(x, y1, yerr=y1_e, lw=lws_h[i], label=h_labs[i])\n",
    "        ax_r.errorbar(x, y_r, yerr=y_r_e, lw=lws_h[i])\n",
    "\n",
    "\n",
    "axs[0].scale('log', 'log').lim([1.00e-2, 18], [0.2, 2.0e3])\n",
    "axs[1].lim(y=[0.2, 4.75])\n",
    "\n",
    "leg_kw = dict(title_fontsize=13., labelspacing=.2, numpoints=1, fontsize=13)\n",
    "axs[0,0].label(y=r'w_{\\rm p}(r_{\\rm p})\\,[h^{-1}{\\rm Mpc}]')\\\n",
    "    .leg(loc='ur', title=r'${\\rm Halos},\\,M_{\\rm h} / {\\rm M}_\\odot$', **leg_kw)\n",
    "axs[1,0].leg(loc=(0.03, 1.1), title=r'${\\rm Dwarfs},\\,z_{\\rm f}\\ {\\rm percentiles}$',**leg_kw, ncol=2)\\\n",
    "    .label(y=r'\\rm Ratio')\n",
    "axs[1,1].leg(loc=(0.03, 1.1), title=r'${\\rm Dwarfs},\\ \\lambda\\ {\\rm percentiles}$',**leg_kw, ncol=2)\n",
    "axs[1].label(r'r_{\\rm p}\\,[h^{-1}{\\rm Mpc}]')\n",
    "axs.label_outer()\n",
    "\n",
    "ax = axs_f[1]\n",
    "ax.text(r'\\rm ELUCID', (.94, .94), ha='right')\n",
    "\n",
    "# ProjPaths.save_fig('fig_2pccf_dmo.pdf')\n",
    "# ProjPaths.save_fig('fig_2pccf_dmo_with_ej.pdf')\n",
    "#ProjPaths.save_fig('fig_2pccf_dmo_rho_0.pdf')"
   ]
  },
  {
   "cell_type": "markdown",
   "metadata": {},
   "source": [
    "### Weight curve"
   ]
  },
  {
   "cell_type": "code",
   "execution_count": null,
   "metadata": {},
   "outputs": [],
   "source": [
    "p_wc = ProjPaths.obs_dir / 'weight_curve//diffuse_dwarf_z_dis'\n",
    "\n",
    "z = np.linspace(0., .12, 128)\n",
    "f = rc_samp.f_at_z(z)\n",
    "f = f / f.sum()\n",
    "\n",
    "fig, ax = plot.subplots(1, figsize=4.5, margin=[0.1, 0.1, 0.1, 0.1], layout='none')\n",
    "\n",
    "ax.plot(z, f)\n",
    "\n",
    "s = rc_samp.ramdom_subs_dwarf()\n",
    "w = rc_samp.find_weight(s['z'])\n",
    "\n",
    "h, e = np.histogram(s['z'], range=(0., .12), bins=128, weights=w)\n",
    "x = .5 * (e[:-1] + e[1:])\n",
    "ax.plot(x, h, c='r')"
   ]
  },
  {
   "cell_type": "markdown",
   "metadata": {},
   "source": [
    "### Tidal Field"
   ]
  },
  {
   "cell_type": "code",
   "execution_count": null,
   "metadata": {},
   "outputs": [],
   "source": [
    "path = ProjPaths.sim_dir_of(sim_info) / 'fields' / 'tidal.s99.sm1.hdf5'\n",
    "h5.File.ls_from(path)"
   ]
  },
  {
   "cell_type": "code",
   "execution_count": null,
   "metadata": {},
   "outputs": [],
   "source": [
    "# generate tidal field\n",
    "path = ProjPaths.sim_dir_of(sim_info) / 'density_field.99.hdf5'\n",
    "with h5.File(path) as f:\n",
    "    rho_x = cubic_box.DensityField.load(f)\n",
    "\n",
    "tf = cubic_box.TidalField(n_workers=8, r_sm=1.0)\n",
    "res = tf.run(rho_x)\n",
    "\n",
    "path = ProjPaths.sim_dir_of(sim_info) / 'tidal_field.99.sm1.hdf5'\n",
    "with h5.File(path, 'w') as f:\n",
    "    res.dump(f)"
   ]
  },
  {
   "cell_type": "code",
   "execution_count": null,
   "metadata": {},
   "outputs": [],
   "source": [
    "# generate tidal field\n",
    "path = ProjPaths.sim_dir_of(sim_info) / 'density_field.99.hdf5'\n",
    "with h5.File(path) as f:\n",
    "    rho_x = cubic_box.DensityField.load(f)\n",
    "\n",
    "tf = cubic_box.TidalField(n_workers=8, r_sm=2.0)\n",
    "res = tf.run(rho_x)\n",
    "\n",
    "path = ProjPaths.sim_dir_of(sim_info) / 'tidal_field.99.sm2.hdf5'\n",
    "with h5.File(path, 'w') as f:\n",
    "    res.dump(f)"
   ]
  },
  {
   "cell_type": "code",
   "execution_count": null,
   "metadata": {},
   "outputs": [],
   "source": [
    "path = ProjPaths.sim_dir_of(sim_info) / 'tidal_field.99.sm2.hdf5'\n",
    "delta_sm_k = h5.File.load_from(path, 'delta_sm_k')\n",
    "fft = cubic_box.fft.NdRealFFT(n_workers=8, norm='ortho')\n",
    "delta_sm_x = fft.backward(delta_sm_k)\n",
    "h5.File.dump_to(path, delta_sm_x, key='delta_sm_x')"
   ]
  },
  {
   "cell_type": "code",
   "execution_count": null,
   "metadata": {},
   "outputs": [],
   "source": [
    "fig, axs = plot.subplots((3,2), share=True, space=0, \n",
    "    subsize=(6.25, 6.25), margin=[.03, .01, .04, .06], layout='none')\n",
    "axs_f = axs.flat\n",
    "\n",
    "l_grid = clsf.mesh.l_grid\n",
    "l_box = sim_info.box_size\n",
    "    \n",
    "z0s = [20., 100., 180.]\n",
    "cs = 'b', 'r'\n",
    "labs = r'$z_{\\rm h,1/2} > 2.75$', r'$ 0.9 \\leqslant z_{\\rm h,1/2} < 1$'\n",
    "for i_z, z0 in enumerate(z0s):\n",
    "    z1 = z0 + 10.0\n",
    "    dz = 0.    \n",
    "    zi0, zi1 = int((z0-dz) / l_grid), int((z1+dz) / l_grid)\n",
    "    im = clsf.is_filament[:, :, zi0:zi1].sum(-1) >= 1\n",
    "\n",
    "    for i, s_g in enumerate([1,2]):\n",
    "        ax = axs[i_z, i]\n",
    "        ax._raw.imshow(im.T, origin='lower', \n",
    "                    extent=[0., l_box, 0., l_box], \n",
    "                    cmap='Greys', vmin=0., vmax=2., aspect='auto')\n",
    "        \n",
    "        if i_z == 0:\n",
    "            ax._raw.set_title(labs[i], color=cs[i])        \n",
    "\n",
    "axs.lim([0., l_box], [0., l_box])\n",
    "axs.label(x=r'x\\,[h^{-1}{\\rm Mpc}]', y=r'y\\,[h^{-1}{\\rm Mpc}]').label_outer();\n",
    "\n",
    "# ProjPaths.save_fig('tng_dark_300_map_with_cosmic_web.pdf')"
   ]
  },
  {
   "cell_type": "markdown",
   "metadata": {},
   "source": [
    "### Observation samples"
   ]
  },
  {
   "cell_type": "code",
   "execution_count": null,
   "metadata": {},
   "outputs": [],
   "source": [
    "obs_diffuse = obs_catalogs.diffuse_dwarfs"
   ]
  },
  {
   "cell_type": "code",
   "execution_count": null,
   "metadata": {},
   "outputs": [],
   "source": [
    "obs_diffuse.data.keys()"
   ]
  },
  {
   "cell_type": "code",
   "execution_count": null,
   "metadata": {},
   "outputs": [],
   "source": [
    "np.zeros((4,4,4,3))[[1,2],[2,1],[2,1]]"
   ]
  },
  {
   "cell_type": "code",
   "execution_count": null,
   "metadata": {},
   "outputs": [],
   "source": [
    "obs_diffuse = obs_catalogs.diffuse_dwarfs\n",
    "obs_compact = obs_catalogs.compact_dwarfs\n",
    "\n",
    "frame = SimFrameSdssL500(sim_info)\n",
    "mask = ReconstAreaMaskSdssL500(sim_info)\n",
    "\n",
    "path = ProjPaths.sim_dir_of(sim_info) / 'tidal_field.99.sm1.hdf5'\n",
    "with h5.File(path) as f:\n",
    "    clsf = cubic_box.TidalClassifier.new_from_file(f, lam_th=0.2)\n",
    "    \n",
    "path = ProjPaths.sim_dir_of(sim_info) / 'tidal_field.99.sm2.hdf5'\n",
    "with h5.File(path) as f:\n",
    "    f_interp = cubic_box.cosmic_web.FieldInterpolator.new_density_field_from_file(\n",
    "        f, key='delta_x')\n",
    "f_interp"
   ]
  },
  {
   "cell_type": "code",
   "execution_count": null,
   "metadata": {},
   "outputs": [],
   "source": [
    "fig, ax = plot.subplots(1, figsize=4.5, extent=[1., 1., 0., 0.], layout='none')\n",
    "\n",
    "kw = dict(bins=30, density=True, range=[0.0, 0.08])\n",
    "\n",
    "ra, dec, z = obs_diffuse.data['ra', 'dec', 'redshift']\n",
    "ax.hist(z, **kw)\n",
    "\n",
    "ra, dec, z = obs_compact.data['ra', 'dec', 'redshift']\n",
    "ax.hist(z, **kw)"
   ]
  },
  {
   "cell_type": "markdown",
   "metadata": {},
   "source": [
    "## Environment of UDG Candidates"
   ]
  },
  {
   "cell_type": "code",
   "execution_count": null,
   "metadata": {},
   "outputs": [],
   "source": [
    "sim_info = sims.predefined['elucid_ext_v2']\n",
    "p_data = ProjPaths.sim_dir_of(sim_info) / 'z0_all.hdf5'"
   ]
  },
  {
   "cell_type": "code",
   "execution_count": null,
   "metadata": {},
   "outputs": [],
   "source": [
    "man_kw = {'add_rsd': False, 'dmo': True, \n",
    "          #'m_h_range_in_sol': (10**10.79, 10**10.81)\n",
    "          'm_h_range_in_sol': (10**10.5, 10**11)\n",
    "}\n",
    "sman = SubSampleManager(sim_info, p_data, **man_kw)"
   ]
  },
  {
   "cell_type": "code",
   "execution_count": null,
   "metadata": {},
   "outputs": [],
   "source": [
    "s_dwarf = sman.s_dwarf\n",
    "s_dwarf = s_dwarf.subset_by_value('z', lo=0.02, hi=0.03).subset_by_value('is_recon_large', eq=True)\n",
    "s_dwarf"
   ]
  },
  {
   "cell_type": "code",
   "execution_count": null,
   "metadata": {},
   "outputs": [],
   "source": [
    "tf = obs_catalogs.tidal_fields.resim_z0_sm1\n",
    "rng = Rng(0)"
   ]
  },
  {
   "cell_type": "markdown",
   "metadata": {},
   "source": [
    "### $z_{\\rm f}$ vs web type"
   ]
  },
  {
   "cell_type": "code",
   "execution_count": null,
   "metadata": {},
   "outputs": [],
   "source": [
    "pz_ranges = [0.0, 0.02], [0.49, 0.51], [0.98, 1.00]\n",
    "pfs = {}\n",
    "for i_pz, pz_range in enumerate(pz_ranges):\n",
    "    s = s_dwarf.subset_by_percentile('z_half', *pz_range)\n",
    "    env = GalEnvSimed(s, tf, rng=rng)\n",
    "    pf = env.profiles(n_bootstrap=5)\n",
    "    pfs[str(i_pz)] = pf"
   ]
  },
  {
   "cell_type": "code",
   "execution_count": null,
   "metadata": {},
   "outputs": [],
   "source": [
    "fig, ax = plot.subplots(1, figsize=5.5, margin=[0.1, 0.1, 0.1, 0.1], layout='none')\n",
    "\n",
    "cs = 'r', 'g', 'b'\n",
    "lab_subs = r'$\\rm 0\\%$-$2\\%$', r'$\\rm 49\\%$-$51\\%$', r'$\\rm 98\\%$-$100\\%$' \n",
    "\n",
    "lws = 1, 1, 3, 3\n",
    "lss = (0,(1,2)), (0,(3,1)), (0, (2,1)), '-'\n",
    "\n",
    "for i_samp in 0, 1, 2:\n",
    "    pf = pfs[str(i_samp)]\n",
    "    ax.c(cs[i_samp])\n",
    "    for i_t in range(4):\n",
    "        x = pf['lr']\n",
    "        (y, e) = pf['f_webs'][i_t]\n",
    "        lab = None \n",
    "        if i_z == 0 and i_t == 3:\n",
    "            lab = lab_subs[i_samp]\n",
    "        ax.errorbar(x, y, yerr=e, lw=lws[i_t], ls=lss[i_t], \n",
    "                    capsize=1.5, elinewidth=1.5, marker='s', ms=6., label=lab)\n",
    "\n",
    "ax.lim(y=[-0.05, 0.85])\n",
    "ax.leg(\n",
    "    numpoints=1, labelspacing=0, loc='ur',\n",
    "    labelcolor='linecolor', handlelength=0, title=r'$z_{\\rm f}\\ {\\rm percents}$')\n",
    "ax.label(r'\\log\\,r\\ [h^{-1}{\\rm Mpc}]', r'\\rm Fraction').label_outer()\n",
    "\n",
    "#ProjPaths.save_fig('fig_gal_env_web_frac_by-zf.pdf')"
   ]
  },
  {
   "cell_type": "code",
   "execution_count": null,
   "metadata": {},
   "outputs": [],
   "source": [
    "def web_tp_profile(gal_env: GalEnvSimed):\n",
    "    samp, tf, rng = gal_env.samp, gal_env.tf, gal_env.rng\n",
    "    web_t = tf.wet_t_at(samp['x'])\n",
    "    out = {}\n",
    "    for i_t in 0, 1, 2, 3:\n",
    "        sel = web_t == i_t\n",
    "        if sel.sum() == 0:\n",
    "            continue\n",
    "        samp_t = samp.subset(sel)\n",
    "        pf = GalEnvSimed(samp_t, tf, rng=rng).profiles(n_bootstrap=5)\n",
    "        out[str(i_t)] = pf\n",
    "    out['all'] = gal_env.profiles(n_bootstrap=5)\n",
    "    return out"
   ]
  },
  {
   "cell_type": "code",
   "execution_count": null,
   "metadata": {},
   "outputs": [],
   "source": [
    "pz_ranges = [0.0, 0.02], [0.49, 0.51], [0.98, 1.00]\n",
    "pfs_t = {}\n",
    "for i_pz, pz_range in enumerate(pz_ranges):\n",
    "    s = s_dwarf.subset_by_percentile('z_half', *pz_range)\n",
    "    env = GalEnvSimed(s, tf, rng=rng)\n",
    "    pf = web_tp_profile(env)\n",
    "    pfs_t[str(i_pz)] = pf"
   ]
  },
  {
   "cell_type": "code",
   "execution_count": null,
   "metadata": {},
   "outputs": [],
   "source": [
    "fig, axs = plot.subplots((3,1), share=(True, False), space=0.03, \n",
    "    subsize=(5.5, 3.), margin=[0.02, 0.02, 0.06, 0.145], layout='none')\n",
    "axs_f = axs.flat\n",
    "\n",
    "lws = 1, 1, 3, 3\n",
    "lss = (0,(1,2)), (0,(3,1)), (0, (2,1)), '-'\n",
    "cs = 'r', 'g', 'b'\n",
    "lab_subs = r'$\\rm 0\\%$-$2\\%$', r'$\\rm 49\\%$-$51\\%$', r'$\\rm 98\\%$-$100\\%$' \n",
    "\n",
    "eb_kw = dict(lw=2.5, capsize=1.5, elinewidth=1.5, marker='s', ms=7.)\n",
    "ef_kw = dict(lw=1.5, fill_between_kw={'lw': 0, 'alpha': .4})\n",
    "\n",
    "for i_sub in range(3):\n",
    "    axs.c(cs[i_sub])\n",
    "    pf = pfs_t[f'{i_sub}']\n",
    "    \n",
    "    ax = axs[0]\n",
    "    _pf = pf['all']\n",
    "    x, (y, e) = _pf['lr'], _pf['den_prof']\n",
    "    ax.errorfill(x, y, yerr=e, **ef_kw, label=lab_subs[i_sub])\n",
    "\n",
    "    ax = axs_f[1]\n",
    "    _pf = pf['2']\n",
    "    x, (y, e) = _pf['lr'], _pf['den_prof']\n",
    "    ax.errorfill(x, y, yerr=e, **ef_kw)\n",
    "        \n",
    "    ax = axs_f[2]\n",
    "    _pf = pf['1']\n",
    "    x, (y, e) = _pf['lr'], _pf['den_prof']\n",
    "    ax.errorfill(x, y, yerr=e, **ef_kw)\n",
    "\n",
    "txs = r'\\rm In\\ all\\ web\\ types', r'\\rm In\\ filament', r'\\rm In\\ sheet'\n",
    "for i, tx in enumerate(txs):\n",
    "    axs[i].text(tx, (.94, .9), ha='right')\n",
    "        \n",
    "axs.label(r'\\log\\,r\\ [h^{-1}{\\rm Mpc}]', r'\\rho/\\bar{\\rho}')\\\n",
    "    .label_outer()\n",
    "\n",
    "ax = axs_f[0]        \n",
    "ax.lim([-0.05, 1.15],[0.85, 5.25]).leg(\n",
    "    numpoints=1, labelspacing=0, loc=(.62, .52), \n",
    "    labelcolor='linecolor', handlelength=0, title=r'$z_{\\rm f}\\ {\\rm percents}$')\n",
    "\n",
    "ax = axs_f[1]\n",
    "ax.lim(y=[0.95, 5.25])\n",
    "\n",
    "ax = axs_f[2]\n",
    "ax.lim(y=[0.55, 1.7])\n",
    "\n",
    "#ProjPaths.save_fig('fig_gal_env_profiles-by-zf.pdf')"
   ]
  },
  {
   "cell_type": "code",
   "execution_count": null,
   "metadata": {},
   "outputs": [],
   "source": []
  },
  {
   "cell_type": "markdown",
   "metadata": {},
   "source": [
    "## Galaxy-Web Correlation"
   ]
  },
  {
   "cell_type": "code",
   "execution_count": null,
   "metadata": {},
   "outputs": [],
   "source": [
    "info = sims.predefined['elucid']\n",
    "sim_dir = ProjPaths.man_sim_dir(info)\n",
    "g_rng = Rng(0)\n",
    "frame = SimFrameSdssL500(info)\n",
    "\n",
    "tf = obs_catalogs.tidal_fields.dom_z0_sm1\n",
    "#tf = obs_catalogs.tidal_fields.resim_z0_sm1"
   ]
  },
  {
   "cell_type": "code",
   "execution_count": null,
   "metadata": {},
   "outputs": [],
   "source": [
    "rc_samps = obs_catalogs.recons_samples\n",
    "\n",
    "dwarf_samples: DataDict[str, obs_catalogs.ReconSample] = DataDict({\n",
    "    'diffuse': DataDict({\n",
    "        'all': rc_samps.diffuse_dwarfs,\n",
    "    }),\n",
    "    'compact': DataDict({\n",
    "        'all': rc_samps.compact_dwarfs,\n",
    "    }),\n",
    "    'group': DataDict({\n",
    "        'all': rc_samps.groups,\n",
    "    })\n",
    "})\n",
    "\n",
    "for i_k, k in enumerate(('diffuse', 'compact', 'group')):\n",
    "    s_list = dwarf_samples[k]\n",
    "    s_all = s_list['all']\n",
    "    \n",
    "    z_cor = s_all.data['z_cor']\n",
    "    if i_k != 2:\n",
    "        m_s = 10.0 ** s_all.data['log_m_s'] * (info.cosmology.hubble**-2.)\n",
    "        print(np.log10(m_s).min())\n",
    "        sel = (m_s > 10**8.5)&(z_cor < 0.04)\n",
    "        s_complete = s_all.subset_by(sel)\n",
    "        s_list['complete'] = s_complete\n",
    "    \n",
    "    s_z23 = s_all.subset_by_val('z_cor', lo=0.02, hi=0.03)\n",
    "    s_z34 = s_all.subset_by_val('z_cor', lo=0.03, hi=0.04)\n",
    "    s_z45 = s_all.subset_by_val('z_cor', lo=0.04, hi=0.05)\n",
    "    s_z56 = s_all.subset_by_val('z_cor', lo=0.05, hi=0.06)\n",
    "    s_z2 = s_all.subset_by_val('z_cor', hi=0.02)\n",
    "    sel = (z_cor <= 0.02) | (z_cor >= 0.03)\n",
    "    s_zexcl23 = s_all.subset_by(sel)\n",
    "    \n",
    "    s_list |= {\n",
    "        'z23': s_z23,\n",
    "        'z34': s_z34,\n",
    "        'z45': s_z45,\n",
    "        'z56': s_z56,\n",
    "        'z2': s_z2,\n",
    "        'zexcl23': s_zexcl23,\n",
    "    }"
   ]
  },
  {
   "cell_type": "code",
   "execution_count": null,
   "metadata": {},
   "outputs": [],
   "source": [
    "dwarf_samples"
   ]
  },
  {
   "cell_type": "code",
   "execution_count": null,
   "metadata": {},
   "outputs": [],
   "source": [
    "# old\n",
    "s_dwarf\n",
    "samps = rc_samps.diffuse_dwarfs, rc_samps.compact_dwarfs\n",
    "\n",
    "samps_z23 = [s.subset_by_val('z_cor', 0.02, 0.03) for s in samps]\n",
    "samps_z2 = [s.subset_by_val('z_cor', hi=0.02) for s in samps]\n",
    "\n",
    "samp_grp = rc_samps.groups\n",
    "samp_grp_z23 = samp_grp.subset_by_val('z_cor', 0.02, 0.03)"
   ]
  },
  {
   "cell_type": "markdown",
   "metadata": {},
   "source": [
    "### Field images"
   ]
  },
  {
   "cell_type": "code",
   "execution_count": null,
   "metadata": {},
   "outputs": [],
   "source": [
    "f = cubic_box.Field.new_by_data(tf.delta + 1., tf.mesh)\n",
    "f_interp = cubic_box.cosmic_web.FieldInterpolator(f)\n",
    "f_interp_ts = []\n",
    "for i in range(4): \n",
    "    f = (tf.n_lams == i)\n",
    "    f = cubic_box.Field.new_by_data(f.astype(float), tf.mesh)\n",
    "    f = cubic_box.cosmic_web.FieldInterpolator(f)\n",
    "    f_interp_ts.append(f)"
   ]
  },
  {
   "cell_type": "code",
   "execution_count": null,
   "metadata": {},
   "outputs": [],
   "source": [
    "def img_get_group(samp: obs_catalogs.ReconSample):\n",
    "    hubble = info.cosmology.hubble\n",
    "    m_h_lb = 10**12.0 * hubble\n",
    "    samp_grp_slice = samp.subset_by_val('m_group', lo=m_h_lb)\n",
    "    \n",
    "    ra, dec, m = samp_grp_slice.data['ra', 'dec', 'm_group']\n",
    "    x, y = ra, np.sin(dec * np.pi / 180.)\n",
    "    s = m**(1./3.)\n",
    "    s = s / s.max() * 100\n",
    "    return pd.DataFrame({'RA': x, 'sin_Dec': y, 'marker_size': s})\n",
    "\n",
    "def img_get_dwarf(samp: obs_catalogs.ReconSample, n_out=None, rng=g_rng):\n",
    "    ra, dec, x_sim_cor = samp.data['ra', 'dec', 'x_sim_cor']\n",
    "    x, y = ra, np.sin(dec * np.pi / 180.)\n",
    "    web_t = tf.wet_t_at(x_sim_cor)\n",
    "    if n_out is not None:\n",
    "        ids = rng.choice(len(x), n_out, replace=False)\n",
    "        x, y = x[ids], y[ids]\n",
    "        web_t = web_t[ids]\n",
    "    return pd.DataFrame({'RA': x, 'sin_Dec': y, 'web_type': web_t})\n",
    "\n",
    "def img_get_density(n_ra=64, n_dec=64, n_z=10, z_rg=[0.02, 0.03]):\n",
    "    \n",
    "    assert n_ra == n_dec\n",
    "    \n",
    "    ras1 = np.linspace(100., 275., n_ra)\n",
    "    sin_decs1 = np.linspace(-0.15, 0.95, n_dec)\n",
    "    decs1 = np.arcsin(sin_decs1) * 180.0 / np.pi \n",
    "    d_lo, d_hi = info.cosmology.distances.comoving_at(z_rg)\n",
    "    ds1 = np.linspace(d_lo, d_hi, n_z)\n",
    "    \n",
    "    ras, decs, ds = np.meshgrid(ras1, decs1, ds1, indexing='ij')\n",
    "    dims = ras.shape\n",
    "    ras, decs, ds = ras.ravel(), decs.ravel(), ds.ravel()\n",
    "    x_j2k = frame.pos_ra_dec_d_to_j2k(ras, decs, ds)\n",
    "    x_sim = frame.pos_j2k_to_sim(x_j2k)\n",
    "    \n",
    "    rho = f_interp.value_at(x_sim).reshape(dims).mean(-1)\n",
    "    web_ts = [\n",
    "        f.value_at(x_sim).reshape(dims).mean(-1)\n",
    "        for f in f_interp_ts\n",
    "    ]\n",
    "    sel = reconst_area_masks.large.is_in_reconst_area(x_sim).reshape(dims).sum(-1) > 1\n",
    "\n",
    "    return {\n",
    "        'grids': pd.DataFrame({\n",
    "            'RA': ras1, 'sin_Dec': sin_decs1\n",
    "        }),\n",
    "        'fields': pd.DataFrame({\n",
    "            'frac_filament': web_ts[2].ravel(),\n",
    "            'reconstruction_mask': sel.ravel(),\n",
    "        })\n",
    "    }\n",
    "    \n",
    "    #return DataDict({\n",
    "    #    'rho': rho, 'web_ts': web_ts, 'sel': sel, \n",
    "    #    'ra': ras1, 'dec': decs1, 'sin_dec': sin_decs1\n",
    "    #})"
   ]
  },
  {
   "cell_type": "code",
   "execution_count": null,
   "metadata": {},
   "outputs": [],
   "source": [
    "d_plts = {}\n",
    "_rng = Rng(0)\n",
    "key = 'z23'\n",
    "z_rg = [0.02, 0.03]\n",
    "#key = 'z34'\n",
    "#z_rg = [0.03, 0.04]\n",
    "#key = 'z2'\n",
    "#z_rg = [0.01, 0.02]\n",
    "#key = 'z56'\n",
    "#z_rg = [0.05, 0.06]\n",
    "\n",
    "d_plts['group'] = img_get_group(dwarf_samples[f'group/{key}'])\n",
    "d_plts['diffuse'] = img_get_dwarf(dwarf_samples[f'diffuse/{key}'], rng=_rng)\n",
    "d_plts['compact'] = img_get_dwarf(dwarf_samples[f'compact/{key}'], n_out=len(d_plts['diffuse']['RA']), rng=_rng)\n",
    "#d_plts |= {\n",
    "#    'diffuse': img_get_dwarf(samps_z23[0], rng=_rng),\n",
    "#    'compact': img_get_dwarf(samps_z23[1], n_out=samps_z23[0].n_objs, rng=_rng),\n",
    "#}\n",
    "#\n",
    "d_plts |= img_get_density(n_ra=256, n_dec=256, n_z=20, z_rg=z_rg)"
   ]
  },
  {
   "cell_type": "code",
   "execution_count": null,
   "metadata": {},
   "outputs": [],
   "source": [
    "z_wgt = utils.weights.ZWeighting(dwarf_samples['diffuse/all'].data['z_cor'], bins=24)\n",
    "\n",
    "rng = Rng(0)\n",
    "keys = 'all', 'z23', 'complete'\n",
    "wgts = z_wgt, None, None\n",
    "\n",
    "gal_envs = {}\n",
    "for k, wgt in zip(keys, wgts):\n",
    "    for k2 in 'diffuse', 'compact':\n",
    "        gal_envs[f'{k2}.{k}'] = GalEnv(dwarf_samples[k2][k], tf, zwgt=wgt, \n",
    "                                       rng=rng, lr_range=[0.1, 1.2], n_bins=8)\n",
    "        \n",
    "def find_corr(ge: GalEnv, mass_weighted=True, n = 100):\n",
    "    outs = ge.corrs(mass_weighted=mass_weighted)\n",
    "    out = [asdict(ge.bootstrap(out, n)) for out in outs['web_typed']]\n",
    "    return DataDict({\n",
    "        'lrs': ge.lrs,\n",
    "        'web_typed': out\n",
    "    })\n",
    "\n",
    "corrs_mwgt = DataDict({\n",
    "    k: find_corr(ge, mass_weighted=True) for k, ge in gal_envs.items()\n",
    "})\n",
    "corrs_nowgt = DataDict({\n",
    "    k: find_corr(ge) for k, ge in gal_envs.items()\n",
    "})\n",
    "\n",
    "d_corrs = DataDict({\n",
    "    'nowgt': corrs_nowgt,\n",
    "    'mwgt': corrs_mwgt\n",
    "})\n",
    "Json.dump_file(d_corrs, sim_dir.base_dir/'wp/gal_web_cross.json')"
   ]
  },
  {
   "cell_type": "code",
   "execution_count": null,
   "metadata": {},
   "outputs": [],
   "source": [
    "d_corrs = Json.load_file(sim_dir.base_dir/'wp/gal_web_cross.json')\n",
    "\n",
    "corrs = d_corrs['mwgt']\n",
    "z_key = 'all'\n",
    "\n",
    "web_types = ['void', 'sheet', 'filament', 'knot']\n",
    "d_plts['2pccfs'] = {}\n",
    "for i_t, web_type in enumerate(web_types):\n",
    "    for i_sub, sub_key in enumerate(['diffuse', 'compact']):\n",
    "        corr = corrs[f'{sub_key}.{z_key}']\n",
    "        y, x = corr['web_typed'][i_t], corr['lrs']\n",
    "        y, (yl, yh) = np.array(y['median']), np.array(y['sigma_1'])\n",
    "        el, eh = y-yl, yh-y\n",
    "        d_plts['2pccfs'][f'{sub_key}_and_{web_type}'] = pd.DataFrame({\n",
    "            'log_r': x, 'xi': y, 'err_lo': el, 'err_up': eh\n",
    "        })"
   ]
  },
  {
   "cell_type": "code",
   "execution_count": null,
   "metadata": {},
   "outputs": [],
   "source": [
    "Excel.dump_file(ProjPaths.proj_dir/'data_for_publication/Fig2.xlsx', d_plts)"
   ]
  },
  {
   "cell_type": "code",
   "execution_count": null,
   "metadata": {},
   "outputs": [],
   "source": [
    "fig, axs = plot.subplots((4,2), share=True, space=0, subsize=(5.5, 4.), \n",
    "                         margin=[0.1, 0.02, 0.1, 0.1], layout='none')\n",
    "axs_f = axs.flat\n",
    "vmaxs = [1., 1., 1., .5]\n",
    "lab_ts = 'Void', 'Sheet', 'Filament', 'Knot'\n",
    "for i_t in range(4):\n",
    "    rho, sel, ra, dec = d_plt['density']['web_ts', 'sel', 'ra', 'sin_dec']\n",
    "    rho = rho[i_t]\n",
    "    rho = np.ma.array(rho, mask=~sel)\n",
    "    for i_c in range(2):\n",
    "        ax = axs[i_t, i_c]\n",
    "        ax._raw.contourf(ra, dec, rho.T, cmap='Greys', vmin=-.1, \n",
    "                         vmax=vmaxs[i_t], alpha=.9, rasterized=True)\n",
    "    axs[i_t, 1].text(lab_ts[i_t], (.92, .92), ha='right')\n",
    "        \n",
    "cs_samp = 'b', 'r'\n",
    "labs = r'$\\rm Diffuse\\ dwarf$', r'$\\rm Compact\\ dwarf$'\n",
    "for i_r in range(4):\n",
    "    for i_samp, samp in enumerate(['diffuse', 'compact']):\n",
    "        ax = axs[i_r, i_samp]\n",
    "        x, y = d_plt[samp]['x', 'y']\n",
    "        lab = labs[i_samp] if i_r == 0 else None\n",
    "        ax.fmt_marker(c=cs_samp[i_samp], ea=1, fa=0.2, elw=1.5)\\\n",
    "            .scatter(x, y, s=75, marker='*', label=lab, zorder=100)\n",
    "        \n",
    "axs.lim([105, 270], [-0.15, 1.1]).label(r'\\rm RA', r'\\sin(\\rm Dec)').label_outer()\n",
    "kw=dict(scatterpoints=1, ncol=3, handletextpad=0, loc='ul', handlelength=1, handleheight=1)\n",
    "axs_f[:2].leg(**kw, labelcolor='mec')\n",
    "axs_f[2].leg(**kw, markerscale=3)\n",
    "\n",
    "#ProjPaths.save_fig('fig_spatial_distribution.pdf')"
   ]
  },
  {
   "cell_type": "markdown",
   "metadata": {},
   "source": [
    "### Typed density profiles around dwarfs"
   ]
  },
  {
   "cell_type": "code",
   "execution_count": null,
   "metadata": {},
   "outputs": [],
   "source": [
    "z_zwgts = {\n",
    "    'all': utils.weights.ZWeighting(dwarf_samples['diffuse/all'].data['z_cor'], bins=24), #samps[0].data['z_cor'], bins=24\n",
    "    'zexcl23': utils.weights.ZWeighting(dwarf_samples['diffuse/zexcl23'].data['z_cor'], bins=24)\n",
    "}\n",
    "\n",
    "def web_tp_profile(gal_env: GalEnv):\n",
    "    samp, tf, zwgt, rng = gal_env.samp, gal_env.tf, gal_env.zwgt, gal_env.rng\n",
    "    web_t = tf.wet_t_at(samp.data['x_sim_cor'])\n",
    "    out = {}\n",
    "    for i_t in 0, 1, 2, 3:\n",
    "        sel = web_t == i_t\n",
    "        samp_t = samp.subset_by(sel)\n",
    "        pf = GalEnv(samp_t, tf, zwgt=zwgt, rng=rng).profiles()\n",
    "        out[str(i_t)] = pf\n",
    "    out['all'] = gal_env.profiles()\n",
    "    return out"
   ]
  },
  {
   "cell_type": "code",
   "execution_count": null,
   "metadata": {},
   "outputs": [],
   "source": [
    "pfs = {\n",
    "    '0': web_tp_profile(samps_z23[0]),\n",
    "    '1': web_tp_profile(samps_z23[1]),\n",
    "    '0-w': web_tp_profile(samps[0], zwgt=zwgt),\n",
    "    '1-w': web_tp_profile(samps[1], zwgt=zwgt),\n",
    "}"
   ]
  },
  {
   "cell_type": "code",
   "execution_count": null,
   "metadata": {},
   "outputs": [],
   "source": [
    "fig, axs = plot.subplots((2,2), share=False, space=0.13, \n",
    "                         subsize=(4.5, 4.5), margin=[0.1, 0.1, 0.1, 0.1], layout='none')\n",
    "axs_f = axs.flat\n",
    "\n",
    "subs = '0', '1'\n",
    "lab_subs = r'$Diffuse$', r'$Compact$'\n",
    "lab_ws = r'$\\,\\rm (z$-$\\rm weighted)$', r'$\\,(0.02 < z < 0.03)$'\n",
    "cs = 'b', 'r'\n",
    "\n",
    "lab_ts = 'Void', 'Sheet', 'Filament', 'Knot'\n",
    "for i_t in range(4):\n",
    "    ax = axs_f[i_t]    \n",
    "    ax.text(lab_ts[i_t], (.94, .92), ha='right')\n",
    "    for i_sub, sub in enumerate(subs):\n",
    "        ax.c(cs[i_sub])\n",
    "        \n",
    "        pf = pfs[sub+'-w'][str(i_t)]\n",
    "        x, (y, e) = pf['lr', 'den_prof']\n",
    "        ax.errorbar(x, y, yerr=e, lw=2, label=lab_subs[i_sub] + lab_ws[0])\n",
    "        \n",
    "        pf = pfs[sub][str(i_t)]\n",
    "        x, (y, e) = pf['lr', 'den_prof']\n",
    "        ax.fill_between(x, y-e, y+e, ec=cs[i_sub], \n",
    "                        lw=0, label=lab_subs[i_sub] + lab_ws[1])\n",
    "        #ax.plot(x, y, lw=2)\n",
    "        \n",
    "#axs.lim(y=[1.,10.1])\n",
    "kw = dict(numpoints=1, fontsize=13, title_fontsize=12, \n",
    "          labelspacing=.2, labelcolor='mec', loc='ul')\n",
    "axs_f[0].leg(**kw, title=r'$Sample$')\n",
    "axs[1].label(r'\\log\\,r\\,[h^{-1}{\\rm Mpc}]')\n",
    "axs[:, 0].label(y=r'\\rho/\\bar{\\rho}')"
   ]
  },
  {
   "cell_type": "markdown",
   "metadata": {},
   "source": [
    "### Web fractions around dwarfs"
   ]
  },
  {
   "cell_type": "code",
   "execution_count": null,
   "metadata": {},
   "outputs": [],
   "source": [
    "rng = Rng(0)\n",
    "gal_envs = [GalEnv(samp, tf, zwgt=zwgt, rng=rng) for samp in samps] \\\n",
    "    + [GalEnv(samp, tf, zwgt=None, rng=rng) for samp in samps_z23]\n",
    "pfs = [ge.profiles() for ge in gal_envs]\n",
    "pfs = {\n",
    "    '0': pfs[0], '1': pfs[1],\n",
    "    '0-z23': pfs[2], '1-z23': pfs[3],\n",
    "}"
   ]
  },
  {
   "cell_type": "code",
   "execution_count": null,
   "metadata": {},
   "outputs": [],
   "source": [
    "fig, axs = plot.subplots((1,2), share=True, space=0, \n",
    "    subsize=(4.5, 4.5), margin=[0.02, 0.02, 0.12, 0.08], layout='none')\n",
    "axs_f = axs.flat\n",
    "\n",
    "lab_samps = r'\\rm All\\ redshifts\\, (z$-$\\rm weighted)', r'0.02 \\leqslant z < 0.03'\n",
    "\n",
    "cs = 'b', 'r'\n",
    "lab_subs = r'$\\rm Diffuse\\ dwarfs$', r'$\\rm Compact\\ dwarf$'\n",
    "\n",
    "lws = 1, 1, 3, 3\n",
    "lss = (0,(1,2)), (0,(3,1)), (0, (2,1)), '-'\n",
    "\n",
    "for i_z, z_key in enumerate(['', '-z23']):\n",
    "    ax = axs_f[i_z]\n",
    "    ax.text(lab_samps[i_z], (.05, .92))\n",
    "    for i_samp in 0, 1:\n",
    "        pf = pfs[f'{i_samp}{z_key}']\n",
    "        ax.c(cs[i_samp])\n",
    "        for i_t in range(4):\n",
    "            x = pf['lr']\n",
    "            (y, e) = pf['f_webs'][i_t]\n",
    "            lab = None \n",
    "            if i_z == 0 and i_t == 3:\n",
    "                lab = lab_subs[i_samp]\n",
    "            ax.errorbar(x, y, yerr=e, lw=lws[i_t], ls=lss[i_t], \n",
    "                        capsize=1.5, elinewidth=1.5, marker='s', ms=6., label=lab)\n",
    "\n",
    "axs.lim(y=[-0.05, 0.85])\n",
    "axs[0].leg(loc=(0.05, 0.77),\n",
    "    numpoints=1, fontsize=13, labelspacing=0, \n",
    "    labelcolor='linecolor', handlelength=0)\n",
    "axs.label(r'\\log\\,r\\ [h^{-1}{\\rm Mpc}]', r'\\rm Fraction').label_outer()\n",
    "\n",
    "ProjPaths.save_fig('fig_gal_env_web_frac.pdf')"
   ]
  },
  {
   "cell_type": "markdown",
   "metadata": {},
   "source": [
    "### z-weight"
   ]
  },
  {
   "cell_type": "code",
   "execution_count": null,
   "metadata": {},
   "outputs": [],
   "source": [
    "zwgt = utils.weights.ZWeighting(samps[0].data['z_cor'], bins=24)\n",
    "\n",
    "fig, ax = plot.subplots(1, figsize=4.5, margin=[0.1, 0.1, 0.1, 0.1], layout='none')\n",
    "\n",
    "cs = 'b', 'r'\n",
    "for i, samp in enumerate(samps):\n",
    "    z = samp.data['z_cor']\n",
    "    ax.c(cs[i]).hist(z, bins=12, range=[0., 0.06], density=True, fc='none', lw=3)\n",
    "    w = zwgt.weights_of(z)\n",
    "    ax.hist(z, bins=12, range=[0., 0.06], weights=w, density=True, lw=0)"
   ]
  },
  {
   "cell_type": "markdown",
   "metadata": {},
   "source": [
    "### Minimal distances"
   ]
  },
  {
   "cell_type": "code",
   "execution_count": null,
   "metadata": {},
   "outputs": [],
   "source": [
    "gwcs = [utils.gal_web_cor.GalWebCor(s, td_s2, mask=rc_mask, \n",
    "    zweighting=zweighting) for s in df_samps]"
   ]
  },
  {
   "cell_type": "code",
   "execution_count": null,
   "metadata": {},
   "outputs": [],
   "source": [
    "o_ds = {}\n",
    "for n_lam in range(4):\n",
    "    for i_samp, gwc in enumerate(gwcs):\n",
    "        o_ds[n_lam, i_samp] = gwc.d_to_webt(n_lam)"
   ]
  },
  {
   "cell_type": "code",
   "execution_count": null,
   "metadata": {},
   "outputs": [],
   "source": [
    "fig, axs = plot.subplots((2,2), share=True, space=0.03, subsize=(5., 5.), \n",
    "                         margin=[0.1, 0.1, 0.1, 0.1], layout='none')\n",
    "axs_f = axs.flat\n",
    "\n",
    "lab_ts = 'WebType=Void', 'Sheet', 'Filament', 'Knot'\n",
    "\n",
    "cs = 'b', 'r'\n",
    "labs = r'$\\rm Diffuse$', r'$\\rm Compact$'\n",
    "\n",
    "kw = dict(range=(-1.2, 1.2), bins=25, fc='none', density=True)\n",
    "for i_lam in range(4):\n",
    "    ax = axs_f[i_lam]\n",
    "    ax.text(lab_ts[i_lam], (.03, .9), fontsize=13)\n",
    "    for i_samp in range(2):\n",
    "        ax.c(cs[i_samp])\n",
    "        d, w = o_ds[i_lam, i_samp]['d', 'w']\n",
    "        ax.hist(np.log10(d), **kw, label=labs[i_samp])\n",
    "        if i_samp == 1:\n",
    "            ax.hist(np.log10(d), weights=w, **kw, ls=(0,(2,2)), \n",
    "                    label=r'$\\rm Compact\\, (z$-$\\rm weighted)$')\n",
    "            \n",
    "axs_f[0].leg(title=r'$\\rm Sample$', fontsize=12)\n",
    "axs.label(r'd_{\\rm min}(Galaxy, WebType)', r'\\rm PDF').label_outer()"
   ]
  },
  {
   "cell_type": "markdown",
   "metadata": {},
   "source": [
    "### Fraction of web types"
   ]
  },
  {
   "cell_type": "code",
   "execution_count": null,
   "metadata": {},
   "outputs": [],
   "source": [
    "lam_th = np.linspace(-1, 1., 128)\n",
    "frac_webt = {}\n",
    "for i_td, _td in enumerate([td_resim, td_s1, td_s2, td_s4]):\n",
    "    for i_samp, samp in enumerate(df_samps):\n",
    "        gwc = utils.gal_web_cor.GalWebCor(samp, _td\n",
    "                                          #, zweighting=zweighting\n",
    "                                          )\n",
    "        frac_webt[i_td, i_samp] = gwc.frac_webt(lam_th)"
   ]
  },
  {
   "cell_type": "code",
   "execution_count": null,
   "metadata": {},
   "outputs": [],
   "source": [
    "fig, axs = plot.subplots((2,2), share=True, space=0.1, subsize=(5., 5.), margin=[0.1, 0.1, 0.1, 0.1], layout='none')\n",
    "axs_f = axs.flat\n",
    "\n",
    "lab_tds = r'ReSimulated\\,(R_{\\rm sm}=2)', r'Domain\\,(R_{\\rm sm}=1)', r'Domain\\,(R_{\\rm sm}=2)', r'Domain\\,(R_{\\rm sm}=4)'\n",
    "\n",
    "lss = '-', (0,(2,2))\n",
    "lab_ss = 'Diffuse', 'Compact'\n",
    "\n",
    "lws = 4,3,2,1\n",
    "cs = 'b', 'g', 'orange', 'r' \n",
    "lab_ts = 'Void', 'Sheet', 'Filament', 'Knot'\n",
    "for i_td in range(4):\n",
    "    ax = axs_f[i_td]\n",
    "    ax.text(lab_tds[i_td], (.03, .9), fontsize=13)\n",
    "    for i_samp in range(2):\n",
    "        ax.fmt_line(ls=lss[i_samp])    \n",
    "        for i_wt, f in enumerate(frac_webt[i_td, i_samp]):\n",
    "            ax.fmt_line(lw=lws[i_wt], c=cs[i_wt])\n",
    "            lab = None\n",
    "            if i_samp == 0 and i_td == 0:\n",
    "                lab = lab_ts[i_wt]\n",
    "            if i_wt == 0 and i_td == 1:\n",
    "                lab = lab_ss[i_samp] \n",
    "            ax.plot(lam_th, f, label=lab)\n",
    "            \n",
    "axs.label(r'\\lambda_{\\rm th}', r'N_{WebType}/N_{\\rm Total}')\\\n",
    "    .lim([-1., 1.], [0., 1.]).label_outer()\n",
    "axs_f[0].leg(title=r'WebType')\n",
    "axs_f[1].leg(title=r'Sample')"
   ]
  },
  {
   "cell_type": "markdown",
   "metadata": {},
   "source": [
    "### Field G-Index\n",
    "\n",
    "Looks like a bad definition"
   ]
  },
  {
   "cell_type": "code",
   "execution_count": null,
   "metadata": {},
   "outputs": [],
   "source": [
    "lam_off = 0.\n",
    "norm = True\n",
    "G_f1, G_f2 = \\\n",
    "    gwc_diffuse.G_s(lam_off, norm), gwc_compact.G_s(lam_off, norm)"
   ]
  },
  {
   "cell_type": "code",
   "execution_count": null,
   "metadata": {},
   "outputs": [],
   "source": [
    "fig, ax = plot.subplots(1, figsize=4.5, margin=[0.1, 0.1, 0.1, 0.1], layout='none')\n",
    "\n",
    "ax.c('b').hist(G_f1, density=True, bins=20, range=[0., 1.])\n",
    "ax.c('r').hist(G_f2, density=True, bins=20, range=[0., 1.])\n",
    "\n",
    "ax.lim([0., 1.02], [0., 10.])"
   ]
  },
  {
   "cell_type": "markdown",
   "metadata": {},
   "source": [
    "## Data Navigation"
   ]
  },
  {
   "cell_type": "code",
   "execution_count": null,
   "metadata": {},
   "outputs": [],
   "source": [
    "u_m = sim_info.cosmology.unit_system.u_m_to_sol\n",
    "m_lb, m_ub = 10**10.5 / u_m, 10**11.0 / u_m\n",
    "\n",
    "s_h_parent = samp.subset_by_value('is_c', eq=True)\\\n",
    "    .subset_by_value('m_mean200', lo=m_lb, hi=m_ub)\\\n",
    "    .subset_by_value('last_sat_z', lo=15.)\\\n",
    "    .subset_by_value('is_recon_large', eq=True)\n",
    "    \n",
    "z_rgs = [0.01, 0.04], [0.04, 0.06], [0.06, 0.07]\n",
    "\n",
    "z_fs = []\n",
    "for i_z, (z_lb, z_ub) in enumerate(z_rgs):\n",
    "    s_h = s_h_parent.subset_by_value('z', lo=z_lb, hi=z_ub)\n",
    "    z_f = s_h['z_half']\n",
    "    z_fs.append(z_f)\n",
    "    \n",
    "    \n",
    "fig, ax = plot.subplots(1, figsize=5.5, margin=[0.1, 0.1, 0.1, 0.1], layout='none')\n",
    "\n",
    "cs = cs_dark2\n",
    "for i_z, (z_lb, z_ub) in enumerate(z_rgs):\n",
    "    z_f = z_fs[i_z]\n",
    "    \n",
    "    ax.hist(z_f, range=[0., 5.5], bins=32, \n",
    "            ec=cs[i_z], label=f'{z_lb} < z < {z_ub}', histtype='step', density=True)\n",
    "\n",
    "\n",
    "ax.scale(y='log').leg(loc='ur')"
   ]
  },
  {
   "cell_type": "markdown",
   "metadata": {},
   "source": [
    "# LGalaxies"
   ]
  },
  {
   "cell_type": "code",
   "execution_count": null,
   "metadata": {},
   "outputs": [],
   "source": [
    "from obs.assembly_bias.clustering import SubSampleManager, SimCross\n",
    "\n",
    "sim_info = sims.predefined['millennium_2_scaled_wmap7']\n",
    "sim_dir = ProjPaths.man_sim_dir(sim_info)"
   ]
  },
  {
   "cell_type": "markdown",
   "metadata": {},
   "source": [
    "## Datasets"
   ]
  },
  {
   "cell_type": "code",
   "execution_count": null,
   "metadata": {},
   "outputs": [],
   "source": [
    "s_all = sample.LGalaxiesGuo13SampleRaw.load(in_path='MS2_z0_all.hdf5')\n",
    "s_all.objs['m_star'] = s_all.objs['m_s']\n",
    "s_all.objs['Sigma_star'] = s_all.objs['S']"
   ]
  },
  {
   "cell_type": "code",
   "execution_count": null,
   "metadata": {},
   "outputs": [],
   "source": [
    "# store the result for simplicity\n",
    "p = ProjPaths.sim_dir_of(sim_info) / 'G13_z0_all_postprocessed.hdf5'\n",
    "assembly_bias.sample_dumper.dump_sample_to(p, \n",
    "    s_all.objs, sim_info, sim_info.n_snapshots-1)"
   ]
  },
  {
   "cell_type": "code",
   "execution_count": null,
   "metadata": {},
   "outputs": [],
   "source": [
    "p = ProjPaths.sim_dir_of(sim_info) / 'G13_z0_all_postprocessed.hdf5'\n",
    "\n",
    "m_200c = h5.File.load_from(p, 'objs/m_h')\n",
    "lm_200c = np.log10(m_200c)\n",
    "lm_200m = 1.0122627*lm_200c + 0.1165777     # for z=0\n",
    "m_200m = 10.**lm_200m\n",
    "h5.File.dump_to(p, {\n",
    "    'm_mean200': m_200m, 'm_crit200': m_200c,\n",
    "}, key='objs', dump_flag='ac', g_flag='ac')\n",
    "h5.File.ls_from(p)"
   ]
  },
  {
   "cell_type": "markdown",
   "metadata": {},
   "source": [
    "## Relative bias"
   ]
  },
  {
   "cell_type": "code",
   "execution_count": null,
   "metadata": {},
   "outputs": [],
   "source": [
    "pdata = sim_dir.base_dir / 'G13_z0_all_postprocessed.hdf5'\n",
    "man_kw = {\n",
    "    'add_rsd': False,\n",
    "    'dmo': False,\n",
    "    'm_s_range_in_sol': [10**8.5, 10**9.],\n",
    "}\n",
    "sman = SubSampleManager(sim_info, pdata, **man_kw)\n",
    "sman.s_dwarf\n",
    "\n",
    "wp_kw = {\n",
    "    'pimax': 10., 'n_repeat': 100,\n",
    "    'bootstrap_kw': {'keep_samples': True}\n",
    "}\n",
    "sim_cross = SimCross(sman)"
   ]
  },
  {
   "cell_type": "code",
   "execution_count": null,
   "metadata": {},
   "outputs": [],
   "source": [
    "o_path = sim_dir.base_dir / 'wp/dwarfs_lm8.5-9_by-S.json'\n",
    "\n",
    "Sigma_star_lims = [-0.1, 7.,15., 25., 1.0e6]\n",
    "wps = sim_cross.wps_of('s_dwarf', 'Sigma_star', ps=None, \n",
    "                       qs=Sigma_star_lims, **wp_kw)\n",
    "wps['total'] = sim_cross.wp_of('s_dwarf', **wp_kw)\n",
    "Json.dump_file(wps, o_path, indent=2)"
   ]
  },
  {
   "cell_type": "code",
   "execution_count": null,
   "metadata": {},
   "outputs": [],
   "source": [
    "lm_h_edges = [11., 12., 13., 16.]\n",
    "o_path = sim_dir.base_dir / 'wp/halos_by-M.json'\n",
    "\n",
    "u_m = 1.0e10 / sman.sim_info.cosmology.hubble\n",
    "m_h_edges = 10.0**np.array(lm_h_edges) / u_m\n",
    "wps = sim_cross.wps_of('s_halo', 'm_mean200', ps=None, qs=m_h_edges, **wp_kw)\n",
    "\n",
    "Json.dump_file(wps, o_path, indent=2)"
   ]
  },
  {
   "cell_type": "code",
   "execution_count": null,
   "metadata": {},
   "outputs": [],
   "source": [
    "m_s_ranges = (\n",
    "    #[10**7.5, 10**9.],\n",
    "    #[10**8., 10**9.],\n",
    "    [10**8.5, 10**9.],)\n",
    "ofiles = (\n",
    "    #'wp-lg-ms7.5-9.json',\n",
    "    #'wp-lg-ms8-9.json',\n",
    "    #'wp-lg-ms8.5-9.json',\n",
    "    'wp/ms8.5-9_r2-10.json',)\n",
    "lm_h_edges = [11., 12., 13., 16.]\n",
    "\n",
    "pdata = ProjPaths.sim_dir_of(sim_info) / 'G13_z0_all_postprocessed.hdf5'\n",
    "wp_kw = {\n",
    "    'pimax': 10., 'n_repeat': 50,\n",
    "    'bootstrap_kw': {'keep_samples': True},\n",
    "    'rs': np.array([2., 10.]),\n",
    "}\n",
    "for i, (m_s_range, ofile) in enumerate(zip(m_s_ranges, ofiles)):\n",
    "    \n",
    "    sman = SubSampleManager(sim_info, pdata, m_s_range_in_sol=m_s_range)\n",
    "    sim_cross = SimCross(sman)\n",
    "    \n",
    "    #wp_tot = sim_cross.wp_of('s_dwarf', **wp_kw)\n",
    "\n",
    "    wp_S = sim_cross.wps_of('s_dwarf', 'Sigma_star', \n",
    "        ps=None, qs=[-0.1, 7.,15., 25., 1.0e6], **wp_kw)\n",
    "\n",
    "    #if i == 0:\n",
    "    #    u_m = 1.0e10 / sman.sim_info.cosmology.hubble\n",
    "    #    m_h_edges = 10.0**np.array(lm_h_edges) / u_m\n",
    "    #    wp_h = sim_cross.wps_of(\n",
    "    #        's_halo', 'm_h', \n",
    "    #        ps=None, qs=m_h_edges, **wp_kw)\n",
    "\n",
    "    data = DataDict({\n",
    "        'dwarfs': {\n",
    "            'S': wp_S, \n",
    "            #'tot': wp_tot,    \n",
    "        },\n",
    "        #'halos': wp_h,\n",
    "    })\n",
    "\n",
    "    path = ProjPaths.sim_dir_of(sim_info) / ofile\n",
    "    with open(path, 'w') as f:\n",
    "        json.dump(data, f, default=json_default, indent=2)"
   ]
  },
  {
   "cell_type": "code",
   "execution_count": null,
   "metadata": {},
   "outputs": [],
   "source": []
  },
  {
   "cell_type": "code",
   "execution_count": null,
   "metadata": {},
   "outputs": [],
   "source": []
  },
  {
   "cell_type": "code",
   "execution_count": null,
   "metadata": {},
   "outputs": [],
   "source": []
  },
  {
   "cell_type": "code",
   "execution_count": null,
   "metadata": {},
   "outputs": [],
   "source": []
  },
  {
   "cell_type": "code",
   "execution_count": null,
   "metadata": {},
   "outputs": [],
   "source": [
    "hubble = g13_all.sim_info.cosmology.hubble\n",
    "m_scale = 1.0e10 / hubble\n",
    "m_s_lb = 10**7.5 / m_scale\n",
    "m_s_ub = 10**9.0 / m_scale\n",
    "\n",
    "ssfr_scale = hubble / 1.0e9\n",
    "ssfr_sep = 1.0e-11 / ssfr_scale\n",
    "\n",
    "m_h_key = 'm_h'\n",
    "S_key = 'S'\n",
    "\n",
    "m_s_lb, m_s_ub, ssfr_sep"
   ]
  },
  {
   "cell_type": "code",
   "execution_count": null,
   "metadata": {},
   "outputs": [],
   "source": [
    "m_h_edges = 10.0**np.array([11.5, 12.0, 12.5, 13.0, 16.0]) / m_scale"
   ]
  },
  {
   "cell_type": "code",
   "execution_count": null,
   "metadata": {},
   "outputs": [],
   "source": [
    "s_ref = g13_all.subset_by_value('m_s', lo=m_s_lb)\n",
    "cls_ref = clustering.Clustering(s_ref)\n",
    "\n",
    "s_c = g13_all.subset_by_value('is_c', eq=True)\n",
    "s_dwarf = s_c.subset_by_value('m_s', lo=m_s_lb, hi=m_s_ub)\\\n",
    "    .subset_by_value('ssfr', ssfr_sep)\n",
    "\n",
    "s_ref.n_objs, s_dwarf.n_objs"
   ]
  },
  {
   "cell_type": "code",
   "execution_count": null,
   "metadata": {},
   "outputs": [],
   "source": [
    "cls_kw = {'pimax': 10., 'n_repeat': 50}"
   ]
  },
  {
   "cell_type": "code",
   "execution_count": null,
   "metadata": {},
   "outputs": [],
   "source": [
    "subs_ref = SubSample(s_ref)\n",
    "subs_halos = SubSample.list_from_bins(s_c, m_h_key, edges=m_h_edges)\n",
    "subs_list = SubSample.list_from_bins(\n",
    "    s_dwarf, S_key, edges=[-0.1, 7.,15., 25., 1.0e6])"
   ]
  },
  {
   "cell_type": "code",
   "execution_count": null,
   "metadata": {},
   "outputs": [],
   "source": [
    "out_g = {str(i): subs_ref.proj_cross_with(subs, **cls_kw)  \n",
    "         for i, subs in enumerate(subs_list) }"
   ]
  },
  {
   "cell_type": "code",
   "execution_count": null,
   "metadata": {},
   "outputs": [],
   "source": [
    "out_tot = subs_ref.proj_cross_with(SubSample(s_dwarf), **cls_kw)"
   ]
  },
  {
   "cell_type": "code",
   "execution_count": null,
   "metadata": {},
   "outputs": [],
   "source": [
    "out_h = {str(i): subs_ref.proj_cross_with(subs, **cls_kw)  \n",
    "         for i, subs in enumerate(subs_halos) }"
   ]
  },
  {
   "cell_type": "code",
   "execution_count": null,
   "metadata": {},
   "outputs": [],
   "source": [
    "path = ProjPaths.sim_dir_of(sim_info) / 'wp-result.hdf5'\n",
    "h5.File.dump_to(path, {'dwarfs': {\n",
    "    'S': out_g, \n",
    "    'tot': out_tot                                  \n",
    "}, 'halos': out_h}, f_flag='w')"
   ]
  },
  {
   "cell_type": "code",
   "execution_count": null,
   "metadata": {},
   "outputs": [],
   "source": [
    "subs_list"
   ]
  },
  {
   "cell_type": "code",
   "execution_count": null,
   "metadata": {},
   "outputs": [],
   "source": [
    "d_out = {\n",
    "    str(i): {'S': subs.samp[S_key]} for i, subs in enumerate(subs_list) \n",
    "}\n",
    "d_out = {\n",
    "    'samples': d_out,\n",
    "    'meta': [\n",
    "        'S: stellar mass surface density in [M_sun/pc^2].',\n",
    "    ]\n",
    "}\n",
    "with open(ProjPaths.sim_dir_of(sim_info) / 'wp-samples.json', 'w') as f:\n",
    "    json.dump(d_out, f, indent=2, default=json_default)"
   ]
  },
  {
   "cell_type": "code",
   "execution_count": null,
   "metadata": {},
   "outputs": [],
   "source": [
    "# old impl\n",
    "g13_res_g = DataDict({\n",
    "    'xis': get_cls_binned(s_dwarf, cls_ref, n_rep=50)    \n",
    "})\n",
    "\n",
    "g13_res_h = DataDict({\n",
    "    'xis': get_cls_binned(s_c, cls_ref, \n",
    "        'm_h', 10.0**np.array([\n",
    "            (11.5, 12.0),\n",
    "            (12.0, 12.5),\n",
    "            (12.5, 13.0),\n",
    "            (13.0, 16.0),\n",
    "        ]) / m_scale,\n",
    "        n_rep=50,\n",
    "    )\n",
    "})\n",
    "\n",
    "path = ProjPaths.sim_dir_of(sim_info) / 'wp-result.hdf5'\n",
    "h5.File.dump_to(path, {'dwarfs': g13_res_g, 'halos': g13_res_h}, f_flag='w')"
   ]
  },
  {
   "cell_type": "markdown",
   "metadata": {},
   "source": [
    "### For tests"
   ]
  },
  {
   "cell_type": "code",
   "execution_count": null,
   "metadata": {},
   "outputs": [],
   "source": [
    "g13_all = sample.LGalaxiesGuo13SampleRaw.load(in_path='MS2_z0_all.hdf5', name='All-LGalaxies')\n",
    "g13_ref = g13_all.subset_by_value('m_s', lo=10**-2.65, name='Ref-LGalaxies')\n",
    "g13cls = clustering.Clustering(g13_ref)\n",
    "# g13_dwarf = sample.LGalaxiesGuo13Sample('z0_dwarf_sample.hdf5')\n",
    "\n",
    "g13_c = g13_all.subset_by_value('is_c', eq=True, name=r'All\\ Central')\n",
    "g13_dwarf = g13_c.subset_by_value('m_s', lo=10**-2.65, hi=10**-1.15)\\\n",
    "    .subset_by_value('f_d', lo=.75).subset_by_value('ssfr', 1.0e-2, name=r'All\\ Dwarfs')"
   ]
  },
  {
   "cell_type": "code",
   "execution_count": null,
   "metadata": {},
   "outputs": [],
   "source": [
    "g13_udg = sample.LGalaxiesGuo13SampleUdg.load(in_path='z0_UDG_sample.hdf5', name=r'All\\ UDG')\n",
    "g13_udg.find_cen_flag(g13_all)\n",
    "g13_udg_c = g13_udg.subset_by_value('is_c', name=r'UDG\\ Cen')"
   ]
  },
  {
   "cell_type": "code",
   "execution_count": null,
   "metadata": {},
   "outputs": [],
   "source": [
    "g13_all, g13_c, g13_dwarf, g13_udg"
   ]
  },
  {
   "cell_type": "code",
   "execution_count": null,
   "metadata": {},
   "outputs": [],
   "source": [
    "g13outs = DataDict()"
   ]
  },
  {
   "cell_type": "code",
   "execution_count": null,
   "metadata": {},
   "outputs": [],
   "source": [
    "def get_g13cls_S_binned():\n",
    "    S_ranges = [\n",
    "        (0., 1.),\n",
    "        (1., 7.),\n",
    "        (7., 15.),\n",
    "        (25., 37.),\n",
    "        (50., 100.),\n",
    "    ]\n",
    "    samp_from = g13_dwarf\n",
    "    cls_by = g13cls\n",
    "    n_rep = 5\n",
    "    \n",
    "    outs = []\n",
    "    for s1, s2 in S_ranges:\n",
    "        name = r'\\Sigma_*=[{%.0f}, {%.0f})'%(s1, s2)\n",
    "        samp = samp_from.subset_by_value('S', lo=s1, hi=s2)\n",
    "        print(samp.n_objs)\n",
    "        out = cls_by.proj_cross(samp, n_repeat=n_rep) | {'S_range': (s1,s2)}\n",
    "        outs.append(out)\n",
    "    return outs\n",
    "g13outs['S_binned'] = get_g13cls_S_binned()"
   ]
  },
  {
   "cell_type": "code",
   "execution_count": null,
   "metadata": {},
   "outputs": [],
   "source": [
    "g13outs['all'] = g13cls.proj_cross(g13_dwarf, n_repeat=5) | {'name': r'\\rm All\\ dwarfs'}"
   ]
  },
  {
   "cell_type": "code",
   "execution_count": null,
   "metadata": {},
   "outputs": [],
   "source": [
    "s = g13_c.subset_by_value('m_h', lo=10**2.0, hi=10**2.5, \n",
    "    name=r'{\\rm Halo}\\,(M_{\\rm h} = 10^{[12.,12.5]})'); print(s.n_objs)\n",
    "g13outs['h12'] = g13cls.proj_cross(s, n_repeat=5) | {'name': s.name}\n",
    "s = g13_c.subset_by_value('m_h', lo=10**3., name=r'{\\rm Halo}\\,(M_{\\rm h} \\geqslant 10^{13})'); print(s.n_objs)\n",
    "g13outs['h13'] = g13cls.proj_cross(s, n_repeat=5) | {'name': s.name}"
   ]
  },
  {
   "cell_type": "code",
   "execution_count": null,
   "metadata": {},
   "outputs": [],
   "source": [
    "# g13_udg_c.subset_by_value('m_s', lo=10**-2.65, hi=10**-1.15) # not neccesary\n",
    "s = g13_udg_c.subset_by_value('ssfr', 1.0e-1)\n",
    "g13outs['udg_sf'] = g13cls.proj_cross(s, n_repeat=5) | {'name': r'{\\rm UDG}\\,({\\rm SF})'}\n",
    "\n",
    "s = g13_udg_c\n",
    "g13outs['udg_all'] = g13cls.proj_cross(s, n_repeat=5) | {'name': r'{\\rm UDG}\\,({\\rm all})'}"
   ]
  },
  {
   "cell_type": "code",
   "execution_count": null,
   "metadata": {},
   "outputs": [],
   "source": [
    "s = g13_udg_c.subset_by_value('ssfr', hi=1.0e-1)\n",
    "g13outs['udg_q'] = g13cls.proj_cross(s, n_repeat=5) | {'name': r'{\\rm UDG}\\,({\\rm Q})'}"
   ]
  },
  {
   "cell_type": "code",
   "execution_count": null,
   "metadata": {},
   "outputs": [],
   "source": [
    "lg_ssfr_bins = np.array([[-11., -2.], [-2.5, -1.5], [-1., 0.], [0.,1.], [1.0, 100.0]])\n",
    "ssfr_bins = 10**lg_ssfr_bins\n",
    "for i in range(5):\n",
    "    s = g13_udg.subset_by_value('m_s', lo=10**-2.65, hi=10**-1.15)\\\n",
    "        .subset_by_value('is_c', eq=True)\\\n",
    "        .subset_by_value('ssfr', *ssfr_bins[i], \n",
    "            name=r'{\\rm UDG}\\ \\log\\,sSFR=[%.1f,%.1f]'%tuple(lg_ssfr_bins[i]))\n",
    "    g13outs[f'udg_ssfr{i}'] = g13cls.proj_cross(s, n_repeat=50) | {'name': s.name}"
   ]
  },
  {
   "cell_type": "code",
   "execution_count": null,
   "metadata": {},
   "outputs": [],
   "source": [
    "g13outs.keys()"
   ]
  },
  {
   "cell_type": "code",
   "execution_count": null,
   "metadata": {},
   "outputs": [],
   "source": [
    "fig, axs = plot.subplots(\n",
    "    (2, 1),\n",
    "    figsize=(6., 6.5),\n",
    "    share=(True, 'row'),\n",
    "    space=0, extent=[.98, .98, .09, .125],\n",
    "    layout='none', \n",
    "    ratios=(None, (3, 1.25)))\n",
    "axs_f = axs.flat\n",
    "axs.fmt_fill(lw=0)\n",
    "\n",
    "cs3 = ColorSets.tab10[:3]\n",
    "c_b = ColorSets.set1[1]\n",
    "\n",
    "def plt_rat(d, d_all, kw):\n",
    "    x, y, e = d['lg_rs_c', 'wp', 'wp_sd']\n",
    "    ax.plot(x, y, **kw)\n",
    "    \n",
    "    y_all = d_all['wp']\n",
    "    y, e = Num.safe_div(y, y_all), Num.safe_div(e, y_all)\n",
    "    ax1.plot(x, y, **kw)\n",
    "\n",
    "ax = axs_f[0]\n",
    "ax1 = axs_f[1]\n",
    "d_all = g13outs[f'all']\n",
    "plt_rat(d_all, d_all, dict(c='k', ls='-', lw=2.5, zorder=10, label=r'$\\rm All\\ dwarfs$'))\n",
    "\n",
    "for i, d in enumerate(g13outs['S_binned']):\n",
    "    lab = r'$\\Sigma_*=[%0.f,%0.f]$'%d['S_range']\n",
    "    kw = dict(ls=(0,(i+2,(4-i)*.5)), c=c_b, label= lab) \n",
    "    plt_rat(d, d_all, kw)\n",
    "    \n",
    "labs = r'${\\rm UDG}\\,({\\rm sSFR}>0.1\\,h{\\rm Gyr}^{-1})$', r'${\\rm UDG}\\,({\\rm sSFR}<0.1\\,h{\\rm Gyr}^{-1})$', r'$\\rm UDG\\,(all)$'\n",
    "for i, k in enumerate(['udg_sf', 'udg_q', 'udg_all']):\n",
    "    kw = dict(ls=(0,(2*i+2,2-i)), c=cs3[1], lw=2.5, label=labs[i])\n",
    "    plt_rat(g13outs[k], d_all, kw)\n",
    "\n",
    "labs = r'${\\rm Halo}\\,(M_{\\rm h}=10^{[12,12.5]})$', r'${\\rm Halo}\\,(M_{\\rm h}>10^{13})$'\n",
    "for i, k in enumerate(['h12', 'h13']):\n",
    "    kw = dict(c='gray', lw=(i+1)*2, label=labs[i])\n",
    "    plt_rat(g13outs[k], d_all, kw)\n",
    "\n",
    "ax.scale(y='log').lim([-1.89, 1.1], [.5e0, 5.9e3])\\\n",
    "    .label(y=r'w_{\\rm p}(r_{\\rm p})\\,[h^{-1}{\\rm Mpc}]',)\\\n",
    "    .leg(loc='ll', fontsize=12.25, ncol=2, columnspacing=.01,\n",
    "         labelspacing=-.05, title=r'$\\bf L$-$\\bf Galaxies\\,(Guo13)$', handlelength=1.5)\n",
    "\n",
    "ax = axs[1]\n",
    "ax.scale(y='log').lim(y=[0.5, 11.5]).label(r'\\log\\, r_{\\rm p}\\,[h^{-1}{\\rm Mpc}]',\n",
    "                           r'\\rm Ratio')\n",
    "ProjPaths.save_fig('lgal_wp.pdf')"
   ]
  },
  {
   "cell_type": "markdown",
   "metadata": {},
   "source": [
    "# TNG50-1"
   ]
  },
  {
   "cell_type": "code",
   "execution_count": null,
   "metadata": {},
   "outputs": [],
   "source": [
    "%autoreload\n",
    "gc.collect()\n",
    "\n",
    "from obs.assembly_bias.clustering import SubSampleManager, SimCross\n",
    "\n",
    "sim_info = sims.predefined['tng_50_1']\n",
    "sim_dir = ProjPaths.man_sim_dir(sim_info)"
   ]
  },
  {
   "cell_type": "markdown",
   "metadata": {},
   "source": [
    "## Datasets"
   ]
  },
  {
   "cell_type": "code",
   "execution_count": null,
   "metadata": {},
   "outputs": [],
   "source": [
    "s_all = sample.SimSample.load(sim_info, 'z0_all.hdf5')\\\n",
    "    .requires_spin().requires_assembly().requires_dist_to_halos()\n",
    "\n",
    "# store the result for simplicity\n",
    "p = ProjPaths.sim_dir_of(sim_info) / 'z0_all_postprocessed.hdf5'\n",
    "assembly_bias.sample_dumper.dump_sample_to(p, \n",
    "    s_all.objs, sim_info, sim_info.n_snapshots-1)\n",
    "\n",
    "p = ProjPaths.sim_dir_of(sim_info) / 'z0_all_postprocessed.hdf5'\n",
    "h5.File.ls_from(p)"
   ]
  },
  {
   "cell_type": "markdown",
   "metadata": {},
   "source": [
    "## Relative bias"
   ]
  },
  {
   "cell_type": "code",
   "execution_count": null,
   "metadata": {},
   "outputs": [],
   "source": [
    "pdata = sim_dir.base_dir / 'z0_all_postprocessed.hdf5'\n",
    "man_kw = {\n",
    "    'add_rsd': False,\n",
    "    'dmo': False,\n",
    "    'm_s_range_in_sol': [10**8., 10**9.],\n",
    "    # 'm_s_range_in_sol': [10**8.5, 10**9.],\n",
    "}\n",
    "sman = SubSampleManager(sim_info, pdata, **man_kw)\n",
    "sman.s_dwarf\n",
    "\n",
    "rs = np.concatenate([\n",
    "    np.logspace(-2., 0., 5),\n",
    "    np.logspace(0.15, 1.2, 8)\n",
    "])\n",
    "wp_kw = {\n",
    "    'pimax': 10., 'n_repeat': 100,\n",
    "    'bootstrap_kw': {'keep_samples': True},\n",
    "    'rs': rs\n",
    "    # 'rs': np.array([2., 10.]),\n",
    "}\n",
    "sim_cross = SimCross(sman)"
   ]
  },
  {
   "cell_type": "code",
   "execution_count": null,
   "metadata": {},
   "outputs": [],
   "source": [
    "o_path = sim_dir.base_dir / 'wp/dwarfs_lm8-9_by-S.json'\n",
    "# o_path = sim_dir.base_dir / 'wp/dwarfs_lm8.5-9_by-S.json'\n",
    "\n",
    "Sigma_star_lims = [-0.1, 7.,15., 25., 1.0e6]\n",
    "wps = sim_cross.wps_of('s_dwarf', 'Sigma_star', ps=None, qs=Sigma_star_lims, **wp_kw)\n",
    "wps['total'] = sim_cross.wp_of('s_dwarf', **wp_kw)\n",
    "Json.dump_file(wps, o_path, indent=2)"
   ]
  },
  {
   "cell_type": "code",
   "execution_count": null,
   "metadata": {},
   "outputs": [],
   "source": [
    "lm_h_edges = [11., 12., 13., 16.]\n",
    "o_path = sim_dir.base_dir / 'wp/halos_by-M.json'\n",
    "\n",
    "u_m = 1.0e10 / sman.sim_info.cosmology.hubble\n",
    "m_h_edges = 10.0**np.array(lm_h_edges) / u_m\n",
    "wps = sim_cross.wps_of('s_halo', 'm_mean200', ps=None, qs=m_h_edges, **wp_kw)\n",
    "\n",
    "Json.dump_file(wps, o_path, indent=2)"
   ]
  },
  {
   "cell_type": "code",
   "execution_count": null,
   "metadata": {},
   "outputs": [],
   "source": [
    "m_s_ranges = ([10**7.5, 10**9.],\n",
    "    [10**8., 10**9.],\n",
    "    [10**8.5, 10**9.],)\n",
    "ofiles = ('wp-tng50-ms7.5-9.json',\n",
    "    'wp-tng50-ms8-9.json',\n",
    "    'wp-tng50-ms8.5-9.json',)\n",
    "rs = np.concatenate([\n",
    "    np.logspace(-2., 0., 5),\n",
    "    np.logspace(0.15, 1.2, 8)\n",
    "])\n",
    "lm_h_edges = [11., 12., 13., 16.]\n",
    "\n",
    "pdata = ProjPaths.sim_dir_of(sim_info) / 'z0_all_postprocessed.hdf5'\n",
    "wp_kw = {\n",
    "    'pimax': 10., 'n_repeat': 50, 'rs': rs,\n",
    "    'bootstrap_kw': {'keep_samples': True},\n",
    "}\n",
    "\n",
    "for i, (m_s_range, ofile) in enumerate(zip(m_s_ranges, ofiles)):\n",
    "    sman = SubSampleManager(sim_info, pdata, m_s_range_in_sol=m_s_range)\n",
    "    sim_cross = SimCross(sman)\n",
    "    \n",
    "    \n",
    "    wp_tot = sim_cross.wp_of('s_dwarf', **wp_kw)\n",
    "    \n",
    "    wp_S = sim_cross.wps_of('s_dwarf', 'Sigma_star', \n",
    "        ps=None, qs=[-0.1, 7.,15., 25., 1.0e6], **wp_kw)\n",
    "\n",
    "    if i == 0:\n",
    "        u_m = 1.0e10 / sman.sim_info.cosmology.hubble\n",
    "        m_h_edges = 10.0**np.array(lm_h_edges) / u_m\n",
    "        wp_h = sim_cross.wps_of(\n",
    "            's_halo', 'm_mean200', \n",
    "            ps=None, qs=m_h_edges, **wp_kw)\n",
    "\n",
    "    data = DataDict({\n",
    "        'dwarfs': {\n",
    "            'S': wp_S, 'tot': wp_tot,    \n",
    "        },\n",
    "        'halos': wp_h,\n",
    "    })\n",
    "    \n",
    "    path = ProjPaths.sim_dir_of(sim_info) / ofile\n",
    "    with open(path, 'w') as f:\n",
    "        json.dump(data, f, default=json_default, indent=2)"
   ]
  },
  {
   "cell_type": "markdown",
   "metadata": {},
   "source": [
    "# TNG"
   ]
  },
  {
   "cell_type": "code",
   "execution_count": null,
   "metadata": {},
   "outputs": [],
   "source": [
    "%autoreload\n",
    "from obs.assembly_bias.clustering import SubSampleManager, SimCross\n",
    "from scipy.interpolate import interp1d\n",
    "from obs.assembly_bias.utils import gal_wp\n",
    "\n",
    "sim_info = sims.predefined['tng']\n",
    "sim_dir = ProjPaths.man_sim_dir(sim_info)"
   ]
  },
  {
   "cell_type": "markdown",
   "metadata": {},
   "source": [
    "## Datasets"
   ]
  },
  {
   "cell_type": "code",
   "execution_count": null,
   "metadata": {},
   "outputs": [],
   "source": [
    "s_all = sample.SimSample.load(sim_info, 'tng_z0.hdf5').requires_spin()\\\n",
    "    .requires_assembly().require_c()  # .requires_dist_to_halos()\n",
    "s_all"
   ]
  },
  {
   "cell_type": "code",
   "execution_count": null,
   "metadata": {},
   "outputs": [],
   "source": [
    "# store the result for simplicity\n",
    "p = sim_dir.base_dir / 'z0_all_postprocessed.hdf5'\n",
    "assembly_bias.sample_dumper.dump_sample_to(p, \n",
    "    s_all.objs, sim_info, sim_info.n_snapshots-1)\n",
    "h5.File.ls_from(p)"
   ]
  },
  {
   "cell_type": "code",
   "execution_count": null,
   "metadata": {},
   "outputs": [],
   "source": [
    "from sklearn.linear_model import LinearRegression"
   ]
  },
  {
   "cell_type": "code",
   "execution_count": null,
   "metadata": {},
   "outputs": [],
   "source": [
    "p = sim_dir.base_dir / 'z0_all_postprocessed.hdf5'\n",
    "d_in = h5.File.load_from(p)\n",
    "m_200m, m_200c = d_in['objs']['m_mean200', 'm_crit200']\n",
    "lm_200m = np.log10(m_200m)\n",
    "lm_200c = np.log10(m_200c)"
   ]
  },
  {
   "cell_type": "code",
   "execution_count": null,
   "metadata": {},
   "outputs": [],
   "source": [
    "fig, ax = plot.subplots(1, figsize=4.5, margin=[0.1, 0.1, 0.1, 0.1], layout='none')\n",
    "\n",
    "mod = LinearRegression().fit(lm_200c[:, None], lm_200m)\n",
    "k, b = mod.coef_[0], mod.intercept_\n",
    "\n",
    "x = np.linspace(-3., 4.5, 64)\n",
    "y = k * x + b\n",
    "print(k, b)\n",
    "ax.scatter(lm_200c, lm_200m, s=1)\n",
    "ax.plot(x, y, 'k--', c='r')"
   ]
  },
  {
   "cell_type": "markdown",
   "metadata": {},
   "source": [
    "## Relative bias, z_f, etc."
   ]
  },
  {
   "cell_type": "code",
   "execution_count": null,
   "metadata": {},
   "outputs": [],
   "source": [
    "m_s_range = [10**8.5, 10**9.]\n",
    "pdata = ProjPaths.sim_dir_of(sim_info) / 'z0_all_postprocessed.hdf5'\n",
    "kw = {\n",
    "    'sim_info': sim_info, 'data_file': pdata, 'm_s_range_in_sol': m_s_range, 'add_rsd': False, 'dmo': False\n",
    "}\n",
    "smans = {\n",
    "    'by_ssfr': SubSampleManager(**kw),\n",
    "    'by_noej': SubSampleManager(**kw, ssfr_lb_in_sol=-1.0, baryon_excl_ej=True),\n",
    "    'all': SubSampleManager(**kw, ssfr_lb_in_sol=-1.0),\n",
    "}\n",
    "#ssfr_scale = sman.sim_info.cosmology.hubble / 1.0e9"
   ]
  },
  {
   "cell_type": "code",
   "execution_count": null,
   "metadata": {},
   "outputs": [],
   "source": [
    "wp_kw = {\n",
    "    'pimax': 10., 'n_repeat': 100,\n",
    "    'bootstrap_kw': {'keep_samples': True},\n",
    "    'rs': np.array([2., 10.]),\n",
    "}\n",
    "sim_crosses = {k: SimCross(v) for k, v in smans.items()}"
   ]
  },
  {
   "cell_type": "code",
   "execution_count": null,
   "metadata": {},
   "outputs": [],
   "source": [
    "ps = np.array([0., 0.02, 0.05, 0.10, 0.15, 0.20, 0.40, 0.60, 0.80, 0.85, 0.90, \n",
    "               0.95, 0.98, 1.0])"
   ]
  },
  {
   "cell_type": "code",
   "execution_count": null,
   "metadata": {},
   "outputs": [],
   "source": [
    "S_ranges = [-1., 7.], [7., 15.], [15., 100000.]\n",
    "d_wps = DataDict()\n",
    "for k, sim_cross in sim_crosses.items():\n",
    "    d_wps[k] = []\n",
    "    for i_s, (S_lo, S_hi) in enumerate(S_ranges):\n",
    "        wps = sim_cross.wps_of('s_dwarf', 'z_half', ps=ps, **wp_kw,\n",
    "                         subsamp_sel = [ {'key': 'Sigma_star', 'lo': S_lo, 'hi': S_hi} ]\n",
    "            )\n",
    "        d_wps[k].append(wps)"
   ]
  },
  {
   "cell_type": "code",
   "execution_count": null,
   "metadata": {},
   "outputs": [],
   "source": [
    "sman_allssfr_noej = SubSampleManager(sim_info, pdata, m_s_range_in_sol=m_s_range,\n",
    "                                add_rsd=False, ssfr_lb_in_sol=-1.0, baryon_excl_ej=True)"
   ]
  },
  {
   "cell_type": "code",
   "execution_count": null,
   "metadata": {},
   "outputs": [],
   "source": []
  },
  {
   "cell_type": "code",
   "execution_count": null,
   "metadata": {},
   "outputs": [],
   "source": []
  },
  {
   "cell_type": "code",
   "execution_count": null,
   "metadata": {},
   "outputs": [],
   "source": [
    "sman.s_dwarf, sim_cross"
   ]
  },
  {
   "cell_type": "code",
   "execution_count": null,
   "metadata": {},
   "outputs": [],
   "source": []
  },
  {
   "cell_type": "code",
   "execution_count": null,
   "metadata": {},
   "outputs": [],
   "source": [
    "sman_allssfr = SubSampleManager(sim_info, pdata, m_s_range_in_sol=m_s_range,\n",
    "                                add_rsd=False, ssfr_lb_in_sol=-1.0)"
   ]
  },
  {
   "cell_type": "code",
   "execution_count": null,
   "metadata": {},
   "outputs": [],
   "source": []
  },
  {
   "cell_type": "code",
   "execution_count": null,
   "metadata": {},
   "outputs": [],
   "source": [
    "sman_allssfr.s_dwarf"
   ]
  },
  {
   "cell_type": "code",
   "execution_count": null,
   "metadata": {},
   "outputs": [],
   "source": [
    "sman_allssfr_noej.s_dwarf"
   ]
  },
  {
   "cell_type": "code",
   "execution_count": null,
   "metadata": {},
   "outputs": [],
   "source": [
    "sman.s_dwarf"
   ]
  },
  {
   "cell_type": "code",
   "execution_count": null,
   "metadata": {},
   "outputs": [],
   "source": [
    "ps = np.concatenate(\n",
    "    [\n",
    "        np.linspace(0., 0.9, 8),\n",
    "        np.linspace(0.92, 0.98, 6),\n",
    "        np.linspace(0.99, 1., 4),\n",
    "    ]\n",
    ")\n",
    "print(ps)"
   ]
  },
  {
   "cell_type": "code",
   "execution_count": null,
   "metadata": {},
   "outputs": [],
   "source": [
    "wp_kw = dict(sman=sman, ps=ps, n_reps=10, pimax=10.)\n",
    "wps = [\n",
    "    gal_wp.WpVsProp(samp_name='s_diffuse_dwarf', samp_kw={'S_ub': 7.}, **wp_kw),\n",
    "    gal_wp.WpVsProp(samp_name='s_diffuse_dwarf', samp_kw={'S_lb': 15.}, **wp_kw),\n",
    "    gal_wp.WpVsProp(**wp_kw),\n",
    "]"
   ]
  },
  {
   "cell_type": "code",
   "execution_count": null,
   "metadata": {},
   "outputs": [],
   "source": [
    "outs = []\n",
    "for wp in wps:\n",
    "    wp.run()\n",
    "    wp.summary(inv_cum=True)\n",
    "    outs.append(wp.wps)"
   ]
  },
  {
   "cell_type": "code",
   "execution_count": null,
   "metadata": {},
   "outputs": [],
   "source": [
    "wp_kw = dict(sman=sman_allssfr, ps=ps, n_reps=10, pimax=10.)\n",
    "wps = [\n",
    "    gal_wp.WpVsProp(samp_name='s_diffuse_dwarf', samp_kw={'S_ub': 7.}, **wp_kw),\n",
    "    gal_wp.WpVsProp(samp_name='s_diffuse_dwarf', samp_kw={'S_lb': 15.}, **wp_kw),\n",
    "    gal_wp.WpVsProp(**wp_kw),\n",
    "]"
   ]
  },
  {
   "cell_type": "code",
   "execution_count": null,
   "metadata": {},
   "outputs": [],
   "source": [
    "outs_ssfr = []\n",
    "for wp in wps:\n",
    "    wp.run()\n",
    "    wp.summary(inv_cum=True)\n",
    "    outs_ssfr.append(wp.wps)"
   ]
  },
  {
   "cell_type": "code",
   "execution_count": null,
   "metadata": {},
   "outputs": [],
   "source": [
    "d_in = Path('/Users/yangyaochen/work/science/work_forecast/mahgic/run_dir/bin/obs/assembly_bias/wp_vs_prop')\n",
    "outss = [\n",
    "    Json.load_file(d_in / 'tng_z_half.json', parse=False),\n",
    "    Json.load_file(d_in / 'tng_z_halfallssfr_noej.json', parse=False),\n",
    "    Json.load_file(d_in / 'tng_z_halfallssfr.json', parse=False),\n",
    "]"
   ]
  },
  {
   "cell_type": "code",
   "execution_count": null,
   "metadata": {},
   "outputs": [],
   "source": [
    "fig, axs = plot.subplots((2,3), share=(True, 'row'),\n",
    "    space=0.03, subsize=(4.25, 3.0), \n",
    "    margin=[0.02, 0.01, 0.12, 0.065], layout='none',\n",
    "    ratios=(None, [2, 1.]))\n",
    "axs_f = axs.flat\n",
    "\n",
    "cs = 'b', 'g', 'r', 'k'\n",
    "labels = r'$\\Sigma_* < 7\\,{\\rm M}_\\odot\\,{\\rm pc}^{-2}$', \\\n",
    "    r'$\\Sigma_* = 7$-$15\\,{\\rm M}_\\odot\\,{\\rm pc}^{-2}$',\\\n",
    "    r'$\\Sigma_*\\geqslant 15\\,{\\rm M}_\\odot\\,{\\rm pc}^{-2}$', r'$\\rm All\\ \\Sigma_*$'\n",
    "\n",
    "labs_samp = r'\\rm Star$-$\\rm forming\\,(main\\ texts)', r'\\rm Backsplash$-$\\rm excluded', r'\\rm All'\n",
    "for i_outs, _outs in enumerate(outss):\n",
    "    axs_c = axs[:, i_outs]\n",
    "    for i_out, out in enumerate(_outs):\n",
    "        ax = axs_c[0]\n",
    "        wps = np.array(out['wps']) \n",
    "        y, y_sd = wps.mean(0), wps.std(0)\n",
    "        y, y_sd = y / y[-1], y_sd / y[-1]\n",
    "        \n",
    "        x = np.array(out['cum_ps'])\n",
    "        x2 = np.array(out['qs'] )\n",
    "\n",
    "        axs.c(cs[i_out])\n",
    "        ax.errorfill(x, y, yerr=y_sd, label=labels[i_out], lw=3,\n",
    "                        fill_between_kw={'lw': 0., 'alpha': .15})\n",
    "\n",
    "        ax = axs_c[1]\n",
    "        ax.c(cs[i_out])\n",
    "        ax.plot(x, x2)\n",
    "        \n",
    "        ax = axs_c[0]\n",
    "        ax.text(labs_samp[i_outs], (.92, .92), ha='right')\n",
    "        \n",
    "axs[0].scale().lim([.5e-2, 1.1], [1., 3.25])\\\n",
    "    .label(y=r'{\\rm Relative\\ bias}')\n",
    "\n",
    "axs[1].scale('log').lim(y=[0., 7.5])\\\n",
    "    .label(r'{\\rm Fraction\\ of \\ }z_{\\rm f} \\geqslant z_{\\rm f,thres}', r'z_{\\rm f,thres}')\n",
    "\n",
    "axs_f[0].leg()\n",
    "\n",
    "axs.label_outer()\n",
    "ProjPaths.save_fig('fig_rel_bias_vs_zf_sub_binned.pdf')"
   ]
  },
  {
   "cell_type": "code",
   "execution_count": null,
   "metadata": {},
   "outputs": [],
   "source": [
    "s_dwarf = sman_allssfr.s_dwarf\n",
    "ssfr_scale = sman.sim_info.cosmology.hubble / 1.0e9\n",
    "z_h, S, ssfr = s_dwarf['z_half', 'Sigma_star', 'ssfr']\n",
    "ssfr = ssfr * ssfr_scale"
   ]
  },
  {
   "cell_type": "code",
   "execution_count": null,
   "metadata": {},
   "outputs": [],
   "source": [
    "fig, axs = plot.subplots((1,2), share=False, space=0.25, subsize=(5.0, 5.0), margin=[0.1, 0.1, 0.1, 0.1], layout='none')\n",
    "axs_f = axs.flat\n",
    "\n",
    "ax = axs_f[0]\n",
    "\n",
    "rg = [0., .8], [-0.2, 2.2]\n",
    "x, y = Num.safe_lg(z_h + 1.) , Num.safe_lg(S) \n",
    "ax.scatter_2d(x, y, range=rg, \n",
    "              n_bins=(32, 32)).mesh(cmap='gnuplot').contour(colors='w')\n",
    "ax.lim(*rg).label(r'\\log\\, (1+z_{\\rm f})', r'\\log\\, \\Sigma_*\\, [{\\rm M_\\odot\\,pc^{-2}}]')\n",
    "\n",
    "ax = axs_f[1]\n",
    "rg = [-10.5, -8.], [-0.2, 2.2]\n",
    "x, y = Num.safe_lg(ssfr, lo=1.0e-11), Num.safe_lg(S)\n",
    "ax.scatter_2d(x, y, range=rg, \n",
    "              n_bins=(32, 32)).mesh(cmap='gnuplot').contour(colors='w')\n",
    "ax.lim(*rg).label(r'\\log\\, {\\rm sSFR}', r'\\log\\, \\Sigma_*\\, [{\\rm M_\\odot\\,pc^{-2}}]')\n"
   ]
  },
  {
   "cell_type": "code",
   "execution_count": null,
   "metadata": {},
   "outputs": [],
   "source": [
    "s1 = s_dwarf.subset_by_value('Sigma_star', hi=7.)\n",
    "s1.subset_by_value('z_half', lo=0.5).n_objs"
   ]
  },
  {
   "cell_type": "markdown",
   "metadata": {},
   "source": [
    "## Relative bias"
   ]
  },
  {
   "cell_type": "code",
   "execution_count": null,
   "metadata": {},
   "outputs": [],
   "source": [
    "pdata = sim_dir.base_dir / 'z0_all_postprocessed.hdf5'\n",
    "man_kw = {\n",
    "    'add_rsd': False,\n",
    "    'dmo': False,\n",
    "    # 'm_s_range_in_sol': [10**8., 10**9.],\n",
    "    'm_s_range_in_sol': [10**8.5, 10**9.],\n",
    "}\n",
    "sman = SubSampleManager(sim_info, pdata, **man_kw)\n",
    "sman.s_dwarf\n",
    "\n",
    "wp_kw = {\n",
    "    'pimax': 10., 'n_repeat': 100,\n",
    "    'bootstrap_kw': {'keep_samples': True}\n",
    "    # 'rs': np.array([2., 10.]),\n",
    "}\n",
    "sim_cross = SimCross(sman)"
   ]
  },
  {
   "cell_type": "code",
   "execution_count": null,
   "metadata": {},
   "outputs": [],
   "source": [
    "# o_path = sim_dir.base_dir / 'wp/dwarfs_lm8-9_by-S.json'\n",
    "o_path = sim_dir.base_dir / 'wp/dwarfs_lm8.5-9_by-S.json'\n",
    "\n",
    "Sigma_star_lims = [-0.1, 7.,15., 25., 1.0e6]\n",
    "wps = sim_cross.wps_of('s_dwarf', 'Sigma_star', ps=None, qs=Sigma_star_lims, **wp_kw)\n",
    "wps['total'] = sim_cross.wp_of('s_dwarf', **wp_kw)\n",
    "Json.dump_file(wps, o_path, indent=2)"
   ]
  },
  {
   "cell_type": "code",
   "execution_count": null,
   "metadata": {},
   "outputs": [],
   "source": [
    "lm_h_edges = [11., 12., 13., 16.]\n",
    "o_path = sim_dir.base_dir / 'wp/halos_by-M.json'\n",
    "\n",
    "u_m = 1.0e10 / sman.sim_info.cosmology.hubble\n",
    "m_h_edges = 10.0**np.array(lm_h_edges) / u_m\n",
    "wps = sim_cross.wps_of('s_halo', 'm_mean200', ps=None, qs=m_h_edges, **wp_kw)\n",
    "\n",
    "Json.dump_file(wps, o_path, indent=2)"
   ]
  },
  {
   "cell_type": "markdown",
   "metadata": {},
   "source": [
    "## Property distributions "
   ]
  },
  {
   "cell_type": "code",
   "execution_count": null,
   "metadata": {},
   "outputs": [],
   "source": [
    "pdata = sim_dir.base_dir / 'z0_all_postprocessed.hdf5'\n",
    "man_kw = {\n",
    "    'add_rsd': False,\n",
    "    'dmo': False,\n",
    "    # 'm_s_range_in_sol': [10**8., 10**9.],\n",
    "    'm_s_range_in_sol': [10**8.5, 10**9.],\n",
    "}\n",
    "sman = SubSampleManager(sim_info, pdata, **man_kw)\n",
    "sman.s_dwarf"
   ]
  },
  {
   "cell_type": "markdown",
   "metadata": {},
   "source": [
    "z_f Sigma correlation"
   ]
  },
  {
   "cell_type": "code",
   "execution_count": null,
   "metadata": {},
   "outputs": [],
   "source": [
    "z_f, S = sman.s_dwarf['z_half', 'Sigma_star']\n",
    "lS = Num.safe_lg(S)\n",
    "\n",
    "z_p = np.linspace(0., 5., 256)\n",
    "S_p, el, eh = stats.KernelRegression1D.by_local_kernel(z_f, S, z_p, max_dx=.25, reduce='errorbar')['y'][0].T"
   ]
  },
  {
   "cell_type": "code",
   "execution_count": null,
   "metadata": {},
   "outputs": [],
   "source": [
    "Json.dump_file(\n",
    "    {\n",
    "        'z_half': z_p, 'Sigma_star': S_p, 'Sigma_star_err': (el, eh)\n",
    "    },\n",
    "    sim_dir.base_dir / 'stats' / 'z_half-Sigma_star.json'\n",
    ")"
   ]
  },
  {
   "cell_type": "code",
   "execution_count": null,
   "metadata": {},
   "outputs": [],
   "source": [
    "fig, axs = plot.subplots((1,2), share=False, space=0.25, \n",
    "                         subsize=(5.0, 5.0), margin=[0.1, 0.1, 0.1, 0.1], layout='none')\n",
    "axs_f = axs.flat\n",
    "\n",
    "ax = axs_f[0]\n",
    "ax.scatter(S, z_f, s=1, alpha=.5, rasterized=True)\n",
    "ax.c('r').errorbar(S_p, z_p, xerr=(el, eh), lw=2.5)\n",
    "ax.scale('log').lim(y=[0., 4.5])\n",
    "\n",
    "ax = axs_f[1]\n",
    "ax.hist(np.log10(S), range=[-1., 3.], bins=32)"
   ]
  },
  {
   "cell_type": "code",
   "execution_count": null,
   "metadata": {},
   "outputs": [],
   "source": [
    "z_f, S, spin, c = sman.s_dwarf['z_half', 'Sigma_star', 'spin_mean200', 'c_mean200']\n",
    "lS = Num.safe_lg(S)\n",
    "lspin = Num.safe_lg(spin)"
   ]
  },
  {
   "cell_type": "code",
   "execution_count": null,
   "metadata": {},
   "outputs": [],
   "source": [
    "fig, axs = plot.subplots(\n",
    "    (1, 3),\n",
    "    share=False, space=0.25, subsize=(5.5, 5.0),\n",
    "    margin=[0.1, 0.1, 0.1, 0.1],\n",
    "    layout='none')\n",
    "axs_f = axs.flat\n",
    "\n",
    "\n",
    "axs.c('r').fmt_marker(fa=1)\n",
    "lspin_rg = [-2.55, -0.91]\n",
    "c_rg = [2., 40.]\n",
    "lS_rg = [-0.4, 3.]\n",
    "lspin_label = r'\\log\\, \\lambda'\n",
    "c_label = r'c'\n",
    "lS_lab = r'\\log\\, \\Sigma_*\\,[{\\rm M_\\odot pc^{-2}}]'\n",
    "\n",
    "ax = axs_f[0]\n",
    "ax.scatter(lspin, lS, rasterized=True)\n",
    "ax.lim(lspin_rg, lS_rg).label(lspin_label, lS_lab)\n",
    "\n",
    "ax = axs_f[1]\n",
    "ax.scatter(c, lS, rasterized=True)\n",
    "ax.lim(c_rg, lS_rg).label(c_label, lS_lab)\n",
    "\n",
    "ax = axs_f[2]\n",
    "X = np.column_stack([lspin, c])\n",
    "X_mean, X_sd = X.mean(0), np.std(X, axis=0)\n",
    "X_sc = (X - X_mean) / X_sd\n",
    "y_sc = lS\n",
    "y_p = stats.KernelRegressionND.by_knn(X_sc, y_sc, X_sc, k=32)['y'][0]\n",
    "ax.fmt_marker(elw=0)\n",
    "art = ax.scatter(lspin, c, c=y_p, rasterized=True, s=20, zorder=20, \n",
    "                 cmap='gnuplot2', vmin=lS_rg[0], vmax=lS_rg[1]).last_draw\n",
    "ax.scatter(lspin, c, c='gray', rasterized=True, s=40, zorder=19)\n",
    "ax.label(lspin_label, c_label)\n",
    "    \n",
    "n = 32\n",
    "k = 32\n",
    "grid = GridMd(np.linspace(*lspin_rg, n), np.linspace(*c_rg, n))\n",
    "y_p = grid.applied(\n",
    "    lambda Xp: stats.KernelRegressionND.by_knn(\n",
    "        X_sc, y_sc, (Xp-X_mean)/X_sd, k=k)['y'][0],\n",
    "    xy_indexing=True).values\n",
    "x1p, x2p = grid.locs_1d\n",
    "ax._raw.contour(x1p, x2p, y_p, levels=16, colors='w', \n",
    "                linewidths=1., zorder=21)\n",
    "fig.colorbar(art, ax=ax, location='right', label='$%s$'%lS_lab)\n",
    "\n",
    "ax.lim(lspin_rg, c_rg)"
   ]
  },
  {
   "cell_type": "markdown",
   "metadata": {},
   "source": [
    "z_f - sSFR / Sigma correlation"
   ]
  },
  {
   "cell_type": "code",
   "execution_count": null,
   "metadata": {},
   "outputs": [],
   "source": [
    "x, y, z = s_dwarf2['z_half', 'ssfr', 'Sigma_star']\n",
    "y = np.log10(y * ssfr_scale + 1.0e-12) \n",
    "x = np.log10(1.0 + x)\n",
    "z = np.log10(z + 1.0e-12)"
   ]
  },
  {
   "cell_type": "code",
   "execution_count": null,
   "metadata": {},
   "outputs": [],
   "source": [
    "s_dwarf2.z_dst"
   ]
  },
  {
   "cell_type": "code",
   "execution_count": null,
   "metadata": {},
   "outputs": [],
   "source": [
    "fig, axs = plot.subplots((2,2), share=False, space=.03, \n",
    "                         subsize=(5., 5.), margin=[0.1, 0.1, 0.1, 0.1], layout='none')\n",
    "axs_f = axs.flat\n",
    "\n",
    "ranges = [[0., 1.], [-12.3, -7.5], [-0.99, 2.2]]\n",
    "\n",
    "ax = axs[0,0]\n",
    "rg = ranges[0], ranges[1]\n",
    "ax.scatter_2d(x, y, range=rg, \n",
    "              n_bins=(32, 32)).mesh(cmap='gnuplot').contour(colors='w')\n",
    "ax.lim(*rg).label(y=r'\\log\\,{\\rm sSFR}\\,[{\\rm yr}^{-1}]')\n",
    "a_plot.Axes(ax).add_secondary_axis_lgzp1_to_z(label=r'$z_{\\rm f}$')\n",
    "\n",
    "axs[0,1].axis_off().text(r'\\rm TNG', (.5, .5), ha='center', va='center', fontsize=20)\n",
    "\n",
    "ax = axs[1,0]\n",
    "rg = ranges[0], ranges[2]\n",
    "ax.scatter_2d(x, z, range=rg, \n",
    "              n_bins=(32, 32)).mesh(cmap='gnuplot').contour(colors='w')\n",
    "ax.lim(*rg).label(r'\\log\\, z_{\\rm f}', r'\\log\\, \\Sigma_*\\, [{\\rm M_\\odot\\,pc^{-2}}]')\n",
    "\n",
    "ax = axs[1,1]\n",
    "rg = ranges[1], ranges[2]\n",
    "ax.scatter_2d(y, z, range=rg, \n",
    "              n_bins=(32, 32)).mesh(cmap='gnuplot').contour(colors='w')\n",
    "\n",
    "ax.lim(*rg).label(r'\\log\\,{\\rm sSFR}\\,[{\\rm yr}^{-1}]', \n",
    "    r'\\log\\, \\Sigma_*\\, [{\\rm M_\\odot\\,pc^{-2}}]')\n",
    "\n",
    "axs.label_outer()"
   ]
  },
  {
   "cell_type": "code",
   "execution_count": null,
   "metadata": {},
   "outputs": [],
   "source": [
    "fig, ax = plot.subplots(1, figsize=5., margin=[0.1, 0.1, 0.1, 0.1], layout='none')\n",
    "\n",
    "ax.scatter_2d(x, y, range=[[0., 1.], [-12.1, -7.8]], \n",
    "              n_bins=(32, 32)).mesh(cmap='gnuplot').contour(colors='w')\n",
    "\n",
    "ax.text(r'\\rm TNG', (.92, .92), color='w', ha='right')\n",
    "ax.label(r'\\log\\,(1+z_{\\rm f})', r'{\\rm sSFR}\\,[{\\rm yr}^{-1}]')"
   ]
  },
  {
   "cell_type": "markdown",
   "metadata": {},
   "source": [
    "### For tests"
   ]
  },
  {
   "cell_type": "code",
   "execution_count": null,
   "metadata": {},
   "outputs": [],
   "source": [
    "m_s_min = 10**(-2. - 0.15)\n",
    "s_ref = s_all.subset_by_value('m_star', lo=m_s_min)"
   ]
  },
  {
   "cell_type": "code",
   "execution_count": null,
   "metadata": {},
   "outputs": [],
   "source": [
    "tng_cls = clustering.Clustering(s_ref)"
   ]
  },
  {
   "cell_type": "code",
   "execution_count": null,
   "metadata": {},
   "outputs": [],
   "source": [
    "s_c = s_all.subset_by_value('is_c', eq=True)\n",
    "s_c2 = s_c.subset_by_value('m_star', lo=m_s_min, hi=10**-1.15)\n",
    "s_dwarf = s_c2.subset_by_value('ssfr', 10**-1.5)"
   ]
  },
  {
   "cell_type": "code",
   "execution_count": null,
   "metadata": {},
   "outputs": [],
   "source": [
    "s_dwarfq = s_c2.subset_by_value('ssfr', hi=10**-1.5)"
   ]
  },
  {
   "cell_type": "code",
   "execution_count": null,
   "metadata": {},
   "outputs": [],
   "source": [
    "s_noej = s_c2.subset_by_value('last_sat_z', lo=15.)\n",
    "s_ej = s_c2.subset_by_value('last_sat_z', hi=1.5)"
   ]
  },
  {
   "cell_type": "code",
   "execution_count": null,
   "metadata": {},
   "outputs": [],
   "source": [
    "def get_tng_cls_S_binned(samp_from = s_dwarf):\n",
    "    S_ranges = [\n",
    "        (0., 3.),\n",
    "        (3., 7.),\n",
    "        (10., 15.),\n",
    "        (15., 30.),\n",
    "    ]\n",
    "    cls_by = tng_cls\n",
    "    n_rep = 5\n",
    "    \n",
    "    outs = []\n",
    "    for s1, s2 in S_ranges:\n",
    "        samp = samp_from.subset_by_value('Sigma_star', lo=s1, hi=s2)\n",
    "        print(samp.n_objs)\n",
    "        out = cls_by.proj_cross(samp, n_repeat=n_rep) | {'S_range': (s1,s2)}\n",
    "        outs.append(out)\n",
    "    return outs"
   ]
  },
  {
   "cell_type": "code",
   "execution_count": null,
   "metadata": {},
   "outputs": [],
   "source": [
    "tng_outs = {}\n",
    "tng_outs['S_binned'] = get_tng_cls_S_binned()"
   ]
  },
  {
   "cell_type": "code",
   "execution_count": null,
   "metadata": {},
   "outputs": [],
   "source": [
    "tng_outs['Sq_binned'] = get_tng_cls_S_binned(samp_from=s_dwarfq)"
   ]
  },
  {
   "cell_type": "code",
   "execution_count": null,
   "metadata": {},
   "outputs": [],
   "source": [
    "tng_outs['all'] = tng_cls.proj_cross(s_dwarf, n_repeat=5)"
   ]
  },
  {
   "cell_type": "code",
   "execution_count": null,
   "metadata": {},
   "outputs": [],
   "source": [
    "tng_outs['ej'] = tng_cls.proj_cross(s_ej, n_repeat=5)\n",
    "tng_outs['noej'] = tng_cls.proj_cross(s_noej, n_repeat=5)"
   ]
  },
  {
   "cell_type": "code",
   "execution_count": null,
   "metadata": {},
   "outputs": [],
   "source": [
    "tng_outs['allq'] = tng_cls.proj_cross(s_dwarfq, n_repeat=5)"
   ]
  },
  {
   "cell_type": "code",
   "execution_count": null,
   "metadata": {},
   "outputs": [],
   "source": [
    "s = s_c.subset_by_value('m_h', lo=10**2.0, hi=10**2.5); print(s.n_objs)\n",
    "tng_outs['h12'] = tng_cls.proj_cross(s, n_repeat=5)\n",
    "s = s_c.subset_by_value('m_h', lo=10**3.); print(s.n_objs)\n",
    "tng_outs['h13'] = tng_cls.proj_cross(s, n_repeat=5)"
   ]
  },
  {
   "cell_type": "code",
   "execution_count": null,
   "metadata": {},
   "outputs": [],
   "source": [
    "s = s_noej.subset_by_value('S_fR', 10., 12.); print(s.n_subhs)\n",
    "outs['noej_lows'] = cls.proj_cross(s, n_repeat=1)"
   ]
  },
  {
   "cell_type": "code",
   "execution_count": null,
   "metadata": {},
   "outputs": [],
   "source": [
    "s = s_noej.subset_by_value('z_half', lo=3.).subset_by_value('d_h13', 5.); print(s.n_subhs)\n",
    "outs['large_d_h12'] = cls.proj_cross(s, n_repeat=1)"
   ]
  },
  {
   "cell_type": "code",
   "execution_count": null,
   "metadata": {},
   "outputs": [],
   "source": [
    "fig, axs = plot.subplots(\n",
    "    (2, 1),\n",
    "    figsize=(6., 6.5),\n",
    "    share=(True, 'row'),\n",
    "    space=0, extent=[.98, .98, .09, .125],\n",
    "    layout='none', \n",
    "    ratios=(None, (3, 1.25)))\n",
    "axs_f = axs.flat\n",
    "axs.fmt_fill(lw=0)\n",
    "\n",
    "cs3 = ColorSets.set1[:3]\n",
    "c_b = cs3[1]\n",
    "c_r = cs3[0]\n",
    "\n",
    "def plt_rat(d, d_all, kw):\n",
    "    x, y, e = d['lg_rs_c', 'wp', 'wp_sd']\n",
    "    ax.plot(x, y, **kw)\n",
    "    \n",
    "    y_all = d_all['wp']\n",
    "    y, e = Num.safe_div(y, y_all), Num.safe_div(e, y_all)\n",
    "    ax1.plot(x, y, **kw)\n",
    "\n",
    "ax = axs_f[0]\n",
    "ax1 = axs_f[1]\n",
    "d_all = tng_outs[f'all']\n",
    "plt_rat(d_all, d_all, dict(c=c_b, ls='-', lw=2.5, zorder=10, label=r'$\\rm All\\ SF\\ dwarfs$'))\n",
    "\n",
    "d_allq = tng_outs[f'allq']\n",
    "plt_rat(d_allq, d_all, dict(c=c_r, ls='-', lw=2.5, zorder=10, label=r'$\\rm All\\ Q\\ dwarfs$'))\n",
    "\n",
    "ds = tng_outs['S_binned']\n",
    "for i, d in enumerate(ds):\n",
    "    lab = r'$\\Sigma_*=[%0.1f,%0.1f]$'%d['S_range']\n",
    "    kw = dict(ls=(0,(0.5*i+.5,(len(ds)-i)*.5)), c=c_b, label= lab) \n",
    "    plt_rat(d, d_all, kw)\n",
    "    \n",
    "dsq = tng_outs['Sq_binned'][:-2]\n",
    "for i, d in enumerate(dsq):\n",
    "    kw = dict(ls=(0,(0.5*i+.5,(len(ds)-1-i)*.5)), c=c_r) \n",
    "    plt_rat(d, d_all, kw)\n",
    "    \n",
    "plt_rat(tng_outs['ej'], d_all, dict(c='purple', ls='-', lw=2.5, zorder=10, label=r'$\\rm ejected$'))\n",
    "plt_rat(tng_outs['noej'], d_all, dict(c='darkblue', ls='-', lw=2.5, zorder=10, label=r'$\\rm non-ejected$'))\n",
    "\n",
    "\n",
    "labs = r'${\\rm Halo}\\,(M_{\\rm h}=10^{[12,12.5]})$', r'${\\rm Halo}\\,(M_{\\rm h}>10^{13})$'\n",
    "for i, k in enumerate(['h12', 'h13']):\n",
    "    kw = dict(c='gray', lw=(i+1)*2, label=labs[i])\n",
    "    plt_rat(tng_outs[k], d_all, kw)\n",
    "\n",
    "ax.scale(y='log').lim([-1.89, 1.1], [.5e0, 5.9e3])\\\n",
    "    .label(y=r'w_{\\rm p}(r_{\\rm p})\\,[h^{-1}{\\rm Mpc}]',)\\\n",
    "    .leg(loc='ll', fontsize=12.25, ncol=2, columnspacing=.01,\n",
    "         labelspacing=-.05, title=r'$\\bf TNG100$', handlelength=1.5)\n",
    "\n",
    "ax = axs[1]\n",
    "ax.scale(y='log').lim(y=[0.5, 11.5]).label(r'\\log\\, r_{\\rm p}\\,[h^{-1}{\\rm Mpc}]',\n",
    "                           r'\\rm Ratio')\n",
    "\n",
    "ProjPaths.save_fig('tng_wp.pdf')"
   ]
  },
  {
   "cell_type": "markdown",
   "metadata": {},
   "source": [
    "# TNG-Dark300-1"
   ]
  },
  {
   "cell_type": "code",
   "execution_count": null,
   "metadata": {},
   "outputs": [],
   "source": [
    "%autoreload\n",
    "from obs.assembly_bias.clustering import SubSampleManager, SimCross\n",
    "from obs.assembly_bias import sidm\n",
    "from sklearn.neighbors import KDTree\n",
    "from obs.assembly_bias.utils import gal_wp\n",
    "from scipy.interpolate import interp1d\n",
    "from astropy import units as U\n",
    "\n",
    "sim_info = sims.predefined['tng_dark_300_1']\n",
    "sim_dir = ProjPaths.man_sim_dir(sim_info)"
   ]
  },
  {
   "cell_type": "markdown",
   "metadata": {},
   "source": [
    "## Datasets"
   ]
  },
  {
   "cell_type": "markdown",
   "metadata": {},
   "source": [
    "### LGalaxies-H15"
   ]
  },
  {
   "cell_type": "code",
   "execution_count": null,
   "metadata": {},
   "outputs": [],
   "source": [
    "s_all = sample.SimSample.load(sim_info, 'z0_all.hdf5')\\\n",
    "    .require_LGalaxies_H15()\\\n",
    "    .requires_spin().requires_assembly().require_c()\\\n",
    "    #.requires_dist_to_halos().requires_disk()\n",
    "s_all"
   ]
  },
  {
   "cell_type": "code",
   "execution_count": null,
   "metadata": {},
   "outputs": [],
   "source": [
    "p = sim_dir.base_dir / 'z0_all_postprocessed.hdf5.LGalaxies-H15'\n",
    "assembly_bias.sample_dumper.dump_sample_to(p, \n",
    "    s_all.objs, sim_info, sim_info.n_snapshots-1)"
   ]
  },
  {
   "cell_type": "markdown",
   "metadata": {},
   "source": [
    "### Full sample"
   ]
  },
  {
   "cell_type": "code",
   "execution_count": null,
   "metadata": {},
   "outputs": [],
   "source": [
    "s_all = sample.SimSample.load(sim_info, 'z0_all.hdf5').requires_spin().requires_assembly()\\\n",
    "    .require_c()\n",
    "p = ProjPaths.sim_dir_of(sim_info) / 'z0_all_postprocessed.hdf5'\n",
    "assembly_bias.sample_dumper.dump_sample_to(p, \n",
    "    s_all.objs, sim_info, sim_info.n_snapshots-1)"
   ]
  },
  {
   "cell_type": "code",
   "execution_count": null,
   "metadata": {},
   "outputs": [],
   "source": [
    "p = ProjPaths.sim_dir_of(sim_info) / 'z0_all_postprocessed.hdf5'\n",
    "h5.File.ls_from(p)"
   ]
  },
  {
   "cell_type": "markdown",
   "metadata": {},
   "source": [
    "### Sub sample"
   ]
  },
  {
   "cell_type": "code",
   "execution_count": null,
   "metadata": {},
   "outputs": [],
   "source": [
    "sim_info = sims.predefined['tng_dark_300_1']\n",
    "sim_dir = ProjPaths.man_sim_dir(sim_info)\n",
    "\n",
    "pdata = ProjPaths.sim_dir_of(sim_info) / 'z0_all_postprocessed.hdf5'\n",
    "samp = sample.SimSample.load(sim_info, pdata)"
   ]
  },
  {
   "cell_type": "code",
   "execution_count": null,
   "metadata": {},
   "outputs": [],
   "source": [
    "u_m = u_m = sim_info.cosmology.unit_system.u_m_to_sol\n",
    "s_h = samp.subset_by_value('is_c', eq=True)\\\n",
    "    .subset_by_value('m_mean200', lo=10**10.50/u_m)\\\n",
    "    .subset_by_value('last_sat_z', lo=15.)\n",
    "s_h"
   ]
  },
  {
   "cell_type": "code",
   "execution_count": null,
   "metadata": {},
   "outputs": [],
   "source": [
    "keys = [\n",
    "    'c_h', 'c_mean200', 'is_c',\n",
    "    'last_sat_snap', 'last_sat_z', 'leaf_offs', 'm_crit200',\n",
    "    'm_crit200_form', 'm_h', 'm_mean200', 'm_mean200_form', 'm_peak',\n",
    "    'm_peak_snap', 'm_peak_v', 'm_sub', 'm_tophat', 'r_h', 'r_mean200',\n",
    "    'r_tophat', 'r_v_max', 'root_offs', 'snap_afterform', 'snap_form',\n",
    "    'spin', 'spin_form', 'spin_form_h', 'spin_form_mean200', 'spin_h',\n",
    "    'spin_mean200', 'subfind_id', 'subhalo_id', 'v', 'v_h', 'v_max',\n",
    "    'v_max2h', 'v_mean200', 'v_peak', 'v_peak2max', 'v_peak_m',\n",
    "    'v_peak_snap', 'x', 'x_t_half', 'z_half'\n",
    "]\n",
    "d_out = {\n",
    "    'ctx': h5.File.load_from(pdata, 'ctx'),\n",
    "    'header': h5.File.load_from(pdata, 'header'),\n",
    "    'objs': {k: s_h[k] for k in keys}\n",
    "}"
   ]
  },
  {
   "cell_type": "code",
   "execution_count": null,
   "metadata": {},
   "outputs": [],
   "source": [
    "h5.File.dump_to(\n",
    "    str(pdata) + '.c.lm-gt-10p5.noBS',\n",
    "    d_out, f_flag='w')"
   ]
  },
  {
   "cell_type": "markdown",
   "metadata": {},
   "source": [
    "## Abundance matching"
   ]
  },
  {
   "cell_type": "code",
   "execution_count": null,
   "metadata": {},
   "outputs": [],
   "source": [
    "sim_info = sims.predefined['tng_dark_300_1']\n",
    "sim_dir = ProjPaths.man_sim_dir(sim_info)\n",
    "\n",
    "pdata = ProjPaths.sim_dir_of(sim_info) / 'z0_all_postprocessed.hdf5'\n",
    "samp = sample.SimSample.load(sim_info, pdata)\n",
    "samp.objs['hid'] = np.arange(samp.n_objs)"
   ]
  },
  {
   "cell_type": "code",
   "execution_count": null,
   "metadata": {},
   "outputs": [],
   "source": []
  },
  {
   "cell_type": "markdown",
   "metadata": {},
   "source": [
    "Export subsamples"
   ]
  },
  {
   "cell_type": "code",
   "execution_count": null,
   "metadata": {},
   "outputs": [],
   "source": [
    "u_m = sim_info.cosmology.unit_system.u_m_to_sol\n",
    "# m_lb, m_ub = 10**10.9 / u_m, 10**11.1 / u_m\n",
    "# o_key = '_lm11'\n",
    "# m_lb, m_ub = 10**10.745 / u_m, 10**10.755 / u_m\n",
    "# o_key = 'lm10p75'\n",
    "# m_lb, m_ub = 10**10.49 / u_m, 10**10.51 / u_m\n",
    "m_lb, m_ub = 10**10.75 / u_m, 10**10.85 / u_m\n",
    "o_key = 'lm10p75-10p85'\n",
    "\n",
    "s_h = samp.subset_by_value('is_c', eq=True)\\\n",
    "    .subset_by_value('m_mean200', lo=m_lb, hi=m_ub)\\\n",
    "    .subset_by_value('last_sat_z', lo=15.)\n",
    "print(s_h)"
   ]
  },
  {
   "cell_type": "code",
   "execution_count": null,
   "metadata": {},
   "outputs": [],
   "source": [
    "out = {k: s_h[k]  for k in ['m_mean200', 'r_mean200', 'c_mean200', \n",
    "                            'spin_mean200', 'z_half', 'hid']}\n",
    "sim_dir.dump_sample(out, f'z0{o_key}.hdf5', f_flag='w')"
   ]
  },
  {
   "cell_type": "markdown",
   "metadata": {},
   "source": [
    "Load and reorganize external results"
   ]
  },
  {
   "cell_type": "code",
   "execution_count": null,
   "metadata": {},
   "outputs": [],
   "source": [
    "s_h.objs |= sim_dir.load_sample(f'z0{o_key}.hdf5')\n",
    "\n",
    "key_in = f'Sigma_star_SIDM'\n",
    "x_in = s_h[key_in]\n",
    "x_out = np.zeros(len(samp['hid']), dtype=x_in.dtype)\n",
    "x_out[ s_h['hid'] ] = x_in\n",
    "    \n",
    "h5.File.dump_to(pdata, {\n",
    "    f'{key_in}_{o_key}': x_out,\n",
    "}, 'objs', g_flag='ac', dump_flag='ac')"
   ]
  },
  {
   "cell_type": "code",
   "execution_count": null,
   "metadata": {},
   "outputs": [],
   "source": []
  },
  {
   "cell_type": "code",
   "execution_count": null,
   "metadata": {},
   "outputs": [],
   "source": [
    "out = {k: s_h[k]  for k in ['m_mean200', 'r_mean200', 'c_mean200', 'spin_mean200', 'z_half', 'hid']}\n",
    "h5.File.dump_to(ProjPaths.sim_dir_of(sim_info) / 'z0_m10p75.hdf5', \n",
    "    out, f_flag='ac', dump_flag='ac')"
   ]
  },
  {
   "cell_type": "code",
   "execution_count": null,
   "metadata": {},
   "outputs": [],
   "source": [
    "p_ld = ProjPaths.sim_dir_of(sim_info) / 'z0_m10p75.hdf5'\n",
    "d_ld = h5.File.load_from(p_ld)\n",
    "for k, v in d_ld.items():\n",
    "    if k[:4] != 'sidm':\n",
    "        continue\n",
    "    print(k)\n",
    "    v_out = np.zeros_like(samp['hid'], dtype=v.dtype) \n",
    "    v_out[d_ld['hid']] = v\n",
    "    h5.File.dump_to(pdata, v_out, f'objs/lm10p75_{k}', dump_flag='ac')"
   ]
  },
  {
   "cell_type": "code",
   "execution_count": null,
   "metadata": {},
   "outputs": [],
   "source": [
    "out = {k: s_h[k]  for k in ['m_crit200', 'c', 'z_half']}\n",
    "h5.File.dump_to(ProjPaths.sim_dir_of(sim_info) / 'z0_m11.hdf5', \n",
    "    out, f_flag='ac')"
   ]
  },
  {
   "cell_type": "markdown",
   "metadata": {},
   "source": [
    "### Matching with z_f"
   ]
  },
  {
   "cell_type": "code",
   "execution_count": null,
   "metadata": {},
   "outputs": [],
   "source": [
    "u_m = sim_info.cosmology.unit_system.u_m_to_sol\n",
    "m_lb, m_ub = 10**10.5 / u_m, 10**11. / u_m\n",
    "s_h = samp.subset_by_value('is_c', eq=True)\\\n",
    "    .subset_by_value('m_mean200', lo=m_lb, hi=m_ub)\\\n",
    "    .subset_by_value('last_sat_z', lo=15.)"
   ]
  },
  {
   "cell_type": "code",
   "execution_count": null,
   "metadata": {},
   "outputs": [],
   "source": [
    "s_g = obs_catalogs.tot_dwarfs.s_massive\n",
    "len(s_g['z'])"
   ]
  },
  {
   "cell_type": "code",
   "execution_count": null,
   "metadata": {},
   "outputs": [],
   "source": [
    "rng = Rng(10086)\n",
    "rn = stats.RandomNoise(.001, rng=rng)\n",
    "lS =  rn.add_to(np.log10(s_g['Sigma_star'])) \n",
    "lz_f = rn.add_to(np.log10(s_h['z_half'] + 1.))\n",
    "\n",
    "for rho in [1., 0.85]:\n",
    "    lS_pred = u_stats.abudance_match_with_corr_coef(lz_f, lS, rho=-rho, rng=rng)\n",
    "    S_pred = 10**lS_pred\n",
    "    \n",
    "    S_all = np.zeros(len(samp['hid']), dtype=S_pred.dtype)\n",
    "    S_all[ s_h['hid'] ] = S_pred\n",
    "    h5.File.dump_to(pdata, S_all, \n",
    "                    f'objs/Sigma_star_AM_lm10p5-11_rho{rho:.2f}', dump_flag='ac')"
   ]
  },
  {
   "cell_type": "markdown",
   "metadata": {},
   "source": [
    "### SIDM relations"
   ]
  },
  {
   "cell_type": "code",
   "execution_count": null,
   "metadata": {},
   "outputs": [],
   "source": [
    "from obs.assembly_bias.sidm.drivers import SIDMDriver"
   ]
  },
  {
   "cell_type": "code",
   "execution_count": null,
   "metadata": {},
   "outputs": [],
   "source": [
    "u_m = sim_info.cosmology.unit_system.u_m_to_sol\n",
    "m_lb, m_ub = 10**10.5 / u_m, 10**11. / u_m\n",
    "s_h = samp.subset_by_value('is_c', eq=True)\\\n",
    "    .subset_by_value('m_mean200', lo=m_lb, hi=m_ub)\\\n",
    "    .subset_by_value('last_sat_z', lo=15.)\n",
    "    \n",
    "n = s_h.n_objs\n",
    "rng = Rng(0)\n",
    "sel = rng.choice(n, 4096*2, replace=False)\n",
    "s_h = s_h.subset(sel)"
   ]
  },
  {
   "cell_type": "code",
   "execution_count": null,
   "metadata": {},
   "outputs": [],
   "source": [
    "model = SIDMDriver(s_h)\n",
    "model.require_rho0()"
   ]
  },
  {
   "cell_type": "code",
   "execution_count": null,
   "metadata": {},
   "outputs": [],
   "source": [
    "model_noada = SIDMDriver(s_h, ada_model=None)\n",
    "model_noada.require_rho0()"
   ]
  },
  {
   "cell_type": "code",
   "execution_count": null,
   "metadata": {},
   "outputs": [],
   "source": [
    "model_no_sidmb = SIDMDriver(s_h, sidm_with_b=False)\n",
    "model_no_sidmb.require_rho0()"
   ]
  },
  {
   "cell_type": "code",
   "execution_count": null,
   "metadata": {},
   "outputs": [],
   "source": [
    "model_no_b = SIDMDriver(s_h, sidm_with_b=False, ada_model=None)\n",
    "model_no_b.require_rho0()"
   ]
  },
  {
   "cell_type": "code",
   "execution_count": null,
   "metadata": {},
   "outputs": [],
   "source": [
    "model_01 = SIDMDriver(s_h, sigma_in_cm2perg=0.1)\n",
    "model_01.require_rho0()"
   ]
  },
  {
   "cell_type": "code",
   "execution_count": null,
   "metadata": {},
   "outputs": [],
   "source": [
    "model_10 = SIDMDriver(s_h, sigma_in_cm2perg=1.0)\n",
    "model_10.require_rho0()"
   ]
  },
  {
   "cell_type": "code",
   "execution_count": null,
   "metadata": {},
   "outputs": [],
   "source": [
    "def _sum_1(x, y, z):\n",
    "    X = np.column_stack([x, y])\n",
    "    X_mean, X_sd = X.mean(0), np.std(X, axis=0)\n",
    "    X_sc = (X - X_mean) / X_sd\n",
    "    z_p = stats.KernelRegressionND.by_knn(X_sc, z, X_sc, k=64)['y'][0]\n",
    "    \n",
    "    y_lo, y_hi = np.quantile(y, [.01, .99])\n",
    "    y_p = np.linspace(y_lo, y_hi, 64)\n",
    "    x_p, el, eh = stats.KernelRegression1D.by_local_kernel(y, x, y_p, reduce='errorbar')['y'][0].T\n",
    "    \n",
    "    x_lo, x_hi = np.quantile(x, [.01, .99])\n",
    "    x_p2 = np.linspace(x_lo, x_hi, 64)\n",
    "    y_p2, el2, eh2 = stats.KernelRegression1D.by_local_kernel(x, y, x_p2, reduce='errorbar')['y'][0].T\n",
    "    \n",
    "    return DataDict({\n",
    "        'x': x, 'y': y, 'z': z, 'z_p': z_p, \n",
    "        'x_p': x_p, 'y_p': y_p, 'el': el, 'eh': eh,\n",
    "        'x_p2': x_p2, 'y_p2': y_p2, 'el2': el2, 'eh2': eh2,\n",
    "    })\n",
    "    \n",
    "def sum_sidm(model: SIDMDriver):\n",
    "    r1, R_eff, S, rho0 = model.data['r1', 'R_eff', 'S', 'rho0']\n",
    "    z_f = s_h.objs['z_half']\n",
    "\n",
    "    r1 = r1 * model.u_l * 1.0e-3\n",
    "    R_eff = R_eff * model.u_l * 1.0e-3\n",
    "    rho0 = rho0 * model.u_m / model.u_l**3 * 1.0e9\n",
    "    lrho0 = np.log10(rho0)\n",
    "    lS = np.log10(S)\n",
    "    \n",
    "    out = []\n",
    "    for i_x, x in enumerate([z_f, R_eff, lS]):\n",
    "        y, z = r1, lrho0\n",
    "        out.append(_sum_1(x, y, z)) \n",
    "        \n",
    "    return out"
   ]
  },
  {
   "cell_type": "code",
   "execution_count": null,
   "metadata": {},
   "outputs": [],
   "source": [
    "d_sidms = {\n",
    "    'all': sum_sidm(model),\n",
    "    'no_adam': sum_sidm(model_noada),\n",
    "    'no_sidmb': sum_sidm(model_no_sidmb),\n",
    "    'no_b': sum_sidm(model_no_b),\n",
    "    '0.1': sum_sidm(model_01),\n",
    "    '1.0': sum_sidm(model_10),\n",
    "}"
   ]
  },
  {
   "cell_type": "code",
   "execution_count": null,
   "metadata": {},
   "outputs": [],
   "source": [
    "obs_catalogs.tot_dwarfs.s_massive"
   ]
  },
  {
   "cell_type": "code",
   "execution_count": null,
   "metadata": {},
   "outputs": [],
   "source": [
    "fig, ax = plot.subplots(1, figsize=(6., 5.), margin=[0.1, 0.1, 0.1, 0.1], layout='none')\n",
    "\n",
    "\n",
    "mods = model, model_no_b, model_noada, model_no_sidmb, model_01, model_10\n",
    "lws = 3, 2,2,1.5,2,2\n",
    "lss = '-', (0,(1,1)), (0,(3,2)), '-', (0,(1,1)), (0,(3,2))\n",
    "cs = 'k', 'r', 'r', 'r', 'b', 'b'\n",
    "for i_mod, mod in enumerate(mods):\n",
    "    r1, R_eff = mod.data['r1', 'R_eff']\n",
    "    r1 = r1 * model.u_l * 1.0e-3\n",
    "    R_eff = R_eff * model.u_l * 1.0e-3\n",
    "    \n",
    "    lr1, lr_e = np.log10(r1), np.log10(R_eff)    \n",
    "    h, e = np.histogram(lr1, range=(-0.75, 1.), bins=32, density=True)\n",
    "    c = .5 * (e[:-1] + e[1:])\n",
    "    ax.plot(c, h, lw=lws[i_mod], ls=lss[i_mod], c=cs[i_mod])\n",
    "    \n",
    "r_e = obs_catalogs.tot_dwarfs.s_massive['r_50']\n",
    "lr_e = Num.safe_lg(r_e)\n",
    "\n",
    "h, e = np.histogram(lr_e, range=(-0.75, 1.), bins=32, density=True)\n",
    "c = .5 * (e[:-1] + e[1:])\n",
    "ax.plot(c, h, lw=3, c='grey', label=r'$\\rm Dwarfs\\ r_{\\rm e}\\,(Complete)$')\n",
    "    \n",
    "ax.scale(y='log').lim([-0.75, 1.], [1.0e-2, 10.])\\\n",
    "    .label(r'\\log\\, r_{c}\\,[{\\rm kpc}]', r'\\rm PDF')\\\n",
    "    .leg(loc='ul')"
   ]
  },
  {
   "cell_type": "code",
   "execution_count": null,
   "metadata": {},
   "outputs": [],
   "source": [
    "fig, axs = plot.subplots((1,3), share=(False, True),\n",
    "    space=0.03, subsize=(4.75, 4.5), \n",
    "    margin=[0.02, 0.02, 0.14, 0.035], layout='none')\n",
    "\n",
    "axs_f = axs.flat\n",
    "\n",
    "scat_kw = dict(rasterized=True)\n",
    "\n",
    "axs.fmt_marker(elw=0, fa=1)\n",
    "x_labs = r'z_{\\rm f}', r'R_{\\rm eff}\\,[{\\rm kpc}]', r'\\log\\,\\Sigma_*\\,[{\\rm M_\\odot\\,pc^{-2}}]'\n",
    "x_lims = [-0.1, 3.9], [-.3, 5.75], [.3, 2.75]\n",
    "\n",
    "lws = 2,2,1.5\n",
    "lss = (0,(1,1)), (0,(3,2)), '-'\n",
    "labs = r'$\\rm No\\ baryon\\ effect$', r'$\\rm +\\rho_{\\rm b}\\ in\\ Poisson$', r'$\\rm +Adiabatic\\ contraction$'\n",
    "for i_k, k in enumerate(['no_b', 'no_adam', 'no_sidmb']):\n",
    "    for i_x, d in enumerate(d_sidms[k]):\n",
    "        ax = axs_f[i_x]\n",
    "        lab = labs[i_k] if i_x == 1 else None\n",
    "        # x_p, y_p, el, eh = d['x_p', 'y_p', 'el', 'eh']\n",
    "        # ax.plot(x_p, y_p, c='r', lw=lws[i_k], ls=lss[i_k], alpha=1, zorder=3, label=lab)\n",
    "        x_p, y_p, el, eh = d['x_p2', 'y_p2', 'el2', 'eh2']\n",
    "        ax.plot(x_p, y_p, c='r', lw=lws[i_k], ls=lss[i_k], alpha=1, zorder=3, label=lab)\n",
    "        \n",
    "lws = 2,2\n",
    "lss = (0,(1,1)), (0,(3,2))\n",
    "labs = r'$\\sigma_{\\rm m}=0.1\\,{\\rm cm^2/g}$', r'$\\sigma_{\\rm m}=1.0\\,{\\rm cm^2/g}$'\n",
    "for i_k, k in enumerate(['0.1', '1.0']):\n",
    "    for i_x, d in enumerate(d_sidms[k]):\n",
    "        ax = axs_f[i_x]\n",
    "        lab = labs[i_k] if i_x == 2 else None\n",
    "        #x_p, y_p, el, eh = d['x_p', 'y_p', 'el', 'eh']\n",
    "        #ax.plot(x_p, y_p, c='b', lw=lws[i_k], ls=lss[i_k], alpha=1, zorder=3, label=lab)\n",
    "        x_p, y_p, el, eh = d['x_p2', 'y_p2', 'el2', 'eh2']\n",
    "        ax.plot(x_p, y_p, c='b', lw=lws[i_k], ls=lss[i_k], alpha=1, zorder=3, label=lab)\n",
    "    \n",
    "for i_x, d in enumerate(d_sidms['all']):\n",
    "    ax = axs_f[i_x]\n",
    "    \n",
    "    x, y, z_p = d['x', 'y', 'z_p']\n",
    "    norm = plot.abc.mpl.colors.Normalize(7.8, 8.8)\n",
    "    cb = ax.scatter(x, y, **scat_kw, zorder=-1, c=z_p, s=25,\n",
    "                    norm=norm, cmap='Greens').last_draw\n",
    "    ax.scatter(x, y, **scat_kw, zorder=-2, c='k', s=35)\n",
    "    \n",
    "    #x_p, y_p, el, eh = d['x_p', 'y_p', 'el', 'eh']\n",
    "    #ax.c('k')\n",
    "    #lab = r'${\\rm SIDM}\\,(\\sigma_{\\rm m}=0.5\\,{\\rm cm^2/g})$' if i_x == 0 else None\n",
    "    #ax.plot(x_p, y_p, lw=4, zorder=4, label=lab)\n",
    "    #ax.plot(x_p-el, y_p, lw=1, zorder=4)\n",
    "    #ax.plot(x_p+eh, y_p, lw=1, zorder=4)\n",
    "    #ax._raw.fill_betweenx(y_p, x_p-el, x_p+eh, alpha=.25, zorder=2)\n",
    "\n",
    "    x_p, y_p, el, eh = d['x_p2', 'y_p2', 'el2', 'eh2']\n",
    "    ax.c('k')\n",
    "    lab = r'${\\rm SIDM}\\,(\\sigma_{\\rm m}=0.5\\,{\\rm cm^2/g})$' if i_x == 0 else None\n",
    "    ax.plot(x_p, y_p, lw=4, zorder=4, label=lab)\n",
    "    ax.plot(x_p, y_p-el, lw=1, zorder=4)\n",
    "    ax.plot(x_p, y_p+eh, lw=1, zorder=4)\n",
    "    ax._raw.fill_between(x_p, y_p-el, y_p+eh, alpha=.25, zorder=2)\n",
    "    \n",
    "    ax.lim(x_lims[i_x], [-.3, 5.75]).label(x_labs[i_x], r'r_{\\rm c}\\,[{\\rm kpc}]')\n",
    "\n",
    "fig.colorbar(cb, ax=axs, \n",
    "             label=r'$\\log\\, \\rho_0\\,[{\\rm M_\\odot\\,kpc^{-3}}]$', \n",
    "             aspect=30, fraction=.05, pad=.003)\n",
    "x = [-1, 20]\n",
    "y = x \n",
    "axs_f[1].plot(x, y, c='k', lw=1., zorder=-10)\n",
    "axs.label_outer()\n",
    "\n",
    "kw = dict(labelcolor='linecolor', fontsize=12.5, handlelength=2.)\n",
    "axs_f[0].leg(loc='lr', **kw)\n",
    "axs_f[1].leg(loc='lr', **kw)\n",
    "axs_f[2].leg(loc='ll', **kw)\n",
    "\n",
    "# ProjPaths.save_fig('fig_sidm_pred.pdf')"
   ]
  },
  {
   "cell_type": "markdown",
   "metadata": {},
   "source": [
    "### c - z_f relation"
   ]
  },
  {
   "cell_type": "code",
   "execution_count": null,
   "metadata": {},
   "outputs": [],
   "source": [
    "sim_info = sims.predefined['tng_dark_300_1']\n",
    "pdata = ProjPaths.sim_dir_of(sim_info) / 'z0_all_postprocessed.hdf5'\n",
    "man_kw = {'add_rsd': True, 'dmo': True}\n",
    "\n",
    "sman = SubSampleManager(sim_info, pdata, **man_kw)"
   ]
  },
  {
   "cell_type": "code",
   "execution_count": null,
   "metadata": {},
   "outputs": [],
   "source": [
    "c, zh = sman.s_dwarf['c', 'z_half']"
   ]
  },
  {
   "cell_type": "code",
   "execution_count": null,
   "metadata": {},
   "outputs": [],
   "source": [
    "fig, ax = plot.subplots(1, figsize=4.5, margin=[0.1, 0.1, 0.1, 0.1], layout='none')\n",
    "\n",
    "ax.scatter(zh, c)\n",
    "zp = np.linspace(0., 5., 32)\n",
    "cp = stats.KernelRegression1D.by_local_kernel(zh, c, zp, max_dx=.1, reduce='median')['y'][0]\n",
    "\n",
    "ax.plot(zp, cp, c='r', lw=2.5)"
   ]
  },
  {
   "cell_type": "code",
   "execution_count": null,
   "metadata": {},
   "outputs": [],
   "source": [
    "p_data = ProjPaths.sim_dir_of(sim_info) / 'data_tables' / 'z_half2c_dwarfs.json'\n",
    "Json.dump_file({\n",
    "    'z_half': zp, 'c': cp,\n",
    "}, p_data, indent=2)"
   ]
  },
  {
   "cell_type": "markdown",
   "metadata": {},
   "source": [
    "### Bias vs halo property"
   ]
  },
  {
   "cell_type": "markdown",
   "metadata": {},
   "source": [
    "Some trials"
   ]
  },
  {
   "cell_type": "code",
   "execution_count": null,
   "metadata": {},
   "outputs": [],
   "source": [
    "pdata = ProjPaths.sim_dir_of(sim_info) / 'z0_all_postprocessed.hdf5'\n",
    "man_kw = {\n",
    "    'add_rsd': True, \n",
    "    'dmo': True,\n",
    "    'm_h_range_in_sol': [10**10.745, 10**10.755],\n",
    "    'm_h_ref_lb': 10**10.5,\n",
    "}\n",
    "sman = SubSampleManager(sim_info, pdata, **man_kw)\n",
    "sman.s_dwarf"
   ]
  },
  {
   "cell_type": "code",
   "execution_count": null,
   "metadata": {},
   "outputs": [],
   "source": [
    "ps = 1.0 - np.logspace(0., -3., 32)\n",
    "ps = np.concatenate([ps, [1.0]])\n",
    "print(ps)\n",
    "wp = gal_wp.WpVsProp(sman, ps=ps, n_reps=10)"
   ]
  },
  {
   "cell_type": "code",
   "execution_count": null,
   "metadata": {},
   "outputs": [],
   "source": [
    "wp.run()\n",
    "wp.summary()\n",
    "wp.wps"
   ]
  },
  {
   "cell_type": "code",
   "execution_count": null,
   "metadata": {},
   "outputs": [],
   "source": [
    "d_in = ProjPaths.sim_dir_of(sim_info) / 'wp_vs_prop'\n",
    "outs = Json.load_file(d_in/'tng_dark_300_1_z_half.json', parse=False) + \\\n",
    "    Json.load_file(d_in/'tng_dark_300_1_z_half_mh-high.json', parse=False)"
   ]
  },
  {
   "cell_type": "markdown",
   "metadata": {},
   "source": [
    "From Ziwen: \n",
    "\n",
    "所有样本的红移都是 < 0.025\n",
    "\n",
    "然后用这些样本(p%)的成团性 / compact dwarf 的成团性，并在 2-10 Mpc/h 的范围内拟合出 relative bias。\n",
    "p=5, 10, 20, 25, 100\n",
    "\n",
    "在数据中，第一列代表是 relative bias 的值，第二列是向下的误差，第三列是向上的误差。"
   ]
  },
  {
   "cell_type": "code",
   "execution_count": null,
   "metadata": {},
   "outputs": [],
   "source": [
    "# z < 0.025, all halos\n",
    "#d_obs = np.array( [[0.05, 2.23642895469386, 0.2663679438783164, 0.2678282379958272,],\n",
    "#[0.1, 1.6993961151798982, 0.19360213711139962, 0.19180111810986644,],\n",
    "#[0.2, 1.567316629158932, 0.1784526765909622, 0.17588837697628823,],\n",
    "#[0.25, 1.6042531792508226, 0.16490115899612268, 0.16770357652826884,],\n",
    "#[1., 1.3240592698755504, 0.09927722755607515, 0.09779923960316461,]])\n",
    "\n",
    "# z < 0.04, massive dwarf with M_* = 10^{8.5-9} Msun\n",
    "d_obs = np.array(\n",
    "[\n",
    "[2.5/100.0, 2.423472572866024, 0.25756286102913784, 0.2599523742102381],\n",
    "[10/100.0, 1.739430133386184, 0.1191584230966738, 0.12209993713811373],\n",
    "#[20/100.0, 1.5781420528462617, 0.11252922681410715, 0.11011750841174694],\n",
    "[25/100.0, 1.5360601548401411, 0.10454498808989388, 0.10554346878574306],\n",
    "[50/100.0, 1.3570793923244775, 0.07830968863516885, 0.07771558495622499],\n",
    "[100/100.0, 1.2036625675575139, 0.05912973032857782, 0.060003700546162],\n",
    "])"
   ]
  },
  {
   "cell_type": "code",
   "execution_count": null,
   "metadata": {},
   "outputs": [],
   "source": [
    "fig, axs = plot.subplots((2,1), share=(True, False),\n",
    "    space=0.03, subsize=(6., 3.0), \n",
    "    margin=[0.02, 0.02, 0.09, 0.135], layout='none',\n",
    "    ratios=(None, [2, 1.]))\n",
    "axs_f = axs.flat\n",
    "\n",
    "cs = 'k', 'grey'\n",
    "labels = r'$\\rm M_{\\rm h}=10^{10.5-11}\\,{\\rm M}_\\odot$',\\\n",
    "    r'$\\rm M_{\\rm h}=10^{10.9-11.1}\\,{\\rm M}_\\odot$'\n",
    "\n",
    "for i_out, out in enumerate(outs):\n",
    "    ax = axs_f[0]\n",
    "    wps = np.array(out['wps']) \n",
    "    y, y_sd = wps.mean(0), wps.std(0)\n",
    "    y, y_sd = y / y[-1], y_sd / y[-1]\n",
    "    \n",
    "    x = out['cum_ps']\n",
    "    x2 = out['qs'] \n",
    "    p2q = interp1d(x, x2, kind='slinear')\n",
    "\n",
    "    ax.c(cs[i_out])\n",
    "    ax.errorfill(x, y, yerr=y_sd, lw=2.5, fill_between_kw={'lw': 0., 'alpha': 0.5})\n",
    "\n",
    "    ax = axs_f[1]\n",
    "    ax.c(cs[i_out])\n",
    "    ax.plot(x, x2, \n",
    "        label=labels[i_out])\n",
    "    \n",
    "ax = axs_f[0]\n",
    "\n",
    "x, y, el, eh = d_obs.T\n",
    "y = y / y[-1]\n",
    "x2 = p2q(x)\n",
    "axs.c('b').fmt_marker(elw=2, s=8)\n",
    "ax.errorbar(x[[0]], y[[0]], yerr=[el[[0]], eh[[0]]], lw=0, capsize=1.5,\n",
    "            marker='s', label=r'$\\Sigma_{\\rm *,thres} = 7\\,{\\rm M}_\\odot\\,pc^{-2}$')\n",
    "axs.c('green')\n",
    "ax.errorbar(x[1:], y[1:], yerr=[el[1:], eh[1:]], lw=0, capsize=1.5,\n",
    "            marker='s', label=r'$\\rm {\\rm Varied\\ } \\Sigma_{\\rm *,thres}$')\n",
    "\n",
    "#axs.c('k')\n",
    "#for i in range(len(x2)):\n",
    "#    ax = axs_f[0]\n",
    "#    ax.plot((x2[i],)*2, [-10., 2.], lw=1, ls='--', )\n",
    "#    ax = axs_f[1]\n",
    "#    ax.plot((x2[i],)*2, [0.01, 1.2], lw=1, ls='--', )\n",
    "\n",
    "leg_kw = dict(labelcolor='linecolor', handlelength=1.0, numpoints=1, \n",
    "              fontsize=12, title_fontsize=12)\n",
    "ax = axs_f[0]\n",
    "ax.scale('log').lim([3.0e-3, 1.25], [0.9, 2.75])\\\n",
    "    .label(y=r'{\\rm Relative\\ bias}')\\\n",
    "    .leg(**leg_kw,\n",
    "        title=r'$\\rm Dwarfs\\,(M_*=10^{8.5 - 9}\\,{\\rm M}_\\odot\\,,z \\leqslant 0.04)$')\n",
    "\n",
    "ax = axs_f[1]    \n",
    "ax.scale('log').lim(y=[0.25, 3.75])\\\n",
    "    .label(r'{\\rm Fraction\\ of\\ }z_{\\rm f} > z_{\\rm f, thres}\\ {\\rm or}\\ \\Sigma_* < \\Sigma_{\\rm *,thres}', r'z_{\\rm f,thres}')\\\n",
    "    .leg(loc=(0.05, 1.1), **leg_kw, title=r'$\\rm Simulated\\ halos$')\n",
    "    \n",
    "#ProjPaths.save_fig('fig_rel_bias_vs_zf_vs_obs.pdf')"
   ]
  },
  {
   "cell_type": "code",
   "execution_count": null,
   "metadata": {},
   "outputs": [],
   "source": [
    "from scipy.interpolate import interp1d"
   ]
  },
  {
   "cell_type": "code",
   "execution_count": null,
   "metadata": {},
   "outputs": [],
   "source": [
    "y, y_sd = out.mean(0), out.std(0)\n",
    "y, y_sd = y / y[-1], y_sd / y[-1]\n",
    "x = 1.0 - np.array(d_run['ps'])[:-1][::-1]\n",
    "# x2 = -np.quantile(-sman.s_dwarf['z_half'], x) "
   ]
  },
  {
   "cell_type": "code",
   "execution_count": null,
   "metadata": {},
   "outputs": [],
   "source": [
    "fig, ax = plot.subplots(1, figsize=(6., 5.), margin=[0.1, 0.1, 0.1, 0.1], layout='none')\n",
    "\n",
    "ax.errorbar(x, y, yerr=y_sd, capsize=0, elinewidth=1.5, lw=3.5)\n",
    "\n",
    "ax.scale('log').lim([1e-3, 1.], [0.9, 3.0])\\\n",
    "    .label(r'p', r'{\\rm Relative\\ bias\\ for\\ }\\,\\mathcal{P}(z_{\\rm f}) > 1-p')\n",
    "    \n",
    "fn = interp1d(x2[::-1], x[::-1], kind='linear', fill_value='extrapolate')\n",
    "x_tks = fn([1, 1.5, 2, 2.5, 3, 3.5])\n",
    "for i_x, x_tk in enumerate(x_tks):\n",
    "    ax.plot([x_tk, x_tk], [0., 3.0], c=cs_set2[0], ls='-', lw=1.5, alpha=.75)"
   ]
  },
  {
   "cell_type": "markdown",
   "metadata": {},
   "source": [
    "## 2PCF with abundance matching"
   ]
  },
  {
   "cell_type": "code",
   "execution_count": null,
   "metadata": {},
   "outputs": [],
   "source": [
    "pdata = ProjPaths.sim_dir_of(sim_info) / 'z0_all_postprocessed.hdf5'\n",
    "man_kw = {\n",
    "    'add_rsd': True, \n",
    "    'dmo': True,\n",
    "    'm_h_range_in_sol': [10**10.75, 10**10.85],\n",
    "    #'m_h_range_in_sol': [10**10.745, 10**10.755],\n",
    "    #'m_h_range_in_sol': (10**10.9, 10**11.1)\n",
    "    #'m_h_range_in_sol': (10**10.49, 10**10.51),\n",
    "    'm_h_ref_lb': 10**10.5,\n",
    "}\n",
    "sman = SubSampleManager(sim_info, pdata, **man_kw)\n",
    "sman.s_dwarf"
   ]
  },
  {
   "cell_type": "code",
   "execution_count": null,
   "metadata": {},
   "outputs": [],
   "source": [
    "def take_wps_rel(d_in: DataDict, d_rel: DataDict):\n",
    "    wp_rel = d_in['wp_samples'] / d_rel['wp_samples']\n",
    "    assert wp_rel.shape[1] == 1\n",
    "    wp_rel = wp_rel[:, 0]\n",
    "    y, yl, yh = np.median(wp_rel), np.quantile(wp_rel, 0.16), np.quantile(wp_rel, 0.84)\n",
    "    yel, yeh = y - yl, yh - y\n",
    "    x, (xl, xh) = d_in['sub_sample']['median', '1sigma']\n",
    "    xel, xeh = x - xl, xh - x\n",
    "    return x, y, yel, yeh\n",
    "\n",
    "def take_wps_rels(d_ins: DataDict, d_rel: DataDict = None):\n",
    "    n_ds = len(d_ins)\n",
    "    if d_rel is None:\n",
    "        d_rel = d_ins[str(n_ds-1)]\n",
    "    wp_rel = []\n",
    "    for i in range(n_ds):\n",
    "        wp_rel.append(take_wps_rel(d_ins[str(i)], d_rel))\n",
    "    wp_rel = np.array(wp_rel)\n",
    "    return wp_rel\n",
    "\n",
    "ps = np.cumsum([0.02467638, 0.23220065, 0.25970874, 0.48341424])\n",
    "ps[-1] = 1.\n",
    "ps = np.concatenate([[0.], ps])\n",
    "ps_obs = ps\n",
    "\n",
    "ps_fine = np.array([0.0, 0.02, 0.04, 0.06, 0.08, 0.14, 0.2, 0.3, 0.4, 0.6, 0.7, 0.8, 0.9, 1.0])\n",
    "\n",
    "ps_list = {\n",
    "    'obs_bin': ps_obs,\n",
    "    'fine_bin': ps_fine,\n",
    "}"
   ]
  },
  {
   "cell_type": "code",
   "execution_count": null,
   "metadata": {},
   "outputs": [],
   "source": [
    "wp_kw = {'pimax': 40., 'n_repeat': 25, 'rs': np.array([2., 10.]),\n",
    "         'bootstrap_kw': {'keep_samples': True}}\n",
    "sim_cross = SimCross(sman)"
   ]
  },
  {
   "cell_type": "code",
   "execution_count": null,
   "metadata": {},
   "outputs": [],
   "source": [
    "#prop_pref = 'Sigma_star_SIDM_lm10p75-10p85'\n",
    "prop_pref = 'spin_mean200'\n",
    "\n",
    "prop_key = f'{prop_pref}'\n",
    "vals = sman.s_dwarf.objs[prop_key]\n",
    "print(prop_key, vals.min(), vals.max())\n",
    "\n",
    "o_data = {\n",
    "    k: sim_cross.wps_of('s_dwarf', prop_key, ps = ps, **wp_kw) \n",
    "    for k, ps in ps_list.items()\n",
    "}\n",
    "o_path = ProjPaths.sim_dir_of(sim_info) / f'wp/am/{prop_key}.hdf5'\n",
    "Json.dump_file(o_data, o_path, indent=2)"
   ]
  },
  {
   "cell_type": "code",
   "execution_count": null,
   "metadata": {},
   "outputs": [],
   "source": [
    "wps = sim_cross.wps_of('s_dwarf', 'S_pred_massive', ps = ps, **wp_kw)\n",
    "ofile = 'wp/S-matched.json'\n",
    "ofile = 'wp/S-matched-obsbin.json'\n",
    "path = ProjPaths.sim_dir_of(sim_info) / ofile\n",
    "Json.dump_file(wps, path, indent=2)"
   ]
  },
  {
   "cell_type": "code",
   "execution_count": null,
   "metadata": {},
   "outputs": [],
   "source": [
    "#samp_k = 'lm10p75'\n",
    "samp_k = 'lm10p5'\n",
    "for prop_k in 'z_half', 'c_mean200':\n",
    "    comb_key = f'S_pred_{samp_k}_{prop_k}'\n",
    "    wps = sim_cross.wps_of('s_dwarf', comb_key, ps = ps_obs, **wp_kw)\n",
    "    Json.dump_file(wps, ProjPaths.sim_dir_of(sim_info) / f'wp/by_{comb_key}-obsbin.json', indent=2)"
   ]
  },
  {
   "cell_type": "code",
   "execution_count": null,
   "metadata": {},
   "outputs": [],
   "source": [
    "for k in 'lm10p75_sidm_S0p5', 'lm10p75_sidm_S1', 'lm10p75_sidm_S2':\n",
    "    wps = sim_cross.wps_of('s_dwarf', f'S_pred_{k}', \n",
    "                           ps = ps_obs, **wp_kw)\n",
    "    Json.dump_file(wps, ProjPaths.sim_dir_of(sim_info) / f'wp/by_S_pred_{k}-obsbin.json', indent=2)"
   ]
  },
  {
   "cell_type": "code",
   "execution_count": null,
   "metadata": {},
   "outputs": [],
   "source": [
    "for k in '0.1', '0.2', '0.3', '0.5', '1.0', '2.0':\n",
    "    #wps = sim_cross.wps_of('s_dwarf', f'S_pred_massive_rn{k}', ps = ps, **wp_kw)\n",
    "    #Json.dump_file(wps, ProjPaths.sim_dir_of(sim_info) / f'wp/S-matched_rn{k}.json', indent=2)\n",
    "    \n",
    "    wps = sim_cross.wps_of('s_dwarf', f'S_pred_massive_rn{k}', ps = ps_obs[-2:], **wp_kw)\n",
    "    Json.dump_file(wps, ProjPaths.sim_dir_of(sim_info) / f'wp/S-matched_rn{k}-obsbin.json', indent=2)"
   ]
  },
  {
   "cell_type": "code",
   "execution_count": null,
   "metadata": {},
   "outputs": [],
   "source": [
    "for k in '0.1', '0.2', '0.3', '0.5', '1.0', '2.0':\n",
    "    r1_key = f'r1_sigma0.1_rn{k}'\n",
    "    wps = sim_cross.wps_of('s_dwarf', f'S_pred_massive_{r1_key}', ps = ps, **wp_kw)\n",
    "    Json.dump_file(wps, ProjPaths.sim_dir_of(sim_info) / f'wp/S-matched_{r1_key}.json', indent=2)\n",
    "    \n",
    "    wps = sim_cross.wps_of('s_dwarf', f'S_pred_massive_{r1_key}', ps = ps_obs[-2:], **wp_kw)\n",
    "    Json.dump_file(wps, ProjPaths.sim_dir_of(sim_info) / f'wp/S-matched_{r1_key}-obsbin.json', indent=2)"
   ]
  },
  {
   "cell_type": "code",
   "execution_count": null,
   "metadata": {},
   "outputs": [],
   "source": [
    "for sidm_s in [\n",
    "    0.01, \n",
    "    0.1, \n",
    "    0.2, 1.0, 5.0, 10.0, 100.0\n",
    "    ]:\n",
    "    r1_key = f'r1_sigma{sidm_s:.1f}'\n",
    "    key = f'S_pred_massive_{r1_key}'\n",
    "    wps = sim_cross.wps_of('s_dwarf', key, ps = ps, **wp_kw)\n",
    "    Json.dump_file(wps, ProjPaths.sim_dir_of(sim_info) / f'wp/S-matched_{r1_key}.json', indent=2)\n",
    "    \n",
    "    wps = sim_cross.wps_of('s_dwarf', key, ps = ps_obs, **wp_kw)\n",
    "    Json.dump_file(wps, ProjPaths.sim_dir_of(sim_info) / f'wp/S-matched_{r1_key}-obsbin.json', indent=2)"
   ]
  },
  {
   "cell_type": "code",
   "execution_count": null,
   "metadata": {},
   "outputs": [],
   "source": [
    "wps = DataDict()\n",
    "\n",
    "for prop_key in 'Sigma_star_SIDM_lm10p75-10p85', 'spin_mean200':\n",
    "    d_in = Json.load_file(ProjPaths.sim_dir_of(sim_info) / f'wp/am/{prop_key}.hdf5')\n",
    "    wps[prop_key] = {\n",
    "        'fine_bin': take_wps_rels(d_in['fine_bin'], d_in['obs_bin/3']),\n",
    "        'obs_bin': take_wps_rels(d_in['obs_bin'])\n",
    "    }\n",
    "\n",
    "wps['tng'] = take_wps_rels(Json.load_file(ProjPaths.sim_dir_of(sims.predefined['tng']) / 'wp/ms8.5-9_r2-10.json')['dwarfs/S'])\n",
    "wps['lgal'] = take_wps_rels(Json.load_file(ProjPaths.sim_dir_of(sims.predefined['millennium_2_scaled_wmap7']) / 'wp/ms8.5-9_r2-10.json')['dwarfs/S'])\n",
    "\n",
    "wps['obs'] = np.array([\n",
    "    [6.2,    2.4, 0.28, 0.28,],\n",
    "    [11.37,  1.44, 0.1, 0.1,],\n",
    "    [19.33,  1.29, 0.09, 0.09,],\n",
    "    [42.37, 1.0, 0.0, 0.0,],\n",
    "])"
   ]
  },
  {
   "cell_type": "code",
   "execution_count": null,
   "metadata": {},
   "outputs": [],
   "source": [
    "fig, ax = plot.subplots((1,1), share=(True, False),\n",
    "    space=0.03, subsize=(6.5, 5.), \n",
    "    margin=[0.02, 0.125, 0.1, 0.135], layout='none')\n",
    "\n",
    "\n",
    "mss = 8,7,7\n",
    "cs = cs_dark2[1], cs_dark2[0], cs_dark2[2]\n",
    "lws = .75, 2., 2.\n",
    "labs = r'$\\rm Observation$', r'$\\rm TNG$', r'$\\rm L$-$\\rm Galaxies$'\n",
    "mks =   'o', 's', 's'\n",
    "for i, k in enumerate(('obs', 'tng', 'lgal')):\n",
    "\n",
    "    x, y, el, eh = wps[k].T\n",
    "    ax.c(cs[i]).errorbar(x, y, yerr=(el, eh), lw=lws[i], marker=mks[i], \n",
    "                           mew=2, ms=mss[i], capsize=0, elinewidth=1.5, \n",
    "                           label=labs[i], zorder=10)\n",
    "    \n",
    "cs = 'k', 'grey'\n",
    "labs = r'$\\rm Disk\\ model\\ with\\ SIDM$', r'\\rm Spin'\n",
    "for i, k in enumerate(('Sigma_star_SIDM_lm10p75-10p85', 'spin_mean200')):    \n",
    "    ax.c(cs[i])\n",
    "    if i == 0:\n",
    "        x, y, el, eh = wps[f'{k}/obs_bin'].T\n",
    "        ax.errorbar(x, y, yerr=(el, eh), lw=0, marker='s', \n",
    "                            mew=2, ms=9, capsize=0, elinewidth=.5,\n",
    "                            label=labs[i], zorder=9)\n",
    "        x, y, el, eh = wps[f'{k}/fine_bin'].T\n",
    "        ax.errorfill(x, y, yerr=(el, eh), lw=1., ls='-',\n",
    "                    fill_between_kw={'lw': 0., 'alpha': .2}, zorder=9\n",
    "                    )\n",
    "    \n",
    "ax.scale(x='log').lim([10**0.35, 1.0e2], [0.55, 2.75])\n",
    "ax.label(r'\\Sigma_*\\,[{\\rm M}_\\odot\\,{\\rm pc}^{-2}]', r'{\\rm Relative\\ bias}')\n",
    "ax.leg(loc='ur', labelcolor='linecolor', handlelength=1.2, numpoints=1, fontsize=12.5)"
   ]
  },
  {
   "cell_type": "code",
   "execution_count": null,
   "metadata": {},
   "outputs": [],
   "source": [
    "d_wps = Json.load_file(ProjPaths.sim_dir_of(sim_info) / 'wp/S-matched.json')\n",
    "d_wps_obs_bin = Json.load_file(ProjPaths.sim_dir_of(sim_info) / 'wp/S-matched-obsbin.json')\n",
    "\n",
    "d_wps_rns = [\n",
    "    [\n",
    "        Json.load_file(ProjPaths.sim_dir_of(sim_info) / f'wp/S-matched_rn{k}.json'),\n",
    "        Json.load_file(ProjPaths.sim_dir_of(sim_info) / f'wp/S-matched_rn{k}-obsbin.json')\n",
    "     ]\n",
    "    for k in ('0.1', '0.2', '0.3', '0.5', '1.0')\n",
    "]\n",
    "d_wps_r1s = [\n",
    "    [\n",
    "        Json.load_file(ProjPaths.sim_dir_of(sim_info) / f'wp/S-matched_r1_sigma{sidm_s:.1f}.json'),\n",
    "        Json.load_file(ProjPaths.sim_dir_of(sim_info) / f'wp/S-matched_r1_sigma{sidm_s:.1f}-obsbin.json')\n",
    "     ]\n",
    "    for sidm_s in [\n",
    "    #0.01, \n",
    "    0.1, \n",
    "    0.2, 1.0, 5.0, 10.0\n",
    "    #100.0\n",
    "    ]    \n",
    "]\n",
    "d_wps_r1rns = [\n",
    "    [\n",
    "        Json.load_file(ProjPaths.sim_dir_of(sim_info) / f'wp/S-matched_r1_sigma0.1_rn{k}.json'),\n",
    "        Json.load_file(ProjPaths.sim_dir_of(sim_info) / f'wp/S-matched_r1_sigma0.1_rn{k}-obsbin.json')\n",
    "     ]\n",
    "    for k in ('0.1', '0.2', '0.3', '0.5', '1.0')\n",
    "]\n",
    "\n",
    "d_wps_tng = Json.load_file(ProjPaths.sim_dir_of(sims.predefined['tng']) / 'wp/ms8.5-9_r2-10.json')['dwarfs/S']\n",
    "d_wps_lg = Json.load_file(ProjPaths.sim_dir_of(sims.predefined['millennium_2_scaled_wmap7']) / 'wp/ms8.5-9_r2-10.json')['dwarfs/S']\n",
    "\n",
    "#'lm10p75_sidm_S0p5', 'lm10p75_sidm_S1', 'lm10p75_sidm_S2'\n",
    "d_wps_sidm_S1_obs_bin = Json.load_file(ProjPaths.sim_dir_of(sim_info) / 'wp/by_S_pred_lm10p75_sidm_S1-obsbin.json')\n",
    "\n",
    "d_wps_lm10p5_z_half = Json.load_file(ProjPaths.sim_dir_of(sim_info) / 'wp/by_S_pred_lm10p5_z_half-obsbin.json')\n",
    "d_wps_lm10p5_c_mean200 = Json.load_file(ProjPaths.sim_dir_of(sim_info) / 'wp/by_S_pred_lm10p5_c_mean200-obsbin.json')"
   ]
  },
  {
   "cell_type": "code",
   "execution_count": null,
   "metadata": {},
   "outputs": [],
   "source": [
    "def take_wps_rel(d_in: DataDict, d_rel: DataDict):\n",
    "    wp_rel = d_in['wp_samples'] / d_rel['wp_samples']\n",
    "    assert wp_rel.shape[1] == 1\n",
    "    wp_rel = wp_rel[:, 0]\n",
    "    y, yl, yh = np.median(wp_rel), np.quantile(wp_rel, 0.16), np.quantile(wp_rel, 0.84)\n",
    "    yel, yeh = y - yl, yh - y\n",
    "    x, (xl, xh) = d_in['sub_sample']['median', '1sigma']\n",
    "    xel, xeh = x - xl, xh - x\n",
    "    return x, xel, xeh, y, yel, yeh\n",
    "\n",
    "def take_wps_rels(d_ins: DataDict, d_rel: DataDict = None):\n",
    "    n_ds = len(d_ins)\n",
    "    if d_rel is None:\n",
    "        d_rel = d_ins[str(n_ds-1)]\n",
    "    wp_rel = []\n",
    "    for i in range(n_ds):\n",
    "        wp_rel.append(take_wps_rel(d_ins[str(i)], d_rel))\n",
    "    wp_rel = np.array(wp_rel)\n",
    "    return wp_rel\n",
    "    \n",
    "    \n",
    "wps_rel = take_wps_rels(d_wps, d_wps_obs_bin['3'])\n",
    "wps_rel_2 = take_wps_rels(d_wps_obs_bin)\n",
    "wps_rel_tng = take_wps_rels(d_wps_tng)\n",
    "wps_rel_lg = take_wps_rels(d_wps_lg)\n",
    "wps_rel_rns = [take_wps_rels(a, b['0']) \n",
    "               for a, b in d_wps_rns]\n",
    "wps_rel_r1s = [take_wps_rels(a, b['3']) \n",
    "               for a, b in d_wps_r1s]\n",
    "wps_rel_r1s_obs = [take_wps_rels(b, b['3']) \n",
    "               for a, b in d_wps_r1s]\n",
    "wps_rel_r1rns = [take_wps_rels(a, b['0']) \n",
    "               for a, b in d_wps_r1rns]\n",
    "\n",
    "wps_rel_obs = np.array([\n",
    "    [6.2,    2.4, 0.28, 0.28,],\n",
    "    [11.37,  1.44, 0.1, 0.1,],\n",
    "    [19.33,  1.29, 0.09, 0.09,],\n",
    "    [42.37, 1.0, 0.0, 0.0,],\n",
    "])\n",
    "\n",
    "wps_rel_sidm_S1_obs_bin = take_wps_rels(d_wps_sidm_S1_obs_bin)\n",
    "\n",
    "wps_rel_lm10p5_z_half = take_wps_rels(d_wps_lm10p5_z_half)\n",
    "wps_rel_lm10p5_c_mean200 = take_wps_rels(d_wps_lm10p5_c_mean200)"
   ]
  },
  {
   "cell_type": "code",
   "execution_count": null,
   "metadata": {},
   "outputs": [],
   "source": [
    "def interp_keys(k1='S_pred_massive', k2='z_half'):\n",
    "    S, z_f = sman.s_dwarf[k1, k2]\n",
    "    Sp = np.logspace(*np.quantile(np.log10(S), [0.001, 0.999]), 64) \n",
    "    z_f_p = interp1d(S, z_f)(Sp)\n",
    "    \n",
    "    rn = stats.RandomNoise(.001, noise_in_lg=True, rng=0)\n",
    "    x = np.sort(rn.add_to(z_f)) \n",
    "    n = len(x)\n",
    "    ps = np.arange(n) / (n-1.) * 100.\n",
    "    zf2p = interp1d(x, ps, kind='linear', fill_value='extrapolate')\n",
    "    p2zf = interp1d(ps, x, kind='linear', fill_value='extrapolate')\n",
    "    \n",
    "    return DataDict({\n",
    "        'interp': (zf2p, p2zf),\n",
    "        'x': Sp, 'y': z_f_p\n",
    "    } )\n",
    "interp_axis = interp_keys()\n",
    "interp_axis_r1 = interp_keys('S_pred_massive_r1_sigma0.1', 'r1_sigma0.1')"
   ]
  },
  {
   "cell_type": "code",
   "execution_count": null,
   "metadata": {},
   "outputs": [],
   "source": [
    "fig, ax = plot.subplots((1,1), share=(True, False),\n",
    "    space=0.03, subsize=(6.5, 5.), \n",
    "    margin=[0.02, 0.125, 0.1, 0.135], layout='none')\n",
    "\n",
    "\n",
    "x, y, el, eh = wps_rel_obs.T\n",
    "ax.c(cs_dark2[1]).errorbar(x, y, yerr=(el, eh), lw=0.75, marker='o', \n",
    "                           mew=2, ms=8, capsize=0, elinewidth=1.5, \n",
    "                           label=r'$\\rm Observation$')\n",
    "\n",
    "x, xel, xeh, y, el, eh = wps_rel_r1s[1].T\n",
    "ax.c('k').errorfill(x, y, yerr=(el, eh), lw=2, \n",
    "                    fill_between_kw={'lw': 0., 'alpha': .3})\n",
    "\n",
    "x, xel, xeh, y, el, eh = wps_rel_r1s_obs[1].T\n",
    "ax.c('k').errorbar(x, y, yerr=(el, eh), lw=0., marker='s', mew=2, ms=7, \n",
    "                   capsize=0, elinewidth=1.5,\n",
    "                   label=r'${\\rm Abundance\\ matching}\\,(r_{\\rm c})$')\n",
    "\n",
    "x, xel, xeh, y, el, eh = wps_rel_sidm_S1_obs_bin.T\n",
    "ax.c('b').errorbar(x, y, yerr=(el, eh), lw=2., marker='s', \n",
    "                           mew=2, ms=7, capsize=0, elinewidth=1.5,\n",
    "                           label='  ' +r'$(\\Sigma_{\\rm bary, 1kpc})$')\n",
    "\n",
    "x, xel, xeh, y, el, eh = wps_rel_lm10p5_z_half.T\n",
    "ax.c('r').errorbar(x, y, yerr=(el, eh), lw=2., marker='s', \n",
    "                           mew=2, ms=7, capsize=0, elinewidth=1.5,\n",
    "                           label='  ' +r'$(z_{\\rm half, 10.5})$')\n",
    "\n",
    "x, xel, xeh, y, el, eh = wps_rel_lm10p5_c_mean200.T\n",
    "ax.c('pink').errorbar(x, y, yerr=(el, eh), lw=2., marker='s', \n",
    "                           mew=2, ms=7, capsize=0, elinewidth=1.5,\n",
    "                           label='  ' +r'$(c_{10.5})$')\n",
    "\n",
    "x, xel, xeh, y, el, eh = wps_rel_tng.T\n",
    "ax.c(cs_dark2[0]).errorbar(x, y, yerr=(el, eh), lw=2., marker='s', \n",
    "                           mew=2, ms=7, capsize=0, elinewidth=1.5,\n",
    "                           label=r'$\\rm TNG$')\n",
    "\n",
    "x, xel, xeh, y, el, eh = wps_rel_lg.T\n",
    "ax.c(cs_dark2[2]).errorbar(x, y, yerr=(el, eh), lw=2., marker='s', \n",
    "                           mew=2, ms=7, capsize=0, elinewidth=1.5,\n",
    "                           label=r'$\\rm L$-$\\rm Galaxies$')\n",
    "\n",
    "ax.c('k')\n",
    "lws = np.linspace(0.5, 3.0, 7)\n",
    "for i, sidm_s in enumerate([\n",
    "    0.1, \n",
    "    0.2, 1.0, 5.0, 10.0\n",
    "    ]):\n",
    "    if i == 1:\n",
    "        continue\n",
    "    x, xel, xeh, y, el, eh = wps_rel_r1s[i].T\n",
    "    ax.plot(x, y, lw=.75, zorder=-1, ls=(0,(2,2)))\n",
    "    #ax.errorbar(x, y, yerr=(el, eh), capsize=0, \n",
    "    #            elinewidth=.5, marker='o', ms=2.5, lw=lws[i], zorder=-1)\n",
    "\n",
    "ax.c('grey')\n",
    "for i, k in enumerate(('0.1', '0.2', '0.3', '0.5', '1.0')):\n",
    "    x, xel, xeh, y, el, eh = wps_rel_r1rns[i].T\n",
    "    #ax.plot(x, y, lw=.75, alpha=.75, zorder=-1)\n",
    "    ax.errorbar(x, y, yerr=(el, eh), lw=.75, capsize=0, \n",
    "                elinewidth=.5, marker='o', ms=2.5)\n",
    "\n",
    "ax.scale(x='log').lim([10**0.35, 1.0e2], [0.75, 2.75])\n",
    "ax.label(r'\\Sigma_*\\,[{\\rm M}_\\odot\\,{\\rm pc}^{-2}]', r'{\\rm Relative\\ bias}')\n",
    "ax.leg(loc='ur', labelcolor='linecolor', handlelength=1.2, numpoints=1, fontsize=12.5)"
   ]
  },
  {
   "cell_type": "markdown",
   "metadata": {},
   "source": [
    "## 2PCF vs spin and z_f"
   ]
  },
  {
   "cell_type": "code",
   "execution_count": null,
   "metadata": {},
   "outputs": [],
   "source": [
    "pdata = ProjPaths.sim_dir_of(sim_info) / 'z0_all_postprocessed.hdf5'\n",
    "man_kw = {\n",
    "    'add_rsd': True, \n",
    "    'dmo': True,\n",
    "    'm_h_range_in_sol': (10**10.5, 10**11.),\n",
    "    'm_h_ref_lb': 10**10.5,\n",
    "}\n",
    "sman = SubSampleManager(sim_info, pdata, **man_kw)\n",
    "sman.s_dwarf"
   ]
  },
  {
   "cell_type": "code",
   "execution_count": null,
   "metadata": {},
   "outputs": [],
   "source": [
    "wp_kw = {\n",
    "    'pimax': 10., 'n_repeat': 10,\n",
    "    'bootstrap_kw': {'keep_samples': True},\n",
    "}\n",
    "sim_cross = SimCross(sman)"
   ]
  },
  {
   "cell_type": "code",
   "execution_count": null,
   "metadata": {},
   "outputs": [],
   "source": [
    "dps = [0.02467638, 0.23220065, 0.25970874, 0.48341424]\n",
    "ps = np.cumsum(dps[::-1])\n",
    "ps[-1] = 1. \n",
    "ps = np.concatenate([[0.], ps])\n",
    "\n",
    "wp_tot = sim_cross.wp_of('s_dwarf', **wp_kw)\n",
    "for k_in in 'z_half', 'spin_h':\n",
    "    o_path = sim_dir.base_dir / f'wp/dwarf_halos_lm10p5-11_by-{k_in}.json'\n",
    "    wps = sim_cross.wps_of('s_dwarf', k_in, ps=ps, **wp_kw)\n",
    "    wps['total'] = wp_tot\n",
    "    Json.dump_file(wps, o_path, indent=2)"
   ]
  },
  {
   "cell_type": "code",
   "execution_count": null,
   "metadata": {},
   "outputs": [],
   "source": [
    "lm_h_edges = [11., 12., 13., 16.]\n",
    "o_path = sim_dir.base_dir / 'wp/halos_by-M.json'\n",
    "\n",
    "u_m = 1.0e10 / sman.sim_info.cosmology.hubble\n",
    "m_h_edges = 10.0**np.array(lm_h_edges) / u_m\n",
    "wps = sim_cross.wps_of('s_halo', 'm_mean200', ps=None, qs=m_h_edges, **wp_kw)\n",
    "Json.dump_file(wps, o_path, indent=2)"
   ]
  },
  {
   "cell_type": "code",
   "execution_count": null,
   "metadata": {},
   "outputs": [],
   "source": [
    "s1 = sman.s_dwarf.subset_by_percentile('z_half', 0.00, 0.02)\n"
   ]
  },
  {
   "cell_type": "code",
   "execution_count": null,
   "metadata": {},
   "outputs": [],
   "source": [
    "wp = clustering.n2wp_periodic(pc['n_pairs'], pc['n1'], pc['n2'], pc['rs'],\n",
    "                              pc['l_box'])"
   ]
  },
  {
   "cell_type": "code",
   "execution_count": null,
   "metadata": {},
   "outputs": [],
   "source": [
    "pc, wp"
   ]
  },
  {
   "cell_type": "code",
   "execution_count": null,
   "metadata": {},
   "outputs": [],
   "source": [
    "ofile = 'wp-tng300-1-dark.json'\n",
    "ps = [0.00, 0.02, 0.33, 0.67, 0.98, 1.00]\n",
    "lm_h_edges = [11., 12., 13., 16.]\n",
    "\n",
    "pdata = ProjPaths.sim_dir_of(sim_info) / 'z0_all_postprocessed.hdf5'\n",
    "man_kw = {'add_rsd': True, 'dmo': True}\n",
    "wp_kw = {'pimax': 40., 'n_repeat': 10, \n",
    "         'bootstrap_kw': {'keep_samples': True}\n",
    "         }\n",
    "\n",
    "sman = SubSampleManager(sim_info, pdata, **man_kw)\n",
    "sim_cross = SimCross(sman)\n",
    "\n",
    "wp_tot = sim_cross.wp_of('s_dwarf', **wp_kw)    \n",
    "wp_z_f = sim_cross.wps_of('s_dwarf', 'z_half', ps = ps, **wp_kw)\n",
    "wp_spin = sim_cross.wps_of('s_dwarf', 'spin', ps = ps, **wp_kw)\n",
    "\n",
    "u_m = 1.0e10 / sman.sim_info.cosmology.hubble\n",
    "m_h_edges = 10.0**np.array(lm_h_edges) / u_m\n",
    "wp_h = sim_cross.wps_of('s_halo', 'm_mean200', ps=None, qs=m_h_edges, **wp_kw)\n",
    "\n",
    "data = DataDict({\n",
    "    'dwarfs': {\n",
    "        'z_f': wp_z_f, 'spin': wp_spin, 'tot': wp_tot,    \n",
    "    },\n",
    "    'halos': wp_h,\n",
    "})\n",
    "    \n",
    "path = ProjPaths.sim_dir_of(sim_info) / ofile\n",
    "with open(path, 'w') as f:\n",
    "    json.dump(data, f, default=json_default, indent=2)"
   ]
  },
  {
   "cell_type": "markdown",
   "metadata": {},
   "source": [
    "## Old routines"
   ]
  },
  {
   "cell_type": "code",
   "execution_count": null,
   "metadata": {},
   "outputs": [],
   "source": [
    "sim_info = sims.predefined['tng_dark_300_1']\n",
    "s_all = sample.SimSample.load(sim_info, 'z0_all.hdf5').requires_spin().requires_assembly().require_c()\n",
    "s_c = s_all.subset_by_value('is_c', eq=True)"
   ]
  },
  {
   "cell_type": "code",
   "execution_count": null,
   "metadata": {},
   "outputs": [],
   "source": [
    "hubble = sim_info.cosmology.hubble\n",
    "m_scale = 1.0e10 / hubble\n",
    "\n",
    "m_h_lb = 10**10.5 / m_scale\n",
    "m_h_ub = 10**11.0 / m_scale\n",
    "\n",
    "z_lc_lb = 15.\n",
    "\n",
    "m_h_key = 'm_mean200'\n",
    "\n",
    "m_h_lb, m_h_ub, z_lc_lb"
   ]
  },
  {
   "cell_type": "code",
   "execution_count": null,
   "metadata": {},
   "outputs": [],
   "source": [
    "m_h_edges = 10.0**np.array([11.5, 12.0, 12.5, 13.0, 16.0]) / m_scale"
   ]
  },
  {
   "cell_type": "code",
   "execution_count": null,
   "metadata": {},
   "outputs": [],
   "source": [
    "s_ref = s_all.subset_by_value('m_peak', lo=m_h_lb)\n",
    "cls_ref = clustering.Clustering(s_ref)\n",
    "subs_ref = SubSample(s_ref, add_rsd=True)\n",
    "\n",
    "s_dwarf = s_c.subset_by_value(m_h_key, lo=m_h_lb, hi=m_h_ub).subset_by_value('last_sat_z', lo=15.)\n",
    "s_ref.n_objs, s_dwarf.n_objs\n",
    "\n",
    "s_dwarf2 = s_c.subset_by_value(m_h_key, lo=m_h_lb, hi=m_h_ub)"
   ]
  },
  {
   "cell_type": "markdown",
   "metadata": {},
   "source": [
    "### Output for Ziwen For SIDM"
   ]
  },
  {
   "cell_type": "code",
   "execution_count": null,
   "metadata": {},
   "outputs": [],
   "source": [
    "keys = 'm_crit200', 'm_mean200', 'm_tophat', \\\n",
    "    'v_max', 'v_peak', 'v_peak_snap', 'c',\\\n",
    "    'last_sat_z', 'z_half', 'spin', 'spin_form'\n",
    "    \n",
    "assert s_dwarf['is_c'].all()\n",
    "\n",
    "out_d = {k: s_dwarf[k] for k in keys}\n",
    "out_meta = {\n",
    "    'source': 'TNG300-1-Dark',\n",
    "    'selection': 'central & m_mean200 in 10**{10.5-11.0} & last_sat_z >= 15',\n",
    "    'quantities': {\n",
    "        'm_crit200': 'virial mass, [10^10 M_sun/h]',\n",
    "        'm_mean200': 'mean mass, [10^10 M_sun/h]',\n",
    "        'm_tophat': 'tophat mass, [10^10 M_sun/h]',\n",
    "        'v_max': 'max circular velocity, physical [km/s]',\n",
    "        'v_peak': 'peak of v_max along the main branch, physical [km/s]',\n",
    "        'v_peak_snap': 'snapshot when v_peak is reached',\n",
    "        'c': 'concentration',\n",
    "        'last_sat_z': 'last redshift when the halo is a satellite',\n",
    "        'z_half': 'redshift of half mass',\n",
    "        'spin': 'spin parameter',\n",
    "        'spin_form': 'spin parameter at z_half',\n",
    "    }\n",
    "}\n",
    "out = {\n",
    "    'meta': out_meta,\n",
    "    'data': out_d,\n",
    "}\n",
    "\n",
    "p = ProjPaths.sim_dir_of(sim_info) / 'sample-dwarfs-c-noej.json'\n",
    "with open(p, 'w') as f:\n",
    "    json.dump(out, f, indent=2, default=json_default)"
   ]
  },
  {
   "cell_type": "code",
   "execution_count": null,
   "metadata": {},
   "outputs": [],
   "source": [
    "with open(p, 'r') as f:\n",
    "    in_d = json.load(f)"
   ]
  },
  {
   "cell_type": "code",
   "execution_count": null,
   "metadata": {},
   "outputs": [],
   "source": [
    "# Input from Ziwen's results\n",
    "\n",
    "def join_txt(s: sample.SubhaloSet, file, col_names):\n",
    "    d = np.loadtxt(file, dtype=float)\n",
    "    assert d.shape == (len(s[s.keys[0]]), len(col_names))\n",
    "    for col_name, val in zip(col_names, d.T):\n",
    "        if col_name in s.objs:\n",
    "            print(f'Overwriting {col_name}')\n",
    "        s.objs[col_name] = val\n",
    "\n",
    "for suf in '_10.0', '_40.0', '_0.1',: # '_0.2', '_0.5', '_1.0', '_2.0':\n",
    "    p = ProjPaths.sim_dir_of(sim_info) / f'SIDM/DMO_info{suf}'\n",
    "    join_txt(s_dwarf, p, [f'r1_DMO{suf}', 'halo_age', \n",
    "        'halo_concentration', f'rho_0{suf}'])"
   ]
  },
  {
   "cell_type": "code",
   "execution_count": null,
   "metadata": {},
   "outputs": [],
   "source": [
    "np.quantile(np.log10(s_dwarf['r1_DMO_10.0']), 0.03)\n",
    "np.quantile(np.log10(s_dwarf['rho_0_10.0']), 0.99)"
   ]
  },
  {
   "cell_type": "code",
   "execution_count": null,
   "metadata": {},
   "outputs": [],
   "source": [
    "fig, ax = plot.subplots(1, figsize=4.5, margin=[0.1, 0.1, 0.1, 0.1], layout='none')\n",
    "\n",
    "ax.hist(np.log10(s_dwarf['rho_0_0.1']), bins=20)"
   ]
  },
  {
   "cell_type": "code",
   "execution_count": null,
   "metadata": {},
   "outputs": [],
   "source": [
    "r1_s = s_dwarf[\n",
    "    #'r1_DMO_0.1', 'rho_0_0.2', 'rho_0_0.5', 'rho_0_2.0'\n",
    "    'r1_DMO_0.1', 'rho_0_10.0', 'rho_0_40.0', 'r1_DMO_10.0'\n",
    "    #'r1_DMO_0.5', 'r1_DMO_1.0', 'r1_DMO_2.0'\n",
    "    #, 'halo_concentration', 'c'\n",
    "]"
   ]
  },
  {
   "cell_type": "code",
   "execution_count": null,
   "metadata": {},
   "outputs": [],
   "source": [
    "fig, axs = plot.subplots((1,3), share=False, space=0.2, subsize=(4.5, 4.5), \n",
    "                         margin=[0.1, 0.1, 0.1, 0.1], layout='none')\n",
    "axs_f = axs.flat\n",
    "\n",
    "labs = r'\\rho_{0,0.2}', r'\\rho_{0,0.5}', r'\\rho_{0,2.0}'\n",
    "n = len(r1_s[0]) // 1000\n",
    "for i_ax, i_col in enumerate((1,2,3)):\n",
    "    ax = axs[i_ax]\n",
    "    ax.scatter(r1_s[0][::n], r1_s[i_col][::n])\n",
    "    ax.label(y=labs[i_ax])\n",
    "axs.label(r'r_{1,0.5}')\n",
    "axs.scale(y='log')"
   ]
  },
  {
   "cell_type": "markdown",
   "metadata": {},
   "source": [
    "### 2PCF"
   ]
  },
  {
   "cell_type": "code",
   "execution_count": null,
   "metadata": {},
   "outputs": [],
   "source": [
    "cls_kw = {'pimax': 40., 'n_repeat': 5}"
   ]
  },
  {
   "cell_type": "code",
   "execution_count": null,
   "metadata": {},
   "outputs": [],
   "source": [
    "# halos\n",
    "subs_halos = SubSample.list_from_bins(s_c, m_h_key, edges=m_h_edges)"
   ]
  },
  {
   "cell_type": "code",
   "execution_count": null,
   "metadata": {},
   "outputs": [],
   "source": [
    "out_h = {str(i): subs_ref.proj_cross_with(subs, **cls_kw)  \n",
    "         for i, subs in enumerate(subs_halos) }"
   ]
  },
  {
   "cell_type": "code",
   "execution_count": null,
   "metadata": {},
   "outputs": [],
   "source": [
    "out_tot = subs_ref.proj_cross_with(SubSample(s_dwarf), **cls_kw)\n"
   ]
  },
  {
   "cell_type": "code",
   "execution_count": null,
   "metadata": {},
   "outputs": [],
   "source": [
    "out_tot2 = subs_ref.proj_cross_with(SubSample(s_dwarf2), **cls_kw)"
   ]
  },
  {
   "cell_type": "code",
   "execution_count": null,
   "metadata": {},
   "outputs": [],
   "source": [
    "out_r1 = binned_proj_cross(subs_ref, s_dwarf, 'r1_DMO')"
   ]
  },
  {
   "cell_type": "code",
   "execution_count": null,
   "metadata": {},
   "outputs": [],
   "source": [
    "path = ProjPaths.sim_dir_of(sim_info) / 'wp-result-pi40-resamp50-r1-bins.hdf5'\n",
    "h5.File.dump_to(path, {\n",
    "    'dwarfs': {\n",
    "        'r1': out_r1\n",
    "    },\n",
    "}, f_flag='w')"
   ]
  },
  {
   "cell_type": "code",
   "execution_count": null,
   "metadata": {},
   "outputs": [],
   "source": [
    "out_r1_list = {\n",
    "  f'r1{suf}': binned_proj_cross(subs_ref, s_dwarf, f'r1_DMO{suf}')  \n",
    "  for suf in ['_0.2', '_1.0', '_2.0']\n",
    "} \n",
    "\n",
    "path = ProjPaths.sim_dir_of(sim_info) / 'wp-result-pi40-resamp50-r1-list.hdf5'\n",
    "h5.File.dump_to(path, {\n",
    "    'dwarfs': out_r1_list,\n",
    "}, f_flag='w')"
   ]
  },
  {
   "cell_type": "code",
   "execution_count": null,
   "metadata": {},
   "outputs": [],
   "source": [
    "out_r1_list_2 = {\n",
    "  f'r1{suf}': binned_proj_cross(\n",
    "    subs_ref, s_dwarf, f'r1_DMO{suf}', ps=[0.00, 0.03, 0.33, 0.67, 0.98, 1.],\n",
    "  )  for suf in ['_10.0', '_40.0']\n",
    "} \n",
    "path = ProjPaths.sim_dir_of(sim_info) / 'wp/r1_binned_2.hdf5'\n",
    "h5.File.dump_to(path, {\n",
    "    'dwarfs': out_r1_list_2,\n",
    "}, f_flag='w')"
   ]
  },
  {
   "cell_type": "markdown",
   "metadata": {},
   "source": [
    "Binned by $\\rho_0$"
   ]
  },
  {
   "cell_type": "code",
   "execution_count": null,
   "metadata": {},
   "outputs": [],
   "source": [
    "out_rho_0_list = {\n",
    "    f'rho_0{suf}': binned_proj_cross(subs_ref, s_dwarf, f'rho_0{suf}')  \n",
    "    for suf in ['_0.2', '_0.5', '_1.0', '_2.0']\n",
    "}\n",
    "path = ProjPaths.sim_dir_of(sim_info) / 'wp/rho_0_binned.hdf5'\n",
    "h5.File.dump_to(path, {\n",
    "    'dwarfs': out_rho_0_list,\n",
    "}, f_flag='w')"
   ]
  },
  {
   "cell_type": "code",
   "execution_count": null,
   "metadata": {},
   "outputs": [],
   "source": [
    "out_rho_0_list_2 = {\n",
    "    f'rho_0{suf}': binned_proj_cross(subs_ref, s_dwarf, f'rho_0{suf}')  \n",
    "    for suf in ['_10.0', '_40.0']\n",
    "}\n",
    "path = ProjPaths.sim_dir_of(sim_info) / 'wp/rho_0_binned_2.hdf5'\n",
    "h5.File.dump_to(path, {\n",
    "    'dwarfs': out_rho_0_list_2,\n",
    "}, f_flag='w')"
   ]
  },
  {
   "cell_type": "code",
   "execution_count": null,
   "metadata": {},
   "outputs": [],
   "source": []
  },
  {
   "cell_type": "code",
   "execution_count": null,
   "metadata": {},
   "outputs": [],
   "source": [
    "subs_list = SubSample.list_from_percents(s_dwarf2, \n",
    "    'z_half', [0.00, 0.02, \n",
    "               0.33, 0.67, 0.98, 1.00\n",
    "], add_rsd=True)\n",
    "out_z2 = {str(i): subs_ref.proj_cross_with(subs, **cls_kw)  \n",
    "         for i, subs in enumerate(subs_list) }"
   ]
  },
  {
   "cell_type": "code",
   "execution_count": null,
   "metadata": {},
   "outputs": [],
   "source": [
    "subs_list = SubSample.list_from_percents(s_dwarf, \n",
    "    'spin', [0.00, 0.02, \n",
    "            0.33, 0.67, 0.98, 1.00\n",
    "], add_rsd=True)\n",
    "out_spin = {str(i): subs_ref.proj_cross_with(subs, **cls_kw)  \n",
    "         for i, subs in enumerate(subs_list) }"
   ]
  },
  {
   "cell_type": "code",
   "execution_count": null,
   "metadata": {},
   "outputs": [],
   "source": [
    "subs_list = SubSample.list_from_percents(s_dwarf2, \n",
    "    'spin', [0.00, 0.02, \n",
    "            0.33, 0.67, 0.98, 1.00\n",
    "], add_rsd=True)\n",
    "out_spin2 = {str(i): subs_ref.proj_cross_with(subs, **cls_kw)  \n",
    "         for i, subs in enumerate(subs_list) }"
   ]
  },
  {
   "cell_type": "code",
   "execution_count": null,
   "metadata": {},
   "outputs": [],
   "source": [
    "path = ProjPaths.sim_dir_of(sim_info) / 'wp-result-pi40-resamp50.hdf5'\n",
    "h5.File.dump_to(path, {\n",
    "    'dwarfs': {\n",
    "        'z': out_z, 'spin': out_spin, 'tot': out_tot\n",
    "    },\n",
    "    'halos': out_h\n",
    "}, f_flag='w')"
   ]
  },
  {
   "cell_type": "code",
   "execution_count": null,
   "metadata": {},
   "outputs": [],
   "source": [
    "path = ProjPaths.sim_dir_of(sim_info) / 'wp-result-pi40-resamp50-addej.hdf5'\n",
    "h5.File.dump_to(path, {\n",
    "    'dwarfs': {\n",
    "        'z': out_z2, 'spin': out_spin2, 'tot': out_tot2\n",
    "    },\n",
    "    'halos': out_h\n",
    "}, f_flag='w')"
   ]
  },
  {
   "cell_type": "code",
   "execution_count": null,
   "metadata": {},
   "outputs": [],
   "source": [
    "# rerun it\n",
    "res_z = {\n",
    "    'dwarfs': get_cls_by_quantiles(s_dwarf, cls_ref, key='z_half'),\n",
    "    'halos': get_cls_binned(s_c, cls_ref, m_h_key, ranges=m_h_bins,n_rep=5)\n",
    "}"
   ]
  },
  {
   "cell_type": "code",
   "execution_count": null,
   "metadata": {},
   "outputs": [],
   "source": [
    "res_z2 = {\n",
    "    'dwarfs': get_cls_by_quantiles(s_dwarf2, cls_ref, key='z_half'),\n",
    "    'halos': res_z['halos']\n",
    "}"
   ]
  },
  {
   "cell_type": "code",
   "execution_count": null,
   "metadata": {},
   "outputs": [],
   "source": [
    "res_spin2 = {\n",
    "    'dwarfs': get_cls_by_quantiles(s_dwarf2, cls_ref, key='spin'),\n",
    "    'halos': res_z['halos']\n",
    "}"
   ]
  },
  {
   "cell_type": "code",
   "execution_count": null,
   "metadata": {},
   "outputs": [],
   "source": [
    "res_spin = {\n",
    "    'dwarfs': get_cls_by_quantiles(s_dwarf, cls_ref, key='spin'),\n",
    "    'halos': res_z['halos']\n",
    "}"
   ]
  },
  {
   "cell_type": "code",
   "execution_count": null,
   "metadata": {},
   "outputs": [],
   "source": [
    "path = ProjPaths.sim_dir_of(sim_info) / 'wp-result.hdf5'\n",
    "h5.File.dump_to(path, {'z': res_z, 'z2': res_z2, \n",
    "    'spin': res_spin, 'spin2': res_spin2}, f_flag='w')"
   ]
  },
  {
   "cell_type": "code",
   "execution_count": null,
   "metadata": {},
   "outputs": [],
   "source": [
    "sim_info = sims.predefined['tng_dark_300_1']\n",
    "path = ProjPaths.sim_dir_of(sim_info) / 'wp-result.hdf5'\n",
    "res = h5.File.load_from(path)\n",
    "res_z, res_z2, res_spin, res_spin2 = res['z', 'z2', 'spin', 'spin2']"
   ]
  },
  {
   "cell_type": "code",
   "execution_count": null,
   "metadata": {},
   "outputs": [],
   "source": [
    "qs = np.quantile(s_dwarf['spin'], [0.02, 0.33, 0.67, 0.98])\n",
    "for q in qs:\n",
    "    print(f'{q:.2f}')"
   ]
  },
  {
   "cell_type": "markdown",
   "metadata": {},
   "source": [
    "### Distance to neighbors"
   ]
  },
  {
   "cell_type": "code",
   "execution_count": null,
   "metadata": {},
   "outputs": [],
   "source": [
    "subs_h12 = SubSample(s_c, m_h_key, 1.0e12 / m_scale, add_rsd=True)\n",
    "subs_h13 = SubSample(s_c, m_h_key, 1.0e13 / m_scale, add_rsd=True)\n",
    "\n",
    "subs_tot = SubSample(s_dwarf)\n",
    "subs_tot2 = SubSample(s_dwarf2)\n",
    "\n",
    "subs_list = SubSample.list_from_percents(s_dwarf, \n",
    "    'z_half', [0.00, 0.02, \n",
    "               0.33, 0.67, 0.98, 1.00\n",
    "], add_rsd=True)"
   ]
  },
  {
   "cell_type": "code",
   "execution_count": null,
   "metadata": {},
   "outputs": [],
   "source": [
    "def get_min_ds(subs_list: list[SubSample], subs_ref: SubSample):\n",
    "    out = DataDict()\n",
    "    for i, subs in enumerate(subs_list):\n",
    "        min_d = subs_ref.min_dist_3d_with(subs)\n",
    "        assert len(subs.samp['x']) == min_d.size\n",
    "        out[str(i)] = {'min_d': min_d}\n",
    "        \n",
    "    return out\n",
    "\n",
    "def get_min_ds_2d(subs_list: list[SubSample], subs_ref: SubSample, **kw):\n",
    "    out = DataDict()\n",
    "    for i, subs in enumerate(subs_list):\n",
    "        min_d, r_h = subs_ref.min_dist_2d_with(subs, **kw)\n",
    "        z_half = subs.samp['z_half']\n",
    "        assert len(z_half) == min_d.size == r_h.size\n",
    "        out[str(i)] = {'min_d': min_d, 'z_half': z_half, 'r_h': r_h}\n",
    "        \n",
    "    return out\n",
    "\n",
    "def dump_mind(res, path: Path):\n",
    "    o = np.array([res['min_d'], res['z_half'], res['r_h']]).T\n",
    "    sel = o[:, 0] < 1.0e5\n",
    "    o = o[sel]\n",
    "    np.savetxt(path, o, fmt=r'%.6g')"
   ]
  },
  {
   "cell_type": "code",
   "execution_count": null,
   "metadata": {},
   "outputs": [],
   "source": [
    "res_mind_h12 = get_min_ds_2d([subs_tot], subs_h12)['0']\n",
    "res_mind_h13 = get_min_ds_2d([subs_tot], subs_h13)['0']\n",
    "\n",
    "path = ProjPaths.sim_dir_of(sim_info) / 'min-dist-h12.txt'\n",
    "dump_mind(res_mind_h12, path)\n",
    "\n",
    "path = ProjPaths.sim_dir_of(sim_info) / 'min-dist-h13.txt'\n",
    "dump_mind(res_mind_h13, path)"
   ]
  },
  {
   "cell_type": "code",
   "execution_count": null,
   "metadata": {},
   "outputs": [],
   "source": [
    "res_mind_h13 = get_min_ds_2d([subs_tot], subs_h13, max_dx_proj=50)['0']\n",
    "\n",
    "path = ProjPaths.sim_dir_of(sim_info) / 'min-dist-h13-max50.txt'\n",
    "dump_mind(res_mind_h13, path)"
   ]
  },
  {
   "cell_type": "code",
   "execution_count": null,
   "metadata": {},
   "outputs": [],
   "source": [
    "res_mind_h12 = get_min_ds_2d([subs_tot2], subs_h12)['0']\n",
    "res_mind_h13 = get_min_ds_2d([subs_tot2], subs_h13)['0']\n",
    "\n",
    "path = ProjPaths.sim_dir_of(sim_info) / 'min-dist-h12-addej.txt'\n",
    "dump_mind(res_mind_h12, path)\n",
    "\n",
    "path = ProjPaths.sim_dir_of(sim_info) / 'min-dist-h13-addej.txt'\n",
    "dump_mind(res_mind_h13, path)"
   ]
  },
  {
   "cell_type": "code",
   "execution_count": null,
   "metadata": {},
   "outputs": [],
   "source": [
    "path = ProjPaths.sim_dir_of(sim_info) / 'min-dist-h13.txt'\n",
    "dset1 = np.loadtxt(path)\n",
    "\n",
    "path = ProjPaths.sim_dir_of(sim_info) / 'min-dist-h13-max50.txt'\n",
    "dset2 = np.loadtxt(path)"
   ]
  },
  {
   "cell_type": "code",
   "execution_count": null,
   "metadata": {},
   "outputs": [],
   "source": [
    "fig, ax = plot.subplots(1, figsize=4.5, margin=[0.1, 0.1, 0.1, 0.1], layout='none')\n",
    "\n",
    "cs = 'r', 'b'\n",
    "for i, dset in enumerate([dset1, dset2]):\n",
    "    d, z_f, r_h = dset.T\n",
    "    d_scld = d / r_h\n",
    "    h, e = np.histogram(d_scld, bins=50, range=[0., 30.], density=True)\n",
    "    ax.stairs(h, e, ec=cs[i])"
   ]
  },
  {
   "cell_type": "code",
   "execution_count": null,
   "metadata": {},
   "outputs": [],
   "source": [
    "x = res_mind_h12['min_d']\n",
    "sel = x < 1.0e5\n",
    "x = x[sel] / res_mind_h12['r_h'][sel]\n",
    "\n",
    "fig, ax = plot.subplots(1, figsize=4.5, margin=[0.1, 0.1, 0.1, 0.1], layout='none')\n",
    "\n",
    "ax.hist(np.log10(x), range=[-0.75, 1.])"
   ]
  },
  {
   "cell_type": "code",
   "execution_count": null,
   "metadata": {},
   "outputs": [],
   "source": [
    "res_mind = {}"
   ]
  },
  {
   "cell_type": "code",
   "execution_count": null,
   "metadata": {},
   "outputs": [],
   "source": [
    "res_mind |= {\n",
    "    'h12': get_min_ds(subs_list, subs_h12),\n",
    "    'h13': get_min_ds(subs_list, subs_h13),\n",
    "} "
   ]
  },
  {
   "cell_type": "code",
   "execution_count": null,
   "metadata": {},
   "outputs": [],
   "source": [
    "res_mind |= {\n",
    "    'h12_2d': get_min_ds_2d(subs_list, subs_h12),\n",
    "    'h13_2d': get_min_ds_2d(subs_list, subs_h13),\n",
    "}"
   ]
  },
  {
   "cell_type": "code",
   "execution_count": null,
   "metadata": {},
   "outputs": [],
   "source": [
    "path = ProjPaths.sim_dir_of(sim_info) / 'min-dist-result.hdf5'\n",
    "h5.File.dump_to(path, res_mind, f_flag='w')"
   ]
  },
  {
   "cell_type": "code",
   "execution_count": null,
   "metadata": {},
   "outputs": [],
   "source": [
    "sim_info = sims.predefined['tng_dark_300_1']\n",
    "\n",
    "path = ProjPaths.sim_dir_of(sim_info) / 'min-dist-result.hdf5'\n",
    "res_mind = h5.File.load_from(path)"
   ]
  },
  {
   "cell_type": "code",
   "execution_count": null,
   "metadata": {},
   "outputs": [],
   "source": [
    "h5.File.ls_from(path)"
   ]
  },
  {
   "cell_type": "code",
   "execution_count": null,
   "metadata": {},
   "outputs": [],
   "source": [
    "fig, axs = plot.subplots((2,2), share=('col', True), space=0., \n",
    "    subsize=(5.5, 4.05), margin=[0.075, 0.02, 0.075, 0.065], layout='none')\n",
    "axs_f = axs.flat\n",
    "\n",
    "cs_g = 'b', 'g', 'orange', 'r', 'purple'\n",
    "g_labs = [\n",
    "    r'$0^{\\rm th}\\,$-$\\,2^{\\rm nd}$',\n",
    "    r'$2^{\\rm nd}\\,$-$\\,33^{\\rm rd}$',\n",
    "    r'$33^{\\rm rd}\\,$-$\\,67^{\\rm th}$',\n",
    "    r'$67^{\\rm th}\\,$-$\\,98^{\\rm th}$',\n",
    "    r'$98^{\\rm th}\\,$-$\\,100^{\\rm th}$',\n",
    "]\n",
    "\n",
    "for ih, h_lab in enumerate(['h12', 'h13']):\n",
    "    res = res_mind[h_lab]\n",
    "    ax = axs[ih, 0]\n",
    "    for i in range(5):\n",
    "        d = res[str(i)]['min_d']\n",
    "        sel = d < 30.\n",
    "        # print(sel.sum()/sel.size)\n",
    "        d = d[sel]\n",
    "        x = Num.safe_lg(d)\n",
    "        x_med = np.median(x)\n",
    "        x_mean = Num.safe_lg(np.mean(d)) \n",
    "        \n",
    "        c = cs_g[i]\n",
    "        ax.hist(x, range=[-.75, 1.5], bins=32, density=True, fc='none', \n",
    "                ec=c, lw=3.)\n",
    "        ax.plot([x_med]*2, [1.8, 2.15], lw=2, c=c, label=g_labs[i])\n",
    "        # ax.plot([x_mean]*2, [2.0, 2.15], lw=2, ls=(0,(2,1)), c=c)\n",
    "        \n",
    "    res = res_mind[h_lab + '_2d']\n",
    "    ax = axs[ih, 1]\n",
    "    for i in range(5):\n",
    "        d = res[str(i)]['min_d']\n",
    "        sel = d < 30.\n",
    "        #print(sel.sum()/sel.size)\n",
    "        d = d[sel]\n",
    "        x = Num.safe_lg(d)\n",
    "        x_med = np.median(x)\n",
    "        x_mean = Num.safe_lg(np.mean(d)) \n",
    "        print(10**x_med)\n",
    "        \n",
    "        c = cs_g[i]\n",
    "        ax.hist(x, range=[-.75, 1.5], bins=32, density=True, fc='none', \n",
    "                ec=c, lw=3.)\n",
    "        ax.plot([x_med]*2, [1.8, 2.15], lw=2, c=c, label=g_labs[i])\n",
    "        #ax.plot([x_mean]*2, [2.0, 2.15], lw=2, ls=(0,(2,1)), c=c)\n",
    "    \n",
    "labs = r'$R_{\\rm sep, 3D}\\,[h^{-1}{\\rm Mpc}]$', r'$R_{\\rm sep}\\,[h^{-1}{\\rm Mpc}]$'\n",
    "for i, ax in enumerate(axs[0]):\n",
    "    ax: plot.Axes\n",
    "    fn = lambda lg_x: 10.0**lg_x, lambda x: np.log10(x+1.0e-10)\n",
    "    sax = ax.secondary_xaxis('top', functions=fn)\n",
    "    sax.fmt_frame(label={'x': labs[i]},\n",
    "             ticks={'x': [0.1, 0.5, 1, 2, 3, 5, 7, 10, 15.]})\n",
    "    ax.tick_params(x={\n",
    "        'which': 'both', 'top': False,\n",
    "    })\n",
    "    \n",
    "ax.tick_params(x={\n",
    "   'which': 'both', 'top': False,\n",
    "})\n",
    "axs[0,0].leg(loc='ur', title=r'$z_{\\rm f}\\ {\\rm percentiles}$',\n",
    "    title_fontsize=13., labelspacing=0., numpoints=1, fontsize=13, \n",
    "    ncol=1, handlelength=1.)\n",
    "axs[:, 0].label(y=r'{\\rm PDF}').lim([-0.75, 1.4], [0.0, 2.55]).label(r'\\log\\,R_{\\rm sep, 3D}\\,[h^{-1}{\\rm Mpc}]')\n",
    "axs[:, 1].lim([-0.75, 1.4]).label(r'\\log\\,R_{\\rm sep}\\,[h^{-1}{\\rm Mpc}]')\n",
    "\n",
    "axs[0,0].text(r'{\\rm To\\ halos},\\,M_{\\rm h}\\geqslant 10^{12}{\\rm M}_\\odot', (.08, .92))\n",
    "axs[1,0].text(r'{\\rm To\\ halos},\\,M_{\\rm h}\\geqslant 10^{13}{\\rm M}_\\odot', (.08, .92))\n",
    "\n",
    "axs[0,0].text(r'\\rm Median', (.275, .775), fontsize=13)\n",
    "# axs[0,0].text(r'\\rm Mean', (.275, .81), fontsize=13)\n",
    "axs.label_outer()\n",
    "\n",
    "# ProjPaths.save_fig('fig_d2halo_dmo.pdf')"
   ]
  },
  {
   "cell_type": "markdown",
   "metadata": {},
   "source": [
    "## Density and Tidal Field"
   ]
  },
  {
   "cell_type": "code",
   "execution_count": null,
   "metadata": {},
   "outputs": [],
   "source": [
    "from pyhipp.field import cubic_box\n",
    "%autoreload\n",
    "gc.collect()\n",
    "\n",
    "sim_info = sims.predefined['tng_dark_300_1']"
   ]
  },
  {
   "cell_type": "code",
   "execution_count": null,
   "metadata": {},
   "outputs": [],
   "source": [
    "# generate smoothed field"
   ]
  },
  {
   "cell_type": "code",
   "execution_count": null,
   "metadata": {},
   "outputs": [],
   "source": [
    "path = ProjPaths.sim_dir_of(sim_info) / 'density_field.99.hdf5'\n",
    "with h5.File(path) as f:\n",
    "    rho_x = cubic_box.DensityField.load(f)"
   ]
  },
  {
   "cell_type": "code",
   "execution_count": null,
   "metadata": {},
   "outputs": [],
   "source": [
    "for r_sm in 1,2,4, 5, 8, 10:\n",
    "    sm = cubic_box.FourierSpaceSmoothing(n_workers=8, r_sm=float(r_sm))\n",
    "    res = sm.run(rho_x)\n",
    "    path = ProjPaths.sim_dir_of(sim_info) / f'density_field.99.sm{r_sm}.hdf5'\n",
    "    with h5.File(path, 'w') as f:\n",
    "        res.dump(f)"
   ]
  },
  {
   "cell_type": "code",
   "execution_count": null,
   "metadata": {},
   "outputs": [],
   "source": [
    "\n",
    "\n",
    "tf = cubic_box.TidalField(n_workers=8, r_sm=1.0)\n",
    "res = tf.run(rho_x)\n",
    "\n",
    "path = ProjPaths.sim_dir_of(sim_info) / 'tidal_field.99.sm1.hdf5'\n",
    "with h5.File(path, 'w') as f:\n",
    "    res.dump(f)"
   ]
  },
  {
   "cell_type": "code",
   "execution_count": null,
   "metadata": {},
   "outputs": [],
   "source": []
  },
  {
   "cell_type": "code",
   "execution_count": null,
   "metadata": {},
   "outputs": [],
   "source": [
    "path = ProjPaths.sim_dir_of(sim_info) / 'tidal_field.99.sm2.hdf5'\n",
    "delta_sm_k = h5.File.load_from(path, 'delta_sm_k')\n",
    "fft = cubic_box.fft.NdRealFFT(n_workers=8, norm='ortho')\n",
    "delta_sm_x = fft.backward(delta_sm_k)\n",
    "h5.File.dump_to(path, delta_sm_x, key='delta_sm_x')"
   ]
  },
  {
   "cell_type": "code",
   "execution_count": null,
   "metadata": {},
   "outputs": [],
   "source": [
    "path = ProjPaths.sim_dir_of(sim_info) / 'tidal_field.99.sm2.hdf5'\n",
    "with h5.File(path) as f:\n",
    "    clsf = cubic_box.TidalClassifier.new_from_file(f, lam_th=.2)\n",
    "clsf"
   ]
  },
  {
   "cell_type": "code",
   "execution_count": null,
   "metadata": {},
   "outputs": [],
   "source": [
    "path = ProjPaths.sim_dir_of(sim_info) / 'tidal_field.99.sm1.hdf5'\n",
    "with h5.File(path) as f:\n",
    "    f_interp = cubic_box.cosmic_web.FieldInterpolator.new_density_field_from_file(\n",
    "        f)\n",
    "f_interp"
   ]
  },
  {
   "cell_type": "code",
   "execution_count": null,
   "metadata": {},
   "outputs": [],
   "source": [
    "fig, ax = plot.subplots(1, figsize=4.5, extent=[1., 1., 0., 0.], layout='none')\n",
    "\n",
    "lams_f = lams.reshape(-1, 3)\n",
    "cs = ColorSets.tab10[:3]\n",
    "for i in range(3):\n",
    "    x = lams_f[:, i]\n",
    "    ax.c(cs[i]).hist(x, range=[-1., 1.], bins=20)"
   ]
  },
  {
   "cell_type": "code",
   "execution_count": null,
   "metadata": {},
   "outputs": [],
   "source": [
    "fig, ax = plot.subplots(1, figsize=4.5, extent=[1., 1., 0., 0.], layout='none')\n",
    "\n",
    "z0 = 40.0\n",
    "z1 = z0 + 10.0\n",
    "\n",
    "l_grid = sim_info.full_box_size / 256\n",
    "zi0, zi1 = int(z0 / l_grid), int(z1 / l_grid)\n",
    "im = clsf.is_filament[:, :, zi0:zi1].sum(-1) >= 1\n",
    "\n",
    "ax._raw.imshow(im.T, origin='lower',)"
   ]
  },
  {
   "cell_type": "code",
   "execution_count": null,
   "metadata": {},
   "outputs": [],
   "source": [
    "fig, ax = plot.subplots(1, figsize=4.5, extent=[1., 1., 0., 0.], layout='none')\n",
    "\n",
    "z0 = 40.0\n",
    "z1 = z0 + 10.0\n",
    "\n",
    "l_grid = sim_info.full_box_size / 256\n",
    "zi0, zi1 = int(z0 / l_grid), int(z1 / l_grid)\n",
    "im = Num.safe_lg(f_interp._data[:, :, zi0:zi1].max(-1)) \n",
    "\n",
    "ax._raw.imshow(im.T, origin='lower',)"
   ]
  },
  {
   "cell_type": "markdown",
   "metadata": {},
   "source": [
    "## Web - web correlation"
   ]
  },
  {
   "cell_type": "code",
   "execution_count": null,
   "metadata": {},
   "outputs": [],
   "source": [
    "# load tidal data and cosmic web types\n",
    "\n",
    "path = ProjPaths.sim_dir_of(sim_info) / 'tidal_field.99.sm1.hdf5'\n",
    "with h5.File(path) as f:\n",
    "    clsf = cubic_box.TidalClassifier.new_from_file(f, lam_th=0.2)\n",
    "clsf\n",
    "\n",
    "s_web_types = {\n",
    "    t: sample.SubhaloSet.from_cosmic_web(clsf, sim_info, web_type=t) \n",
    "    for t in ['k', 'f', 's', 'v']\n",
    "}\n",
    "cls_web_types = {\n",
    "    t: clustering.Clustering(s) for t, s in s_web_types.items()\n",
    "}"
   ]
  },
  {
   "cell_type": "code",
   "execution_count": null,
   "metadata": {},
   "outputs": [],
   "source": [
    "path = ProjPaths.sim_dir_of(sim_info) / 'tidal_field.99.sm1.hdf5'\n",
    "with h5.File(path) as f:\n",
    "    f_interp = cubic_box.cosmic_web.FieldInterpolator.new_density_field_from_file(\n",
    "        f)\n",
    "f_interp"
   ]
  },
  {
   "cell_type": "code",
   "execution_count": null,
   "metadata": {},
   "outputs": [],
   "source": [
    "path = ProjPaths.sim_dir_of(sim_info) / 'density_field.99.sm5.hdf5'\n",
    "with h5.File(path) as f:\n",
    "    f_interp_sm5 = cubic_box.cosmic_web.FieldInterpolator.new_density_field_from_file(\n",
    "        f, key='delta_sm_x')\n",
    "f_interp_sm5"
   ]
  },
  {
   "cell_type": "code",
   "execution_count": null,
   "metadata": {},
   "outputs": [],
   "source": [
    "def corr_with_web(samp: sample.SubhaloSet, rs=np.logspace(-.7, 1.2, 21), \n",
    "                  n_max_rand=2000, n_repeat=20, n_threads=8, \n",
    "                  use_proj=False, attach_sample = True):\n",
    "    out = DataDict()\n",
    "    for web_t in ['k', 'f', 's', 'v']:\n",
    "        cls = cls_web_types[web_t]\n",
    "        \n",
    "        fn = cls.proj_cross if use_proj else cls.cross\n",
    "        out[web_t] = fn(samp, rs=rs, n_max_rand=n_max_rand,\n",
    "                        n_repeat=n_repeat, n_threads=n_threads)\n",
    "    out['samp'] = samp\n",
    "    return out"
   ]
  },
  {
   "cell_type": "markdown",
   "metadata": {},
   "source": [
    "### Make dwarf sample"
   ]
  },
  {
   "cell_type": "code",
   "execution_count": null,
   "metadata": {},
   "outputs": [],
   "source": [
    "def add_f_web_type(s: sample.SubhaloSet, cls_web_types: dict[str, clustering.Clustering],\n",
    "                   r=10.0, key='frac_'):\n",
    "    cnts = {}\n",
    "    for t, cls in cls_web_types.items():\n",
    "        cnt = cls.counts_in_r(s['x'], r=r)\n",
    "        cnts[t] = cnt\n",
    "    cnt_tot = np.array(list(cnts.values())).sum(0)\n",
    "    for t, cnt in cnts.items():\n",
    "        s.objs |= {\n",
    "            f'{key}{t}': cnt / cnt_tot\n",
    "        }"
   ]
  },
  {
   "cell_type": "code",
   "execution_count": null,
   "metadata": {},
   "outputs": [],
   "source": [
    "s_all = sample.SimSample.load(sim_info, 'z0_cent.hdf5')\\\n",
    "    .requires_spin().requires_assembly().requires_cosmic_type(clsf)\n",
    "s_c = s_all"
   ]
  },
  {
   "cell_type": "code",
   "execution_count": null,
   "metadata": {},
   "outputs": [],
   "source": [
    "s_ref = s_all.subset_by_value('m_crit200', lo=10**0.6)\n",
    "cls_ref = clustering.Clustering(s_ref)"
   ]
  },
  {
   "cell_type": "code",
   "execution_count": null,
   "metadata": {},
   "outputs": [],
   "source": []
  },
  {
   "cell_type": "code",
   "execution_count": null,
   "metadata": {},
   "outputs": [],
   "source": [
    "add_f_web_type(s_dwarf, cls_web_types)\n",
    "s_dwarf = s_c.subset_by_value('m_crit200', lo=10**0.6, hi=10**0.8)\n",
    "\n",
    "for k_web in ['k', 'f', 's', 'v']:\n",
    "    s_dwarf.requires_dist_to(f'd2{k_web}', s_web_types[k_web]['x'])\n",
    "    s_dwarf.requires_dist_to(f'd2{k_web}_2th', s_web_types[k_web]['x'], k_th=2)\n",
    "path = ProjPaths.sim_dir_of(sim_info) / 'dwarf.c.frac_web.hdf5'\n",
    "s_dwarf.to_h5_file(path, f_flag='w')"
   ]
  },
  {
   "cell_type": "markdown",
   "metadata": {},
   "source": [
    "### Clusterings"
   ]
  },
  {
   "cell_type": "code",
   "execution_count": null,
   "metadata": {},
   "outputs": [],
   "source": [
    "s_all = sample.SimSample.load(sim_info, 'z0_all.hdf5')\n",
    "s_c = s_all.subset_by_value('is_c', eq=True)\n",
    "\n",
    "s_ref = s_all.subset_by_value('v_peak_m', lo=10**0.6)\n",
    "cls_ref = clustering.Clustering(s_ref)"
   ]
  },
  {
   "cell_type": "code",
   "execution_count": null,
   "metadata": {},
   "outputs": [],
   "source": []
  },
  {
   "cell_type": "code",
   "execution_count": null,
   "metadata": {},
   "outputs": [],
   "source": [
    "path = ProjPaths.sim_dir_of(sim_info) / 'dwarf.c.frac_web.hdf5'\n",
    "s_dwarf = sample.SubhaloSet.from_h5_file(path)\n",
    "s_dwarf = sample.SimSample.from_data(s_dwarf.objs, s_dwarf.header, s_dwarf.sim_info)\n",
    "\n",
    "s_dwarf.objs['rho_5'] = f_interp_sm5.value_at(s_dwarf['x'])\n",
    "\n",
    "s_dwarf"
   ]
  },
  {
   "cell_type": "code",
   "execution_count": null,
   "metadata": {},
   "outputs": [],
   "source": [
    "s_typed = {\n",
    "    t: s_dwarf.subset_by_value('cosmic_type', eq=clsf.web_types[t]) for t in s_web_types.keys()\n",
    "} \n",
    "s_typed['all'] = s_dwarf\n",
    "s_noej = s_dwarf.subset_by_value('last_sat_z', lo=15.)\n",
    "s_ej = s_dwarf.subset_by_value('last_sat_z', hi=1.5)"
   ]
  },
  {
   "cell_type": "code",
   "execution_count": null,
   "metadata": {},
   "outputs": [],
   "source": [
    "outs: DataDict[str, np.ndarray|sample.SubhaloSet] = DataDict()"
   ]
  },
  {
   "cell_type": "code",
   "execution_count": null,
   "metadata": {},
   "outputs": [],
   "source": [
    "outs_with_ej: DataDict[str, np.ndarray|sample.SubhaloSet] = DataDict()\n",
    "outs_with_ej['all'] = {'samp': s_dwarf}\n",
    "outs_with_ej['dense'] = {'samp': outs_with_ej['all/samp'].subset_by_value('rho_5', 0.75)}\n",
    "outs_with_ej['near_k'] = {'samp': outs_with_ej['dense/samp'].subset_by_value('d2k', 1.5, 5.)}\n",
    "outs_with_ej['less_s'] = {'samp': outs_with_ej['near_k/samp'].subset_by_value('frac_s', hi=.53)}\n",
    "outs_with_ej['low_zf'] = {'samp': outs_with_ej['less_s/samp'].subset_by_value('z_half', hi=1.)}"
   ]
  },
  {
   "cell_type": "code",
   "execution_count": null,
   "metadata": {},
   "outputs": [],
   "source": []
  },
  {
   "cell_type": "code",
   "execution_count": null,
   "metadata": {},
   "outputs": [],
   "source": []
  },
  {
   "cell_type": "code",
   "execution_count": null,
   "metadata": {},
   "outputs": [],
   "source": [
    "s = s_noej\n",
    "outs['noej'] = corr_with_web(s, use_proj=True)"
   ]
  },
  {
   "cell_type": "code",
   "execution_count": null,
   "metadata": {},
   "outputs": [],
   "source": [
    "s = outs['noej/samp'].subset_by_value('rho_5', .75)\n",
    "outs['dense'] = corr_with_web(s, use_proj=True)\n",
    "\n",
    "s = outs['noej/samp'].subset_by_value('is_f', eq=True)\n",
    "outs['on_f'] = corr_with_web(s, use_proj=True)"
   ]
  },
  {
   "cell_type": "code",
   "execution_count": null,
   "metadata": {},
   "outputs": [],
   "source": [
    "s = outs['dense/samp'].subset_by_value('d2k', 1.5, 5.)\n",
    "outs['near_k'] = corr_with_web(s, use_proj=True)\n",
    "\n",
    "s = outs['dense/samp'].subset_by_value('d2k', 3.)\n",
    "outs['lb_k'] = corr_with_web(s, use_proj=True)"
   ]
  },
  {
   "cell_type": "code",
   "execution_count": null,
   "metadata": {},
   "outputs": [],
   "source": [
    "s = outs['near_k/samp'].subset_by_value('frac_s', hi=.53)\n",
    "outs['less_s'] = corr_with_web(s, use_proj=True)\n",
    "\n",
    "s = outs['near_k/samp'].subset_by_value('frac_s', hi=.5)\n",
    "outs['little_s'] = corr_with_web(s, use_proj=True)"
   ]
  },
  {
   "cell_type": "code",
   "execution_count": null,
   "metadata": {},
   "outputs": [],
   "source": [
    "s = outs['less_s/samp'].subset_by_value('z_half', hi=1.)\n",
    "outs['low_zf'] = corr_with_web(s, use_proj=True)\n",
    "\n",
    "s = outs['less_s/samp'].subset_by_value('z_half', lo=2.)\n",
    "outs['high_zf'] = corr_with_web(s, use_proj=True)"
   ]
  },
  {
   "cell_type": "code",
   "execution_count": null,
   "metadata": {},
   "outputs": [],
   "source": [
    "outs['low_zf/samp']"
   ]
  },
  {
   "cell_type": "code",
   "execution_count": null,
   "metadata": {},
   "outputs": [],
   "source": [
    "fig, axs = plot.subplots((2,2), share=False, space=0.2, subsize=(5., 4.5), margin=[0.1, 0.1, 0.1, 0.1], layout='none')\n",
    "axs_f = axs.flat\n",
    "\n",
    "y_lims = [-10., 100.], [2., 40.], [-1., 5.], [-40., 0.]\n",
    "cs = 'k', 'r', 'r', 'g', 'g', cs_set1[1], cs_set1[1], 'orange', 'orange'\n",
    "lws = 3, 3, 1, 3, 1, 3, 1, 3, 1\n",
    "lss = '-', '-', '-.', '-', '-.', '-', '-.', '-', '-.'\n",
    "y_labs = r'\\rm Galaxy$-$\\rm Knot', r'\\rm Galaxy$-$\\rm Filament', r'\\rm Galaxy$-$\\rm Sheet', r'\\rm Galaxy$-$\\rm Void'\n",
    "for i_web, web_t in enumerate(['k', 'f', 's', 'v']):\n",
    "    ax = axs_f[i_web]\n",
    "    for i_samp, samp in enumerate(['noej', 'dense', 'on_f',\n",
    "                                   'near_k', 'lb_k',\n",
    "                                   'less_s', 'little_s', \n",
    "                                   'low_zf', 'high_zf',\n",
    "        ]):\n",
    "        ax.c(cs[i_samp])\n",
    "        \n",
    "        out = outs[samp][web_t]\n",
    "        x, y, e = out['lg_rs_c', 'wp', 'wp_sd']\n",
    "        kw = dict(lw=lws[i_samp], ls=lss[i_samp], label=samp)\n",
    "        if i_samp == 0 or i_samp == len(lws)-3:\n",
    "            ax.errorbar(x, y, e, **kw)\n",
    "        else:\n",
    "            ax.errorbar(x, y, **kw)\n",
    "\n",
    "    ax.scale(y='symlog').lim(y=y_lims[i_web])\n",
    "    ax.text(y_labs[i_web], (.05, .12))\n",
    "    \n",
    "axs_f[-1].leg(loc='ul', fontsize=13, handlelength=1.75, ncol=2)\n",
    "axs.lim([-0.25, 1.15]).label(r'\\log\\,r_{\\rm p}[h^{-1}{\\rm Mpc}]')\n",
    "axs[:, 0].label(y=r'w_{\\rm p,\\, cross}(r_{\\rm p})\\,[h^{-1}{\\rm Mpc}]')"
   ]
  },
  {
   "cell_type": "code",
   "execution_count": null,
   "metadata": {},
   "outputs": [],
   "source": [
    "fig, axs = plot.subplots((2,3), share=(False,True), space=(0., .2), subsize=(4.5, 4.5), margin=[0.1, 0.1, 0.1, 0.1], layout='none')\n",
    "axs_f = axs.flat\n",
    "\n",
    "x_lims = [0.9, 1.7], [0., 4.5], [-3., 0.], [-3., 0.], [1., 1.5], [-1., 1.] #[1.3, 2.2]\n",
    "logged = False, False, True, True, False, True\n",
    "cs = 'k', 'r', 'g', cs_set1[1], 'orange', 'grey', 'grey'\n",
    "\n",
    "lab_names = r'V_{\\rm max}/V_{\\rm vir}', r'z_{\\rm h,1/2}', r'\\log\\,\\lambda_{\\rm h}', \\\n",
    "    r'\\log\\,\\lambda_{\\rm h,1/2}', r'V_{\\rm peak}/V_{\\rm max}', r'\\rho_5' #r'V_{\\rm max}'\n",
    "\n",
    "for i_quant, quant in enumerate(['v_max2h', 'z_half', 'spin', 'spin_form', 'v_peak2max', 'rho_5']):\n",
    "    ax = axs_f[i_quant]\n",
    "    for i_samp, samp in enumerate(['noej', 'dense', 'near_k', 'less_s', 'low_zf']):\n",
    "        x = outs[samp]['samp'][quant]\n",
    "        if logged[i_quant]:\n",
    "            x = Num.safe_lg(x)\n",
    "        ax.c(cs[i_samp])\n",
    "        ax.hist(x, range=x_lims[i_quant], bins=32, log=True, density=True, lw=2)\n",
    "        med, std = np.median(x), np.std(x)\n",
    "        ax.text(r'($%s$)\\ %.2f\\pm%.2f'%(samp, med, std), (.95, .95-i_samp*.06), color=cs[i_samp], ha='right', fontsize=12)\n",
    "        \n",
    "    ax.label(lab_names[i_quant])\n",
    "    \n",
    "axs_f.lim(y=[0.01, 100])\n",
    "axs[:, 0].label(y=r'\\rm PDF')"
   ]
  },
  {
   "cell_type": "code",
   "execution_count": null,
   "metadata": {},
   "outputs": [],
   "source": [
    "fig, axs = plot.subplots((2,3), share=(False,True), space=(0., .2), subsize=(4.5, 4.5), margin=[0.1, 0.1, 0.1, 0.1], layout='none')\n",
    "axs_f = axs.flat\n",
    "\n",
    "x_lims = [0.9, 1.7], [0., 4.5], [-3., 0.], [-3., 0.], [1., 1.5], [-1., 1.]\n",
    "logged = False, False, True, True, False, True\n",
    "cs = 'k', 'r', 'g', cs_set1[1], 'orange', 'grey', 'grey'\n",
    "\n",
    "lab_names = r'V_{\\rm max}/V_{\\rm vir}', r'z_{\\rm h,1/2}', r'\\log\\,\\lambda_{\\rm h}', \\\n",
    "    r'\\log\\,\\lambda_{\\rm h,1/2}', r'V_{\\rm peak}/V_{\\rm max}', r'V_{\\rm max}'\n",
    "\n",
    "for i_quant, quant in enumerate(['v_max2h', 'z_half', 'spin', 'spin_form', 'v_peak2max', 'rho_5']):\n",
    "    ax = axs_f[i_quant]\n",
    "    for i_samp, samp in enumerate(['all', 'dense', 'near_k', 'less_s', 'low_zf']):\n",
    "        x = outs_with_ej[samp]['samp'][quant]\n",
    "        if logged[i_quant]:\n",
    "            x = Num.safe_lg(x)\n",
    "        ax.c(cs[i_samp])\n",
    "        ax.hist(x, range=x_lims[i_quant], bins=32, log=True, density=True, lw=2)\n",
    "        med, std = np.median(x), np.std(x)\n",
    "        ax.text(r'($%s$)\\ %.2f\\pm%.2f'%(samp, med, std), (.95, .95-i_samp*.06), color=cs[i_samp], ha='right', fontsize=12)\n",
    "        \n",
    "    ax.label(lab_names[i_quant])\n",
    "    \n",
    "axs_f.lim(y=[0.01, 100])\n",
    "axs[:, 0].label(y=r'\\rm PDF')"
   ]
  },
  {
   "cell_type": "code",
   "execution_count": null,
   "metadata": {},
   "outputs": [],
   "source": [
    "h = sim_info.cosmology.hubble\n",
    "s_hs =  [\n",
    "    s_all.subset_by_value('m_crit200', 10**1.5 * h, 10**2.5 * h),\n",
    "    s_c.subset_by_value('m_crit200', 10**3. * h, 10**10. * h)\n",
    "]"
   ]
  },
  {
   "cell_type": "code",
   "execution_count": null,
   "metadata": {},
   "outputs": [],
   "source": [
    "outs_wp_gal = DataDict() \n",
    "proj_cross_kw = dict(rs=np.logspace(-2., 1.2, 26), n_max_rand=None, n_repeat=20, n_threads=8)"
   ]
  },
  {
   "cell_type": "code",
   "execution_count": null,
   "metadata": {},
   "outputs": [],
   "source": [
    "for k in 'low_zf',: #,'noej', 'dense', 'near_k', 'less_s':\n",
    "    outs_wp_gal[k] = cls_ref.proj_cross(outs[f'{k}/samp'], **proj_cross_kw)"
   ]
  },
  {
   "cell_type": "code",
   "execution_count": null,
   "metadata": {},
   "outputs": [],
   "source": [
    "k = 'h12'\n",
    "outs_wp_gal[k] = cls_ref.proj_cross(s_hs[0], **proj_cross_kw)\n",
    "\n",
    "k = 'h13'\n",
    "outs_wp_gal[k] = cls_ref.proj_cross(s_hs[1], **proj_cross_kw)"
   ]
  },
  {
   "cell_type": "code",
   "execution_count": null,
   "metadata": {},
   "outputs": [],
   "source": [
    "fig, ax = plot.subplots(1, figsize=5.5, \n",
    "                        margin=[0.1, 0.1, 0.1, 0.1], layout='none')\n",
    "\n",
    "cs = 'k', 'r', 'g', cs_set1[1], 'orange', 'grey', 'grey'\n",
    "lws = 3, 3, 3, 3, 3, 3, 1\n",
    "for i_samp, samp in enumerate(['noej', 'dense', 'near_k', 'less_s', 'low_zf', \n",
    "                               'h12', 'h13']):\n",
    "    out = outs_wp_gal[samp]\n",
    "    x, y, e = out['lg_rs_c', 'wp', 'wp_sd']\n",
    "    kw = dict(lw=lws[i_samp], label=samp)\n",
    "    ax.c(cs[i_samp])\n",
    "    ax.errorbar(x, y, e, **kw)\n",
    "    \n",
    "ax.scale(y='log').leg(loc='ll', fontsize=13, handlelength=1.75, ncol=2)\\\n",
    "    .label(r'\\log\\, r_{\\rm p}\\,[h^{-1}{\\rm Mpc}]',r'w_{\\rm p}(r_{\\rm p})\\,[h^{-1}{\\rm Mpc}]')"
   ]
  },
  {
   "cell_type": "code",
   "execution_count": null,
   "metadata": {},
   "outputs": [],
   "source": [
    "fig, axs = plot.subplots((2,2), share=False, \n",
    "                         space=0.2, subsize=(5., 4.5), margin=[0.1, 0.1, 0.1, 0.1], layout='none')\n",
    "axs_f = axs.flat\n",
    "\n",
    "cs = 'k', 'r', 'g', cs_set1[1], 'orange', 'grey', 'grey'\n",
    "lws = 3, 3, 3, 3, 3, 3, 1\n",
    "for i_samp, samp in enumerate(['noej', 'dense', 'near_k', 'less_s', 'low_zf']):\n",
    "    s = outs[samp]['samp']\n",
    "    for i_web, web_t in enumerate(['k', 'f', 's', 'v']):\n",
    "        ax = axs_f[i_web]\n",
    "        x = s[f'frac_{web_t}']  \n",
    "        ax.c(cs[i_samp]).hist(x, bins=30, log=True, fc='none', lw=3,\n",
    "                              label=samp)\n",
    "        ax.label(r'f_{\\rm %s}(<10\\,h^{-1}{\\rm Mpc})'%web_t)\n",
    "        \n",
    "axs_f[0].leg(loc='ur', fontsize=13)\n",
    "axs.lim(y=[1.0, 1.0e5])\n",
    "axs[:, 0].label(y=r'\\rm Count')"
   ]
  },
  {
   "cell_type": "code",
   "execution_count": null,
   "metadata": {},
   "outputs": [],
   "source": [
    "def show_map(samps = ['noej', 'dense', 'near_k', 'less_s', 'low_zf', 'high_zf'], map = f_interp._data, \n",
    "             field_type='density'):\n",
    "    fig, axs = plot.subplots((2, 3), share=True, space=0, \n",
    "        subsize=(6.25, 6.25), margin=[.03, .01, .04, .06], layout='none')\n",
    "    axs_f = axs.flat\n",
    "\n",
    "    l_grid = clsf.mesh.l_grid\n",
    "    l_box = sim_info.box_size\n",
    "\n",
    "    z0 = 100.\n",
    "    z1 = z0 + 10.\n",
    "    dz = 1.\n",
    "\n",
    "    zi0, zi1 = int((z0-dz) / l_grid), int((z1+dz) / l_grid)\n",
    "    if field_type == 'density':\n",
    "        im = Num.safe_lg(map[:, :, zi0:zi1].max(-1))\n",
    "        im_1, im_2 = np.quantile(im, [0.01, .99])\n",
    "    else:\n",
    "        im = map[:, :, zi0:zi1].sum(-1) >= 1\n",
    "        im_1, im_2 = 0., 2.\n",
    "\n",
    "    cs = 'k', 'r', 'g', cs_set1[1], 'orange', 'grey', 'grey'\n",
    "    lws = 3, 3, 3, 3, 3, 3, 1\n",
    "    for i_samp, samp in enumerate(samps):\n",
    "        s = outs[samp]['samp']\n",
    "        X = s['x']\n",
    "        x, y, z = X.T\n",
    "        sel = (z >= z0) & (z <= z1)\n",
    "        x, y = x[sel], y[sel]\n",
    "        n_x = x.size\n",
    "        print(x.size)\n",
    "        \n",
    "        ax = axs_f[i_samp]\n",
    "        ax._raw.imshow(im.T, origin='lower', \n",
    "                        extent=[0., l_box, 0., l_box], \n",
    "                        cmap='Greys', vmin=im_1, vmax=im_2, aspect='auto')\n",
    "        \n",
    "        ax.scatter(x, y, s=(20 if n_x > 2000 else 100), fc='none', ec='b', marker='*', alpha=1, label=samp, \n",
    "                    rasterized=True, linewidths=1.)\n",
    "            \n",
    "    axs.lim([0., l_box], [0., l_box])\n",
    "    axs.label(x=r'x\\,[h^{-1}{\\rm Mpc}]', y=r'y\\,[h^{-1}{\\rm Mpc}]').label_outer()\n",
    "    axs.leg(loc='ur', fontsize=20, frameon=True, framealpha=0.9)\n",
    "    \n",
    "show_map()\n",
    "show_map(map=clsf.is_filament, field_type='tidal')"
   ]
  },
  {
   "cell_type": "markdown",
   "metadata": {},
   "source": [
    "## Web - z_form correlation"
   ]
  },
  {
   "cell_type": "code",
   "execution_count": null,
   "metadata": {},
   "outputs": [],
   "source": [
    "path = ProjPaths.sim_dir_of(sim_info) / 'tidal_field.99.sm2.hdf5'\n",
    "with h5.File(path) as f:\n",
    "    clsf = cubic_box.TidalClassifier.new_from_file(f, lam_th=0.)"
   ]
  },
  {
   "cell_type": "code",
   "execution_count": null,
   "metadata": {},
   "outputs": [],
   "source": [
    "sim_info = sims.predefined['tng_dark_300_1']\n",
    "s_all = sample.SimSample.load(sim_info, 'z0_cent.hdf5').requires_spin()\\\n",
    "    .requires_assembly().requires_dist_to_halos().requires_disk().requires_cosmic_type(clsf)\n",
    "s_c = s_all\n",
    "s_all"
   ]
  },
  {
   "cell_type": "code",
   "execution_count": null,
   "metadata": {},
   "outputs": [],
   "source": [
    "s_filament = sample.SubhaloSet.from_cosmic_web(clsf, sim_info, 'filament')\n",
    "cls_filament = clustering.Clustering(s_filament)"
   ]
  },
  {
   "cell_type": "code",
   "execution_count": null,
   "metadata": {},
   "outputs": [],
   "source": [
    "s_knot = sample.SubhaloSet.from_cosmic_web(clsf, sim_info, 'knot')\n",
    "cls_knot = clustering.Clustering(s_knot)"
   ]
  },
  {
   "cell_type": "code",
   "execution_count": null,
   "metadata": {},
   "outputs": [],
   "source": [
    "s_c = s_all\n",
    "\n",
    "m_s_min = 10**(-2.5 - 0.15)\n",
    "s_dwarf = s_c.subset_by_value('m_s_pred', lo=m_s_min, hi=10**-1.15)\n",
    "\n",
    "s_noej = s_dwarf.subset_by_value('last_sat_z', lo=15.)\n",
    "s_ej = s_dwarf.subset_by_value('last_sat_z', hi=1.5)"
   ]
  },
  {
   "cell_type": "code",
   "execution_count": null,
   "metadata": {},
   "outputs": [],
   "source": [
    "s_noejhizf = s_noej.subset_by_value('z_half', 3., 15.)"
   ]
  },
  {
   "cell_type": "code",
   "execution_count": null,
   "metadata": {},
   "outputs": [],
   "source": [
    "s_noejlozf = s_noej.subset_by_value('z_half', .9 , 1.)"
   ]
  },
  {
   "cell_type": "code",
   "execution_count": null,
   "metadata": {},
   "outputs": [],
   "source": [
    "out_corr = DataDict()\n",
    "cls_kw = dict(n_threads=4, rs=np.logspace(-0.3, 1.0, 15), n_repeat=10)"
   ]
  },
  {
   "cell_type": "code",
   "execution_count": null,
   "metadata": {},
   "outputs": [],
   "source": [
    "cls = cls_filament.proj_cross\n",
    "\n",
    "s = s_noejhizf\n",
    "out_corr['noej_hizf_f'] = cls(s, **cls_kw)\n",
    "\n",
    "s = s_noejlozf\n",
    "out_corr['noej_lozf_f'] = cls(s, **cls_kw)\n",
    "\n",
    "s = s_ej\n",
    "out_corr['ej_f'] = cls(s, **cls_kw)"
   ]
  },
  {
   "cell_type": "code",
   "execution_count": null,
   "metadata": {},
   "outputs": [],
   "source": [
    "cls = cls_knot.proj_cross\n",
    "\n",
    "s = s_noejhizf\n",
    "out_corr['noej_hizf_k'] = cls(s, **cls_kw)\n",
    "\n",
    "s = s_noejlozf\n",
    "out_corr['noej_lozf_k'] = cls(s, **cls_kw)\n",
    "\n",
    "s = s_ej\n",
    "out_corr['ej_k'] = cls(s, **cls_kw)"
   ]
  },
  {
   "cell_type": "code",
   "execution_count": null,
   "metadata": {},
   "outputs": [],
   "source": [
    "fig, axs = plot.subplots((2,1), share=(True, False), \n",
    "    figsize=(6., 7.), space=0,\n",
    "    margin=[.02, .02, .08, .14], layout='none')\n",
    "axs_f = axs.flat\n",
    "\n",
    "\n",
    "webs = 'f', 'k'\n",
    "\n",
    "samps = 'ej', 'noej_hizf', 'noej_lozf'\n",
    "cs = 'k', cs_set1[1], cs_set1[0]\n",
    "labs = r'${\\rm Ejected}$', r'${\\rm NoEj}\\,(z_{\\rm h,1/2} > 3.)$', r'${\\rm NoEj}\\,(0.9 < z_{\\rm h,1/2} < 1.0)$'\n",
    "\n",
    "for i_web, web in enumerate(webs):\n",
    "    ax = axs_f[i_web]\n",
    "    for i_samp, samp in enumerate(samps):\n",
    "        ax.c(cs[i_samp])\n",
    "        k = f'{samp}_{web}'\n",
    "        #x, y, e = out_corr[k]['lg_rs_c', 'xi', 'xi_sd']\n",
    "        x, y, e = out_corr[k]['lg_rs_c', 'wp', 'wp_sd']\n",
    "        ax.errorfill(x, y, yerr=e, label=labs[i_samp], \n",
    "                     fill_between_kw={'lw': 1.})\n",
    "        \n",
    "axs.scale(y='log')\n",
    "#axs[0].lim([-0.2, 1.15], [0.1, 2.]).label(y=r'\\xi_{\\rm g, filament}(r)').leg(loc='ll')\n",
    "#axs[1].lim(y=[0.1, 30.]).label(r'\\log\\, r\\,[h^{-1}{\\rm Mpc}]',\n",
    "#                         r'\\xi_{\\rm g, knot}(r)')\n",
    "\n",
    "# ProjPaths.save_fig('tng_dark_300_xi_to_cosmic_web.pdf')\n",
    "#ProjPaths.save_fig('tng_dark_300_wp_to_cosmic_web.pdf')"
   ]
  },
  {
   "cell_type": "code",
   "execution_count": null,
   "metadata": {},
   "outputs": [],
   "source": [
    "def regr(x: np.ndarray, xp: np.ndarray, stats_kw: dict):\n",
    "    return stats.KernelRegression1D.by_local_kernel(x, x, xp, reduce='count', **stats_kw)['y'][0]\n",
    "\n",
    "def get_fsel(x: np.ndarray, sel: np.ndarray, x_range=[0., 1.], max_dx=.2, kernel=.1):\n",
    "    x_sel = x[sel]\n",
    "    xp = np.linspace(*x_range, 64)\n",
    "    stats_kw = dict(max_dx=max_dx, kernel=kernel)\n",
    "    y = regr(x, xp, stats_kw=stats_kw)\n",
    "    y_sel = regr(x_sel, xp, stats_kw=stats_kw)\n",
    "    f = Num.safe_div(y_sel, y)\n",
    "    return DataDict({'x': xp, 'f': f})"
   ]
  },
  {
   "cell_type": "code",
   "execution_count": null,
   "metadata": {},
   "outputs": [],
   "source": [
    "outs = DataDict()\n",
    "\n",
    "z, is_f, is_n = s_noej['z_half', 'is_filament', 'is_knot']\n",
    "x_t = np.log10(1. + z)\n",
    "\n",
    "outs['noej_f'] = get_fsel(x_t, is_f, max_dx=.3, kernel=.15)\n",
    "outs['noej_k'] = get_fsel(x_t, is_n, max_dx=.3, kernel=.15)\n",
    "\n",
    "z, is_f, is_n = s_ej['z_half', 'is_filament', 'is_knot']\n",
    "x_t = np.log10(1. + z)\n",
    "\n",
    "outs['ej_f'] = get_fsel(x_t, is_f, max_dx=.3, kernel=.15)\n",
    "outs['ej_k'] = get_fsel(x_t, is_n, max_dx=.3, kernel=.15)"
   ]
  },
  {
   "cell_type": "code",
   "execution_count": null,
   "metadata": {},
   "outputs": [],
   "source": [
    "fig, ax = plot.subplots(1, figsize=(6., 5.0), margin=[.1, .03, .12, .12], layout='none')\n",
    "\n",
    "labs_i = r'Filaments', r'Knots'\n",
    "labs_j = r'NoEj', r'Ejected'\n",
    "\n",
    "ax.fmt_line(lw=5)\n",
    "\n",
    "iks = 'f', 'k'\n",
    "lss = '-', (0,(1,1))\n",
    "lws = 1.5, 6\n",
    "\n",
    "jks = 'noej', 'ej'\n",
    "cs = cs_set1[1], cs_set1[0]\n",
    "\n",
    "for i in range(2):\n",
    "    ik, ilab = iks[i], labs_i[i]\n",
    "    for j in range(2):\n",
    "        jk, jlab = jks[j], labs_j[j]\n",
    "        x, f = outs[f'{jk}_{ik}']['x', 'f']\n",
    "        ax.plot(x, f, label=r'$\\rm %s\\, (%s)$'%(ilab, jlab), \n",
    "                lw=lws[i], ls=lss[i], c=cs[j])\n",
    "\n",
    "ax._raw.fill_betweenx([-1., 2.], [0.6, 0.6], [1., 1.], color=cs[0], \n",
    "                      zorder=-10, alpha=.2, lw=0)\n",
    "ax.text(r'\\rm Diffuse\\ dwarf\\ candidate', \n",
    "        (.99, .92), ha='right', color=cs[0], fontsize=14)\n",
    "\n",
    "astro.plot.Axes(ax).add_secondary_axis_lgzp1_to_z(label=r'$z_{\\rm h,1/2}$')\n",
    "ax.lim([0., 1.], [0., 1.]).label(r'\\log\\,(1+z_{\\rm h,1/2})', r'f_{\\rm web\\ type}')\n",
    "ax.leg(loc='ul', title=r'$\\bf Web\\ type$', labelcolor='linecolor')\n",
    "\n",
    "ProjPaths.save_fig('f_web_type_vs_z_f.pdf')"
   ]
  },
  {
   "cell_type": "markdown",
   "metadata": {},
   "source": [
    "## Halo views"
   ]
  },
  {
   "cell_type": "code",
   "execution_count": null,
   "metadata": {},
   "outputs": [],
   "source": [
    "path = ProjPaths.sim_dir_of(sim_info) / 'tidal_field.99.sm2.hdf5'\n",
    "with h5.File(path) as f:\n",
    "    clsf = cubic_box.TidalClassifier.new_from_file(f, lam_th=0.)"
   ]
  },
  {
   "cell_type": "code",
   "execution_count": null,
   "metadata": {},
   "outputs": [],
   "source": [
    "path = ProjPaths.sim_dir_of(sim_info) / 'tidal_field.99.sm1.hdf5'\n",
    "with h5.File(path) as f:\n",
    "    f_interp = cubic_box.cosmic_web.FieldInterpolator.new_density_field_from_file(\n",
    "        f)\n",
    "f_interp"
   ]
  },
  {
   "cell_type": "code",
   "execution_count": null,
   "metadata": {},
   "outputs": [],
   "source": [
    "sim_info = sims.predefined['tng_dark_300_1']\n",
    "s_all = sample.SimSample.load(sim_info, 'z0_cent.hdf5').requires_spin().requires_assembly().requires_dist_to_halos().requires_disk()\n",
    "s_all"
   ]
  },
  {
   "cell_type": "code",
   "execution_count": null,
   "metadata": {},
   "outputs": [],
   "source": [
    "s_c = s_all"
   ]
  },
  {
   "cell_type": "code",
   "execution_count": null,
   "metadata": {},
   "outputs": [],
   "source": [
    "m_s_min = 10**(-2.5 - 0.15)\n",
    "s_dwarf = s_c.subset_by_value('m_s_pred', lo=m_s_min, hi=10**-1.15)\n",
    "s_noej = s_dwarf.subset_by_value('last_sat_z', lo=15.)"
   ]
  },
  {
   "cell_type": "code",
   "execution_count": null,
   "metadata": {},
   "outputs": [],
   "source": [
    "s_noej_zf3 = s_noej.subset_by_value('z_half', 2.75, 15.)\n",
    "s_noej_zfl2 = s_noej.subset_by_value('z_half', 0.9, 1.)\n",
    "\n",
    "s_noej_zf3, s_noej_zfl2"
   ]
  },
  {
   "cell_type": "code",
   "execution_count": null,
   "metadata": {},
   "outputs": [],
   "source": [
    "h = sim_info.cosmology.hubble\n",
    "s_hs =  [\n",
    "    s_c.subset_by_value('m_h', 10**1.5 * h, 10**2.5 * h),\n",
    "    s_c.subset_by_value('m_h', 10**3. * h, 10**10. * h)\n",
    "]"
   ]
  },
  {
   "cell_type": "code",
   "execution_count": null,
   "metadata": {},
   "outputs": [],
   "source": [
    "fig, axs = plot.subplots((3,2), share=True, space=0, \n",
    "    subsize=(6.25, 6.25), margin=[.03, .01, .04, .06], layout='none')\n",
    "axs_f = axs.flat\n",
    "\n",
    "l_grid = f_interp._shape_fn.mesh.l_grid\n",
    "l_box = sim_info.box_size\n",
    "    \n",
    "z0s = [20., 100., 180.]\n",
    "cs = 'b', 'r'\n",
    "labs = r'$z_{\\rm h,1/2} > 2.75$', r'$ 0.9 \\leqslant z_{\\rm h,1/2} < 1$'\n",
    "for i_z, z0 in enumerate(z0s):\n",
    "    z1 = z0 + 10.0\n",
    "    dz = 0.    \n",
    "    zi0, zi1 = int((z0-dz) / l_grid), int((z1+dz) / l_grid)\n",
    "    im = Num.safe_lg(f_interp._data[:, :, zi0:zi1].max(-1))\n",
    "    im_1, im_2 = np.quantile(im, [0.01, 0.99])\n",
    "\n",
    "    for i, s_g in enumerate([s_noej_zf3, s_noej_zfl2]):\n",
    "        x, y, z = s_g['x'].T\n",
    "        sel = (z >= z0) & (z <= z1)\n",
    "        x, y = x[sel], y[sel]\n",
    "\n",
    "        s = (s_g['r_h'][sel])**1. * 2200.\n",
    "        \n",
    "        ax = axs[i_z, i]\n",
    "                \n",
    "        ax._raw.imshow(im.T, origin='lower', \n",
    "                    extent=[0., l_box, 0., l_box], \n",
    "                    cmap='Greys', vmin=im_1, vmax=im_2, aspect='auto')\n",
    "        \n",
    "        ax.scatter(x, y, s=s, fc='none', ec=cs[i], marker='*', alpha=1, label=labs[i], \n",
    "                rasterized=True, zorder=100, linewidths=1.)\n",
    "        \n",
    "        if i_z == 0:\n",
    "            ax._raw.set_title(labs[i], color=cs[i])        \n",
    "\n",
    "axs.lim([0., l_box], [0., l_box])\n",
    "axs.label(x=r'x\\,[h^{-1}{\\rm Mpc}]', y=r'y\\,[h^{-1}{\\rm Mpc}]').label_outer();\n",
    "\n",
    "ProjPaths.save_fig('tng_dark_300_map_with_density_field.pdf')"
   ]
  },
  {
   "cell_type": "code",
   "execution_count": null,
   "metadata": {},
   "outputs": [],
   "source": [
    "fig, axs = plot.subplots((3,2), share=True, space=0, \n",
    "    subsize=(6.25, 6.25), margin=[.03, .01, .04, .06], layout='none')\n",
    "axs_f = axs.flat\n",
    "\n",
    "l_grid = f_interp._shape_fn.mesh.l_grid\n",
    "l_box = sim_info.box_size\n",
    "    \n",
    "z0s = [20., 100., 180.]\n",
    "cs = 'b', 'r'\n",
    "labs = r'$z_{\\rm h,1/2} > 2.75$', r'$ 0.9 \\leqslant z_{\\rm h,1/2} < 1$'\n",
    "for i_z, z0 in enumerate(z0s):\n",
    "    z1 = z0 + 10.0\n",
    "    dz = 0.    \n",
    "    zi0, zi1 = int((z0-dz) / l_grid), int((z1+dz) / l_grid)\n",
    "    im = Num.safe_lg(f_interp._data[:, :, zi0:zi1].max(-1))\n",
    "    im_1, im_2 = np.quantile(im, [0.01, 0.99])\n",
    "\n",
    "    for i, s_g in enumerate([s_highzf, s_dwarf]):\n",
    "        x, y, z = s_g['x'].T\n",
    "        sel = (z >= z0) & (z <= z1)\n",
    "        x, y = x[sel], y[sel]\n",
    "\n",
    "        s = (s_g['r_h'][sel])**1. * 2200.\n",
    "        \n",
    "        ax = axs[i_z, i]\n",
    "                \n",
    "        ax._raw.imshow(im.T, origin='lower', \n",
    "                    extent=[0., l_box, 0., l_box], \n",
    "                    cmap='Greys', vmin=im_1, vmax=im_2, aspect='auto')\n",
    "        \n",
    "        ax.scatter(x, y, s=s, fc='none', ec=cs[i], marker='*', alpha=1, label=labs[i], \n",
    "                rasterized=True, zorder=100, linewidths=1.)\n",
    "        \n",
    "        if i_z == 0:\n",
    "            ax._raw.set_title(labs[i], color=cs[i])        \n",
    "\n",
    "axs.lim([0., l_box], [0., l_box])\n",
    "axs.label(x=r'x\\,[h^{-1}{\\rm Mpc}]', y=r'y\\,[h^{-1}{\\rm Mpc}]').label_outer();\n",
    "\n",
    "#ProjPaths.save_fig('tng_dark_300_map_with_density_field.pdf???')"
   ]
  },
  {
   "cell_type": "code",
   "execution_count": null,
   "metadata": {},
   "outputs": [],
   "source": [
    "fig, axs = plot.subplots((3,2), share=True, space=0, \n",
    "    subsize=(6.25, 6.25), margin=[.03, .01, .04, .06], layout='none')\n",
    "axs_f = axs.flat\n",
    "\n",
    "l_grid = clsf.mesh.l_grid\n",
    "l_box = sim_info.box_size\n",
    "    \n",
    "z0s = [20., 100., 180.]\n",
    "cs = 'b', 'r'\n",
    "labs = r'$z_{\\rm h,1/2} > 2.75$', r'$ 0.9 \\leqslant z_{\\rm h,1/2} < 1$'\n",
    "for i_z, z0 in enumerate(z0s):\n",
    "    z1 = z0 + 10.0\n",
    "    dz = 5.    \n",
    "    zi0, zi1 = int((z0-dz) / l_grid), int((z1+dz) / l_grid)\n",
    "    im = clsf.is_filament[:, :, zi0:zi1].sum(-1) >= 1\n",
    "    #im = clsf.is_filament[:, :, zi0:zi1]\n",
    "    #im = im.sum(-1) / im.shape[-1]\n",
    "\n",
    "    for i, s_g in enumerate([s_highzf, s_dwarf]):\n",
    "        x, y, z = s_g['x'].T\n",
    "        sel = (z >= z0) & (z <= z1)\n",
    "        x, y = x[sel], y[sel]\n",
    "\n",
    "        s = (s_g['r_h'][sel])**1. * 800.\n",
    "        \n",
    "        ax = axs[i_z, i]\n",
    "                \n",
    "        ax._raw.imshow(im.T, origin='lower', \n",
    "                    extent=[0., l_box, 0., l_box], \n",
    "                    cmap='Greys', vmin=0., vmax=2., aspect='auto')\n",
    "        \n",
    "        ax.scatter(x, y, s=s, fc=cs[i], ec=cs[i], marker='*', alpha=1, label=labs[i], \n",
    "                rasterized=True, zorder=100)\n",
    "        \n",
    "        if i_z == 0:\n",
    "            ax._raw.set_title(labs[i], color=cs[i])        \n",
    "\n",
    "axs.lim([0., l_box], [0., l_box])\n",
    "axs.label(x=r'x\\,[h^{-1}{\\rm Mpc}]', y=r'y\\,[h^{-1}{\\rm Mpc}]').label_outer();\n",
    "\n",
    "#ProjPaths.save_fig('tng_dark_300_map_with_cosmic_web.pdf??')"
   ]
  },
  {
   "cell_type": "code",
   "execution_count": null,
   "metadata": {},
   "outputs": [],
   "source": [
    "fig, axs = plot.subplots((3,2), share=True, space=0, \n",
    "    subsize=(6.25, 6.25), margin=[.03, .01, .04, .06], layout='none')\n",
    "axs_f = axs.flat\n",
    "\n",
    "l_grid = clsf.mesh.l_grid\n",
    "l_box = sim_info.box_size\n",
    "    \n",
    "z0s = [20., 100., 180.]\n",
    "cs = 'b', 'r'\n",
    "labs = r'$z_{\\rm h,1/2} > 2.75$', r'$ 0.9 \\leqslant z_{\\rm h,1/2} < 1$'\n",
    "for i_z, z0 in enumerate(z0s):\n",
    "    z1 = z0 + 10.0\n",
    "    dz = 2.    \n",
    "    zi0, zi1 = int((z0-dz) / l_grid), int((z1+dz) / l_grid)\n",
    "    im = clsf.is_sheet[:, :, zi0:zi1].sum(-1) >= 1\n",
    "\n",
    "    for i, s_g in enumerate([s_cand, s_dwarf]):\n",
    "        x, y, z = s_g['x'].T\n",
    "        sel = (z >= z0) & (z <= z1)\n",
    "        x, y = x[sel], y[sel]\n",
    "\n",
    "        s = (s_g['r_h'][sel])**1. * 800.\n",
    "        \n",
    "        ax = axs[i_z, i]\n",
    "                \n",
    "        ax._raw.imshow(im.T, origin='lower', \n",
    "                    extent=[0., l_box, 0., l_box], \n",
    "                    cmap='Greys', vmin=0., vmax=2., aspect='auto')\n",
    "        \n",
    "        ax.scatter(x, y, s=s, fc=cs[i], ec=cs[i], marker='*', alpha=1, label=labs[i], \n",
    "                rasterized=True, zorder=100)\n",
    "        \n",
    "        if i_z == 0:\n",
    "            ax._raw.set_title(labs[i], color=cs[i])        \n",
    "\n",
    "axs.lim([0., l_box], [0., l_box])\n",
    "axs.label(x=r'x\\,[h^{-1}{\\rm Mpc}]', y=r'y\\,[h^{-1}{\\rm Mpc}]').label_outer();\n",
    "\n",
    "#ProjPaths.save_fig('tng_dark_300_map_with_cosmic_web.pdf??')"
   ]
  },
  {
   "cell_type": "code",
   "execution_count": null,
   "metadata": {},
   "outputs": [],
   "source": [
    "fig, axs = plot.subplots((3,2), share=True, space=0, \n",
    "    subsize=(6.25, 6.25), margin=[.03, .01, .04, .06], layout='none')\n",
    "axs_f = axs.flat\n",
    "\n",
    "l_grid = clsf.mesh.l_grid\n",
    "l_box = sim_info.box_size\n",
    "    \n",
    "z0s = [20., 100., 180.]\n",
    "cs = 'b', 'r'\n",
    "labs = r'$z_{\\rm h,1/2} > 2.75$', r'$ 0.9 \\leqslant z_{\\rm h,1/2} < 1$'\n",
    "for i_z, z0 in enumerate(z0s):\n",
    "    z1 = z0 + 10.0\n",
    "    dz = 0.    \n",
    "    zi0, zi1 = int((z0-dz) / l_grid), int((z1+dz) / l_grid)\n",
    "    im = clsf.is_filament[:, :, zi0:zi1].sum(-1) >= 1\n",
    "\n",
    "    for i, s_g in enumerate([s_noej_zf3, s_noej_zfl2]):\n",
    "        x, y, z = s_g['x'].T\n",
    "        sel = (z >= z0) & (z <= z1)\n",
    "        x, y = x[sel], y[sel]\n",
    "\n",
    "        s = (s_g['r_h'][sel])**1. * 800.\n",
    "        \n",
    "        ax = axs[i_z, i]\n",
    "                \n",
    "        ax._raw.imshow(im.T, origin='lower', \n",
    "                    extent=[0., l_box, 0., l_box], \n",
    "                    cmap='Greys', vmin=0., vmax=2., aspect='auto')\n",
    "        \n",
    "        ax.scatter(x, y, s=s, fc=cs[i], ec=cs[i], marker='*', alpha=1, label=labs[i], \n",
    "                rasterized=True, zorder=100)\n",
    "        \n",
    "        if i_z == 0:\n",
    "            ax._raw.set_title(labs[i], color=cs[i])        \n",
    "\n",
    "axs.lim([0., l_box], [0., l_box])\n",
    "axs.label(x=r'x\\,[h^{-1}{\\rm Mpc}]', y=r'y\\,[h^{-1}{\\rm Mpc}]').label_outer();\n",
    "\n",
    "ProjPaths.save_fig('tng_dark_300_map_with_cosmic_web.pdf')"
   ]
  },
  {
   "cell_type": "code",
   "execution_count": null,
   "metadata": {},
   "outputs": [],
   "source": [
    "fig, axs = plot.subplots((2,2), share=True, space=0.02, subsize=8, margin=[.025, .025, .045, .045], layout='none')\n",
    "axs_f = axs.flat\n",
    "\n",
    "z0, z1 = 20., 50.\n",
    "\n",
    "for i, s_h in enumerate(s_hs):\n",
    "    \n",
    "    x, y, z = s_h['x'].T\n",
    "    sel = (z >= z0 - 5.) & (z <= z1 + 5.)\n",
    "    x, y = x[sel], y[sel]\n",
    "\n",
    "    s = (s_h['r_h'][sel])**1. * 300.\n",
    "    for j in range(2):\n",
    "        ax = axs[j,i]\n",
    "        ax.scatter(x, y, s=s, c='grey', alpha=.65, ec='none', rasterized=True)\n",
    "    \n",
    "cs = 'b', 'r'\n",
    "labs = r'$z_{\\rm h,1/2} > 2.75$', r'$ 0.9 \\leqslant z_{\\rm h,1/2} < 1$'\n",
    "for i, s_g in enumerate([s_noej_zf3, s_noej_zfl2]):\n",
    "    x, y, z = s_g['x'].T\n",
    "    sel = (z >= z0) & (z <= z1)\n",
    "    x, y = x[sel], y[sel]\n",
    "\n",
    "    s = (s_g['r_h'][sel])**1. * 800.\n",
    "    for j in range(2):\n",
    "        ax = axs[i, j]\n",
    "        ax.scatter(x, y, s=s, fc=cs[i], ec=cs[i], marker='*', alpha=1, label=labs[i], rasterized=True)\n",
    "        \n",
    "l_box = sim_info.box_size\n",
    "ax.lim([0., l_box], [0., l_box])\n",
    "\n",
    "axs[0,0]._raw.set_title(r'${\\rm Halos},\\,11.5 \\leqslant \\log\\,M_{\\rm h}/M_\\odot<12.5$')\n",
    "axs[0,1]._raw.set_title(r'${\\rm Halos},\\,13 \\leqslant \\log\\,M_{\\rm h}/M_\\odot $')\n",
    "axs.label(x=r'x\\,[h^{-1}{\\rm Mpc}]', y=r'y\\,[h^{-1}{\\rm Mpc}]').label_outer()\n",
    "for ax in axs[:, 0]:\n",
    "    ax.leg(loc='ul', labelcolor='mec', scatterpoints=1, \n",
    "           markerscale=2.5, fontsize=18, facecolor='white', frameon=True)\n",
    "ProjPaths.save_fig('tng_dark_300_map.pdf')"
   ]
  },
  {
   "cell_type": "markdown",
   "metadata": {},
   "source": [
    "### Output catalogs"
   ]
  },
  {
   "cell_type": "code",
   "execution_count": null,
   "metadata": {},
   "outputs": [],
   "source": [
    "s_diffuse_candidate = s_noej.subset_by_value('z_half', 3., 15.)\n",
    "out_keys = 'subhalo_id', 'subfind_id', 'm_crit200', 'm_s_pred', 'z_half'\n",
    "out_dict = {k: s_diffuse_candidate[k] for k in out_keys}\n",
    "out_df = pd.DataFrame(out_dict)\n",
    "out_path = ProjPaths.sim_dir_of(sim_info) / 'diffuse_candidate.txt'\n",
    "out_df.to_csv(out_path, index=False, header=False)\n",
    "out_df.columns"
   ]
  },
  {
   "cell_type": "markdown",
   "metadata": {},
   "source": [
    "# TNG-Dark"
   ]
  },
  {
   "cell_type": "code",
   "execution_count": null,
   "metadata": {},
   "outputs": [],
   "source": [
    "%autoreload\n",
    "from obs.assembly_bias.clustering import SubSampleManager, SimCross\n",
    "from sklearn.neighbors import KDTree\n",
    "from obs.assembly_bias.utils import gal_wp\n",
    "from scipy.interpolate import interp1d"
   ]
  },
  {
   "cell_type": "code",
   "execution_count": null,
   "metadata": {},
   "outputs": [],
   "source": [
    "sim_info = sims.predefined['tng_dark']\n",
    "sim_dir = ProjPaths.man_sim_dir(sim_info)"
   ]
  },
  {
   "cell_type": "markdown",
   "metadata": {},
   "source": [
    "## Datasets"
   ]
  },
  {
   "cell_type": "markdown",
   "metadata": {},
   "source": [
    "### Full sample"
   ]
  },
  {
   "cell_type": "code",
   "execution_count": null,
   "metadata": {},
   "outputs": [],
   "source": [
    "s_all = sample.SimSample.load(sim_info, 'tng_dark_z0.hdf5')\\\n",
    "    .requires_spin().requires_assembly().require_c()\n",
    "    #.requires_dist_to_halos().requires_disk()\n",
    "s_all"
   ]
  },
  {
   "cell_type": "code",
   "execution_count": null,
   "metadata": {},
   "outputs": [],
   "source": [
    "p = sim_dir.base_dir / 'z0_all_postprocessed.hdf5'\n",
    "assembly_bias.sample_dumper.dump_sample_to(p, \n",
    "    s_all.objs, sim_info, sim_info.n_snapshots-1)"
   ]
  },
  {
   "cell_type": "code",
   "execution_count": null,
   "metadata": {},
   "outputs": [],
   "source": [
    "h5.File.ls_from(p)"
   ]
  },
  {
   "cell_type": "markdown",
   "metadata": {},
   "source": [
    "### LGalaxies-H15"
   ]
  },
  {
   "cell_type": "code",
   "execution_count": null,
   "metadata": {},
   "outputs": [],
   "source": [
    "s_all = sample.SimSample.load(sim_info, 'z0_all.hdf5')\\\n",
    "    .require_LGalaxies_H15()\\\n",
    "    .requires_spin().requires_assembly().require_c()\\\n",
    "    #.requires_dist_to_halos().requires_disk()\n",
    "s_all"
   ]
  },
  {
   "cell_type": "code",
   "execution_count": null,
   "metadata": {},
   "outputs": [],
   "source": [
    "p = sim_dir.base_dir / 'z0_all_postprocessed.hdf5.LGalaxies-H15'\n",
    "assembly_bias.sample_dumper.dump_sample_to(p, \n",
    "    s_all.objs, sim_info, sim_info.n_snapshots-1)"
   ]
  },
  {
   "cell_type": "markdown",
   "metadata": {},
   "source": [
    "### SIDM sample"
   ]
  },
  {
   "cell_type": "code",
   "execution_count": null,
   "metadata": {},
   "outputs": [],
   "source": [
    "pdata = sim_dir.base_dir / 'z0_all_postprocessed.hdf5'\n",
    "samp = sample.SimSample.load(sim_info, pdata)\n",
    "samp.objs['hid'] = np.arange(samp.n_objs)"
   ]
  },
  {
   "cell_type": "code",
   "execution_count": null,
   "metadata": {},
   "outputs": [],
   "source": [
    "u_m = sim_info.cosmology.unit_system.u_m_to_sol\n",
    "m_lb, m_ub = 10**10.7 / u_m, 10**10.9 / u_m\n",
    "o_key = 'lm10p7-10p9'\n",
    "\n",
    "s_h = samp.subset_by_value('is_c', eq=True)\\\n",
    "    .subset_by_value('m_mean200', lo=m_lb, hi=m_ub)\\\n",
    "    .subset_by_value('last_sat_z', lo=15.)\n",
    "print(s_h)"
   ]
  },
  {
   "cell_type": "code",
   "execution_count": null,
   "metadata": {},
   "outputs": [],
   "source": []
  },
  {
   "cell_type": "code",
   "execution_count": null,
   "metadata": {},
   "outputs": [],
   "source": [
    "out = {k: s_h[k]  for k in ['m_mean200', 'r_mean200', 'c_mean200', \n",
    "                            'spin_mean200', 'z_half', 'hid']}\n",
    "sim_dir.dump_sample(out, f'z0{o_key}.hdf5', f_flag='w')"
   ]
  },
  {
   "cell_type": "markdown",
   "metadata": {},
   "source": [
    "## + LGalaxies-H15"
   ]
  },
  {
   "cell_type": "code",
   "execution_count": null,
   "metadata": {},
   "outputs": [],
   "source": [
    "pdata = sim_dir.base_dir / 'z0_all_postprocessed.hdf5.LGalaxies-H15'\n",
    "man_kw = {\n",
    "    'add_rsd': False,\n",
    "    'dmo': False,\n",
    "    # 'm_s_range_in_sol': [10**8., 10**9.],\n",
    "    'm_s_range_in_sol': [10**8.5, 10**9.],\n",
    "}\n",
    "sman = SubSampleManager(sim_info, pdata, **man_kw)\n",
    "sman.s_dwarf"
   ]
  },
  {
   "cell_type": "code",
   "execution_count": null,
   "metadata": {},
   "outputs": [],
   "source": [
    "wp_kw = {\n",
    "    'pimax': 10., 'n_repeat': 100,\n",
    "    'bootstrap_kw': {'keep_samples': True},\n",
    "    # 'rs': np.array([2., 10.]),\n",
    "}\n",
    "sim_cross = SimCross(sman)"
   ]
  },
  {
   "cell_type": "code",
   "execution_count": null,
   "metadata": {},
   "outputs": [],
   "source": [
    "o_path = sim_dir.base_dir / 'wp/dwarfs_H15_lm8.5-9_r2-10_by-S.json'\n",
    "\n",
    "Sigma_star_lims = [-0.1, 7.,15., 25., 1.0e6]\n",
    "wps = sim_cross.wps_of('s_dwarf', 'Sigma_star', \n",
    "                       ps=None, qs=Sigma_star_lims, **wp_kw)\n",
    "Json.dump_file(wps, o_path, indent=2)"
   ]
  },
  {
   "cell_type": "code",
   "execution_count": null,
   "metadata": {},
   "outputs": [],
   "source": []
  },
  {
   "cell_type": "code",
   "execution_count": null,
   "metadata": {},
   "outputs": [],
   "source": [
    "# o_path = sim_dir.base_dir / 'wp/dwarfs_lm8-9_by-S.json'\n",
    "o_path = sim_dir.base_dir / 'wp/dwarfs_H15_lm8.5-9_by-S.json'\n",
    "\n",
    "Sigma_star_lims = [-0.1, 7.,15., 25., 1.0e6]\n",
    "wps = sim_cross.wps_of('s_dwarf', 'Sigma_star', \n",
    "                       ps=None, qs=Sigma_star_lims, **wp_kw)\n",
    "wps['total'] = sim_cross.wp_of('s_dwarf', **wp_kw)\n",
    "Json.dump_file(wps, o_path, indent=2)"
   ]
  },
  {
   "cell_type": "code",
   "execution_count": null,
   "metadata": {},
   "outputs": [],
   "source": [
    "lm_h_edges = [11., 12., 13., 16.]\n",
    "o_path = sim_dir.base_dir / 'wp/halos_by-M.json'\n",
    "\n",
    "u_m = 1.0e10 / sman.sim_info.cosmology.hubble\n",
    "m_h_edges = 10.0**np.array(lm_h_edges) / u_m\n",
    "wps = sim_cross.wps_of('s_halo', 'm_mean200', ps=None, qs=m_h_edges, **wp_kw)\n",
    "\n",
    "Json.dump_file(wps, o_path, indent=2)"
   ]
  },
  {
   "cell_type": "markdown",
   "metadata": {},
   "source": [
    "### 2PCF"
   ]
  },
  {
   "cell_type": "markdown",
   "metadata": {},
   "source": [
    "### Property distributions"
   ]
  },
  {
   "cell_type": "code",
   "execution_count": null,
   "metadata": {},
   "outputs": [],
   "source": [
    "m_h, m_s, ssfr = sman.s_c['m_mean200', 'm_star', 'ssfr']\n",
    "\n",
    "fig, axs = plot.subplots((1,2), share=False, space=0.25, subsize=(5.0, 5.0), margin=[0.1, 0.1, 0.1, 0.1], layout='none')\n",
    "axs_f = axs.flat\n",
    "\n",
    "ax = axs_f[0]\n",
    "x, y = Num.safe_lg(m_h, m_s)\n",
    "ax.scatter(x, y, s=1, alpha=.5, rasterized=True)\n",
    "\n",
    "ax = axs_f[1]\n",
    "x, y = Num.safe_lg(m_s, ssfr)\n",
    "ax.scatter(x, y.clip(-2.2), s=1, alpha=.5, rasterized=True)\n",
    "ax.lim([-2.5, 2.5], [-2.5, 2.5])"
   ]
  },
  {
   "cell_type": "code",
   "execution_count": null,
   "metadata": {},
   "outputs": [],
   "source": [
    "z_f, S = sman.s_dwarf['z_half', 'Sigma_star']\n",
    "lS = Num.safe_lg(S)"
   ]
  },
  {
   "cell_type": "code",
   "execution_count": null,
   "metadata": {},
   "outputs": [],
   "source": [
    "z_p = np.linspace(0., 5., 256)\n",
    "S_p, el, eh = stats.KernelRegression1D.by_local_kernel(z_f, S, z_p, max_dx=.25, reduce='errorbar')['y'][0].T"
   ]
  },
  {
   "cell_type": "code",
   "execution_count": null,
   "metadata": {},
   "outputs": [],
   "source": [
    "Json.dump_file(\n",
    "    {\n",
    "        'z_half': z_p, 'Sigma_star': S_p, 'Sigma_star_err': (el, eh)\n",
    "    },\n",
    "    sim_dir.base_dir / 'stats' / 'z_half-Sigma_star.json'\n",
    ")"
   ]
  },
  {
   "cell_type": "code",
   "execution_count": null,
   "metadata": {},
   "outputs": [],
   "source": [
    "fig, axs = plot.subplots((1,2), share=False, space=0.25, \n",
    "                         subsize=(5.0, 5.0), margin=[0.1, 0.1, 0.1, 0.1], layout='none')\n",
    "axs_f = axs.flat\n",
    "\n",
    "ax = axs_f[0]\n",
    "ax.scatter(S, z_f, s=1, alpha=.5, rasterized=True)\n",
    "ax.c('r').errorbar(S_p, z_p, xerr=(el, eh), lw=2.5)\n",
    "ax.scale('log').lim(y=[0., 4.5])\n",
    "\n",
    "ax = axs_f[1]\n",
    "ax.hist(np.log10(S), range=[-1., 3.], bins=32)"
   ]
  },
  {
   "cell_type": "code",
   "execution_count": null,
   "metadata": {},
   "outputs": [],
   "source": [
    "z_f, S, spin, c = sman.s_dwarf['z_half', 'Sigma_star', 'spin_mean200', 'c_mean200']\n",
    "lS = Num.safe_lg(S)\n",
    "lspin = Num.safe_lg(spin)"
   ]
  },
  {
   "cell_type": "code",
   "execution_count": null,
   "metadata": {},
   "outputs": [],
   "source": [
    "fig, axs = plot.subplots(\n",
    "    (1, 3),\n",
    "    share=False, space=0.25, subsize=(5.5, 5.0),\n",
    "    margin=[0.1, 0.1, 0.1, 0.1],\n",
    "    layout='none')\n",
    "axs_f = axs.flat\n",
    "\n",
    "\n",
    "axs.c('r').fmt_marker(fa=1)\n",
    "lspin_rg = [-2.55, -0.91]\n",
    "c_rg = [2., 40.]\n",
    "lS_rg = [-0.4, 3.]\n",
    "lspin_label = r'\\log\\, \\lambda'\n",
    "c_label = r'c'\n",
    "lS_lab = r'\\log\\, \\Sigma_*\\,[{\\rm M_\\odot pc^{-2}}]'\n",
    "\n",
    "ax = axs_f[0]\n",
    "ax.scatter(lspin, lS, rasterized=True)\n",
    "ax.lim(lspin_rg, lS_rg).label(lspin_label, lS_lab)\n",
    "\n",
    "ax = axs_f[1]\n",
    "ax.scatter(c, lS, rasterized=True)\n",
    "ax.lim(c_rg, lS_rg).label(c_label, lS_lab)\n",
    "\n",
    "ax = axs_f[2]\n",
    "X = np.column_stack([lspin, c])\n",
    "X_mean, X_sd = X.mean(0), np.std(X, axis=0)\n",
    "X_sc = (X - X_mean) / X_sd\n",
    "y_sc = lS\n",
    "y_p = stats.KernelRegressionND.by_knn(X_sc, y_sc, X_sc, k=32)['y'][0]\n",
    "ax.fmt_marker(elw=0)\n",
    "art = ax.scatter(lspin, c, c=y_p, rasterized=True, s=20, zorder=20, \n",
    "                 cmap='gnuplot2', vmin=lS_rg[0], vmax=lS_rg[1]).last_draw\n",
    "ax.scatter(lspin, c, c='gray', rasterized=True, s=40, zorder=19)\n",
    "ax.label(lspin_label, c_label)\n",
    "    \n",
    "n = 32\n",
    "k = 32\n",
    "grid = GridMd(np.linspace(*lspin_rg, n), np.linspace(*c_rg, n))\n",
    "y_p = grid.applied(\n",
    "    lambda Xp: stats.KernelRegressionND.by_knn(\n",
    "        X_sc, y_sc, (Xp-X_mean)/X_sd, k=k)['y'][0],\n",
    "    xy_indexing=True).values\n",
    "x1p, x2p = grid.locs_1d\n",
    "ax._raw.contour(x1p, x2p, y_p, levels=16, colors='w', \n",
    "                linewidths=1., zorder=21)\n",
    "fig.colorbar(art, ax=ax, location='right', label='$%s$'%lS_lab)\n",
    "\n",
    "ax.lim(lspin_rg, c_rg)"
   ]
  },
  {
   "cell_type": "markdown",
   "metadata": {},
   "source": [
    "### Sample Inspection"
   ]
  },
  {
   "cell_type": "code",
   "execution_count": null,
   "metadata": {},
   "outputs": [],
   "source": [
    "class Sample2D(abc.HasLog):\n",
    "    def __init__(self, x, y, z, verbose=True) -> None:\n",
    "        super().__init__(verbose=verbose)\n",
    "\n",
    "        self.x, self.y, self.z = x, y, z\n",
    "        self.X = np.column_stack([x, y])\n",
    "\n",
    "    def plot(self, ax: plot.Axes, x_lim, y_lim, n=32, levels=16,\n",
    "             regr_f=0.05, regr_k=256, reduce='mean', regr_kernel=None, alpha=.65):\n",
    "        grid = GridMd(np.linspace(*x_lim, n), np.linspace(*y_lim, n))\n",
    "        X, x, y, z = self.X, self.x, self.y, self.z\n",
    "        k = min(regr_k, len(self.X) * regr_f)\n",
    "        self.log(f'{k=}')\n",
    "        kernel = ('gaussian', {'sigma': regr_kernel}\n",
    "                  ) if regr_kernel is not None else None\n",
    "        z_pred = grid.applied(\n",
    "            lambda Xp: stats.KernelRegressionND.by_knn(\n",
    "                X, z, Xp, k=k, kernel=kernel, reduce=reduce)['y'][0],\n",
    "            xy_indexing=True).values\n",
    "        x_pred, y_pred = grid.locs_1d\n",
    "\n",
    "        art = ax._raw.contour(x_pred, y_pred, z_pred,\n",
    "                              levels=levels, colors='red', linewidths=3.)\n",
    "        ax._raw.clabel(art, inline=True, fontsize=15)\n",
    "\n",
    "        k2d = plot.KNearestNeighbor2D(k=k//2)\n",
    "        s2d = ax.scatter_2d(x, y, range=[x_lim, y_lim], n_bins=n,\n",
    "                            density_estimator=k2d)\n",
    "        s2d.mesh(\n",
    "            cmap='gnuplot2', alpha=alpha).contour(\n",
    "            ps=[.99, .95, .68, .5],\n",
    "            colors='w')"
   ]
  },
  {
   "cell_type": "code",
   "execution_count": null,
   "metadata": {},
   "outputs": [],
   "source": [
    "# info = sims.predefined['tng']\n",
    "sim_info = sims.predefined['tng_dark']\n",
    "spin_samp = SpinSample(sim_info, suffix='.only_c', sham_key='m_peak')\n",
    "s_ref = spin_samp.subsample_by_value('v_peak_m', lo=10**0.0)\n",
    "s_ref_h13 = spin_samp.subsample_by_value('m_h', lo=1.0e3)\n",
    "s_ref_h12 = spin_samp.subsample_by_value('m_h', lo=1.0e2)\n",
    "s_dst = s_ref.subsample_by_value('m_s_pred', lo=10**-2.65, hi=10**-1.15)\n",
    "# lowm_samp = spin_samp.subsample_by_value('m_star', lo=1.0e-2, hi=1.0e-1)\n",
    "# ref_samp = spin_samp.subsample_by_value('m_star', lo=1.0e-2, hi=1.0e5)\n",
    "#lowm_samp = spin_samp.subsample_by_value('m_tophat', lo=10**0.16, hi=10**1.)\n",
    "#ref_samp = spin_samp.subsample_by_value('m_star', lo=10**0.16, hi=10**5.)\n",
    "\n",
    "#lowm_nobs_samp = lowm_samp.subsample_by_value('last_sat_z', 1., 100.)\n",
    "#highm_samp = spin_samp.subsample_by_value('m_star', lo=1.0e0, hi=1.0e3)\n",
    "#lowm_samp"
   ]
  },
  {
   "cell_type": "code",
   "execution_count": null,
   "metadata": {},
   "outputs": [],
   "source": [
    "_cls = spin_clustering._Clustering(sim_info)"
   ]
  },
  {
   "cell_type": "code",
   "execution_count": null,
   "metadata": {},
   "outputs": [],
   "source": [
    "samp_h = spin_samp.subsample_by_value('m_h', 10**3.*.7)\n",
    "samp_s = s_dst.subsample_by_value('z_half', -1., 100.)\\\n",
    "    .subsample_by_value('last_sat_z', -1., 17.5); \n",
    "\n",
    "x_s, x_h = samp_s['x'], samp_h['x']\n",
    "d_min = _cls.min_dist_3d(x_s, x_h)\n",
    "\n",
    "x, y = samp_s['x_t_half', 'last_sat_z']\n",
    "y = Num.safe_lg(1.+y)"
   ]
  },
  {
   "cell_type": "code",
   "execution_count": null,
   "metadata": {},
   "outputs": [],
   "source": [
    "fig, ax = plot.subplots(1, figsize=5., extent=[1., 1., 0., 0.], layout='none')\n",
    "\n",
    "Sample2D(x, y, d_min).plot(ax, [0., 1.], [0., 1.], \n",
    "    n=32, levels=16, regr_k=256, regr_kernel=0.1, alpha=.75)\n",
    "ax.label(r'\\log (1+z_{\\rm half})', r'\\log (1+z_{\\rm ej})')\n",
    "a_plot.Axes(ax).add_secondary_axis_lgzp1_to_z(label=r'$z_{\\rm half}$')\n",
    "a_plot.Axes(ax).add_secondary_axis_lgzp1_to_z('right',label=r'$z_{\\rm eject}$')"
   ]
  },
  {
   "cell_type": "code",
   "execution_count": null,
   "metadata": {},
   "outputs": [],
   "source": [
    "samp_h = spin_samp.subsample_by_value('m_h', 10**3.*.7)\n",
    "samp_s = s_dst.subsample_by_value('z_half', -1., 100.)\n",
    "\n",
    "x_s, x_h = samp_s['x'], samp_h['x']\n",
    "d_min = cls.min_dist_3d(x_s, x_h)\n",
    "\n",
    "x1, x2, y = samp_s['S', 'S_fR', 'x_t_half']\n",
    "x1, x2 = Num.safe_lg(x1, x2)"
   ]
  },
  {
   "cell_type": "code",
   "execution_count": null,
   "metadata": {},
   "outputs": [],
   "source": [
    "fig, axs = plot.subplots((1,2), share=True, space=0.02, extent=[1., 1., 0., 0.], layout='none')\n",
    "axs_f = axs.flat\n",
    "\n",
    "for i_x, x in enumerate([x1, x2]):\n",
    "    ax = axs[i_x]\n",
    "    Sample2D(x, y, d_min).plot(ax, [-.51, 2.49], [0., .85], \n",
    "        n=32, levels=16, regr_kernel=0.25, regr_f=.1, regr_k=512)\n",
    "    ax.label(r'\\log \\Sigma_*\\ [M_\\odot{\\rm pc}^{-2}]', r'\\log (1+z_{\\rm half})')\n",
    "\n",
    "a_plot.Axes(axs[1]).add_secondary_axis_lgzp1_to_z('right', label=r'$z_{\\rm half}$')\n",
    "axs.label_outer()"
   ]
  },
  {
   "cell_type": "code",
   "execution_count": null,
   "metadata": {},
   "outputs": [],
   "source": [
    "x1, x2, y, z = samp_s['S', 'S_fR', 'x_t_half', 'm_s_pred']\n",
    "x1, x2, z = Num.safe_lg(x1, x2, z*1.0e10/.7)"
   ]
  },
  {
   "cell_type": "code",
   "execution_count": null,
   "metadata": {},
   "outputs": [],
   "source": [
    "fig, axs = plot.subplots((1,2), share=True, space=0.02, extent=[1., 1., 0., 0.], layout='none')\n",
    "axs_f = axs.flat\n",
    "\n",
    "for i_x, x in enumerate([x1, x2]):\n",
    "    ax = axs[i_x]\n",
    "    Sample2D(x, y, z).plot(ax, [-.51, 2.49], [0., .85], \n",
    "        n=32, levels=12, regr_kernel=0.25, regr_f=.1, regr_k=512, alpha=.75)\n",
    "    ax.label(r'\\log \\Sigma_*\\ [M_\\odot{\\rm pc}^{-2}]', r'\\log (1+z_{\\rm half})')\n",
    "\n",
    "a_plot.Axes(axs[1]).add_secondary_axis_lgzp1_to_z('right', label=r'$z_{\\rm half}$')\n",
    "axs.label_outer()"
   ]
  },
  {
   "cell_type": "code",
   "execution_count": null,
   "metadata": {},
   "outputs": [],
   "source": [
    "cls = spin_clustering._Clustering(sim_info)\n",
    "\n",
    "samp_h = spin_samp.subsample_by_value('m_h', 10**3.*.7)\n",
    "samp_s = s_dst.subsample_by_value('z_half', -1., 100.)\n",
    "\n",
    "x_s, x_h = samp_s['x'], samp_h['x']\n",
    "d_min = cls.min_dist_3d(x_s, x_h)\n",
    "\n",
    "z, y, x = samp_s['z_half', 'S_fR', 'm_s_pred']\n",
    "x, y = Num.safe_lg(x * 1.0e10 / .7, y)"
   ]
  },
  {
   "cell_type": "code",
   "execution_count": null,
   "metadata": {},
   "outputs": [],
   "source": [
    "fig, ax = plot.subplots(1, figsize=5., extent=[1., 1., 0., 0.], layout='none')\n",
    "\n",
    "Sample2D(x, y, z).plot(ax, [7.55, 9.], [-.5, 2.5], \n",
    "    n=32, levels=24, regr_kernel=0.25, regr_f=.1, regr_k=512)\n",
    "ax.label(r'\\log M_*\\,[M_\\odot]', r'\\log \\Sigma_*\\ [M_\\odot{\\rm pc}^{-2}]')"
   ]
  },
  {
   "cell_type": "markdown",
   "metadata": {},
   "source": [
    "### Bias Map"
   ]
  },
  {
   "cell_type": "code",
   "execution_count": null,
   "metadata": {},
   "outputs": [],
   "source": [
    "samp = lowm_samp\n",
    "xlim, ylim = (-0.02, 0.77), (-2.5, -.7)\n",
    "\n",
    "#samp = lowm_samp\n",
    "#xlim, ylim = (-0.02, 1.), (-2.5, -.7)\n",
    "\n",
    "cls = Clustering(samp)\n",
    "res = cls.count_r([2.,10.])\n",
    "xis = res.xis_betweens()\n",
    "x, y = samp['x_t_half', 'spin']\n",
    "y = Num.safe_lg(y)\n",
    "z = xis + 1."
   ]
  },
  {
   "cell_type": "code",
   "execution_count": null,
   "metadata": {},
   "outputs": [],
   "source": [
    "X = np.column_stack([x,y])\n",
    "sd = stats.preprocessing.Standardize(X)\n",
    "X = sd(X)\n",
    "k = len(X) // 12\n",
    "knn = stats._KnnRegression().fit(X, z)\n",
    "query_kw = {'k': k, 'kernel': ('gaussian', {'sigma': .5})}\n",
    "z_pred = knn(X, **query_kw)['y_mean']"
   ]
  },
  {
   "cell_type": "code",
   "execution_count": null,
   "metadata": {},
   "outputs": [],
   "source": [
    "grid = GridMd.at[xlim[0]:xlim[1]:64j, ylim[0]:ylim[1]:64j]\n",
    "def f(Xp):\n",
    "    Xp = sd(Xp)\n",
    "    z_pred = knn(Xp, 'mean', **query_kw)['y_mean']\n",
    "    cnt = knn(Xp, 'count', max_dx=.3, **query_kw)['y_count']\n",
    "    return np.ma.array(z_pred, mask=cnt < 8.)\n",
    "x_g, y_g = grid.locs_1d\n",
    "z_g = grid.applied(f, xy_indexing=True).values"
   ]
  },
  {
   "cell_type": "code",
   "execution_count": null,
   "metadata": {},
   "outputs": [],
   "source": [
    "xp = np.linspace(*xlim, 32)\n",
    "kw = dict()\n",
    "yp, yc = stats.KernelRegression1D.by_knn(x, y, xp, k=len(x)//32, max_dx=.1,\n",
    "    reduce=[('quantile', {'ps': [.25, .5, .75]}), 'count'],\n",
    "    kernel=('gaussian', {'sigma': .5}), \n",
    "    **kw)['y']\n",
    "xp, yp = Mask.on_arrays(yc>64, xp, yp)"
   ]
  },
  {
   "cell_type": "code",
   "execution_count": null,
   "metadata": {},
   "outputs": [],
   "source": [
    "fig, axs = plot.subplots((2,2), share=('col', 'row'), space=0., ratios=([0.25,1], [0.25, 1]),\n",
    "        figsize=(6,5.25),\n",
    "        extent=[1., 1., 0., 0.], layout='none')\n",
    "axs_f = axs.flat\n",
    "\n",
    "zlims = np.quantile(z_pred, (.001, .999)) \n",
    "\n",
    "ax = axs[1,1]\n",
    "lt = ax.scatter(x, y, c='k', ec='none', s=125, alpha=1).last_draw\n",
    "lt = ax.scatter(x, y, c=z_pred, cmap='gnuplot2', ec='none', \n",
    "    s=75, alpha=1, vmin=zlims[0], vmax=zlims[1]).last_draw\n",
    "\n",
    "ax._raw.contour(x_g, y_g, z_g, levels=np.linspace(zlims[0]+.025, zlims[1]-.025, 24), colors='k', linewidths=1.5)\n",
    "fig.colorbar(lt, ax=axs, location='right', pad=.02, anchor=(0., 0.), shrink=4./5.,\n",
    "    label=r'$1+\\xi_{\\rm p,S}(r=2\\,$-$\\,10\\,h^{-1}{\\rm Mpc})$')\n",
    "\n",
    "lws = [3, 7, 3]\n",
    "lss = '-', '-', '-'\n",
    "for i, _yp in enumerate(yp.T):\n",
    "    ax.plot(xp, _yp, c='gray', lw=lws[i], ls=lss[i], alpha=.75)\n",
    "\n",
    "ax.label(r'\\log\\,(1+z_{\\rm h,1/2})').lim(xlim, ylim)\n",
    "\n",
    "axs[0,0].axis_off()\n",
    "\n",
    "ax = axs[0,1]\n",
    "a_plot.Axes(ax).add_secondary_axis_lgzp1_to_z(label=r'$z_{\\rm h,1/2}$')\n",
    "ax.hist(x, range=xlim, bins=32, density=True).lim(y=[0, 6.5])\n",
    "\n",
    "ax = axs[1,0]\n",
    "ax.label(y=r'\\log\\,\\lambda_{\\rm h}')\n",
    "ax.hist(y, range=ylim, bins=32, orientation='horizontal', density=True)\n",
    "ax.lim(x=[0,3.19])"
   ]
  }
 ],
 "metadata": {
  "kernelspec": {
   "display_name": "Python 3",
   "language": "python",
   "name": "python3"
  },
  "language_info": {
   "codemirror_mode": {
    "name": "ipython",
    "version": 3
   },
   "file_extension": ".py",
   "mimetype": "text/x-python",
   "name": "python",
   "nbconvert_exporter": "python",
   "pygments_lexer": "ipython3",
   "version": "3.11.4"
  }
 },
 "nbformat": 4,
 "nbformat_minor": 2
}
