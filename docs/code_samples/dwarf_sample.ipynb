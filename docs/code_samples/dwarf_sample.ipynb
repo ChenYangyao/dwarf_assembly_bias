{
 "cells": [
  {
   "cell_type": "code",
   "execution_count": 1,
   "id": "70e62ae7",
   "metadata": {},
   "outputs": [],
   "source": [
    "import numpy as np\n",
    "from pathlib import Path\n",
    "\n",
    "data_dir = Path('./data/dwarf_sample')"
   ]
  },
  {
   "cell_type": "code",
   "execution_count": null,
   "id": "ad8f1bb3",
   "metadata": {},
   "outputs": [
    {
     "name": "stdout",
     "output_type": "stream",
     "text": [
      "9861\n",
      "7.50372 8.99996\n"
     ]
    }
   ],
   "source": [
    "# The sample includes 9861 dwarf galaxies with log M_*/Msun = [7.5, 9.0] \n",
    "# used in our paper.\n",
    "# Applying further color and Sersic cuts gives 6919 galaxies \n",
    "# (the `Main Sample`; see Extended Data Table 1 in the paper).\n",
    "\n",
    "all_dwarfs = np.loadtxt(\n",
    "    data_dir / 'total_dwarfs.csv',\n",
    "    dtype=[\n",
    "        ('ID', 'i8'),               # from 0 to 9860\n",
    "        ('redshift', 'f8'),         # observed redshift\n",
    "        ('log_M_star_MPA', 'f8'),   # MPA stellar mass, log(M_*/Msun)\n",
    "        ('R_50', 'f8'),             # R_50, in kpc    \n",
    "        ('R_50_angular', 'f8'),     # R_50, in arcsec \n",
    "        ('M_r', 'f8'),              # ^ {0.1}M_r-5\\log h  (K+E corrected to z=0.1) -- Model;\n",
    "        ('color_gr', 'f8'),         # ^{0.1}(g-r)  color (K+E corrected to z=0.1) -- Model;  \n",
    "        ('n_Sersic', 'f8'),         # Sersic index\n",
    "        ('Sigma_star', 'f8'),       # stellar masss surface density in Msun/pc^2\n",
    "        ('RA', 'f8'),               # right Ascension in degree\n",
    "        ('Dec', 'f8'),              # declination in degree\n",
    "    ],\n",
    "    delimiter=',',\n",
    ")\n",
    "print(all_dwarfs.size)\n",
    "print(all_dwarfs['log_M_star_MPA'].min(), all_dwarfs['log_M_star_MPA'].max()) "
   ]
  },
  {
   "cell_type": "code",
   "execution_count": 3,
   "id": "3193f2f6",
   "metadata": {},
   "outputs": [
    {
     "name": "stdout",
     "output_type": "stream",
     "text": [
      "6919\n"
     ]
    }
   ],
   "source": [
    "mask = (all_dwarfs['color_gr'] <= 0.6)&(all_dwarfs['n_Sersic']<=1.6)\n",
    "main_sample = all_dwarfs[mask]\n",
    "print(main_sample.size)"
   ]
  }
 ],
 "metadata": {
  "kernelspec": {
   "display_name": "Python 3",
   "language": "python",
   "name": "python3"
  },
  "language_info": {
   "codemirror_mode": {
    "name": "ipython",
    "version": 3
   },
   "file_extension": ".py",
   "mimetype": "text/x-python",
   "name": "python",
   "nbconvert_exporter": "python",
   "pygments_lexer": "ipython3",
   "version": "3.11.11"
  }
 },
 "nbformat": 4,
 "nbformat_minor": 5
}
